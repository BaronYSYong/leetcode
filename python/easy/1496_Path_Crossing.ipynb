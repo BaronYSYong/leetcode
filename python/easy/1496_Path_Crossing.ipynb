{
 "cells": [
  {
   "cell_type": "code",
   "execution_count": 1,
   "id": "8f9c24b7",
   "metadata": {},
   "outputs": [],
   "source": [
    "path = \"NES\"\n",
    "# path = \"NESWW\""
   ]
  },
  {
   "cell_type": "code",
   "execution_count": 3,
   "id": "e04079c6",
   "metadata": {},
   "outputs": [
    {
     "name": "stdout",
     "output_type": "stream",
     "text": [
      "CPU times: user 14 µs, sys: 0 ns, total: 14 µs\n",
      "Wall time: 18.1 µs\n"
     ]
    },
    {
     "data": {
      "text/plain": [
       "False"
      ]
     },
     "execution_count": 3,
     "metadata": {},
     "output_type": "execute_result"
    }
   ],
   "source": [
    "# my answer\n",
    "class Solution:\n",
    "    def isPathCrossing(self, path: str) -> bool:\n",
    "        x = 0\n",
    "        y = 0\n",
    "        points = [(0, 0)]\n",
    "        for p in path:\n",
    "            if p == 'N':\n",
    "                y += 1\n",
    "            elif p == 'S':\n",
    "                y -= 1\n",
    "            elif p == 'E':\n",
    "                x += 1\n",
    "            else:\n",
    "                x -= 1\n",
    "            points.append((x, y))\n",
    "        if len(points) - len(set(points)) > 0:\n",
    "            return True\n",
    "        else:\n",
    "            return False\n",
    "solution = Solution()\n",
    "%time solution.isPathCrossing(path)"
   ]
  },
  {
   "cell_type": "code",
   "execution_count": null,
   "id": "319cc4a7",
   "metadata": {},
   "outputs": [],
   "source": []
  }
 ],
 "metadata": {
  "kernelspec": {
   "display_name": "Python 3 (ipykernel)",
   "language": "python",
   "name": "python3"
  },
  "language_info": {
   "codemirror_mode": {
    "name": "ipython",
    "version": 3
   },
   "file_extension": ".py",
   "mimetype": "text/x-python",
   "name": "python",
   "nbconvert_exporter": "python",
   "pygments_lexer": "ipython3",
   "version": "3.8.10"
  }
 },
 "nbformat": 4,
 "nbformat_minor": 5
}
