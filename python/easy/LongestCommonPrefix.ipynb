{
 "cells": [
  {
   "cell_type": "code",
   "execution_count": 1,
   "id": "a338f365-0cfa-46a9-a893-1b54a4d1dd54",
   "metadata": {},
   "outputs": [
    {
     "name": "stdout",
     "output_type": "stream",
     "text": [
      "cat\n",
      "cat\n",
      "fl\n",
      "the \n",
      "one word\n",
      "\n",
      "\n",
      "\n"
     ]
    }
   ],
   "source": [
    "class LongestCommonPrefix:\n",
    "\n",
    "    @staticmethod\n",
    "    def main(words = []):\n",
    "      # Please do not use os.path.commonprefix\n",
    "        n = len(words)\n",
    "        ret = \"\"\n",
    "        \n",
    "        if n == 0:\n",
    "            return ret\n",
    "        \n",
    "        if n < 2:\n",
    "            return words[0]\n",
    "        \n",
    "        min_char = len(min(words))\n",
    "        for j in range(min_char):\n",
    "            for i in range(n-1):\n",
    "                if words[i][j] == words[i+1][j]:\n",
    "                    if i == n-2:\n",
    "                        ret += words[i][j]\n",
    "                else:\n",
    "                    return ret\n",
    "                \n",
    "        return ret\n",
    "\n",
    "print(LongestCommonPrefix.main([\"cat\", \"catalog\", \"catch\"])) # \"cat\"\n",
    "print(LongestCommonPrefix.main([\"catch\", \"catalog\", \"category\", \"cat\"])) # \"cat\"\n",
    "print(LongestCommonPrefix.main([\"flower\", \"flavor\", \"flat\", \"floor\"])) # \"fl\"\n",
    "print(LongestCommonPrefix.main([\"the first\", \"the second\", \"the third\"])) # \"the \"\n",
    "print(LongestCommonPrefix.main([\"one word\"])) # \"one word\"\n",
    "print(LongestCommonPrefix.main([\"blue\", \"green\", \"yellow\", \"red\"])) # \"\"\n",
    "print(LongestCommonPrefix.main([\"\"])) # \"\"\n",
    "print(LongestCommonPrefix.main([])) # \"\""
   ]
  },
  {
   "cell_type": "code",
   "execution_count": 2,
   "id": "c93d498b-73a2-4e11-849c-b182eec518d9",
   "metadata": {},
   "outputs": [],
   "source": [
    "a = [\"cat\", \"catalog\", \"catch\"]"
   ]
  },
  {
   "cell_type": "code",
   "execution_count": 3,
   "id": "395152ad-9462-4c13-b427-1ee062f45711",
   "metadata": {},
   "outputs": [
    {
     "data": {
      "text/plain": [
       "'cat'"
      ]
     },
     "execution_count": 3,
     "metadata": {},
     "output_type": "execute_result"
    }
   ],
   "source": [
    "min(a)"
   ]
  },
  {
   "cell_type": "code",
   "execution_count": null,
   "id": "1f67bd8d-49e0-40a5-ab7b-0ffd5cd3a08b",
   "metadata": {},
   "outputs": [],
   "source": []
  }
 ],
 "metadata": {
  "kernelspec": {
   "display_name": "Python 3 (ipykernel)",
   "language": "python",
   "name": "python3"
  },
  "language_info": {
   "codemirror_mode": {
    "name": "ipython",
    "version": 3
   },
   "file_extension": ".py",
   "mimetype": "text/x-python",
   "name": "python",
   "nbconvert_exporter": "python",
   "pygments_lexer": "ipython3",
   "version": "3.8.10"
  }
 },
 "nbformat": 4,
 "nbformat_minor": 5
}
