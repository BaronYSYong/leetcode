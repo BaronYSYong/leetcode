{
 "cells": [
  {
   "cell_type": "code",
   "execution_count": 1,
   "id": "451f5e3a",
   "metadata": {},
   "outputs": [],
   "source": [
    "from typing import List"
   ]
  },
  {
   "cell_type": "code",
   "execution_count": 2,
   "id": "582a8cc8",
   "metadata": {},
   "outputs": [],
   "source": [
    "# my answer\n",
    "\n",
    "class Solution:\n",
    "    def longestCommonPrefix(self, strs: List[str]) -> str:\n",
    "        strs_len = len(strs)\n",
    "        if strs_len == 0:\n",
    "            return \"\"\n",
    "        elif strs_len == 1:\n",
    "            return strs[0]\n",
    "        else:\n",
    "            # find min str_len\n",
    "            min_str_len = len(strs[0])\n",
    "            for word in strs[1:]:\n",
    "                str_len = len(word)\n",
    "                if min_str_len > str_len:\n",
    "                    min_str_len = str_len\n",
    "                    \n",
    "            if min_str_len < 1:\n",
    "                return \"\"\n",
    "\n",
    "            i = 0\n",
    "            ret = \"\"\n",
    "            while i < min_str_len:\n",
    "                print(i)\n",
    "                s = strs[0][i]\n",
    "                for word in strs[1:]:\n",
    "                    if s == word[i]:\n",
    "                        continue\n",
    "                    else: \n",
    "                        return ret\n",
    "                \n",
    "                ret += s\n",
    "                i += 1\n",
    "                print(ret)\n",
    "            \n",
    "            return ret"
   ]
  },
  {
   "cell_type": "code",
   "execution_count": 3,
   "id": "88eb20f6",
   "metadata": {},
   "outputs": [],
   "source": [
    "solution = Solution()"
   ]
  },
  {
   "cell_type": "code",
   "execution_count": 4,
   "id": "7f67b9da",
   "metadata": {},
   "outputs": [
    {
     "name": "stdout",
     "output_type": "stream",
     "text": [
      "0\n",
      "a\n",
      "1\n",
      "aa\n"
     ]
    },
    {
     "data": {
      "text/plain": [
       "'aa'"
      ]
     },
     "execution_count": 4,
     "metadata": {},
     "output_type": "execute_result"
    }
   ],
   "source": [
    "strs = [\"aaa\",\"aa\",\"aaa\"]\n",
    "solution.longestCommonPrefix(strs)"
   ]
  },
  {
   "cell_type": "code",
   "execution_count": 5,
   "id": "71ea206a",
   "metadata": {},
   "outputs": [
    {
     "data": {
      "text/plain": [
       "''"
      ]
     },
     "execution_count": 5,
     "metadata": {},
     "output_type": "execute_result"
    }
   ],
   "source": [
    "strs = [\"abab\",\"aba\",\"\"]\n",
    "solution.longestCommonPrefix(strs)"
   ]
  }
 ],
 "metadata": {
  "kernelspec": {
   "display_name": "Python 3 (ipykernel)",
   "language": "python",
   "name": "python3"
  },
  "language_info": {
   "codemirror_mode": {
    "name": "ipython",
    "version": 3
   },
   "file_extension": ".py",
   "mimetype": "text/x-python",
   "name": "python",
   "nbconvert_exporter": "python",
   "pygments_lexer": "ipython3",
   "version": "3.8.10"
  }
 },
 "nbformat": 4,
 "nbformat_minor": 5
}
