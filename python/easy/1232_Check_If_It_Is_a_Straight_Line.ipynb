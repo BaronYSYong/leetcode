{
 "cells": [
  {
   "cell_type": "markdown",
   "id": "e50c9777",
   "metadata": {},
   "source": [
    "# 1232. Check If It Is a Straight Line\n",
    "You are given an array coordinates, coordinates[i] = [x, y], where [x, y] represents the coordinate of a point. Check if these points make a straight line in the XY plane.\n",
    "\n",
    "Example 1:\n",
    "```\n",
    "Input: coordinates = [[1,2],[2,3],[3,4],[4,5],[5,6],[6,7]]\n",
    "Output: true\n",
    "```\n",
    "Example 2:\n",
    "```\n",
    "Input: coordinates = [[1,1],[2,2],[3,4],[4,5],[5,6],[7,7]]\n",
    "Output: false\n",
    "```\n",
    "\n",
    "Constraints:\n",
    "\n",
    "* 2 <= coordinates.length <= 1000\n",
    "* coordinates[i].length == 2\n",
    "* -10^4 <= coordinates[i][0], coordinates[i][1] <= 10^4\n",
    "* coordinates contains no duplicate point."
   ]
  },
  {
   "cell_type": "code",
   "execution_count": 1,
   "id": "d6fca795",
   "metadata": {},
   "outputs": [],
   "source": [
    "from typing import List"
   ]
  },
  {
   "cell_type": "code",
   "execution_count": 2,
   "id": "001d45e3",
   "metadata": {},
   "outputs": [],
   "source": [
    "# coordinates =[[-7,-3],[-7,-1],[-2,-2],[0,-8],[2,-2],[5,-6],[5,-5],[1,7]]\n",
    "coordinates =[[-3,-2],[-1,-2],[2,-2],[-2,-2],[0,-2]]"
   ]
  },
  {
   "cell_type": "code",
   "execution_count": 3,
   "id": "e42148bc",
   "metadata": {},
   "outputs": [
    {
     "name": "stdout",
     "output_type": "stream",
     "text": [
      "CPU times: user 5 µs, sys: 1 µs, total: 6 µs\n",
      "Wall time: 8.58 µs\n"
     ]
    },
    {
     "data": {
      "text/plain": [
       "True"
      ]
     },
     "execution_count": 3,
     "metadata": {},
     "output_type": "execute_result"
    }
   ],
   "source": [
    "def checkStraightLine(coordinates: List[List[int]]) -> bool:\n",
    "    if len(coordinates) == 2:\n",
    "        return True\n",
    "    else:\n",
    "        x1 = coordinates[1][0] - coordinates[0][0]\n",
    "        y1 = coordinates[1][1] - coordinates[0][1]\n",
    "        for c in coordinates[2:]:\n",
    "            x2 = c[0] - coordinates[0][0]\n",
    "            y2 = c[1] - coordinates[0][1]\n",
    "            if x1*y2 != x2*y1:\n",
    "                return False\n",
    "        return True\n",
    "\n",
    "%time checkStraightLine(coordinates)"
   ]
  },
  {
   "cell_type": "code",
   "execution_count": null,
   "id": "8520f8c6",
   "metadata": {},
   "outputs": [],
   "source": []
  }
 ],
 "metadata": {
  "kernelspec": {
   "display_name": "Python 3 (ipykernel)",
   "language": "python",
   "name": "python3"
  },
  "language_info": {
   "codemirror_mode": {
    "name": "ipython",
    "version": 3
   },
   "file_extension": ".py",
   "mimetype": "text/x-python",
   "name": "python",
   "nbconvert_exporter": "python",
   "pygments_lexer": "ipython3",
   "version": "3.8.10"
  }
 },
 "nbformat": 4,
 "nbformat_minor": 5
}
