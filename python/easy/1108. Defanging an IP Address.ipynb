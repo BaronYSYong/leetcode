{
 "cells": [
  {
   "cell_type": "code",
   "execution_count": 1,
   "id": "78714841",
   "metadata": {},
   "outputs": [
    {
     "data": {
      "text/html": [
       "<style>.container { width:100% !important; }</style>"
      ],
      "text/plain": [
       "<IPython.core.display.HTML object>"
      ]
     },
     "metadata": {},
     "output_type": "display_data"
    }
   ],
   "source": [
    "from IPython.display import display, HTML\n",
    "display(HTML(\"<style>.container { width:100% !important; }</style>\"))"
   ]
  },
  {
   "cell_type": "markdown",
   "id": "69c695a9",
   "metadata": {},
   "source": [
    "## 1108. Defanging an IP Address\n",
    "```\n",
    "Given a valid (IPv4) IP address, return a defanged version of that IP address.\n",
    "\n",
    "A defanged IP address replaces every period \".\" with \"[.]\".\n",
    "\n",
    "Example 1:\n",
    "\n",
    "Input: address = \"1.1.1.1\"\n",
    "Output: \"1[.]1[.]1[.]1\"\n",
    "Example 2:\n",
    "\n",
    "Input: address = \"255.100.50.0\"\n",
    "Output: \"255[.]100[.]50[.]0\"\n",
    "\n",
    "Constraints:\n",
    "\n",
    "The given address is a valid IPv4 address.\n",
    "```"
   ]
  },
  {
   "cell_type": "code",
   "execution_count": 2,
   "id": "1c98ba1d",
   "metadata": {},
   "outputs": [
    {
     "name": "stdout",
     "output_type": "stream",
     "text": [
      "CPU times: user 4 µs, sys: 0 ns, total: 4 µs\n",
      "Wall time: 5.48 µs\n"
     ]
    },
    {
     "data": {
      "text/plain": [
       "'1[.]1[.]1[.]1'"
      ]
     },
     "execution_count": 2,
     "metadata": {},
     "output_type": "execute_result"
    }
   ],
   "source": [
    "address = \"1.1.1.1\"\n",
    "\n",
    "def defangIPaddr(address: str) -> str:\n",
    "    return address.replace('.', '[.]')\n",
    "\n",
    "%time defangIPaddr(address)"
   ]
  }
 ],
 "metadata": {
  "kernelspec": {
   "display_name": "Python 3 (ipykernel)",
   "language": "python",
   "name": "python3"
  },
  "language_info": {
   "codemirror_mode": {
    "name": "ipython",
    "version": 3
   },
   "file_extension": ".py",
   "mimetype": "text/x-python",
   "name": "python",
   "nbconvert_exporter": "python",
   "pygments_lexer": "ipython3",
   "version": "3.8.10"
  }
 },
 "nbformat": 4,
 "nbformat_minor": 5
}
