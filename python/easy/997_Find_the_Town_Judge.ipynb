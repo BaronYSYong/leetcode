{
 "cells": [
  {
   "cell_type": "markdown",
   "id": "77591ea9",
   "metadata": {},
   "source": [
    "# 997. Find the Town Judge\n",
    "In a town, there are N people labelled from 1 to N.  There is a rumor that one of these people is secretly the town judge.\n",
    "\n",
    "If the town judge exists, then:\n",
    "\n",
    "The town judge trusts nobody.\n",
    "Everybody (except for the town judge) trusts the town judge.\n",
    "There is exactly one person that satisfies properties 1 and 2.\n",
    "You are given trust, an array of pairs trust[i] = [a, b] representing that the person labelled a trusts the person labelled b.\n",
    "\n",
    "If the town judge exists and can be identified, return the label of the town judge.  Otherwise, return -1.\n",
    "\n",
    "Example 1:\n",
    "```\n",
    "Input: N = 2, trust = [[1,2]]\n",
    "Output: 2\n",
    "```\n",
    "Example 2:\n",
    "```\n",
    "Input: N = 3, trust = [[1,3],[2,3]]\n",
    "Output: 3\n",
    "```\n",
    "Example 3:\n",
    "```\n",
    "Input: N = 3, trust = [[1,3],[2,3],[3,1]]\n",
    "Output: -1\n",
    "```\n",
    "Example 4:\n",
    "```\n",
    "Input: N = 3, trust = [[1,2],[2,3]]\n",
    "Output: -1\n",
    "```\n",
    "Example 5:\n",
    "```\n",
    "Input: N = 4, trust = [[1,3],[1,4],[2,3],[2,4],[4,3]]\n",
    "Output: 3\n",
    "```\n",
    "\n",
    "Note:\n",
    "\n",
    "* 1 <= N <= 1000\n",
    "* trust.length <= 10000\n",
    "* trust[i] are all different\n",
    "* trust[i][0] != trust[i][1]\n",
    "* 1 <= trust[i][0], trust[i][1] <= N"
   ]
  },
  {
   "cell_type": "code",
   "execution_count": 1,
   "id": "0d317265",
   "metadata": {},
   "outputs": [],
   "source": [
    "from typing import List"
   ]
  },
  {
   "cell_type": "code",
   "execution_count": 2,
   "id": "8cfddfa6",
   "metadata": {},
   "outputs": [],
   "source": [
    "N = 4\n",
    "trust = [[1,3],[1,4],[2,3],[2,4],[4,3]]"
   ]
  },
  {
   "cell_type": "code",
   "execution_count": 3,
   "id": "e4afc36d",
   "metadata": {},
   "outputs": [
    {
     "name": "stdout",
     "output_type": "stream",
     "text": [
      "[-2, -2, 3, 1]\n",
      "CPU times: user 188 µs, sys: 25 µs, total: 213 µs\n",
      "Wall time: 188 µs\n"
     ]
    },
    {
     "data": {
      "text/plain": [
       "3"
      ]
     },
     "execution_count": 3,
     "metadata": {},
     "output_type": "execute_result"
    }
   ],
   "source": [
    "def findJudge(N: int, trust: List[List[int]]) -> int:\n",
    "    count_trust_list = [0] * N\n",
    "    for person in trust:\n",
    "        count_trust_list[person[0]-1] -= 1\n",
    "        count_trust_list[person[1]-1] += 1\n",
    "    print(count_trust_list)\n",
    "    if max(count_trust_list) != N-1:\n",
    "        return -1\n",
    "    else:\n",
    "        return count_trust_list.index(max(count_trust_list))+1\n",
    "\n",
    "%time findJudge(N, trust)"
   ]
  },
  {
   "cell_type": "code",
   "execution_count": null,
   "id": "a3c7d569",
   "metadata": {},
   "outputs": [],
   "source": []
  }
 ],
 "metadata": {
  "kernelspec": {
   "display_name": "Python 3 (ipykernel)",
   "language": "python",
   "name": "python3"
  },
  "language_info": {
   "codemirror_mode": {
    "name": "ipython",
    "version": 3
   },
   "file_extension": ".py",
   "mimetype": "text/x-python",
   "name": "python",
   "nbconvert_exporter": "python",
   "pygments_lexer": "ipython3",
   "version": "3.8.10"
  }
 },
 "nbformat": 4,
 "nbformat_minor": 5
}
