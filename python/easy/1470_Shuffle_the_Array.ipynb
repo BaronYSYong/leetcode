{
 "cells": [
  {
   "cell_type": "code",
   "execution_count": 1,
   "id": "c05c12e3",
   "metadata": {},
   "outputs": [],
   "source": [
    "from typing import List"
   ]
  },
  {
   "cell_type": "code",
   "execution_count": 2,
   "id": "bde95ce5",
   "metadata": {},
   "outputs": [],
   "source": [
    "# [2,3,5,4,1,7] \n",
    "# nums = [2,5,1,3,4,7]\n",
    "# n = 3\n",
    "\n",
    "# [1,4,2,3,3,2,4,1]\n",
    "nums = [1,2,3,4,4,3,2,1]\n",
    "n = 4"
   ]
  },
  {
   "cell_type": "code",
   "execution_count": 3,
   "id": "dd68a66d",
   "metadata": {},
   "outputs": [],
   "source": [
    "# my answer\n",
    "class Solution:\n",
    "    def shuffle(self, nums: List[int], n: int) -> List[int]:\n",
    "        shuffle = []\n",
    "        for i in range(n):\n",
    "            shuffle.append(nums[i])\n",
    "            shuffle.append(nums[i+n])\n",
    "        return shuffle"
   ]
  },
  {
   "cell_type": "code",
   "execution_count": 4,
   "id": "c540bcb4",
   "metadata": {},
   "outputs": [
    {
     "data": {
      "text/plain": [
       "[1, 4, 2, 3, 3, 2, 4, 1]"
      ]
     },
     "execution_count": 4,
     "metadata": {},
     "output_type": "execute_result"
    }
   ],
   "source": [
    "s = Solution()\n",
    "s.shuffle(nums, n)"
   ]
  }
 ],
 "metadata": {
  "kernelspec": {
   "display_name": "Python 3 (ipykernel)",
   "language": "python",
   "name": "python3"
  },
  "language_info": {
   "codemirror_mode": {
    "name": "ipython",
    "version": 3
   },
   "file_extension": ".py",
   "mimetype": "text/x-python",
   "name": "python",
   "nbconvert_exporter": "python",
   "pygments_lexer": "ipython3",
   "version": "3.8.10"
  }
 },
 "nbformat": 4,
 "nbformat_minor": 5
}
