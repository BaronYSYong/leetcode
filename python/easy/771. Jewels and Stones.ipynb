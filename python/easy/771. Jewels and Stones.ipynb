{
 "cells": [
  {
   "cell_type": "code",
   "execution_count": 1,
   "id": "903ce78f",
   "metadata": {},
   "outputs": [
    {
     "data": {
      "text/html": [
       "<style>.container { width:100% !important; }</style>"
      ],
      "text/plain": [
       "<IPython.core.display.HTML object>"
      ]
     },
     "metadata": {},
     "output_type": "display_data"
    }
   ],
   "source": [
    "from IPython.display import display, HTML\n",
    "display(HTML(\"<style>.container { width:100% !important; }</style>\"))"
   ]
  },
  {
   "cell_type": "code",
   "execution_count": 2,
   "id": "87bd51f8",
   "metadata": {},
   "outputs": [],
   "source": [
    "J = \"aA\"\n",
    "S = \"aAAbbbb\""
   ]
  },
  {
   "cell_type": "code",
   "execution_count": 3,
   "id": "49ed0e34",
   "metadata": {},
   "outputs": [
    {
     "name": "stdout",
     "output_type": "stream",
     "text": [
      "CPU times: user 5 µs, sys: 0 ns, total: 5 µs\n",
      "Wall time: 7.63 µs\n"
     ]
    },
    {
     "data": {
      "text/plain": [
       "3"
      ]
     },
     "execution_count": 3,
     "metadata": {},
     "output_type": "execute_result"
    }
   ],
   "source": [
    "def numJewelsInStones(J: str, S: str) -> int:\n",
    "    count = 0\n",
    "    for i in list(S):\n",
    "        if i in list(J):\n",
    "            count += 1\n",
    "    return count\n",
    "\n",
    "%time numJewelsInStones(J, S)"
   ]
  },
  {
   "cell_type": "code",
   "execution_count": 4,
   "id": "aaaf8ebc",
   "metadata": {},
   "outputs": [
    {
     "name": "stdout",
     "output_type": "stream",
     "text": [
      "CPU times: user 3 µs, sys: 0 ns, total: 3 µs\n",
      "Wall time: 4.77 µs\n"
     ]
    },
    {
     "data": {
      "text/plain": [
       "3"
      ]
     },
     "execution_count": 4,
     "metadata": {},
     "output_type": "execute_result"
    }
   ],
   "source": [
    "def numJewelsInStones2(J: str, S: str) -> int:\n",
    "\n",
    "    jewel_count = 0\n",
    "    for stone in S:\n",
    "        if stone in J:\n",
    "            jewel_count += 1\n",
    "\n",
    "    return jewel_count\n",
    "\n",
    "%time numJewelsInStones2(J, S)"
   ]
  },
  {
   "cell_type": "code",
   "execution_count": null,
   "id": "8b98ac01",
   "metadata": {},
   "outputs": [],
   "source": []
  }
 ],
 "metadata": {
  "kernelspec": {
   "display_name": "Python 3 (ipykernel)",
   "language": "python",
   "name": "python3"
  },
  "language_info": {
   "codemirror_mode": {
    "name": "ipython",
    "version": 3
   },
   "file_extension": ".py",
   "mimetype": "text/x-python",
   "name": "python",
   "nbconvert_exporter": "python",
   "pygments_lexer": "ipython3",
   "version": "3.8.10"
  }
 },
 "nbformat": 4,
 "nbformat_minor": 5
}
