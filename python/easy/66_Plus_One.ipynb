{
 "cells": [
  {
   "cell_type": "markdown",
   "metadata": {},
   "source": [
    "# Plus One\n",
    "\n",
    "Given a non-empty array of digits representing a non-negative integer, plus one to the integer.\n",
    "\n",
    "The digits are stored such that the most significant digit is at the head of the list, and each element in the array contain a single digit.\n",
    "\n",
    "You may assume the integer does not contain any leading zero, except the number 0 itself.\n",
    "\n",
    "Example 1:\n",
    "```\n",
    "Input: [1,2,3]\n",
    "Output: [1,2,4]\n",
    "Explanation: The array represents the integer 123.\n",
    "```\n",
    "Example 2:\n",
    "```\n",
    "Input: [4,3,2,1]\n",
    "Output: [4,3,2,2]\n",
    "Explanation: The array represents the integer 4321.\n",
    "```"
   ]
  },
  {
   "cell_type": "code",
   "execution_count": 1,
   "metadata": {},
   "outputs": [],
   "source": [
    "digits = [9] * 9999999"
   ]
  },
  {
   "cell_type": "code",
   "execution_count": 2,
   "metadata": {},
   "outputs": [],
   "source": [
    "from typing import List"
   ]
  },
  {
   "cell_type": "code",
   "execution_count": 3,
   "metadata": {},
   "outputs": [
    {
     "name": "stdout",
     "output_type": "stream",
     "text": [
      "CPU times: user 2.32 s, sys: 177 µs, total: 2.32 s\n",
      "Wall time: 2.35 s\n"
     ]
    }
   ],
   "source": [
    "# my answer, 64ms, 13.9MB\n",
    "class Solution:\n",
    "    def plusOne(self, digits: List[int]) -> List[int]:\n",
    "        i = -1\n",
    "        while True:\n",
    "            if abs(i) > len(digits):\n",
    "                digits.insert(i, 1)\n",
    "            else:\n",
    "                digits[i] += 1\n",
    "            if digits[i] > 9:\n",
    "                digits[i] -= 10\n",
    "                i -= 1\n",
    "            else:\n",
    "                break\n",
    "        return digits\n",
    "solution = Solution()\n",
    "%time s = solution.plusOne(digits)"
   ]
  },
  {
   "cell_type": "code",
   "execution_count": 4,
   "metadata": {},
   "outputs": [
    {
     "name": "stdout",
     "output_type": "stream",
     "text": [
      "CPU times: user 8 µs, sys: 0 ns, total: 8 µs\n",
      "Wall time: 10.3 µs\n"
     ]
    }
   ],
   "source": [
    "# fastest answer, 12ms\n",
    "class Solution:\n",
    "    def plusOne(self, digits: List[int]) -> List[int]:\n",
    "        for i in range(0, len(digits)):\n",
    "            idx = -1 + (-1 * i)\n",
    "            val = digits[idx] + 1\n",
    "            if val < 10:\n",
    "                digits[idx] = val\n",
    "                break\n",
    "            if val == 10:\n",
    "                digits[idx] = 0\n",
    "                if i == (len(digits) - 1):\n",
    "                    digits =  [1] + digits[:]\n",
    "            \n",
    "        return digits\n",
    "solution = Solution()\n",
    "%time s = solution.plusOne(digits)"
   ]
  },
  {
   "cell_type": "code",
   "execution_count": 5,
   "metadata": {},
   "outputs": [
    {
     "name": "stdout",
     "output_type": "stream",
     "text": [
      "CPU times: user 253 ms, sys: 80 ms, total: 333 ms\n",
      "Wall time: 333 ms\n"
     ]
    }
   ],
   "source": [
    "# least memory, 13.456MB\n",
    "class Solution:\n",
    "    def plusOne(self, digits: List[int]) -> List[int]:\n",
    "        new_digits = []\n",
    "        if set(digits) == {9}:\n",
    "            new_digits = [1]\n",
    "            new_digits.extend([0] * len(digits))\n",
    "        else:\n",
    "            stop = False\n",
    "            for i, digit in enumerate(digits[::-1]):\n",
    "                if digit == 9 and not stop:\n",
    "                    new_digits.append(0)\n",
    "                elif not stop:\n",
    "                    stop = True\n",
    "                    new_digits.append(digit + 1)\n",
    "                    break\n",
    "            new_digits.extend(digits[::-1][i+1:])\n",
    "            new_digits = new_digits[::-1]\n",
    "        return new_digits\n",
    "solution = Solution()\n",
    "%time s = solution.plusOne(digits)"
   ]
  }
 ],
 "metadata": {
  "kernelspec": {
   "display_name": "Python 3",
   "language": "python",
   "name": "python3"
  },
  "language_info": {
   "codemirror_mode": {
    "name": "ipython",
    "version": 3
   },
   "file_extension": ".py",
   "mimetype": "text/x-python",
   "name": "python",
   "nbconvert_exporter": "python",
   "pygments_lexer": "ipython3",
   "version": "3.6.7"
  }
 },
 "nbformat": 4,
 "nbformat_minor": 2
}
