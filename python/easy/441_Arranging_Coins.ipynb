{
 "cells": [
  {
   "cell_type": "markdown",
   "metadata": {},
   "source": [
    "# Arranging Coins\n",
    "\n",
    "You have a total of n coins that you want to form in a staircase shape, where every k-th row must have exactly k coins.\n",
    "\n",
    "Given n, find the total number of full staircase rows that can be formed.\n",
    "\n",
    "n is a non-negative integer and fits within the range of a 32-bit signed integer.\n",
    "\n",
    "Example 1:\n",
    "```\n",
    "n = 5\n",
    "\n",
    "The coins can form the following rows:\n",
    "¤\n",
    "¤ ¤\n",
    "¤ ¤\n",
    "\n",
    "Because the 3rd row is incomplete, we return 2.\n",
    "```\n",
    "Example 2:\n",
    "```\n",
    "n = 8\n",
    "\n",
    "The coins can form the following rows:\n",
    "¤\n",
    "¤ ¤\n",
    "¤ ¤ ¤\n",
    "¤ ¤\n",
    "\n",
    "Because the 4th row is incomplete, we return 3.\n",
    "```"
   ]
  },
  {
   "cell_type": "markdown",
   "metadata": {},
   "source": [
    "## Reference\n",
    "* https://leetcode.com/articles/arranging-coins/"
   ]
  },
  {
   "cell_type": "code",
   "execution_count": 1,
   "metadata": {},
   "outputs": [],
   "source": [
    "n = 8"
   ]
  },
  {
   "cell_type": "code",
   "execution_count": 2,
   "metadata": {},
   "outputs": [],
   "source": [
    "# my answer, 856ms, 13.8MB\n",
    "class Solution:\n",
    "    def arrangeCoins(self, n: int) -> int:\n",
    "        count_coin = 0\n",
    "        i = 0\n",
    "        while True:\n",
    "            i += 1\n",
    "            count_coin += i\n",
    "            if count_coin > n:\n",
    "                return i-1\n",
    "            \n",
    "solution = Solution()\n",
    "%time solution.arrangeCoins(n)"
   ]
  },
  {
   "cell_type": "code",
   "execution_count": 3,
   "metadata": {},
   "outputs": [],
   "source": [
    "# fastest answer, 16ms\n",
    "class Solution:\n",
    "    def arrangeCoins(self, n: int) -> int:\n",
    "        l, r = 1, 65536\n",
    "        while l < r:\n",
    "            mid = (l + r) >> 1\n",
    "            if mid * (mid + 1) // 2 <= n:\n",
    "                l = mid + 1\n",
    "            else:\n",
    "                r = mid\n",
    "        return l - 1\n",
    "\n",
    "solution = Solution()\n",
    "%time solution.arrangeCoins(n)"
   ]
  },
  {
   "cell_type": "code",
   "execution_count": 4,
   "metadata": {},
   "outputs": [],
   "source": [
    "# least memory, 13468kb\n",
    "#read solution \n",
    "class Solution:\n",
    "    def arrangeCoins(self, n: int) -> int:#binary search #O(n), O(1)\n",
    "        left, right = 0, n\n",
    "        while left <= right:\n",
    "            k = (right + left) // 2\n",
    "            curr = k * (k + 1) // 2\n",
    "            if curr == n:\n",
    "                return k\n",
    "            if n < curr:\n",
    "                right = k - 1\n",
    "            else:\n",
    "                left = k + 1\n",
    "        return right\n",
    "    \n",
    "    def arrangeCoins(self, n: int) -> int:#O(1), O(1)\n",
    "        return (int)((2 * n + 0.25)**0.5 - 0.5)"
   ]
  }
 ],
 "metadata": {
  "kernelspec": {
   "display_name": "Python 3",
   "language": "python",
   "name": "python3"
  },
  "language_info": {
   "codemirror_mode": {
    "name": "ipython",
    "version": 3
   },
   "file_extension": ".py",
   "mimetype": "text/x-python",
   "name": "python",
   "nbconvert_exporter": "python",
   "pygments_lexer": "ipython3",
   "version": "3.6.7"
  }
 },
 "nbformat": 4,
 "nbformat_minor": 2
}
