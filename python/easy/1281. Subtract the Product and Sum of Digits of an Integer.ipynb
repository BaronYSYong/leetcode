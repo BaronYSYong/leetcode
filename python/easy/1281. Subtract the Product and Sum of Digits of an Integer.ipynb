{
 "cells": [
  {
   "cell_type": "code",
   "execution_count": 1,
   "id": "a5eddb6c",
   "metadata": {},
   "outputs": [
    {
     "data": {
      "text/html": [
       "<style>.container { width:100% !important; }</style>"
      ],
      "text/plain": [
       "<IPython.core.display.HTML object>"
      ]
     },
     "metadata": {},
     "output_type": "display_data"
    }
   ],
   "source": [
    "from IPython.display import display, HTML\n",
    "display(HTML(\"<style>.container { width:100% !important; }</style>\"))"
   ]
  },
  {
   "cell_type": "markdown",
   "id": "904c113d",
   "metadata": {},
   "source": [
    "## 1281. Subtract the Product and Sum of Digits of an Integer\n",
    "```\n",
    "Given an integer number n, return the difference between the product of its digits and the sum of its digits.\n",
    " \n",
    "Example 1:\n",
    "\n",
    "Input: n = 234\n",
    "Output: 15 \n",
    "Explanation: \n",
    "Product of digits = 2 * 3 * 4 = 24 \n",
    "Sum of digits = 2 + 3 + 4 = 9 \n",
    "Result = 24 - 9 = 15\n",
    "Example 2:\n",
    "\n",
    "Input: n = 4421\n",
    "Output: 21\n",
    "Explanation: \n",
    "Product of digits = 4 * 4 * 2 * 1 = 32 \n",
    "Sum of digits = 4 + 4 + 2 + 1 = 11 \n",
    "Result = 32 - 11 = 21\n",
    "\n",
    "Constraints:\n",
    "\n",
    "1 <= n <= 10^5\n",
    "```"
   ]
  },
  {
   "cell_type": "code",
   "execution_count": 2,
   "id": "4d6f8967",
   "metadata": {},
   "outputs": [],
   "source": [
    "n = 4421"
   ]
  },
  {
   "cell_type": "code",
   "execution_count": 3,
   "id": "f74f9cc5",
   "metadata": {},
   "outputs": [
    {
     "name": "stdout",
     "output_type": "stream",
     "text": [
      "CPU times: user 6 µs, sys: 0 ns, total: 6 µs\n",
      "Wall time: 8.82 µs\n"
     ]
    },
    {
     "data": {
      "text/plain": [
       "21"
      ]
     },
     "execution_count": 3,
     "metadata": {},
     "output_type": "execute_result"
    }
   ],
   "source": [
    "def subtractProductAndSum(n: int) -> int:\n",
    "    str_n = str(n)\n",
    "    sum_n = 0\n",
    "    product_n = 1 \n",
    "    for i in str_n:\n",
    "        sum_n += int(i)\n",
    "        product_n *= int(i)\n",
    "    return product_n - sum_n\n",
    "\n",
    "%time subtractProductAndSum(n)"
   ]
  },
  {
   "cell_type": "code",
   "execution_count": 4,
   "id": "5c07147c",
   "metadata": {},
   "outputs": [
    {
     "name": "stdout",
     "output_type": "stream",
     "text": [
      "CPU times: user 6 µs, sys: 1 µs, total: 7 µs\n",
      "Wall time: 8.58 µs\n"
     ]
    },
    {
     "data": {
      "text/plain": [
       "21"
      ]
     },
     "execution_count": 4,
     "metadata": {},
     "output_type": "execute_result"
    }
   ],
   "source": [
    "def subtractProductAndSum2(n: int) -> int:\n",
    "    a = 0\n",
    "    b = 1\n",
    "    for i in [int(i) for i in str(n)]:\n",
    "        b *= i\n",
    "        a += i\n",
    "    return  b - a\n",
    "\n",
    "%time subtractProductAndSum2(n)"
   ]
  },
  {
   "cell_type": "code",
   "execution_count": 5,
   "id": "f4af9cc6",
   "metadata": {},
   "outputs": [
    {
     "name": "stdout",
     "output_type": "stream",
     "text": [
      "CPU times: user 18 µs, sys: 3 µs, total: 21 µs\n",
      "Wall time: 22.6 µs\n"
     ]
    },
    {
     "data": {
      "text/plain": [
       "21"
      ]
     },
     "execution_count": 5,
     "metadata": {},
     "output_type": "execute_result"
    }
   ],
   "source": [
    "def subtractProductAndSum3(n: int) -> int:\n",
    "    product = 1\n",
    "    add = 0\n",
    "    for i in list(str(n)):\n",
    "        add+=int(i)\n",
    "        product*=int(i)\n",
    "    return product - add\n",
    "\n",
    "%time subtractProductAndSum3(n)"
   ]
  },
  {
   "cell_type": "code",
   "execution_count": null,
   "id": "250bc7b3",
   "metadata": {},
   "outputs": [],
   "source": []
  }
 ],
 "metadata": {
  "kernelspec": {
   "display_name": "Python 3 (ipykernel)",
   "language": "python",
   "name": "python3"
  },
  "language_info": {
   "codemirror_mode": {
    "name": "ipython",
    "version": 3
   },
   "file_extension": ".py",
   "mimetype": "text/x-python",
   "name": "python",
   "nbconvert_exporter": "python",
   "pygments_lexer": "ipython3",
   "version": "3.8.10"
  }
 },
 "nbformat": 4,
 "nbformat_minor": 5
}
