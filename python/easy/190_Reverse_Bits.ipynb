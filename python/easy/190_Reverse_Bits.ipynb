{
 "cells": [
  {
   "cell_type": "markdown",
   "metadata": {},
   "source": [
    "# Reverse Bits\n",
    "\n",
    "Solution\n",
    "Reverse bits of a given 32 bits unsigned integer.\n",
    "\n",
    "Example 1:\n",
    "```\n",
    "Input: 00000010100101000001111010011100\n",
    "Output: 00111001011110000010100101000000\n",
    "Explanation: The input binary string 00000010100101000001111010011100 represents the unsigned integer 43261596, so return 964176192 which its binary representation is 00111001011110000010100101000000.\n",
    "```\n",
    "Example 2:\n",
    "```\n",
    "Input: 11111111111111111111111111111101\n",
    "Output: 10111111111111111111111111111111\n",
    "Explanation: The input binary string 11111111111111111111111111111101 represents the unsigned integer 4294967293, so return 3221225471 which its binary representation is 10111111111111111111111111111111.\n",
    "```\n",
    "\n",
    "Note:\n",
    "\n",
    "* Note that in some languages such as Java, there is no unsigned integer type. In this case, both input and output will be given as signed integer type and should not affect your implementation, as the internal binary representation of the integer is the same whether it is signed or unsigned.\n",
    "* In Java, the compiler represents the signed integers using 2's complement notation. Therefore, in Example 2 above the input represents the signed integer -3 and the output represents the signed integer -1073741825.\n",
    " "
   ]
  },
  {
   "cell_type": "markdown",
   "metadata": {},
   "source": [
    "## Reference\n",
    "* https://leetcode.com/articles/reverse-bits/"
   ]
  },
  {
   "cell_type": "code",
   "execution_count": 1,
   "metadata": {},
   "outputs": [],
   "source": [
    "# 964176192\n",
    "# n = 0b00000010100101000001111010011100\n",
    "# 3221225471\n",
    "n = 0b11111111111111111111111111111101"
   ]
  },
  {
   "cell_type": "code",
   "execution_count": 2,
   "metadata": {},
   "outputs": [
    {
     "name": "stdout",
     "output_type": "stream",
     "text": [
      "10111111111111111111111111111111\n",
      "CPU times: user 174 µs, sys: 10 µs, total: 184 µs\n",
      "Wall time: 150 µs\n"
     ]
    },
    {
     "data": {
      "text/plain": [
       "3221225471"
      ]
     },
     "execution_count": 2,
     "metadata": {},
     "output_type": "execute_result"
    }
   ],
   "source": [
    "# my answer, 40ms, 13.9MB\n",
    "class Solution:\n",
    "    def reverseBits(self, n: int) -> int:\n",
    "        s = bin(n)[2:]\n",
    "        b = s[::-1]+('0'*(32-len(s)))\n",
    "        print(b)\n",
    "        return int(b, 2)\n",
    "\n",
    "solution = Solution()\n",
    "%time solution.reverseBits(n)"
   ]
  },
  {
   "cell_type": "code",
   "execution_count": 3,
   "metadata": {},
   "outputs": [
    {
     "name": "stdout",
     "output_type": "stream",
     "text": [
      "CPU times: user 19 µs, sys: 1 µs, total: 20 µs\n",
      "Wall time: 24.8 µs\n"
     ]
    },
    {
     "data": {
      "text/plain": [
       "3221225471"
      ]
     },
     "execution_count": 3,
     "metadata": {},
     "output_type": "execute_result"
    }
   ],
   "source": [
    "# fastest answer, 8ms\n",
    "class Solution:\n",
    "    # @param n, an integer\n",
    "    # @return an integer\n",
    "    def reverseBits(self, n):\n",
    "        n = (n >> 16) | (n << 16)\n",
    "        n = ((n & 0xff00ff00) >> 8) | ((n & 0x00ff00ff) << 8)\n",
    "        n = ((n & 0xf0f0f0f0) >> 4) | ((n & 0x0f0f0f0f) << 4)\n",
    "        n = ((n & 0xcccccccc) >> 2) | ((n & 0x33333333) << 2)\n",
    "        n = ((n & 0xaaaaaaaa) >> 1) | ((n & 0x55555555) << 1)\n",
    "        return n\n",
    "    \n",
    "solution = Solution()\n",
    "%time solution.reverseBits(n)"
   ]
  },
  {
   "cell_type": "code",
   "execution_count": 4,
   "metadata": {},
   "outputs": [
    {
     "name": "stdout",
     "output_type": "stream",
     "text": [
      "CPU times: user 55 µs, sys: 3 µs, total: 58 µs\n",
      "Wall time: 62 µs\n"
     ]
    },
    {
     "data": {
      "text/plain": [
       "3221225471"
      ]
     },
     "execution_count": 4,
     "metadata": {},
     "output_type": "execute_result"
    }
   ],
   "source": [
    "# least memory, 13.484MB\n",
    "import math \n",
    "\n",
    "class Solution:\n",
    "    def reverseBits(self, n: int) -> int:\n",
    "        \n",
    "        # function convertIntToBit\n",
    "        div = n \n",
    "        #nBit = [0]*32\n",
    "        bits = \"\"\n",
    "   \n",
    "        while (div != 0):\n",
    "            bits += str(div % 2)\n",
    "            div = math.floor(div / 2)\n",
    "        bits = bits [::-1] #reverse bits to get correct rep. of 1st number\n",
    "        \n",
    "        # match 32 length\n",
    "        l = len(bits)\n",
    "        pad = \"\"\n",
    "        for i in (range(32-l)):\n",
    "            pad += \"0\"\n",
    "            \n",
    "        pad += bits \n",
    "            \n",
    "\n",
    "        # function convert BitToInt\n",
    "        res = 0\n",
    "        for i in range(32):\n",
    "            res += (2**(i))*int(pad[i])\n",
    "    \n",
    "        return res\n",
    "    \n",
    "solution = Solution()\n",
    "%time solution.reverseBits(n)"
   ]
  },
  {
   "cell_type": "code",
   "execution_count": null,
   "metadata": {},
   "outputs": [],
   "source": []
  }
 ],
 "metadata": {
  "kernelspec": {
   "display_name": "Python 3",
   "language": "python",
   "name": "python3"
  },
  "language_info": {
   "codemirror_mode": {
    "name": "ipython",
    "version": 3
   },
   "file_extension": ".py",
   "mimetype": "text/x-python",
   "name": "python",
   "nbconvert_exporter": "python",
   "pygments_lexer": "ipython3",
   "version": "3.6.7"
  }
 },
 "nbformat": 4,
 "nbformat_minor": 2
}
