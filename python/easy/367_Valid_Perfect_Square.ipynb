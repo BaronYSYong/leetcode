{
 "cells": [
  {
   "cell_type": "markdown",
   "id": "d222f066",
   "metadata": {},
   "source": [
    "# 367. Valid Perfect Square\n",
    "Solution\n",
    "Given a positive integer num, write a function which returns True if num is a perfect square else False.\n",
    "\n",
    "Note: Do not use any built-in library function such as sqrt.\n",
    "\n",
    "Example 1:\n",
    "```\n",
    "Input: 16\n",
    "Output: true\n",
    "```\n",
    "Example 2:\n",
    "```\n",
    "Input: 14\n",
    "Output: false\n",
    "```"
   ]
  },
  {
   "cell_type": "code",
   "execution_count": 1,
   "id": "9b0dcbd1",
   "metadata": {},
   "outputs": [],
   "source": [
    "num = 16"
   ]
  },
  {
   "cell_type": "code",
   "execution_count": 2,
   "id": "5e3b41fb",
   "metadata": {},
   "outputs": [
    {
     "name": "stdout",
     "output_type": "stream",
     "text": [
      "CPU times: user 13 µs, sys: 1 µs, total: 14 µs\n",
      "Wall time: 20 µs\n"
     ]
    },
    {
     "data": {
      "text/plain": [
       "True"
      ]
     },
     "execution_count": 2,
     "metadata": {},
     "output_type": "execute_result"
    }
   ],
   "source": [
    "def isPerfectSquare(num: int) -> bool:\n",
    "    return (int(num**(1/2))**2) == num\n",
    "\n",
    "%time isPerfectSquare(num)"
   ]
  },
  {
   "cell_type": "code",
   "execution_count": null,
   "id": "2635eddf",
   "metadata": {},
   "outputs": [],
   "source": []
  }
 ],
 "metadata": {
  "kernelspec": {
   "display_name": "Python 3 (ipykernel)",
   "language": "python",
   "name": "python3"
  },
  "language_info": {
   "codemirror_mode": {
    "name": "ipython",
    "version": 3
   },
   "file_extension": ".py",
   "mimetype": "text/x-python",
   "name": "python",
   "nbconvert_exporter": "python",
   "pygments_lexer": "ipython3",
   "version": "3.8.10"
  }
 },
 "nbformat": 4,
 "nbformat_minor": 5
}
