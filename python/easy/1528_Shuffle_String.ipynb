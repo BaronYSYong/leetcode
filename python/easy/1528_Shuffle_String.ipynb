{
 "cells": [
  {
   "cell_type": "code",
   "execution_count": 1,
   "id": "0838b1bf",
   "metadata": {},
   "outputs": [],
   "source": [
    "from typing import List"
   ]
  },
  {
   "cell_type": "code",
   "execution_count": 2,
   "id": "f6bb4b5e",
   "metadata": {},
   "outputs": [],
   "source": [
    "# s = \"codeleet\";indices = [4,5,6,7,0,2,1,3]\n",
    "# s = \"abc\"; indices = [0,1,2]\n",
    "# s = \"aiohn\"; indices = [3,1,4,2,0]\n",
    "# s = \"aaiougrt\"; indices = [4,0,2,6,7,3,1,5]\n",
    "s = \"art\"; indices = [1,0,2]"
   ]
  },
  {
   "cell_type": "code",
   "execution_count": 3,
   "id": "48e47f4f",
   "metadata": {},
   "outputs": [
    {
     "name": "stdout",
     "output_type": "stream",
     "text": [
      "CPU times: user 10 µs, sys: 2 µs, total: 12 µs\n",
      "Wall time: 15 µs\n"
     ]
    },
    {
     "data": {
      "text/plain": [
       "'rat'"
      ]
     },
     "execution_count": 3,
     "metadata": {},
     "output_type": "execute_result"
    }
   ],
   "source": [
    "class Solution:\n",
    "    def restoreString(self, s: str, indices: List[int]) -> str:\n",
    "        new_s = ['']*len(s)\n",
    "        j = 0\n",
    "        for i in indices:\n",
    "            new_s[i] = s[j]\n",
    "            j += 1\n",
    "        return ''.join(new_s)\n",
    "solution = Solution()\n",
    "%time solution.restoreString(s, indices)"
   ]
  },
  {
   "cell_type": "code",
   "execution_count": null,
   "id": "8df2d601",
   "metadata": {},
   "outputs": [],
   "source": []
  }
 ],
 "metadata": {
  "kernelspec": {
   "display_name": "Python 3 (ipykernel)",
   "language": "python",
   "name": "python3"
  },
  "language_info": {
   "codemirror_mode": {
    "name": "ipython",
    "version": 3
   },
   "file_extension": ".py",
   "mimetype": "text/x-python",
   "name": "python",
   "nbconvert_exporter": "python",
   "pygments_lexer": "ipython3",
   "version": "3.8.10"
  }
 },
 "nbformat": 4,
 "nbformat_minor": 5
}
