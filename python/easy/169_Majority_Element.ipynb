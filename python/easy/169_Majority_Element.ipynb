{
 "cells": [
  {
   "cell_type": "markdown",
   "id": "9758604d",
   "metadata": {},
   "source": [
    "# 169. Majority Element\n",
    "Given an array of size n, find the majority element. The majority element is the element that appears more than ⌊ n/2 ⌋ times.\n",
    "\n",
    "You may assume that the array is non-empty and the majority element always exist in the array.\n",
    "\n",
    "Example 1:\n",
    "```\n",
    "Input: [3,2,3]\n",
    "Output: 3\n",
    "```\n",
    "Example 2:\n",
    "```\n",
    "Input: [2,2,1,1,1,2,2]\n",
    "Output: 2\n",
    "```"
   ]
  },
  {
   "cell_type": "code",
   "execution_count": 1,
   "id": "e39c8494",
   "metadata": {},
   "outputs": [],
   "source": [
    "from typing import List"
   ]
  },
  {
   "cell_type": "code",
   "execution_count": 2,
   "id": "ff25a01c",
   "metadata": {},
   "outputs": [],
   "source": [
    "nums = [2,2,1,1,1,2,2]"
   ]
  },
  {
   "cell_type": "code",
   "execution_count": 3,
   "id": "0c49ffcd",
   "metadata": {},
   "outputs": [
    {
     "data": {
      "text/plain": [
       "1"
      ]
     },
     "execution_count": 3,
     "metadata": {},
     "output_type": "execute_result"
    }
   ],
   "source": [
    "nums_dict = {}\n",
    "for i in set(nums):\n",
    "    if i not in nums_dict:\n",
    "        nums_dict[i] = 1\n",
    "    else:\n",
    "        nums_dict[i] += 1\n",
    "max_count = 0\n",
    "max_element = 0\n",
    "for key, count in nums_dict.items():\n",
    "    if count > max_count:\n",
    "        max_count = count\n",
    "        max_element = key\n",
    "max_element"
   ]
  },
  {
   "cell_type": "code",
   "execution_count": 4,
   "id": "4f8b52e5",
   "metadata": {},
   "outputs": [
    {
     "name": "stdout",
     "output_type": "stream",
     "text": [
      "CPU times: user 5 µs, sys: 0 ns, total: 5 µs\n",
      "Wall time: 6.44 µs\n"
     ]
    },
    {
     "data": {
      "text/plain": [
       "2"
      ]
     },
     "execution_count": 4,
     "metadata": {},
     "output_type": "execute_result"
    }
   ],
   "source": [
    "def majorityElement(nums: List[int]) -> int:\n",
    "    nums_dict = {}\n",
    "    for i in nums:\n",
    "        if i not in nums_dict:\n",
    "            nums_dict[i] = 1\n",
    "        else:\n",
    "            nums_dict[i] += 1\n",
    "    max_count = 0\n",
    "    max_element = 0\n",
    "    for key, count in nums_dict.items():\n",
    "        if count > max_count:\n",
    "            max_count = count\n",
    "            max_element = key\n",
    "    return max_element\n",
    "\n",
    "%time majorityElement(nums)"
   ]
  },
  {
   "cell_type": "code",
   "execution_count": 5,
   "id": "cdc2ec03",
   "metadata": {},
   "outputs": [
    {
     "name": "stdout",
     "output_type": "stream",
     "text": [
      "CPU times: user 20 µs, sys: 0 ns, total: 20 µs\n",
      "Wall time: 29.8 µs\n"
     ]
    },
    {
     "data": {
      "text/plain": [
       "2"
      ]
     },
     "execution_count": 5,
     "metadata": {},
     "output_type": "execute_result"
    }
   ],
   "source": [
    "def majorityElement2(nums: List[int]) -> int:\n",
    "  nums.sort()\n",
    "  return nums[len(nums)//2]\n",
    "\n",
    "%time majorityElement2(nums)"
   ]
  },
  {
   "cell_type": "code",
   "execution_count": null,
   "id": "5c27babd",
   "metadata": {},
   "outputs": [],
   "source": []
  }
 ],
 "metadata": {
  "kernelspec": {
   "display_name": "Python 3 (ipykernel)",
   "language": "python",
   "name": "python3"
  },
  "language_info": {
   "codemirror_mode": {
    "name": "ipython",
    "version": 3
   },
   "file_extension": ".py",
   "mimetype": "text/x-python",
   "name": "python",
   "nbconvert_exporter": "python",
   "pygments_lexer": "ipython3",
   "version": "3.8.10"
  }
 },
 "nbformat": 4,
 "nbformat_minor": 5
}
