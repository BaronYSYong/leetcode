{
 "cells": [
  {
   "cell_type": "markdown",
   "metadata": {},
   "source": [
    "# Remove Linked List Elements\n",
    "\n",
    "Remove all elements from a linked list of integers that have value val.\n",
    "\n",
    "Example:\n",
    "```\n",
    "Input:  1->2->6->3->4->5->6, val = 6\n",
    "Output: 1->2->3->4->5\n",
    "```"
   ]
  },
  {
   "cell_type": "markdown",
   "metadata": {},
   "source": [
    "## Reference\n",
    "* https://www.youtube.com/watch?v=YIng7Pf6oa4"
   ]
  },
  {
   "cell_type": "code",
   "execution_count": 1,
   "metadata": {},
   "outputs": [],
   "source": [
    "# Definition for singly-linked list.\n",
    "class ListNode:\n",
    "    def __init__(self, val=0, next=None):\n",
    "        self.val = val\n",
    "        self.next = next"
   ]
  },
  {
   "cell_type": "code",
   "execution_count": 2,
   "metadata": {},
   "outputs": [],
   "source": [
    "# answer in https://www.youtube.com/watch?v=YIng7Pf6oa4, 88 ms, 16.9 MB\n",
    "class Solution:\n",
    "    def removeElements(self, head: ListNode, val: int) -> ListNode:\n",
    "        if head is None:\n",
    "            return head\n",
    "        \n",
    "        prev, curr = None, head\n",
    "        while curr != None:\n",
    "            if curr.val == val:\n",
    "                if prev == None:\n",
    "                    head = curr.next\n",
    "                else:\n",
    "                    prev.next = curr.next\n",
    "            else:\n",
    "                prev = curr\n",
    "            curr = curr.next\n",
    "        return head"
   ]
  },
  {
   "cell_type": "code",
   "execution_count": 3,
   "metadata": {},
   "outputs": [],
   "source": [
    "# fastest answer, 48 ms\n",
    "class Solution:\n",
    "    def removeElements(self, head: ListNode, val: int) -> ListNode:\n",
    "        dummy = ListNode(0)\n",
    "        dummy.next = head\n",
    "        \n",
    "        prev, curr = dummy, head\n",
    "        while curr:\n",
    "            if curr.val == val:\n",
    "                prev.next = curr.next\n",
    "            else:\n",
    "                prev = curr\n",
    "            curr = curr.next\n",
    "        return dummy.next"
   ]
  },
  {
   "cell_type": "code",
   "execution_count": 4,
   "metadata": {},
   "outputs": [],
   "source": [
    "# least memory, 16.572 MB\n",
    "class Solution:\n",
    "    def removeElements(self, head: ListNode, val: int) -> ListNode:\n",
    "        curr = head\n",
    "        while(curr):\n",
    "            while(curr.next and curr.next.val == val):\n",
    "                curr.next = curr.next.next\n",
    "            curr = curr.next\n",
    "        if head and head.val == val:\n",
    "            head = head.next\n",
    "        return head"
   ]
  },
  {
   "cell_type": "code",
   "execution_count": null,
   "metadata": {},
   "outputs": [],
   "source": []
  }
 ],
 "metadata": {
  "kernelspec": {
   "display_name": "Python 3",
   "language": "python",
   "name": "python3"
  },
  "language_info": {
   "codemirror_mode": {
    "name": "ipython",
    "version": 3
   },
   "file_extension": ".py",
   "mimetype": "text/x-python",
   "name": "python",
   "nbconvert_exporter": "python",
   "pygments_lexer": "ipython3",
   "version": "3.6.7"
  }
 },
 "nbformat": 4,
 "nbformat_minor": 2
}
