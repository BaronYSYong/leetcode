{
 "cells": [
  {
   "cell_type": "code",
   "execution_count": 1,
   "id": "b19400b2",
   "metadata": {},
   "outputs": [
    {
     "data": {
      "text/html": [
       "<style>.container { width:100% !important; }</style>"
      ],
      "text/plain": [
       "<IPython.core.display.HTML object>"
      ]
     },
     "metadata": {},
     "output_type": "display_data"
    }
   ],
   "source": [
    "from IPython.display import display, HTML\n",
    "display(HTML(\"<style>.container { width:100% !important; }</style>\"))"
   ]
  },
  {
   "cell_type": "code",
   "execution_count": 2,
   "id": "c79cd16a",
   "metadata": {},
   "outputs": [],
   "source": [
    "s = \"RLRRRLLRLL\""
   ]
  },
  {
   "cell_type": "code",
   "execution_count": 3,
   "id": "48633210",
   "metadata": {},
   "outputs": [
    {
     "name": "stdout",
     "output_type": "stream",
     "text": [
      "CPU times: user 4 µs, sys: 1 µs, total: 5 µs\n",
      "Wall time: 6.2 µs\n"
     ]
    },
    {
     "data": {
      "text/plain": [
       "2"
      ]
     },
     "execution_count": 3,
     "metadata": {},
     "output_type": "execute_result"
    }
   ],
   "source": [
    "def balancedStringSplit(s: str) -> int:\n",
    "    count = 0\n",
    "    l = 0\n",
    "    r = 0\n",
    "    for i in s:\n",
    "        if i == 'L': l += 1\n",
    "        if i == 'R': r += 1\n",
    "        if l == r:\n",
    "            count += 1\n",
    "            l = r = 0\n",
    "    return count\n",
    "\n",
    "%time balancedStringSplit(s)"
   ]
  },
  {
   "cell_type": "code",
   "execution_count": 4,
   "id": "8cb0b134",
   "metadata": {},
   "outputs": [
    {
     "name": "stdout",
     "output_type": "stream",
     "text": [
      "CPU times: user 4 µs, sys: 1 µs, total: 5 µs\n",
      "Wall time: 5.96 µs\n"
     ]
    },
    {
     "data": {
      "text/plain": [
       "2"
      ]
     },
     "execution_count": 4,
     "metadata": {},
     "output_type": "execute_result"
    }
   ],
   "source": [
    "def balancedStringSplit2(s: str) -> int:\n",
    "    c = 0\n",
    "    b = 0\n",
    "    for n in s:\n",
    "        if n == \"R\":\n",
    "            c += 1\n",
    "        else:\n",
    "            c -= 1\n",
    "        if c == 0:\n",
    "            b += 1\n",
    "    return b\n",
    "\n",
    "%time balancedStringSplit2(s)"
   ]
  },
  {
   "cell_type": "code",
   "execution_count": null,
   "id": "15a4bb71",
   "metadata": {},
   "outputs": [],
   "source": []
  }
 ],
 "metadata": {
  "kernelspec": {
   "display_name": "Python 3 (ipykernel)",
   "language": "python",
   "name": "python3"
  },
  "language_info": {
   "codemirror_mode": {
    "name": "ipython",
    "version": 3
   },
   "file_extension": ".py",
   "mimetype": "text/x-python",
   "name": "python",
   "nbconvert_exporter": "python",
   "pygments_lexer": "ipython3",
   "version": "3.8.10"
  }
 },
 "nbformat": 4,
 "nbformat_minor": 5
}
