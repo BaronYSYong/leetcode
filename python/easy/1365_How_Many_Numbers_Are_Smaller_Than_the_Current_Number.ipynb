{
 "cells": [
  {
   "cell_type": "code",
   "execution_count": 1,
   "id": "afb7ac07",
   "metadata": {},
   "outputs": [
    {
     "data": {
      "text/html": [
       "<style>.container { width:100% !important; }</style>"
      ],
      "text/plain": [
       "<IPython.core.display.HTML object>"
      ]
     },
     "metadata": {},
     "output_type": "display_data"
    }
   ],
   "source": [
    "from IPython.display import display, HTML\n",
    "display(HTML(\"<style>.container { width:100% !important; }</style>\"))"
   ]
  },
  {
   "cell_type": "code",
   "execution_count": 2,
   "id": "d4716775",
   "metadata": {},
   "outputs": [],
   "source": [
    "from typing import List\n",
    "import numpy as np"
   ]
  },
  {
   "cell_type": "code",
   "execution_count": 3,
   "id": "ec2c5248",
   "metadata": {},
   "outputs": [],
   "source": [
    "nums = list(range(10000))"
   ]
  },
  {
   "cell_type": "code",
   "execution_count": 4,
   "id": "c3f63241",
   "metadata": {},
   "outputs": [
    {
     "name": "stdout",
     "output_type": "stream",
     "text": [
      "CPU times: user 7.09 s, sys: 251 ms, total: 7.34 s\n",
      "Wall time: 7.04 s\n"
     ]
    },
    {
     "data": {
      "text/plain": [
       "array([   0,    1,    2, ..., 9997, 9998, 9999])"
      ]
     },
     "execution_count": 4,
     "metadata": {},
     "output_type": "execute_result"
    }
   ],
   "source": [
    "def smallerNumbersThanCurrent(nums: List[int]) -> List[int]:\n",
    "    ret_list = []\n",
    "    for i in range(len(nums)):\n",
    "        count = 0\n",
    "        for j in range(len(nums)):\n",
    "            if i == j:\n",
    "                continue\n",
    "            if nums[i] > nums[j]:\n",
    "                count += 1\n",
    "        ret_list.append(count)\n",
    "    return ret_list\n",
    "\n",
    "%time np.array(smallerNumbersThanCurrent(nums))"
   ]
  },
  {
   "cell_type": "code",
   "execution_count": 5,
   "id": "a45bdc8c",
   "metadata": {},
   "outputs": [
    {
     "name": "stdout",
     "output_type": "stream",
     "text": [
      "CPU times: user 7.8 ms, sys: 0 ns, total: 7.8 ms\n",
      "Wall time: 7.65 ms\n"
     ]
    },
    {
     "data": {
      "text/plain": [
       "array([   0,    1,    2, ..., 9997, 9998, 9999])"
      ]
     },
     "execution_count": 5,
     "metadata": {},
     "output_type": "execute_result"
    }
   ],
   "source": [
    "def smallerNumbersThanCurrent2(nums: List[int]) -> List[int]:\n",
    "    num_count_map = {}\n",
    "\n",
    "    for num in nums:\n",
    "        num_count_map[num] = num_count_map.get(num, 0) + 1\n",
    "\n",
    "    num_count_ary = []\n",
    "    for num, count in num_count_map.items():\n",
    "        num_count_ary.append((num, count))\n",
    "\n",
    "    num_count_ary.sort(key = lambda x: x[0])\n",
    "\n",
    "    current_count = 0\n",
    "    num_prevcount_map = {}\n",
    "    for num_count in num_count_ary:\n",
    "        num = num_count[0]\n",
    "        count = num_count[1]\n",
    "        num_prevcount_map[num] = current_count\n",
    "        current_count += count\n",
    "\n",
    "    result = []\n",
    "\n",
    "    for num in nums:\n",
    "        result.append(num_prevcount_map[num])\n",
    "\n",
    "    return result\n",
    "\n",
    "%time np.array(smallerNumbersThanCurrent2(nums))"
   ]
  }
 ],
 "metadata": {
  "kernelspec": {
   "display_name": "Python 3 (ipykernel)",
   "language": "python",
   "name": "python3"
  },
  "language_info": {
   "codemirror_mode": {
    "name": "ipython",
    "version": 3
   },
   "file_extension": ".py",
   "mimetype": "text/x-python",
   "name": "python",
   "nbconvert_exporter": "python",
   "pygments_lexer": "ipython3",
   "version": "3.8.10"
  }
 },
 "nbformat": 4,
 "nbformat_minor": 5
}
