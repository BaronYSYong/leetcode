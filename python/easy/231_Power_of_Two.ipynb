{
 "cells": [
  {
   "cell_type": "markdown",
   "metadata": {},
   "source": [
    "# Power of Two\n",
    "\n",
    "Given an integer, write a function to determine if it is a power of two.\n",
    "\n",
    "Example 1:\n",
    "```\n",
    "Input: 1\n",
    "Output: true \n",
    "Explanation: 20 = 1\n",
    "```\n",
    "Example 2:\n",
    "```\n",
    "Input: 16\n",
    "Output: true\n",
    "Explanation: 24 = 16\n",
    "```\n",
    "Example 3:\n",
    "```\n",
    "Input: 218\n",
    "Output: false\n",
    "```"
   ]
  },
  {
   "cell_type": "code",
   "execution_count": 1,
   "metadata": {},
   "outputs": [],
   "source": [
    "# True\n",
    "# n = 1\n",
    "\n",
    "# True\n",
    "# n = 16\n",
    "\n",
    "# False\n",
    "n = 218"
   ]
  },
  {
   "cell_type": "code",
   "execution_count": 2,
   "metadata": {},
   "outputs": [
    {
     "name": "stdout",
     "output_type": "stream",
     "text": [
      "CPU times: user 15 µs, sys: 1 µs, total: 16 µs\n",
      "Wall time: 18.8 µs\n"
     ]
    },
    {
     "data": {
      "text/plain": [
       "False"
      ]
     },
     "execution_count": 2,
     "metadata": {},
     "output_type": "execute_result"
    }
   ],
   "source": [
    "# my answer\n",
    "def isPowerOfTwo(n: int) -> bool:\n",
    "    if n == 0:\n",
    "        return False\n",
    "    if n == 1:\n",
    "        return True\n",
    "    while True:\n",
    "        n = float(n)\n",
    "        if n == 2.0:\n",
    "            return True\n",
    "        elif str(n).split('.')[-1] != '0':\n",
    "            return False                \n",
    "        else:\n",
    "            n /= 2\n",
    "\n",
    "%time isPowerOfTwo(n)"
   ]
  },
  {
   "cell_type": "code",
   "execution_count": 3,
   "metadata": {},
   "outputs": [
    {
     "name": "stdout",
     "output_type": "stream",
     "text": [
      "CPU times: user 5 µs, sys: 0 ns, total: 5 µs\n",
      "Wall time: 6.68 µs\n"
     ]
    },
    {
     "data": {
      "text/plain": [
       "False"
      ]
     },
     "execution_count": 3,
     "metadata": {},
     "output_type": "execute_result"
    }
   ],
   "source": [
    "# fastest answer\n",
    "def isPowerOfTwo2(n: int) -> bool:\n",
    "    if n == 1:\n",
    "        return True\n",
    "    i = 2\n",
    "    while i <= n:\n",
    "        if i == n:\n",
    "            return True\n",
    "        i *= 2\n",
    "    return False\n",
    "\n",
    "%time isPowerOfTwo2(n)"
   ]
  },
  {
   "cell_type": "code",
   "execution_count": 4,
   "metadata": {},
   "outputs": [
    {
     "name": "stdout",
     "output_type": "stream",
     "text": [
      "CPU times: user 3 µs, sys: 0 ns, total: 3 µs\n",
      "Wall time: 5.96 µs\n"
     ]
    },
    {
     "data": {
      "text/plain": [
       "False"
      ]
     },
     "execution_count": 4,
     "metadata": {},
     "output_type": "execute_result"
    }
   ],
   "source": [
    "# shortest answer\n",
    "def isPowerOfTwo3(n: int) -> bool:\n",
    "    return (n and not (n & (n - 1)))\n",
    "\n",
    "%time isPowerOfTwo3(n)"
   ]
  },
  {
   "cell_type": "code",
   "execution_count": 5,
   "metadata": {},
   "outputs": [
    {
     "name": "stdout",
     "output_type": "stream",
     "text": [
      "CPU times: user 15 µs, sys: 0 ns, total: 15 µs\n",
      "Wall time: 16.7 µs\n"
     ]
    },
    {
     "data": {
      "text/plain": [
       "False"
      ]
     },
     "execution_count": 5,
     "metadata": {},
     "output_type": "execute_result"
    }
   ],
   "source": [
    "# recursion\n",
    "def isPowerOfTwo4(n: int) -> bool:\n",
    "    if (n ==1):\n",
    "        return True\n",
    "    if (n % 2 != 0) or (n <= 0):\n",
    "        return False\n",
    "    return isPowerOfTwo(n/2)\n",
    "\n",
    "%time isPowerOfTwo4(n)"
   ]
  }
 ],
 "metadata": {
  "kernelspec": {
   "display_name": "Python 3",
   "language": "python",
   "name": "python3"
  },
  "language_info": {
   "codemirror_mode": {
    "name": "ipython",
    "version": 3
   },
   "file_extension": ".py",
   "mimetype": "text/x-python",
   "name": "python",
   "nbconvert_exporter": "python",
   "pygments_lexer": "ipython3",
   "version": "3.6.7"
  }
 },
 "nbformat": 4,
 "nbformat_minor": 2
}
