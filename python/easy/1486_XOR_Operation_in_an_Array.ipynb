{
 "cells": [
  {
   "cell_type": "code",
   "execution_count": 1,
   "id": "03b38f17",
   "metadata": {},
   "outputs": [],
   "source": [
    "n = 10\n",
    "start = 5"
   ]
  },
  {
   "cell_type": "code",
   "execution_count": 3,
   "id": "065ee530",
   "metadata": {},
   "outputs": [
    {
     "name": "stdout",
     "output_type": "stream",
     "text": [
      "CPU times: user 12 µs, sys: 1 µs, total: 13 µs\n",
      "Wall time: 18.4 µs\n"
     ]
    },
    {
     "data": {
      "text/plain": [
       "2"
      ]
     },
     "execution_count": 3,
     "metadata": {},
     "output_type": "execute_result"
    }
   ],
   "source": [
    "# my answer\n",
    "def xorOperation(n: int, start: int) -> int:\n",
    "    ret = 0\n",
    "    for i in range(n):\n",
    "        ret ^= start + 2*i\n",
    "    return ret\n",
    "\n",
    "%time xorOperation(n, start)"
   ]
  },
  {
   "cell_type": "code",
   "execution_count": null,
   "id": "9c7c4b70",
   "metadata": {},
   "outputs": [],
   "source": []
  }
 ],
 "metadata": {
  "kernelspec": {
   "display_name": "Python 3 (ipykernel)",
   "language": "python",
   "name": "python3"
  },
  "language_info": {
   "codemirror_mode": {
    "name": "ipython",
    "version": 3
   },
   "file_extension": ".py",
   "mimetype": "text/x-python",
   "name": "python",
   "nbconvert_exporter": "python",
   "pygments_lexer": "ipython3",
   "version": "3.8.10"
  }
 },
 "nbformat": 4,
 "nbformat_minor": 5
}
