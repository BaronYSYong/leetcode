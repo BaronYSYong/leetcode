{
 "cells": [
  {
   "cell_type": "code",
   "execution_count": 1,
   "id": "f017dd0c",
   "metadata": {},
   "outputs": [
    {
     "data": {
      "text/html": [
       "<style>.container { width:100% !important; }</style>"
      ],
      "text/plain": [
       "<IPython.core.display.HTML object>"
      ]
     },
     "metadata": {},
     "output_type": "display_data"
    }
   ],
   "source": [
    "from IPython.display import display, HTML\n",
    "display(HTML(\"<style>.container { width:100% !important; }</style>\"))"
   ]
  },
  {
   "cell_type": "markdown",
   "id": "f210d431",
   "metadata": {},
   "source": [
    "# 278. First Bad Version\n",
    "You are a product manager and currently leading a team to develop a new product. Unfortunately, the latest version of your product fails the quality check. Since each version is developed based on the previous version, all the versions after a bad version are also bad.\n",
    "\n",
    "Suppose you have n versions [1, 2, ..., n] and you want to find out the first bad one, which causes all the following ones to be bad.\n",
    "\n",
    "You are given an API bool isBadVersion(version) which will return whether version is bad. Implement a function to find the first bad version. You should minimize the number of calls to the API.\n",
    "\n",
    "Example:\n",
    "```\n",
    "Given n = 5, and version = 4 is the first bad version.\n",
    "\n",
    "call isBadVersion(3) -> false\n",
    "call isBadVersion(5) -> true\n",
    "call isBadVersion(4) -> true\n",
    "\n",
    "Then 4 is the first bad version. \n",
    "```"
   ]
  },
  {
   "cell_type": "code",
   "execution_count": 2,
   "id": "14dc5ced",
   "metadata": {},
   "outputs": [],
   "source": [
    "n = 3\n",
    "bad_version = 1"
   ]
  },
  {
   "cell_type": "code",
   "execution_count": 3,
   "id": "e36096d6",
   "metadata": {},
   "outputs": [],
   "source": [
    "def isBadVersion(version):\n",
    "    return bad_version <= version "
   ]
  },
  {
   "cell_type": "code",
   "execution_count": 4,
   "id": "eb980887",
   "metadata": {},
   "outputs": [
    {
     "name": "stdout",
     "output_type": "stream",
     "text": [
      "CPU times: user 6 µs, sys: 0 ns, total: 6 µs\n",
      "Wall time: 8.58 µs\n"
     ]
    },
    {
     "data": {
      "text/plain": [
       "1"
      ]
     },
     "execution_count": 4,
     "metadata": {},
     "output_type": "execute_result"
    }
   ],
   "source": [
    "def firstBadVersion(n):\n",
    "    \"\"\"\n",
    "    :type n: int\n",
    "    :rtype: int\n",
    "    \"\"\"\n",
    "    def getMiddleNumber(min_value, max_value):\n",
    "        return (min_value + max_value) // 2\n",
    "\n",
    "    max_value = n\n",
    "    min_value = 0\n",
    "    version = getMiddleNumber(min_value, max_value)\n",
    "\n",
    "    while True:\n",
    "        if isBadVersion(version):\n",
    "            max_value = version\n",
    "        else:\n",
    "            min_value = version\n",
    "        version = getMiddleNumber(min_value, max_value)\n",
    "        if version == min_value:\n",
    "            return max_value\n",
    "%time firstBadVersion(n)"
   ]
  },
  {
   "cell_type": "code",
   "execution_count": 5,
   "id": "983e5690",
   "metadata": {},
   "outputs": [
    {
     "name": "stdout",
     "output_type": "stream",
     "text": [
      "CPU times: user 5 µs, sys: 1 µs, total: 6 µs\n",
      "Wall time: 7.63 µs\n"
     ]
    },
    {
     "data": {
      "text/plain": [
       "1"
      ]
     },
     "execution_count": 5,
     "metadata": {},
     "output_type": "execute_result"
    }
   ],
   "source": [
    "def firstBadVersion2(n):\n",
    "    \"\"\"\n",
    "    :type n: int\n",
    "    :rtype: int\n",
    "    \"\"\"\n",
    "    left = 1\n",
    "    right = n\n",
    "    while left < right:\n",
    "      mid = left + (right - left) // 2\n",
    "      if isBadVersion(mid):\n",
    "        right = mid\n",
    "      else:\n",
    "        left = mid + 1\n",
    "    return left\n",
    "%time firstBadVersion2(n)"
   ]
  },
  {
   "cell_type": "code",
   "execution_count": null,
   "id": "115b1df4",
   "metadata": {},
   "outputs": [],
   "source": []
  }
 ],
 "metadata": {
  "kernelspec": {
   "display_name": "Python 3 (ipykernel)",
   "language": "python",
   "name": "python3"
  },
  "language_info": {
   "codemirror_mode": {
    "name": "ipython",
    "version": 3
   },
   "file_extension": ".py",
   "mimetype": "text/x-python",
   "name": "python",
   "nbconvert_exporter": "python",
   "pygments_lexer": "ipython3",
   "version": "3.8.10"
  }
 },
 "nbformat": 4,
 "nbformat_minor": 5
}
