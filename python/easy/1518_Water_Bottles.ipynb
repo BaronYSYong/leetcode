{
 "cells": [
  {
   "cell_type": "code",
   "execution_count": 1,
   "id": "94ad754f",
   "metadata": {},
   "outputs": [],
   "source": [
    "# 13\n",
    "# numBottles = 9; numExchange = 3\n",
    "# 19\n",
    "# numBottles = 15; numExchange = 4\n",
    "# 6\n",
    "# numBottles = 5; numExchange = 5\n",
    "# 2\n",
    "numBottles = 2; numExchange = 3"
   ]
  },
  {
   "cell_type": "code",
   "execution_count": 2,
   "id": "d7f723fe",
   "metadata": {},
   "outputs": [
    {
     "name": "stdout",
     "output_type": "stream",
     "text": [
      "CPU times: user 5 µs, sys: 1 µs, total: 6 µs\n",
      "Wall time: 8.58 µs\n"
     ]
    },
    {
     "data": {
      "text/plain": [
       "2"
      ]
     },
     "execution_count": 2,
     "metadata": {},
     "output_type": "execute_result"
    }
   ],
   "source": [
    "class Solution:\n",
    "    def numWaterBottles(self, numBottles: int, numExchange: int) -> int:\n",
    "        empty_bottles = numBottles%numExchange\n",
    "        full = int(numBottles/numExchange)\n",
    "        total_bottles = empty_bottles + full\n",
    "        count = numBottles + full\n",
    "\n",
    "        while int(total_bottles/numExchange) > 0:\n",
    "            full = int(total_bottles/numExchange)\n",
    "            empty_bottles = total_bottles%numExchange\n",
    "            total_bottles = empty_bottles + full\n",
    "            count += full\n",
    "\n",
    "        return count\n",
    "\n",
    "solution = Solution()\n",
    "%time solution.numWaterBottles(numBottles, numExchange)"
   ]
  }
 ],
 "metadata": {
  "kernelspec": {
   "display_name": "Python 3 (ipykernel)",
   "language": "python",
   "name": "python3"
  },
  "language_info": {
   "codemirror_mode": {
    "name": "ipython",
    "version": 3
   },
   "file_extension": ".py",
   "mimetype": "text/x-python",
   "name": "python",
   "nbconvert_exporter": "python",
   "pygments_lexer": "ipython3",
   "version": "3.8.10"
  }
 },
 "nbformat": 4,
 "nbformat_minor": 5
}
