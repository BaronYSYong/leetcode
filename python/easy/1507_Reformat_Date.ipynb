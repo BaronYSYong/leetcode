{
 "cells": [
  {
   "cell_type": "code",
   "execution_count": 1,
   "id": "9074a88f",
   "metadata": {},
   "outputs": [],
   "source": [
    "# date = \"20th Oct 2052\"\n",
    "# date = \"6th Jun 1933\"\n",
    "date = \"26th May 1960\""
   ]
  },
  {
   "cell_type": "code",
   "execution_count": 2,
   "id": "ac6a80a0",
   "metadata": {},
   "outputs": [
    {
     "name": "stdout",
     "output_type": "stream",
     "text": [
      "CPU times: user 11 µs, sys: 1e+03 ns, total: 12 µs\n",
      "Wall time: 15.7 µs\n"
     ]
    },
    {
     "data": {
      "text/plain": [
       "'1960-05-26'"
      ]
     },
     "execution_count": 2,
     "metadata": {},
     "output_type": "execute_result"
    }
   ],
   "source": [
    "# my answer\n",
    "class Solution:\n",
    "    def reformatDate(self, date: str) -> str:\n",
    "        month = {\"Jan\": \"01\", \n",
    "                 \"Feb\": \"02\", \n",
    "                 \"Mar\": \"03\", \n",
    "                 \"Apr\": \"04\", \n",
    "                 \"May\": \"05\", \n",
    "                 \"Jun\": \"06\", \n",
    "                 \"Jul\": \"07\", \n",
    "                 \"Aug\": \"08\", \n",
    "                 \"Sep\": \"09\", \n",
    "                 \"Oct\": \"10\", \n",
    "                 \"Nov\": \"11\", \n",
    "                 \"Dec\": \"12\"}\n",
    "        \n",
    "        dmy = date.split(\" \")\n",
    "        yyyy = dmy[2]\n",
    "        mm = month[dmy[1]]\n",
    "        dd = dmy[0][:-2]\n",
    "        if len(dd) < 2:\n",
    "            dd = \"0\"+dd\n",
    "        return \"-\".join([yyyy, mm, dd])\n",
    "        \n",
    "solution = Solution()\n",
    "%time solution.reformatDate(date)"
   ]
  },
  {
   "cell_type": "code",
   "execution_count": 3,
   "id": "26dc2e6f",
   "metadata": {},
   "outputs": [],
   "source": [
    "# 1st answer\n",
    "class Solution(object):\n",
    "    def reformatDate(self, date):\n",
    "        A = []\n",
    "        d, m, y = date.split()\n",
    "        A.append(y)\n",
    "        MONTHS = \"Jan\", \"Feb\", \"Mar\", \"Apr\", \"May\", \"Jun\", \"Jul\", \"Aug\", \"Sep\", \"Oct\", \"Nov\", \"Dec\"\n",
    "        i = MONTHS.index(m)\n",
    "        i += 1\n",
    "        i = str(i).zfill(2)\n",
    "        A.append(i)\n",
    "        j = \"\".join(c for c in d if c.isdigit())\n",
    "        j = j.zfill(2)\n",
    "        A.append(j)\n",
    "        return \"-\".join(A)"
   ]
  },
  {
   "cell_type": "code",
   "execution_count": null,
   "id": "8a9faf72",
   "metadata": {},
   "outputs": [],
   "source": []
  }
 ],
 "metadata": {
  "kernelspec": {
   "display_name": "Python 3 (ipykernel)",
   "language": "python",
   "name": "python3"
  },
  "language_info": {
   "codemirror_mode": {
    "name": "ipython",
    "version": 3
   },
   "file_extension": ".py",
   "mimetype": "text/x-python",
   "name": "python",
   "nbconvert_exporter": "python",
   "pygments_lexer": "ipython3",
   "version": "3.8.10"
  }
 },
 "nbformat": 4,
 "nbformat_minor": 5
}
