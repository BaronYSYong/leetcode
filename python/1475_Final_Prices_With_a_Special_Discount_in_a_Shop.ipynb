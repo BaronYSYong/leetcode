{
 "cells": [
  {
   "cell_type": "code",
   "execution_count": 1,
   "id": "fdf8f5a8",
   "metadata": {},
   "outputs": [],
   "source": [
    "from typing import List"
   ]
  },
  {
   "cell_type": "code",
   "execution_count": 2,
   "id": "d4201e94",
   "metadata": {},
   "outputs": [],
   "source": [
    "# prices = [8,4,6,2,3]\n",
    "# prices = [1,2,3,4,5]\n",
    "# prices = [10,1,1,6]"
   ]
  },
  {
   "cell_type": "code",
   "execution_count": 3,
   "id": "3a6b8420",
   "metadata": {},
   "outputs": [],
   "source": [
    "# my answer\n",
    "class Solution:\n",
    "    def finalPrices(self, prices: List[int]) -> List[int]:\n",
    "        new_prices = prices\n",
    "        for i in range(len(prices)-1):\n",
    "            for j in range(1, len(prices)-i):\n",
    "                if prices[i] >= prices[i+j]:\n",
    "                    new_prices[i] = prices[i] - prices[i+j]\n",
    "                    break\n",
    "                elif j >= len(prices)-1:\n",
    "                    new_prices[i] = prices[i]\n",
    "                else:\n",
    "                    continue\n",
    "            \n",
    "        return new_prices"
   ]
  },
  {
   "cell_type": "code",
   "execution_count": 4,
   "id": "2f527dc0",
   "metadata": {},
   "outputs": [],
   "source": [
    "# place 8\n",
    "class Solution:\n",
    "    def finalPrices(self, p: List[int]) -> List[int]:\n",
    "        n = len(p)\n",
    "        a = [0] * n\n",
    "        for i in range(n):\n",
    "            a[i] = p[i]\n",
    "            for j in range(i + 1, n):\n",
    "                if p[j] <= p[i]:\n",
    "                    a[i] = p[i] - p[j]\n",
    "                    break\n",
    "        return a"
   ]
  },
  {
   "cell_type": "code",
   "execution_count": null,
   "id": "9dcfb34f",
   "metadata": {},
   "outputs": [],
   "source": []
  }
 ],
 "metadata": {
  "kernelspec": {
   "display_name": "Python 3 (ipykernel)",
   "language": "python",
   "name": "python3"
  },
  "language_info": {
   "codemirror_mode": {
    "name": "ipython",
    "version": 3
   },
   "file_extension": ".py",
   "mimetype": "text/x-python",
   "name": "python",
   "nbconvert_exporter": "python",
   "pygments_lexer": "ipython3",
   "version": "3.8.10"
  }
 },
 "nbformat": 4,
 "nbformat_minor": 5
}
