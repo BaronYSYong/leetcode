{
 "cells": [
  {
   "cell_type": "code",
   "execution_count": null,
   "metadata": {},
   "outputs": [],
   "source": []
  },
  {
   "cell_type": "code",
   "execution_count": 1,
   "metadata": {},
   "outputs": [],
   "source": [
    "# salary = [4000,3000,1000,2000]\n",
    "# salary = [1000,2000,3000]\n",
    "# salary = [6000,5000,4000,3000,2000,1000]\n",
    "salary = [8000,9000,2000,3000,6000,1000]"
   ]
  },
  {
   "cell_type": "code",
   "execution_count": 2,
   "metadata": {},
   "outputs": [
    {
     "data": {
      "text/plain": [
       "4750.0"
      ]
     },
     "execution_count": 2,
     "metadata": {},
     "output_type": "execute_result"
    }
   ],
   "source": [
    "(sum(salary) - min(salary) - max(salary))/(len(salary)-2)"
   ]
  },
  {
   "cell_type": "code",
   "execution_count": 3,
   "metadata": {},
   "outputs": [],
   "source": [
    "# n = 12\n",
    "# k = 3\n",
    "# n = 7\n",
    "# k = 2\n",
    "# n = 4\n",
    "# k = 4\n",
    "# n = 1\n",
    "# k = 1\n",
    "n = 1000\n",
    "k = 3"
   ]
  },
  {
   "cell_type": "code",
   "execution_count": 4,
   "metadata": {},
   "outputs": [
    {
     "data": {
      "text/plain": [
       "4"
      ]
     },
     "execution_count": 4,
     "metadata": {},
     "output_type": "execute_result"
    }
   ],
   "source": [
    "class Solution:\n",
    "    def kthFactor(self, n: int, k: int) -> int:\n",
    "        factor_list = []\n",
    "        for i in range(1, n+1):\n",
    "            if n % i == 0:\n",
    "                factor_list.append(i)\n",
    "\n",
    "        if len(factor_list) >= k:\n",
    "            return factor_list[k-1]\n",
    "        else:\n",
    "            return -1\n",
    "solution = Solution()\n",
    "solution.kthFactor(n, k)"
   ]
  },
  {
   "cell_type": "code",
   "execution_count": 23,
   "metadata": {},
   "outputs": [],
   "source": [
    "from typing import List"
   ]
  },
  {
   "cell_type": "code",
   "execution_count": 40,
   "metadata": {},
   "outputs": [],
   "source": [
    "# 3\n",
    "# nums = [1,1,0,1]\n",
    "# 5\n",
    "# nums = [0,1,1,1,0,1,1,0,1]\n",
    "# 2\n",
    "# nums = [1,1,1]\n",
    "# 4\n",
    "# nums = [1,1,0,0,1,1,1,0,1]\n",
    "# 0 \n",
    "# nums = [0,0,0]\n",
    "# 1\n",
    "# nums = [0,0,1,0]\n",
    "# 2\n",
    "nums = [0,0,1,1]"
   ]
  },
  {
   "cell_type": "code",
   "execution_count": 41,
   "metadata": {},
   "outputs": [
    {
     "name": "stdout",
     "output_type": "stream",
     "text": [
      "[0, 0, 2]\n"
     ]
    },
    {
     "data": {
      "text/plain": [
       "2"
      ]
     },
     "execution_count": 41,
     "metadata": {},
     "output_type": "execute_result"
    }
   ],
   "source": [
    "class Solution:\n",
    "    def longestSubarray(self, nums: List[int]) -> int:\n",
    "        if sum(nums) == 0:\n",
    "            return 0\n",
    "\n",
    "        subarray = []\n",
    "        count = 0\n",
    "        for num in nums:\n",
    "            if num == 0:\n",
    "                subarray.append(count)\n",
    "                count = 0\n",
    "            else:\n",
    "                count += num\n",
    "        subarray.append(count)\n",
    "        \n",
    "        print(subarray)\n",
    "\n",
    "        if len(subarray) <= 1:\n",
    "            return subarray[0]-1\n",
    "\n",
    "        max_sub = 0\n",
    "        for i in range(len(subarray)-1):\n",
    "            if subarray[i] != 0:\n",
    "                max_sub = max(max_sub, subarray[i]+subarray[i+1])\n",
    "        return max(max_sub, subarray[-1])\n",
    "    \n",
    "solution = Solution()\n",
    "solution.longestSubarray(nums)"
   ]
  },
  {
   "cell_type": "code",
   "execution_count": 95,
   "metadata": {},
   "outputs": [],
   "source": [
    "# n = 4\n",
    "# dependencies = [[2,1],[3,1],[1,4]]\n",
    "# k = 2\n",
    "\n",
    "# n = 5\n",
    "# dependencies = [[2,1],[3,1],[4,1],[1,5]]\n",
    "# k = 2\n",
    "\n",
    "# n = 11\n",
    "# dependencies = []\n",
    "# k = 2\n",
    "\n",
    "n = 4\n",
    "dependencies = [[1,2],[4,2]]\n",
    "k = 1"
   ]
  },
  {
   "cell_type": "code",
   "execution_count": 101,
   "metadata": {},
   "outputs": [
    {
     "name": "stdout",
     "output_type": "stream",
     "text": [
      "[0, 2, 0, 0, 2]\n",
      "[[1, 2], [2], [3], [4, 2]]\n",
      "[[1, 4], [2, 2]]\n",
      "[0, 1, 1, 0, 1]\n"
     ]
    },
    {
     "data": {
      "text/plain": [
       "3"
      ]
     },
     "execution_count": 101,
     "metadata": {},
     "output_type": "execute_result"
    }
   ],
   "source": [
    "# my answer, worng answer\n",
    "import math\n",
    "\n",
    "class Solution:\n",
    "    def minNumberOfSemesters(self, n: int, dependencies: List[List[int]], k: int) -> int:\n",
    "        if len(dependencies) < 1:\n",
    "            return math.ceil(n/k)\n",
    "        \n",
    "        course = [0 for _ in range(n+1)]\n",
    "        for d in dependencies:\n",
    "            course[d[0]] = d[1]\n",
    "        print(course)\n",
    "        graphs = []\n",
    "        free_course = []\n",
    "        graph_len = []\n",
    "        for i in range(1, len(course)):\n",
    "            graph = [i]\n",
    "            j = course[i]\n",
    "            while True:\n",
    "                if j == 0:\n",
    "                    break\n",
    "                graph.append(j)\n",
    "                j = course[j]\n",
    "            graphs.append(graph)\n",
    "            graph_len.append(len(graph))\n",
    "        print(graphs)\n",
    "        max_graph_len = max(graph_len)\n",
    "        course_path = [[] for _ in range(max_graph_len)]\n",
    "        for g in graphs:\n",
    "            if len(g) != max_graph_len:\n",
    "                continue\n",
    "            for i in range(max_graph_len):\n",
    "                course_path[i].append(g[i])\n",
    "\n",
    "        min_semester = 0\n",
    "        course_taken = [0 for _ in range(n+1)]\n",
    "        for sem in course_path:\n",
    "            sem = set(sem)\n",
    "            min_semester += math.ceil(len(sem)/k)\n",
    "       \n",
    "        return min_semester\n",
    "\n",
    "solution = Solution()\n",
    "solution.minNumberOfSemesters(n, dependencies, k)"
   ]
  },
  {
   "cell_type": "code",
   "execution_count": null,
   "metadata": {},
   "outputs": [],
   "source": [
    "# 25th\n",
    "class Solution(object):\n",
    "    def minNumberOfSemesters(self, n, dependencies, k):\n",
    "        \"\"\"\n",
    "        :type n: int\n",
    "        :type dependencies: List[List[int]]\n",
    "        :type k: int\n",
    "        :rtype: int\n",
    "        \"\"\"\n",
    "        def length(c):\n",
    "            if c in lens: return lens[c]\n",
    "            if c not in deps:\n",
    "                return lens.setdefault(c, 1)\n",
    "            return lens.setdefault(c, max(length(dc) for dc in deps[c]) + 1)\n",
    "        lens = collections.defaultdict(int)\n",
    "        pres = collections.defaultdict(set)\n",
    "        deps = collections.defaultdict(set)\n",
    "        for c1, c2 in dependencies:\n",
    "            pres[c2].add(c1)\n",
    "            deps[c1].add(c2)\n",
    "        canSelect = [(-length(c), c) for c in xrange(1, n + 1) if c not in pres]\n",
    "        heapq.heapify(canSelect)\n",
    "        ans = 0\n",
    "        while canSelect:\n",
    "            ans += 1\n",
    "            select = []\n",
    "            for i in xrange(k):\n",
    "                if canSelect:\n",
    "                    select.append(heapq.heappop(canSelect)[1])\n",
    "            for c in select:\n",
    "                for dc in deps[c]:\n",
    "                    pres[dc].remove(c)\n",
    "                    if not pres[dc]:\n",
    "                        heapq.heappush(canSelect, (-length(dc), dc))\n",
    "        return ans"
   ]
  }
 ],
 "metadata": {
  "kernelspec": {
   "display_name": "Python 3",
   "language": "python",
   "name": "python3"
  },
  "language_info": {
   "codemirror_mode": {
    "name": "ipython",
    "version": 3
   },
   "file_extension": ".py",
   "mimetype": "text/x-python",
   "name": "python",
   "nbconvert_exporter": "python",
   "pygments_lexer": "ipython3",
   "version": "3.6.7"
  }
 },
 "nbformat": 4,
 "nbformat_minor": 2
}
