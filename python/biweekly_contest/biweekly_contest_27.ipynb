{
 "cells": [
  {
   "cell_type": "code",
   "execution_count": 1,
   "metadata": {},
   "outputs": [],
   "source": [
    "from typing import List"
   ]
  },
  {
   "cell_type": "markdown",
   "metadata": {},
   "source": [
    "# 1461. Check If a String Contains All Binary Codes of Size K"
   ]
  },
  {
   "cell_type": "code",
   "execution_count": 2,
   "metadata": {},
   "outputs": [],
   "source": [
    "s = \"00110110\"\n",
    "k = 2"
   ]
  },
  {
   "cell_type": "code",
   "execution_count": 3,
   "metadata": {},
   "outputs": [
    {
     "name": "stdout",
     "output_type": "stream",
     "text": [
      "CPU times: user 7 µs, sys: 1 µs, total: 8 µs\n",
      "Wall time: 9.3 µs\n"
     ]
    },
    {
     "data": {
      "text/plain": [
       "True"
      ]
     },
     "execution_count": 3,
     "metadata": {},
     "output_type": "execute_result"
    }
   ],
   "source": [
    "# my answer\n",
    "def hasAllCodes(s: str, k: int) -> bool:\n",
    "    max_binary = '1' * k\n",
    "    max_decimal = int(max_binary, 2)\n",
    "    for i in range(max_decimal+1):\n",
    "        bin_i = bin(i)[2:]\n",
    "        str_bin_i = '0'*(k-len(bin_i)) + bin_i\n",
    "        if str_bin_i not in s:\n",
    "            return False\n",
    "    return True\n",
    "%time hasAllCodes(s, k)"
   ]
  },
  {
   "cell_type": "code",
   "execution_count": 4,
   "metadata": {},
   "outputs": [
    {
     "name": "stdout",
     "output_type": "stream",
     "text": [
      "CPU times: user 9 µs, sys: 1 µs, total: 10 µs\n",
      "Wall time: 11.9 µs\n"
     ]
    },
    {
     "data": {
      "text/plain": [
       "True"
      ]
     },
     "execution_count": 4,
     "metadata": {},
     "output_type": "execute_result"
    }
   ],
   "source": [
    "# 2nd place\n",
    "def hasAllCodes2(s, k):\n",
    "    n = len(s)\n",
    "    seen = set()\n",
    "    for i in range(n - k + 1):\n",
    "        seen.add(s[i:i+k])\n",
    "    return len(seen) == 2 ** k\n",
    "%time hasAllCodes2(s, k)"
   ]
  },
  {
   "cell_type": "markdown",
   "metadata": {},
   "source": [
    "# 1462. Course Schedule IV\n",
    "There are a total of n courses you have to take, labeled from 0 to n-1.\n",
    "\n",
    "Some courses may have direct prerequisites, for example, to take course 0 you have first to take course 1, which is expressed as a pair: [1,0]\n",
    "\n",
    "Given the total number of courses n, a list of direct prerequisite pairs and a list of queries pairs.\n",
    "\n",
    "You should answer for each queries[i] whether the course queries[i][0] is a prerequisite of the course queries[i][1] or not.\n",
    "\n",
    "Return a list of boolean, the answers to the given queries.\n",
    "\n",
    "Please note that if course a is a prerequisite of course b and course b is a prerequisite of course c, then, course a is a prerequisite of course c.\n",
    "\n",
    " \n",
    "\n",
    "Example 1:\n",
    "```\n",
    "Input: n = 2, prerequisites = [[1,0]], queries = [[0,1],[1,0]]\n",
    "Output: [false,true]\n",
    "Explanation: course 0 is not a prerequisite of course 1 but the opposite is true.\n",
    "```\n",
    "Example 2:\n",
    "```\n",
    "Input: n = 2, prerequisites = [], queries = [[1,0],[0,1]]\n",
    "Output: [false,false]\n",
    "Explanation: There are no prerequisites and each course is independent.\n",
    "```\n",
    "Example 3:\n",
    "```\n",
    "Input: n = 3, prerequisites = [[1,2],[1,0],[2,0]], queries = [[1,0],[1,2]]\n",
    "Output: [true,true]\n",
    "```\n",
    "Example 4:\n",
    "```\n",
    "Input: n = 3, prerequisites = [[1,0],[2,0]], queries = [[0,1],[2,0]]\n",
    "Output: [false,true]\n",
    "```\n",
    "Example 5:\n",
    "```\n",
    "Input: n = 5, prerequisites = [[0,1],[1,2],[2,3],[3,4]], queries = [[0,4],[4,0],[1,3],[3,0]]\n",
    "Output: [true,false,true,false]\n",
    "```\n",
    "Constraints:\n",
    "* 2 <= n <= 100\n",
    "* 0 <= prerequisite.length <= (n * (n - 1) / 2)\n",
    "* 0 <= prerequisite[i][0], prerequisite[i][1] < n\n",
    "* prerequisite[i][0] != prerequisite[i][1]\n",
    "* The prerequisites graph has no cycles.\n",
    "* The prerequisites graph has no repeated edges.\n",
    "* 1 <= queries.length <= 10^4\n",
    "* queries[i][0] != queries[i][1]"
   ]
  },
  {
   "cell_type": "code",
   "execution_count": 5,
   "metadata": {},
   "outputs": [],
   "source": [
    "# [true,true,true,false,false,false]\n",
    "n = 4\n",
    "prerequisites = [[2,3],[2,1],[0,3],[0,1]]\n",
    "queries = [[0,1],[0,3],[2,3],[3,0],[2,0],[0,2]]"
   ]
  },
  {
   "cell_type": "code",
   "execution_count": 6,
   "metadata": {},
   "outputs": [
    {
     "name": "stdout",
     "output_type": "stream",
     "text": [
      "[2, 0, 1, 3]\n",
      "CPU times: user 506 µs, sys: 2 µs, total: 508 µs\n",
      "Wall time: 466 µs\n"
     ]
    },
    {
     "data": {
      "text/plain": [
       "[True, True, True, False, True, False]"
      ]
     },
     "execution_count": 6,
     "metadata": {},
     "output_type": "execute_result"
    }
   ],
   "source": [
    "# my answer, wrong answer\n",
    "def checkIfPrerequisite(n: int, prerequisites: List[List[int]], queries: List[List[int]]) -> List[bool]:\n",
    "    if len(prerequisites) < 1:\n",
    "        return [False] * len(queries)\n",
    "\n",
    "    graph = [[] for _ in range(n)]\n",
    "    for pre in prerequisites:\n",
    "        graph[pre[0]].append(pre[1])\n",
    "\n",
    "    def dfs_sort(v, visited, stack, graph):\n",
    "        visited[v] = True\n",
    "\n",
    "        for i in graph[v]:\n",
    "            if visited[i] == False:\n",
    "                dfs_sort(i, visited, stack, graph)\n",
    "        stack.insert(0, v)\n",
    "\n",
    "    visited = [False] * n\n",
    "    stack = []\n",
    "\n",
    "    for i in range(n):\n",
    "        if visited[i] == False:\n",
    "            dfs_sort(i, visited, stack, graph)\n",
    "\n",
    "    output = []\n",
    "    for q in queries:\n",
    "        if stack.index(q[0]) < stack.index(q[1]):\n",
    "            output.append(True)\n",
    "        else:\n",
    "            output.append(False)\n",
    "\n",
    "    print(stack)\n",
    "    return output\n",
    "\n",
    "%time checkIfPrerequisite(n, prerequisites, queries)"
   ]
  },
  {
   "cell_type": "code",
   "execution_count": 7,
   "metadata": {},
   "outputs": [
    {
     "name": "stdout",
     "output_type": "stream",
     "text": [
      "CPU times: user 14 µs, sys: 0 ns, total: 14 µs\n",
      "Wall time: 16.9 µs\n"
     ]
    },
    {
     "data": {
      "text/plain": [
       "[True, True, True, False, False, False]"
      ]
     },
     "execution_count": 7,
     "metadata": {},
     "output_type": "execute_result"
    }
   ],
   "source": [
    "# 2nd place\n",
    "def checkIfPrerequisite2(n, prerequisites, queries):\n",
    "    \"\"\"\n",
    "    :type n: int\n",
    "    :type prerequisites: List[List[int]]\n",
    "    :type queries: List[List[int]]\n",
    "    :rtype: List[bool]\n",
    "    \"\"\"\n",
    "    graph = [[] for _ in range(n)]\n",
    "    for u, v in prerequisites:\n",
    "        # need u to do v\n",
    "        graph[u].append(v)\n",
    "\n",
    "    ans = []\n",
    "    for qs, qt in queries:\n",
    "        stack = [qs]\n",
    "        seen = {qs}\n",
    "        while stack:\n",
    "            node = stack.pop()\n",
    "            if node == qt:\n",
    "                ans.append(True)\n",
    "                break\n",
    "            for nei in graph[node]:\n",
    "                if nei not in seen:\n",
    "                    stack.append(nei)\n",
    "                    seen.add(nei)\n",
    "        else:\n",
    "            ans.append(False)\n",
    "    return ans\n",
    "%time checkIfPrerequisite2(n, prerequisites, queries)"
   ]
  },
  {
   "cell_type": "markdown",
   "metadata": {},
   "source": [
    "# 5411. Cherry Pickup II\n",
    "\n",
    "Given a rows x cols matrix grid representing a field of cherries. Each cell in grid represents the number of cherries that you can collect.\n",
    "\n",
    "You have two robots that can collect cherries for you, Robot #1 is located at the top-left corner (0,0) , and Robot #2 is located at the top-right corner (0, cols-1) of the grid.\n",
    "\n",
    "Return the maximum number of cherries collection using both robots  by following the rules below:\n",
    "\n",
    "From a cell (i,j), robots can move to cell (i+1, j-1) , (i+1, j) or (i+1, j+1).\n",
    "When any robot is passing through a cell, It picks it up all cherries, and the cell becomes an empty cell (0).\n",
    "When both robots stay on the same cell, only one of them takes the cherries.\n",
    "Both robots cannot move outside of the grid at any moment.\n",
    "Both robots should reach the bottom row in the grid.\n",
    " \n",
    "\n",
    "Example 1:\n",
    "```\n",
    "Input: grid = [[3,1,1],[2,5,1],[1,5,5],[2,1,1]]\n",
    "Output: 24\n",
    "Explanation: Path of robot #1 and #2 are described in color green and blue respectively.\n",
    "Cherries taken by Robot #1, (3 + 2 + 5 + 2) = 12.\n",
    "Cherries taken by Robot #2, (1 + 5 + 5 + 1) = 12.\n",
    "Total of cherries: 12 + 12 = 24.\n",
    "```\n",
    "Example 2:\n",
    "```\n",
    "Input: grid = [[1,0,0,0,0,0,1],[2,0,0,0,0,3,0],[2,0,9,0,0,0,0],[0,3,0,5,4,0,0],[1,0,2,3,0,0,6]]\n",
    "Output: 28\n",
    "Explanation: Path of robot #1 and #2 are described in color green and blue respectively.\n",
    "Cherries taken by Robot #1, (1 + 9 + 5 + 2) = 17.\n",
    "Cherries taken by Robot #2, (1 + 3 + 4 + 3) = 11.\n",
    "Total of cherries: 17 + 11 = 28.\n",
    "```\n",
    "Example 3:\n",
    "```\n",
    "Input: grid = [[1,0,0,3],[0,0,0,3],[0,0,3,3],[9,0,3,3]]\n",
    "Output: 22\n",
    "```\n",
    "Example 4:\n",
    "```\n",
    "Input: grid = [[1,1],[1,1]]\n",
    "Output: 4\n",
    "``` \n",
    "\n",
    "Constraints:\n",
    "\n",
    "* rows == grid.length\n",
    "* cols == grid[i].length\n",
    "* 2 <= rows, cols <= 70\n",
    "* 0 <= grid[i][j] <= 100 "
   ]
  },
  {
   "cell_type": "code",
   "execution_count": 8,
   "metadata": {},
   "outputs": [],
   "source": [
    "class Solution:\n",
    "    def cherryPickup(self, A):\n",
    "        R, C=len(A), len(A[0])\n",
    "        from functools import lru_cache\n",
    "        @lru_cache(None)\n",
    "        def dp(r,c1,c2):\n",
    "            if r == R: return 0\n",
    "            ans = 0\n",
    "            for d1 in (-1, 0, 1):\n",
    "                c1new = c1 + d1\n",
    "                if 0 <= c1new < C:\n",
    "                    for d2 in (-1, 0, 1):\n",
    "                        c2new = c2 + d2\n",
    "                        if 0 <= c2new < C:\n",
    "                            ans = max(ans, dp(r+1, c1new, c2new))\n",
    "            base = A[r][c1]\n",
    "            if c1 != c2:\n",
    "                base += A[r][c2]\n",
    "            return ans + base\n",
    "        \n",
    "        return dp(0,0,C-1)"
   ]
  }
 ],
 "metadata": {
  "kernelspec": {
   "display_name": "Python 3",
   "language": "python",
   "name": "python3"
  },
  "language_info": {
   "codemirror_mode": {
    "name": "ipython",
    "version": 3
   },
   "file_extension": ".py",
   "mimetype": "text/x-python",
   "name": "python",
   "nbconvert_exporter": "python",
   "pygments_lexer": "ipython3",
   "version": "3.6.7"
  }
 },
 "nbformat": 4,
 "nbformat_minor": 2
}
