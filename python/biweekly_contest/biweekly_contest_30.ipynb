{
 "cells": [
  {
   "cell_type": "markdown",
   "metadata": {},
   "source": [
    "# 1507. Reformat Date"
   ]
  },
  {
   "cell_type": "code",
   "execution_count": 1,
   "metadata": {},
   "outputs": [],
   "source": [
    "# date = \"20th Oct 2052\"\n",
    "# date = \"6th Jun 1933\"\n",
    "date = \"26th May 1960\""
   ]
  },
  {
   "cell_type": "code",
   "execution_count": 2,
   "metadata": {},
   "outputs": [
    {
     "name": "stdout",
     "output_type": "stream",
     "text": [
      "CPU times: user 6 µs, sys: 0 ns, total: 6 µs\n",
      "Wall time: 8.11 µs\n"
     ]
    },
    {
     "data": {
      "text/plain": [
       "'1960-05-26'"
      ]
     },
     "execution_count": 2,
     "metadata": {},
     "output_type": "execute_result"
    }
   ],
   "source": [
    "# my answer\n",
    "class Solution:\n",
    "    def reformatDate(self, date: str) -> str:\n",
    "        month = {\"Jan\": \"01\", \n",
    "                 \"Feb\": \"02\", \n",
    "                 \"Mar\": \"03\", \n",
    "                 \"Apr\": \"04\", \n",
    "                 \"May\": \"05\", \n",
    "                 \"Jun\": \"06\", \n",
    "                 \"Jul\": \"07\", \n",
    "                 \"Aug\": \"08\", \n",
    "                 \"Sep\": \"09\", \n",
    "                 \"Oct\": \"10\", \n",
    "                 \"Nov\": \"11\", \n",
    "                 \"Dec\": \"12\"}\n",
    "        \n",
    "        dmy = date.split(\" \")\n",
    "        yyyy = dmy[2]\n",
    "        mm = month[dmy[1]]\n",
    "        dd = dmy[0][:-2]\n",
    "        if len(dd) < 2:\n",
    "            dd = \"0\"+dd\n",
    "        return \"-\".join([yyyy, mm, dd])\n",
    "        \n",
    "solution = Solution()\n",
    "%time solution.reformatDate(date)"
   ]
  },
  {
   "cell_type": "code",
   "execution_count": 3,
   "metadata": {},
   "outputs": [],
   "source": [
    "# 1st answer\n",
    "class Solution(object):\n",
    "    def reformatDate(self, date):\n",
    "        A = []\n",
    "        d, m, y = date.split()\n",
    "        A.append(y)\n",
    "        MONTHS = \"Jan\", \"Feb\", \"Mar\", \"Apr\", \"May\", \"Jun\", \"Jul\", \"Aug\", \"Sep\", \"Oct\", \"Nov\", \"Dec\"\n",
    "        i = MONTHS.index(m)\n",
    "        i += 1\n",
    "        i = str(i).zfill(2)\n",
    "        A.append(i)\n",
    "        j = \"\".join(c for c in d if c.isdigit())\n",
    "        j = j.zfill(2)\n",
    "        A.append(j)\n",
    "        return \"-\".join(A)"
   ]
  },
  {
   "cell_type": "markdown",
   "metadata": {},
   "source": [
    "# 1508. Range Sum of Sorted Subarray Sums"
   ]
  },
  {
   "cell_type": "code",
   "execution_count": 4,
   "metadata": {},
   "outputs": [],
   "source": [
    "from typing import List"
   ]
  },
  {
   "cell_type": "code",
   "execution_count": 5,
   "metadata": {},
   "outputs": [],
   "source": [
    "# 13\n",
    "# nums = [1,2,3,4]; n = 4; left = 1; right = 5\n",
    "# 6\n",
    "# nums = [1,2,3,4]; n = 4; left = 3; right = 4\n",
    "# 50\n",
    "nums = [1,2,3,4]; n = 4; left = 1; right = 10"
   ]
  },
  {
   "cell_type": "code",
   "execution_count": 6,
   "metadata": {},
   "outputs": [
    {
     "name": "stdout",
     "output_type": "stream",
     "text": [
      "CPU times: user 8 µs, sys: 0 ns, total: 8 µs\n",
      "Wall time: 10.5 µs\n"
     ]
    },
    {
     "data": {
      "text/plain": [
       "50"
      ]
     },
     "execution_count": 6,
     "metadata": {},
     "output_type": "execute_result"
    }
   ],
   "source": [
    "# my asnwer\n",
    "class Solution:\n",
    "    def rangeSum(self, nums: List[int], n: int, left: int, right: int) -> int:\n",
    "        arr = []\n",
    "        for i in range(n):\n",
    "            sums = 0\n",
    "            for j in range(i, n):\n",
    "                sums += nums[j]\n",
    "                arr.append(sums)\n",
    "        arr.sort()\n",
    "        return sum(arr[left-1:right]) % (10**9 + 7)\n",
    "    \n",
    "solution = Solution()\n",
    "%time solution.rangeSum(nums, n, left, right)"
   ]
  },
  {
   "cell_type": "code",
   "execution_count": 7,
   "metadata": {},
   "outputs": [],
   "source": [
    "# 1st answer\n",
    "class Solution(object):\n",
    "    def rangeSum(self, A, N, left, right):\n",
    "        MOD = 10 ** 9 + 7\n",
    "        B = []\n",
    "        P = [0]\n",
    "        for x in A:\n",
    "            P.append(P[-1] + x)\n",
    "            P[-1] %= MOD\n",
    "        for i, x in enumerate(P):\n",
    "            for j in xrange(i+1, len(P)):\n",
    "                s = P[j] - x\n",
    "                B.append(s)\n",
    "        B.sort()\n",
    "        P = [0]\n",
    "        for x in B:\n",
    "            P.append(P[-1] + x)\n",
    "            P[-1] %= MOD\n",
    "        ans = P[right ] - P[left - 1]\n",
    "        return ans % MOD"
   ]
  },
  {
   "cell_type": "markdown",
   "metadata": {},
   "source": [
    "# 5446. Minimum Difference Between Largest and Smallest Value in Three Moves\n",
    "\n",
    "Given an array nums, you are allowed to choose one element of nums and change it by any value in one move.\n",
    "\n",
    "Return the minimum difference between the largest and smallest value of nums after perfoming at most 3 moves.\n",
    "\n",
    " \n",
    "\n",
    "Example 1:\n",
    "```\n",
    "Input: nums = [5,3,2,4]\n",
    "Output: 0\n",
    "Explanation: Change the array [5,3,2,4] to [2,2,2,2].\n",
    "The difference between the maximum and minimum is 2-2 = 0.\n",
    "```\n",
    "Example 2:\n",
    "```\n",
    "Input: nums = [1,5,0,10,14]\n",
    "Output: 1\n",
    "Explanation: Change the array [1,5,0,10,14] to [1,1,0,1,1]. \n",
    "The difference between the maximum and minimum is 1-0 = 1.\n",
    "```\n",
    "Example 3:\n",
    "```\n",
    "Input: nums = [6,6,0,1,1,4,6]\n",
    "Output: 2\n",
    "```\n",
    "Example 4:\n",
    "```\n",
    "Input: nums = [1,5,6,14,15]\n",
    "Output: 1\n",
    "```\n",
    "\n",
    "Constraints:\n",
    "\n",
    "* 1 <= nums.length <= 10^5\n",
    "* -10^9 <= nums[i] <= 10^9"
   ]
  },
  {
   "cell_type": "code",
   "execution_count": 8,
   "metadata": {},
   "outputs": [],
   "source": [
    "# 0\n",
    "# nums = [5,3,2,4]\n",
    "# 1\n",
    "# nums = [1,5,0,10,14]\n",
    "# 2\n",
    "# nums = [6,6,0,1,1,4,6]\n",
    "# 1\n",
    "# nums = [1,5,6,14,15]\n",
    "# 0\n",
    "# nums = [1,3]\n",
    "# 1\n",
    "nums = [82,81,95,75,20]"
   ]
  },
  {
   "cell_type": "code",
   "execution_count": 9,
   "metadata": {},
   "outputs": [
    {
     "name": "stdout",
     "output_type": "stream",
     "text": [
      "CPU times: user 6 µs, sys: 0 ns, total: 6 µs\n",
      "Wall time: 8.11 µs\n"
     ]
    },
    {
     "data": {
      "text/plain": [
       "13"
      ]
     },
     "execution_count": 9,
     "metadata": {},
     "output_type": "execute_result"
    }
   ],
   "source": [
    "# my answer, wrong answer\n",
    "class Solution:\n",
    "    def minDifference(self, nums: List[int]) -> int:\n",
    "        if len(nums) < 4:\n",
    "            return 0\n",
    "        nums.sort(reverse=True)\n",
    "        min_diff = nums[3] - nums[-1]\n",
    "        min_diff = min(min_diff, nums[0]-nums[-4])\n",
    "        return min_diff\n",
    "    \n",
    "solution = Solution()\n",
    "%time solution.minDifference(nums)"
   ]
  },
  {
   "cell_type": "code",
   "execution_count": 10,
   "metadata": {},
   "outputs": [
    {
     "name": "stdout",
     "output_type": "stream",
     "text": [
      "CPU times: user 9 µs, sys: 0 ns, total: 9 µs\n",
      "Wall time: 12.6 µs\n"
     ]
    },
    {
     "data": {
      "text/plain": [
       "1"
      ]
     },
     "execution_count": 10,
     "metadata": {},
     "output_type": "execute_result"
    }
   ],
   "source": [
    "# 1st answer\n",
    "class Solution(object):\n",
    "    def minDifference(self, A):\n",
    "        A.sort()\n",
    "        N = len(A)\n",
    "        \n",
    "        if N <= 3: return 0\n",
    "        take = N - 3\n",
    "        return min(A[i+take - 1] - A[i] for i in range(N - take + 1))\n",
    "    \n",
    "solution = Solution()\n",
    "%time solution.minDifference(nums)"
   ]
  },
  {
   "cell_type": "markdown",
   "metadata": {},
   "source": [
    "# 5447. Stone Game IV\n",
    "\n",
    "Alice and Bob take turns playing a game, with Alice starting first.\n",
    "\n",
    "Initially, there are n stones in a pile.  On each player's turn, that player makes a move consisting of removing any non-zero square number of stones in the pile.\n",
    "\n",
    "Also, if a player cannot make a move, he/she loses the game.\n",
    "\n",
    "Given a positive integer n. Return True if and only if Alice wins the game otherwise return False, assuming both players play optimally.\n",
    "\n",
    " \n",
    "\n",
    "Example 1:\n",
    "```\n",
    "Input: n = 1\n",
    "Output: true\n",
    "Explanation: Alice can remove 1 stone winning the game because Bob doesn't have any moves.\n",
    "```\n",
    "Example 2:\n",
    "```\n",
    "Input: n = 2\n",
    "Output: false\n",
    "Explanation: Alice can only remove 1 stone, after that Bob removes the last one winning the game (2 -> 1 -> 0).\n",
    "```\n",
    "Example 3:\n",
    "```\n",
    "Input: n = 4\n",
    "Output: true\n",
    "Explanation: n is already a perfect square, Alice can win with one move, removing 4 stones (4 -> 0).\n",
    "```\n",
    "Example 4:\n",
    "```\n",
    "Input: n = 7\n",
    "Output: false\n",
    "Explanation: Alice can't win the game if Bob plays optimally.\n",
    "If Alice starts removing 4 stones, Bob will remove 1 stone then Alice should remove only 1 stone and finally Bob removes the last one (7 -> 3 -> 2 -> 1 -> 0). \n",
    "If Alice starts removing 1 stone, Bob will remove 4 stones then Alice only can remove 1 stone and finally Bob removes the last one (7 -> 6 -> 2 -> 1 -> 0).\n",
    "```\n",
    "Example 5:\n",
    "```\n",
    "Input: n = 17\n",
    "Output: false\n",
    "Explanation: Alice can't win the game if Bob plays optimally.\n",
    "```\n",
    " \n",
    "\n",
    "Constraints:\n",
    "\n",
    "* 1 <= n <= 10^5"
   ]
  },
  {
   "cell_type": "code",
   "execution_count": 11,
   "metadata": {},
   "outputs": [],
   "source": [
    "# True\n",
    "n = 1\n",
    "# False\n",
    "# n = 2\n",
    "# True\n",
    "# n = 4\n",
    "# False\n",
    "# n = 7\n",
    "# False\n",
    "# n = 17\n",
    "# False\n",
    "# n = 15\n",
    "# True\n",
    "n = 8"
   ]
  },
  {
   "cell_type": "code",
   "execution_count": 12,
   "metadata": {},
   "outputs": [
    {
     "name": "stdout",
     "output_type": "stream",
     "text": [
      "[4, 4]\n",
      "CPU times: user 627 µs, sys: 45 µs, total: 672 µs\n",
      "Wall time: 451 µs\n"
     ]
    },
    {
     "data": {
      "text/plain": [
       "False"
      ]
     },
     "execution_count": 12,
     "metadata": {},
     "output_type": "execute_result"
    }
   ],
   "source": [
    "# my answer, wrong answer\n",
    "class Solution:\n",
    "    def winnerSquareGame(self, n: int) -> bool:\n",
    "        moves = []\n",
    "        while n > 0:\n",
    "            if int(n**0.5)**2 <= n:\n",
    "                a = int(n**(0.5))**2\n",
    "            else:\n",
    "                a = 1\n",
    "            moves.append(a)\n",
    "            n -= a\n",
    "        print(moves)\n",
    "        if len(moves) % 2 == 0:\n",
    "            return False\n",
    "        else:\n",
    "            return True\n",
    "        \n",
    "\n",
    "solution = Solution()\n",
    "%time solution.winnerSquareGame(n)"
   ]
  },
  {
   "cell_type": "code",
   "execution_count": 13,
   "metadata": {},
   "outputs": [
    {
     "name": "stdout",
     "output_type": "stream",
     "text": [
      "CPU times: user 15 µs, sys: 0 ns, total: 15 µs\n",
      "Wall time: 18.1 µs\n"
     ]
    },
    {
     "data": {
      "text/plain": [
       "True"
      ]
     },
     "execution_count": 13,
     "metadata": {},
     "output_type": "execute_result"
    }
   ],
   "source": [
    "# 1st answer\n",
    "class Solution(object):\n",
    "    def winnerSquareGame(self, n):\n",
    "        dp = [False, True, False]\n",
    "        for x in range(3, n+1):\n",
    "            dp.append(False)\n",
    "            for y in range(1, n*n):\n",
    "                a = x - y * y\n",
    "                if a < 0: break\n",
    "                if not dp[a]:\n",
    "                    dp[x] = True\n",
    "                    break\n",
    "        return dp[n]\n",
    "\n",
    "solution = Solution()\n",
    "%time solution.winnerSquareGame(n)"
   ]
  },
  {
   "cell_type": "code",
   "execution_count": null,
   "metadata": {},
   "outputs": [],
   "source": []
  }
 ],
 "metadata": {
  "kernelspec": {
   "display_name": "Python 3",
   "language": "python",
   "name": "python3"
  },
  "language_info": {
   "codemirror_mode": {
    "name": "ipython",
    "version": 3
   },
   "file_extension": ".py",
   "mimetype": "text/x-python",
   "name": "python",
   "nbconvert_exporter": "python",
   "pygments_lexer": "ipython3",
   "version": "3.6.7"
  }
 },
 "nbformat": 4,
 "nbformat_minor": 2
}
