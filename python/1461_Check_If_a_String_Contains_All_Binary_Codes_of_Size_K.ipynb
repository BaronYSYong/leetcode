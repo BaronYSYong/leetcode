{
 "cells": [
  {
   "cell_type": "code",
   "execution_count": 1,
   "id": "2164fce0",
   "metadata": {},
   "outputs": [],
   "source": [
    "s = \"00110110\"\n",
    "k = 2"
   ]
  },
  {
   "cell_type": "code",
   "execution_count": 2,
   "id": "dfba55dd",
   "metadata": {},
   "outputs": [
    {
     "name": "stdout",
     "output_type": "stream",
     "text": [
      "CPU times: user 26 µs, sys: 3 µs, total: 29 µs\n",
      "Wall time: 36 µs\n"
     ]
    },
    {
     "data": {
      "text/plain": [
       "True"
      ]
     },
     "execution_count": 2,
     "metadata": {},
     "output_type": "execute_result"
    }
   ],
   "source": [
    "# my answer\n",
    "def hasAllCodes(s: str, k: int) -> bool:\n",
    "    max_binary = '1' * k\n",
    "    max_decimal = int(max_binary, 2)\n",
    "    for i in range(max_decimal+1):\n",
    "        bin_i = bin(i)[2:]\n",
    "        str_bin_i = '0'*(k-len(bin_i)) + bin_i\n",
    "        if str_bin_i not in s:\n",
    "            return False\n",
    "    return True\n",
    "%time hasAllCodes(s, k)"
   ]
  },
  {
   "cell_type": "code",
   "execution_count": 3,
   "id": "f0ceca7b",
   "metadata": {},
   "outputs": [
    {
     "name": "stdout",
     "output_type": "stream",
     "text": [
      "CPU times: user 36 µs, sys: 5 µs, total: 41 µs\n",
      "Wall time: 50.1 µs\n"
     ]
    },
    {
     "data": {
      "text/plain": [
       "True"
      ]
     },
     "execution_count": 3,
     "metadata": {},
     "output_type": "execute_result"
    }
   ],
   "source": [
    "# 2nd place\n",
    "def hasAllCodes2(s, k):\n",
    "    n = len(s)\n",
    "    seen = set()\n",
    "    for i in range(n - k + 1):\n",
    "        seen.add(s[i:i+k])\n",
    "    return len(seen) == 2 ** k\n",
    "%time hasAllCodes2(s, k)"
   ]
  },
  {
   "cell_type": "code",
   "execution_count": null,
   "id": "cb00dc60",
   "metadata": {},
   "outputs": [],
   "source": []
  }
 ],
 "metadata": {
  "kernelspec": {
   "display_name": "Python 3 (ipykernel)",
   "language": "python",
   "name": "python3"
  },
  "language_info": {
   "codemirror_mode": {
    "name": "ipython",
    "version": 3
   },
   "file_extension": ".py",
   "mimetype": "text/x-python",
   "name": "python",
   "nbconvert_exporter": "python",
   "pygments_lexer": "ipython3",
   "version": "3.8.10"
  }
 },
 "nbformat": 4,
 "nbformat_minor": 5
}
