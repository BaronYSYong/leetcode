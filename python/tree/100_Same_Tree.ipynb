{
 "cells": [
  {
   "cell_type": "markdown",
   "metadata": {},
   "source": [
    "# Same Tree\n",
    "\n",
    "Given two binary trees, write a function to check if they are the same or not.\n",
    "\n",
    "Two binary trees are considered the same if they are structurally identical and the nodes have the same value.\n",
    "\n",
    "Example 1:\n",
    "```\n",
    "Input:     1         1\n",
    "          / \\       / \\\n",
    "         2   3     2   3\n",
    "\n",
    "        [1,2,3],   [1,2,3]\n",
    "\n",
    "Output: true\n",
    "```\n",
    "Example 2:\n",
    "```\n",
    "Input:     1         1\n",
    "          /           \\\n",
    "         2             2\n",
    "\n",
    "        [1,2],     [1,null,2]\n",
    "\n",
    "Output: false\n",
    "```\n",
    "Example 3:\n",
    "```\n",
    "Input:     1         1\n",
    "          / \\       / \\\n",
    "         2   1     1   2\n",
    "\n",
    "        [1,2,1],   [1,1,2]\n",
    "\n",
    "Output: false\n",
    "```"
   ]
  },
  {
   "cell_type": "markdown",
   "metadata": {},
   "source": [
    "## Reference\n",
    "* https://leetcode.com/articles/same-tree/"
   ]
  },
  {
   "cell_type": "code",
   "execution_count": 1,
   "metadata": {},
   "outputs": [],
   "source": [
    "# Definition for a binary tree node.\n",
    "class TreeNode:\n",
    "    def __init__(self, val=0, left=None, right=None):\n",
    "        self.val = val\n",
    "        self.left = left\n",
    "        self.right = right"
   ]
  },
  {
   "cell_type": "code",
   "execution_count": 2,
   "metadata": {},
   "outputs": [],
   "source": [
    "# my answer, 44ms, 13.8MB\n",
    "class Solution:\n",
    "    def isSameTree(self, p: TreeNode, q: TreeNode) -> bool:\n",
    "\n",
    "        def treenode2list(node, node_list):\n",
    "            if node is not None:\n",
    "                node_list.append(node.val)\n",
    "                if node.left is not None:\n",
    "                    treenode2list(node.left, node_list)\n",
    "                else: \n",
    "                    node_list.append(None)\n",
    "                    \n",
    "                if node.right is not None:   \n",
    "                    treenode2list(node.right, node_list)\n",
    "                else:\n",
    "                    node_list.append(None)\n",
    "                return node_list\n",
    "            else:\n",
    "                return node_list\n",
    "        \n",
    "        p_list = []\n",
    "        p_list = treenode2list(p, p_list)\n",
    "        \n",
    "        q_list = []\n",
    "        q_list = treenode2list(q, q_list)\n",
    "        \n",
    "        return p_list == q_list"
   ]
  },
  {
   "cell_type": "code",
   "execution_count": 3,
   "metadata": {},
   "outputs": [],
   "source": [
    "# fastest, 8ms\n",
    "class Solution:\n",
    "    def isSameTree(self, p: TreeNode, q: TreeNode) -> bool:\n",
    "        if not p and not q:\n",
    "            return True\n",
    "        if not p or not q:\n",
    "            return False\n",
    "        \n",
    "        return p.val == q.val and self.isSameTree(p.left, q.left) and self.isSameTree(p.right, q.right)"
   ]
  },
  {
   "cell_type": "code",
   "execution_count": 4,
   "metadata": {},
   "outputs": [],
   "source": [
    "# least memory, 13.496MB\n",
    "class Solution:\n",
    "    def isSameTree(self, p: TreeNode, q: TreeNode) -> bool:\n",
    "        return self.helper(p,q)\n",
    "        \n",
    "    def helper(self, p, q):\n",
    "        if p is None and q is None:\n",
    "            return True\n",
    "        if p is None or q is None:\n",
    "            return False\n",
    "            \n",
    "        if p.val == q.val:\n",
    "            return self.helper(p.left, q.left) and self.helper(p.right, q.right)\n",
    "        else:\n",
    "            return False"
   ]
  }
 ],
 "metadata": {
  "kernelspec": {
   "display_name": "Python 3",
   "language": "python",
   "name": "python3"
  },
  "language_info": {
   "codemirror_mode": {
    "name": "ipython",
    "version": 3
   },
   "file_extension": ".py",
   "mimetype": "text/x-python",
   "name": "python",
   "nbconvert_exporter": "python",
   "pygments_lexer": "ipython3",
   "version": "3.6.7"
  }
 },
 "nbformat": 4,
 "nbformat_minor": 2
}
