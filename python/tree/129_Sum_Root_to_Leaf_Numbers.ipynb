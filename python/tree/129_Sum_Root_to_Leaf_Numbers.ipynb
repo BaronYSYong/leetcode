{
 "cells": [
  {
   "cell_type": "markdown",
   "metadata": {},
   "source": [
    "# Sum Root to Leaf Numbers\n",
    "\n",
    "Given a binary tree containing digits from 0-9 only, each root-to-leaf path could represent a number.\n",
    "\n",
    "An example is the root-to-leaf path 1->2->3 which represents the number 123.\n",
    "\n",
    "Find the total sum of all root-to-leaf numbers.\n",
    "\n",
    "Note: A leaf is a node with no children.\n",
    "\n",
    "Example:\n",
    "```\n",
    "Input: [1,2,3]\n",
    "    1\n",
    "   / \\\n",
    "  2   3\n",
    "Output: 25\n",
    "Explanation:\n",
    "The root-to-leaf path 1->2 represents the number 12.\n",
    "The root-to-leaf path 1->3 represents the number 13.\n",
    "Therefore, sum = 12 + 13 = 25.\n",
    "```\n",
    "Example 2:\n",
    "```\n",
    "Input: [4,9,0,5,1]\n",
    "    4\n",
    "   / \\\n",
    "  9   0\n",
    " / \\\n",
    "5   1\n",
    "Output: 1026\n",
    "Explanation:\n",
    "The root-to-leaf path 4->9->5 represents the number 495.\n",
    "The root-to-leaf path 4->9->1 represents the number 491.\n",
    "The root-to-leaf path 4->0 represents the number 40.\n",
    "Therefore, sum = 495 + 491 + 40 = 1026.\n",
    "```"
   ]
  },
  {
   "cell_type": "code",
   "execution_count": 1,
   "metadata": {},
   "outputs": [],
   "source": [
    "# Definition for a binary tree node.\n",
    "class TreeNode:\n",
    "    def __init__(self, val=0, left=None, right=None):\n",
    "        self.val = val\n",
    "        self.left = left\n",
    "        self.right = right"
   ]
  },
  {
   "cell_type": "code",
   "execution_count": 2,
   "metadata": {},
   "outputs": [],
   "source": [
    "# my answer, 28ms, 14.2MB\n",
    "class Solution:\n",
    "    def sumNumbers(self, root: TreeNode) -> int:\n",
    "        if root is None:\n",
    "            return 0\n",
    "        \n",
    "        self.number_list = []\n",
    "        number = ''\n",
    "        \n",
    "        def root_to_leaf_number(node, number):\n",
    "            number += str(node.val)\n",
    "            if isinstance(node.left, TreeNode):\n",
    "                root_to_leaf_number(node.left, number)\n",
    "            if isinstance(node.right, TreeNode):\n",
    "                root_to_leaf_number(node.right, number)\n",
    "            if not isinstance(node.left, TreeNode) and not isinstance(node.right, TreeNode):\n",
    "                self.number_list.append(int(number))\n",
    "                return\n",
    "        \n",
    "        root_to_leaf_number(root, number)\n",
    "        return sum(self.number_list)"
   ]
  },
  {
   "cell_type": "code",
   "execution_count": 3,
   "metadata": {},
   "outputs": [],
   "source": [
    "# fastest answer, 16ms\n",
    "class Solution:\n",
    "    def sumNumbers(self, root: TreeNode) -> int:\n",
    "        result = [0]\n",
    "        cr = [0]\n",
    "        def traverse(node):\n",
    "            if node.left is None and node.right is None:\n",
    "                result[0] += cr[0]*10 + node.val\n",
    "                return\n",
    "            cr[0] = cr[0]*10 + node.val\n",
    "            if node.left is not None:\n",
    "                traverse(node.left)\n",
    "            if node.right is not None:\n",
    "                traverse(node.right)\n",
    "            cr[0] = cr[0]//10\n",
    "        if root is not None:\n",
    "            traverse(root)\n",
    "        return result[0]"
   ]
  },
  {
   "cell_type": "code",
   "execution_count": 4,
   "metadata": {},
   "outputs": [],
   "source": [
    "# least memory answer, 13.632MB\n",
    "class Solution:\n",
    "    def sumNumbers(self, root: TreeNode) -> int:\n",
    "        \n",
    "        def dfs(root, path):\n",
    "            if not root:\n",
    "                return\n",
    "            \n",
    "            if not root.left and not root.right:\n",
    "                self.sum += int(path+str(root.val))\n",
    "            \n",
    "            dfs(root.left, path + str(root.val))\n",
    "            dfs(root.right, path+ str(root.val))\n",
    "            \n",
    "        \n",
    "        self.sum = 0\n",
    "        dfs(root, '')\n",
    "        return self.sum"
   ]
  }
 ],
 "metadata": {
  "kernelspec": {
   "display_name": "Python 3",
   "language": "python",
   "name": "python3"
  },
  "language_info": {
   "codemirror_mode": {
    "name": "ipython",
    "version": 3
   },
   "file_extension": ".py",
   "mimetype": "text/x-python",
   "name": "python",
   "nbconvert_exporter": "python",
   "pygments_lexer": "ipython3",
   "version": "3.6.7"
  }
 },
 "nbformat": 4,
 "nbformat_minor": 2
}
