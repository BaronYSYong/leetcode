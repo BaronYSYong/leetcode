{
 "cells": [
  {
   "cell_type": "markdown",
   "metadata": {},
   "source": [
    "# Construct Binary Tree from Inorder and Postorder Traversal\n",
    "\n",
    "Given inorder and postorder traversal of a tree, construct the binary tree.\n",
    "\n",
    "Note:\n",
    "You may assume that duplicates do not exist in the tree.\n",
    "\n",
    "For example, given\n",
    "```\n",
    "inorder = [9,3,15,20,7]\n",
    "postorder = [9,15,7,20,3]\n",
    "```\n",
    "Return the following binary tree:\n",
    "```\n",
    "    3\n",
    "   / \\\n",
    "  9  20\n",
    "    /  \\\n",
    "   15   7\n",
    "```"
   ]
  },
  {
   "cell_type": "markdown",
   "metadata": {},
   "source": [
    "## Reference\n",
    "* https://www.youtube.com/watch?v=bw0o6v1lQYs"
   ]
  },
  {
   "cell_type": "code",
   "execution_count": 1,
   "metadata": {},
   "outputs": [],
   "source": [
    "inorder = [9,3,15,20,7]\n",
    "postorder = [9,15,7,20,3]"
   ]
  },
  {
   "cell_type": "code",
   "execution_count": 2,
   "metadata": {},
   "outputs": [],
   "source": [
    "from typing import List"
   ]
  },
  {
   "cell_type": "code",
   "execution_count": 3,
   "metadata": {},
   "outputs": [],
   "source": [
    "# Definition for a binary tree node.\n",
    "class TreeNode:\n",
    "    def __init__(self, val=0, left=None, right=None):\n",
    "        self.val = val\n",
    "        self.left = left\n",
    "        self.right = right"
   ]
  },
  {
   "cell_type": "code",
   "execution_count": 4,
   "metadata": {},
   "outputs": [
    {
     "name": "stdout",
     "output_type": "stream",
     "text": [
      "CPU times: user 13 µs, sys: 1e+03 ns, total: 14 µs\n",
      "Wall time: 15.3 µs\n"
     ]
    },
    {
     "data": {
      "text/plain": [
       "<__main__.TreeNode at 0x7f54f82af2b0>"
      ]
     },
     "execution_count": 4,
     "metadata": {},
     "output_type": "execute_result"
    }
   ],
   "source": [
    "# answer in https://www.youtube.com/watch?v=bw0o6v1lQYs, 140ms, 18.3 MB\n",
    "class Solution:\n",
    "    def buildTree(self, inorder: List[int], postorder: List[int]) -> TreeNode:\n",
    "        n = len(inorder)\n",
    "        if n == 0:\n",
    "            return None\n",
    "        self.inorder = inorder\n",
    "        self.postorder = postorder\n",
    "        return self.buildTree_rec(0, n, 0, n)\n",
    "    \n",
    "    def buildTree_rec(self, i1, i2, p1, p2):\n",
    "        if i1 >= i2 or p1 >= p2:\n",
    "            return None\n",
    "        root = TreeNode(self.postorder[p2-1])\n",
    "        it = self.inorder.index(self.postorder[p2-1])\n",
    "        diff = it - i1\n",
    "        root.left = self.buildTree_rec(i1, i1+diff, p1, p1+diff)\n",
    "        root.right = self.buildTree_rec(i1+diff+1, i2, p1+diff, p2-1)\n",
    "        \n",
    "        return root\n",
    "solution = Solution()\n",
    "%time solution.buildTree(inorder, postorder)"
   ]
  },
  {
   "cell_type": "code",
   "execution_count": 5,
   "metadata": {},
   "outputs": [
    {
     "name": "stdout",
     "output_type": "stream",
     "text": [
      "CPU times: user 17 µs, sys: 1 µs, total: 18 µs\n",
      "Wall time: 20.3 µs\n"
     ]
    },
    {
     "data": {
      "text/plain": [
       "<__main__.TreeNode at 0x7f54f82bf4e0>"
      ]
     },
     "execution_count": 5,
     "metadata": {},
     "output_type": "execute_result"
    }
   ],
   "source": [
    "# fastest, 36 ms\n",
    "class Solution:\n",
    "    def buildTree(self, inorder: List[int], postorder: List[int]) -> TreeNode:\n",
    "        if len(postorder) == 0:\n",
    "            return None\n",
    "        head = TreeNode(postorder[-1])\n",
    "        stack = [head]\n",
    "        i = len(postorder)-2     \n",
    "        j = len(postorder)-1          \n",
    "        while i>=0:\n",
    "            temp=None\n",
    "            t = TreeNode(postorder[i])\n",
    "            while stack and stack[-1].val==inorder[j]:\n",
    "                temp=stack.pop()\n",
    "                j-=1\n",
    "            if temp:\n",
    "                temp.left=t\n",
    "            else:\n",
    "                stack[-1].right=t\n",
    "            stack.append(t)\n",
    "            i-=1\n",
    "        return head\n",
    "solution = Solution()\n",
    "%time solution.buildTree(inorder, postorder)"
   ]
  },
  {
   "cell_type": "code",
   "execution_count": 6,
   "metadata": {},
   "outputs": [
    {
     "name": "stdout",
     "output_type": "stream",
     "text": [
      "CPU times: user 30 µs, sys: 0 ns, total: 30 µs\n",
      "Wall time: 34.3 µs\n"
     ]
    },
    {
     "data": {
      "text/plain": [
       "<__main__.TreeNode at 0x7f54f82bfbe0>"
      ]
     },
     "execution_count": 6,
     "metadata": {},
     "output_type": "execute_result"
    }
   ],
   "source": [
    "# least memory, 17.196 MB\n",
    "class Solution:\n",
    "    def buildTree(self, inorder: List[int], postorder: List[int]) -> TreeNode:\n",
    "        # same solution to the issue...\n",
    "        if not inorder or not postorder:\n",
    "            return None\n",
    "        \n",
    "        cache  = {}\n",
    "        for idx, val in enumerate(inorder):\n",
    "            cache[val] = idx\n",
    "        \n",
    "        \n",
    "        root = TreeNode(postorder[-1])\n",
    "        s = []\n",
    "        s.append(root)\n",
    "        \n",
    "        \n",
    "        for i in range(len(postorder) - 2, -1, -1):\n",
    "            \n",
    "            node = TreeNode(postorder[i])\n",
    "            \n",
    "            if s and cache[node.val] > cache[s[-1].val]:\n",
    "                s[-1].right = node\n",
    "            else:\n",
    "                parent = None\n",
    "                while s and cache[node.val] < cache[s[-1].val]:\n",
    "                    parent = s.pop()\n",
    "                parent.left = node\n",
    "            s.append(node)\n",
    "        return root\n",
    "solution = Solution()\n",
    "%time solution.buildTree(inorder, postorder)"
   ]
  },
  {
   "cell_type": "code",
   "execution_count": null,
   "metadata": {},
   "outputs": [],
   "source": []
  }
 ],
 "metadata": {
  "kernelspec": {
   "display_name": "Python 3",
   "language": "python",
   "name": "python3"
  },
  "language_info": {
   "codemirror_mode": {
    "name": "ipython",
    "version": 3
   },
   "file_extension": ".py",
   "mimetype": "text/x-python",
   "name": "python",
   "nbconvert_exporter": "python",
   "pygments_lexer": "ipython3",
   "version": "3.6.7"
  }
 },
 "nbformat": 4,
 "nbformat_minor": 2
}
