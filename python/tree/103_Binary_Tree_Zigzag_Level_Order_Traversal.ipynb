{
 "cells": [
  {
   "cell_type": "markdown",
   "metadata": {},
   "source": [
    "# Binary Tree Zigzag Level Order Traversal\n",
    "\n",
    "Given a binary tree, return the zigzag level order traversal of its nodes' values. (ie, from left to right, then right to left for the next level and alternate between).\n",
    "\n",
    "For example:\n",
    "Given binary tree [3,9,20,null,null,15,7],\n",
    "```\n",
    "    3\n",
    "   / \\\n",
    "  9  20\n",
    "    /  \\\n",
    "   15   7\n",
    "   ```\n",
    "return its zigzag level order traversal as:\n",
    "```\n",
    "[\n",
    "  [3],\n",
    "  [20,9],\n",
    "  [15,7]\n",
    "]\n",
    "```"
   ]
  },
  {
   "cell_type": "markdown",
   "metadata": {},
   "source": [
    "## Reference\n",
    "* https://www.youtube.com/watch?v=MipyMdBrnVQ"
   ]
  },
  {
   "cell_type": "code",
   "execution_count": 1,
   "metadata": {},
   "outputs": [],
   "source": [
    "from typing import List"
   ]
  },
  {
   "cell_type": "code",
   "execution_count": 2,
   "metadata": {},
   "outputs": [],
   "source": [
    "# Definition for a binary tree node.\n",
    "class TreeNode:\n",
    "    def __init__(self, val=0, left=None, right=None):\n",
    "        self.val = val\n",
    "        self.left = left\n",
    "        self.right = right"
   ]
  },
  {
   "cell_type": "code",
   "execution_count": 3,
   "metadata": {},
   "outputs": [],
   "source": [
    "# answer in https://www.youtube.com/watch?v=MipyMdBrnVQ, 60 ms, 14 MB\n",
    "class Solution:\n",
    "    def zigzagLevelOrder(self, root: TreeNode) -> List[List[int]]:\n",
    "        if root is None:\n",
    "            return None\n",
    "        \n",
    "        res = [[]]\n",
    "        level = 0\n",
    "        self.helper(root, level, res)\n",
    "        return res\n",
    "    \n",
    "    def helper(self, root, level, res):\n",
    "        if root is None:\n",
    "            return None\n",
    "        if len(res) < level + 1:\n",
    "            res.append([])\n",
    "            \n",
    "        if level % 2 == 1:\n",
    "            res[level].append(root.val)\n",
    "        else:\n",
    "            res[level].insert(0, root.val)\n",
    "        \n",
    "        self.helper(root.right, level+1, res)\n",
    "        self.helper(root.left, level+1, res)"
   ]
  },
  {
   "cell_type": "code",
   "execution_count": 4,
   "metadata": {},
   "outputs": [],
   "source": [
    "# fastest answer, 16 ms\n",
    "class Solution:\n",
    "    def zigzagLevelOrder(self, root: TreeNode) -> List[List[int]]:\n",
    "        q, res = [], []\n",
    "        if root != None:\n",
    "            q.append(root)\n",
    "        while len(q) > 0:\n",
    "            curLevel = []\n",
    "            for i in range(len(q)):\n",
    "                node = q.pop(0)\n",
    "                curLevel.append(node.val)\n",
    "                if node.left != None:\n",
    "                    q.append(node.left)\n",
    "                if node.right != None:\n",
    "                    q.append(node.right)\n",
    "            if len(res) % 2 != 0:\n",
    "                for j in range(len(curLevel)//2):\n",
    "                    curLevel[j], curLevel[len(curLevel)-1-j] = curLevel[len(curLevel)-1-j], curLevel[j]\n",
    "            res.append(curLevel)\n",
    "        return res"
   ]
  },
  {
   "cell_type": "code",
   "execution_count": 5,
   "metadata": {},
   "outputs": [],
   "source": [
    "class Solution:\n",
    "    def zigzagLevelOrder(self, root: TreeNode) -> List[List[int]]:\n",
    "    \n",
    "        # This is shaohus's solution using 2 deque for even level and odd level respectively\n",
    "        \n",
    "        if root is None:\n",
    "            return []\n",
    "        res=[]\n",
    "        e_nodes = collections.deque()\n",
    "        e_nodes.append(root)\n",
    "        o_nodes = collections.deque()\n",
    "        \n",
    "        def even(e_nodes):\n",
    "            output = []\n",
    "            while e_nodes:\n",
    "                node = e_nodes.pop()\n",
    "                output.append(node.val)\n",
    "                if node.left is not None:\n",
    "                    o_nodes.append(node.left)\n",
    "                if node.right is not None:\n",
    "                    o_nodes.append(node.right)\n",
    "                if len(e_nodes) == 0 and len(o_nodes) > 0:\n",
    "                    res.append(output)\n",
    "                    return odd(o_nodes)\n",
    "                if len(e_nodes) == 0 and len(o_nodes) == 0:\n",
    "                    res.append(output)\n",
    "                    return\n",
    "                          \n",
    "\n",
    "        def odd(o_nodes):\n",
    "            output = []\n",
    "            while o_nodes:\n",
    "                node = o_nodes.pop()\n",
    "                output.append(node.val)\n",
    "             \n",
    "                if node.right is not None:\n",
    "                    e_nodes.append(node.right)\n",
    "                if node.left is not None:\n",
    "                    e_nodes.append(node.left)\n",
    "                if len(o_nodes) == 0 and len(e_nodes) > 0:\n",
    "                    res.append(output)\n",
    "                    return even(e_nodes)\n",
    "                if len(o_nodes) == 0 and len(e_nodes) == 0:\n",
    "                    res.append(output)\n",
    "                    return\n",
    "                                \n",
    "        even(e_nodes)\n",
    "        return res"
   ]
  },
  {
   "cell_type": "code",
   "execution_count": null,
   "metadata": {},
   "outputs": [],
   "source": []
  }
 ],
 "metadata": {
  "kernelspec": {
   "display_name": "Python 3",
   "language": "python",
   "name": "python3"
  },
  "language_info": {
   "codemirror_mode": {
    "name": "ipython",
    "version": 3
   },
   "file_extension": ".py",
   "mimetype": "text/x-python",
   "name": "python",
   "nbconvert_exporter": "python",
   "pygments_lexer": "ipython3",
   "version": "3.6.7"
  }
 },
 "nbformat": 4,
 "nbformat_minor": 2
}
