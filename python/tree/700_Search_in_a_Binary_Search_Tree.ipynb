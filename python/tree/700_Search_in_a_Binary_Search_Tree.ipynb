{
 "cells": [
  {
   "cell_type": "markdown",
   "metadata": {},
   "source": [
    "# Search in a Binary Search Tree\n",
    "\n",
    "Given the root node of a binary search tree (BST) and a value. You need to find the node in the BST that the node's value equals the given value. Return the subtree rooted with that node. If such node doesn't exist, you should return NULL.\n",
    "\n",
    "For example, \n",
    "```\n",
    "Given the tree:\n",
    "        4\n",
    "       / \\\n",
    "      2   7\n",
    "     / \\\n",
    "    1   3\n",
    "\n",
    "And the value to search: 2\n",
    "```\n",
    "You should return this subtree:\n",
    "```\n",
    "      2     \n",
    "     / \\   \n",
    "    1   3\n",
    "```\n",
    "In the example above, if we want to search the value 5, since there is no node with value 5, we should return NULL.\n",
    "\n",
    "Note that an empty tree is represented by NULL, therefore you would see the expected output (serialized tree format) as [], not null."
   ]
  },
  {
   "cell_type": "code",
   "execution_count": 2,
   "metadata": {},
   "outputs": [],
   "source": [
    "# Definition for a binary tree node.\n",
    "class TreeNode:\n",
    "    def __init__(self, val=0, left=None, right=None):\n",
    "        self.val = val\n",
    "        self.left = left\n",
    "        self.right = right"
   ]
  },
  {
   "cell_type": "code",
   "execution_count": 3,
   "metadata": {},
   "outputs": [],
   "source": [
    "# my answer, beats 36.04% of python3 submissions\n",
    "class Solution:\n",
    "    def searchBST(self, root: TreeNode, val: int) -> TreeNode:\n",
    "        if root is None:\n",
    "            return None\n",
    "        elif root.val == val:\n",
    "            return root\n",
    "        elif root.val > val:\n",
    "            return self.searchBST(root.left, val)\n",
    "        elif root.val < val:\n",
    "            return self.searchBST(root.right, val)"
   ]
  },
  {
   "cell_type": "code",
   "execution_count": null,
   "metadata": {},
   "outputs": [],
   "source": [
    "# fastest answer\n",
    "class Solution:\n",
    "    def searchBST(self, root: TreeNode, val: int) -> TreeNode:\n",
    "        if not root: return\n",
    "        if root.val == val: return root\n",
    "        elif root.val > val: return self.searchBST(root.left,val)\n",
    "        else: return self.searchBST(root.right,val)"
   ]
  }
 ],
 "metadata": {
  "kernelspec": {
   "display_name": "Python 3",
   "language": "python",
   "name": "python3"
  },
  "language_info": {
   "codemirror_mode": {
    "name": "ipython",
    "version": 3
   },
   "file_extension": ".py",
   "mimetype": "text/x-python",
   "name": "python",
   "nbconvert_exporter": "python",
   "pygments_lexer": "ipython3",
   "version": "3.6.7"
  }
 },
 "nbformat": 4,
 "nbformat_minor": 2
}
