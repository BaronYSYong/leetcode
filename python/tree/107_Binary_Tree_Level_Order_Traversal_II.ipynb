{
 "cells": [
  {
   "cell_type": "markdown",
   "metadata": {},
   "source": [
    "# Binary Tree Level Order Traversal II\n",
    "\n",
    "Given a binary tree, return the bottom-up level order traversal of its nodes' values. (ie, from left to right, level by level from leaf to root).\n",
    "\n",
    "For example:\n",
    "Given binary tree [3,9,20,null,null,15,7],\n",
    "```\n",
    "    3\n",
    "   / \\\n",
    "  9  20\n",
    "    /  \\\n",
    "   15   7\n",
    "```\n",
    "return its bottom-up level order traversal as:\n",
    "```\n",
    "[\n",
    "  [15,7],\n",
    "  [9,20],\n",
    "  [3]\n",
    "]\n",
    "```"
   ]
  },
  {
   "cell_type": "code",
   "execution_count": 1,
   "metadata": {},
   "outputs": [],
   "source": [
    "from typing import List"
   ]
  },
  {
   "cell_type": "code",
   "execution_count": 2,
   "metadata": {},
   "outputs": [],
   "source": [
    "# Definition for a binary tree node.\n",
    "class TreeNode:\n",
    "    def __init__(self, val=0, left=None, right=None):\n",
    "        self.val = val\n",
    "        self.left = left\n",
    "        self.right = right"
   ]
  },
  {
   "cell_type": "code",
   "execution_count": 3,
   "metadata": {},
   "outputs": [],
   "source": [
    "# my answer, 40ms, 14.6MB\n",
    "class Solution:\n",
    "    def levelOrderBottom(self, root: TreeNode) -> List[List[int]]:\n",
    "        self.level_dict = {}\n",
    "        level = 0\n",
    "        \n",
    "        def layer_node(node, level):\n",
    "            level += 1\n",
    "            if node is not None:\n",
    "                if level not in self.level_dict:\n",
    "                    self.level_dict[level] = [node.val]\n",
    "                else:\n",
    "                    self.level_dict[level].append(node.val)\n",
    "                layer_node(node.left, level)\n",
    "                layer_node(node.right, level)\n",
    "            else: \n",
    "                return \n",
    "        \n",
    "        layer_node(root, level)\n",
    "        level_list = []\n",
    "        for i in range(len(self.level_dict), 0, -1):\n",
    "            level_list.append(self.level_dict[i])\n",
    "        \n",
    "        return level_list"
   ]
  },
  {
   "cell_type": "code",
   "execution_count": 4,
   "metadata": {},
   "outputs": [],
   "source": [
    "# fastest answer, 16ms\n",
    "class Solution:\n",
    "    def levelOrderBottom(self, root: TreeNode) -> List[List[int]]:\n",
    "        levels = []\n",
    "        if not root:\n",
    "            return levels\n",
    "        \n",
    "        def helper(node,level):\n",
    "            \n",
    "            if len(levels)==level: \n",
    "                levels.append([])\n",
    "            \n",
    "            levels[level].append(node.val)\n",
    "            \n",
    "            if node.left: helper(node.left, level+1)\n",
    "            if node.right: helper(node.right, level+1)\n",
    "        \n",
    "        helper(root,0)\n",
    "        return levels[::-1]"
   ]
  },
  {
   "cell_type": "code",
   "execution_count": 5,
   "metadata": {},
   "outputs": [],
   "source": [
    "# least memory, 13.716MB\n",
    "class Solution:\n",
    "    def levelOrderBottom(self, root: TreeNode) -> List[List[int]]:\n",
    "        if root:\n",
    "            q =[(root,1)]\n",
    "        else:\n",
    "            return None\n",
    "        output = []\n",
    "        while q:\n",
    "            node, level = q.pop(0)\n",
    "            if node.left:\n",
    "                q.append((node.left,level+1))\n",
    "            if node.right:\n",
    "                q.append((node.right,level+1))\n",
    "            if len(output)<level:\n",
    "                output.append([])\n",
    "            output[level-1].append(node.val)\n",
    "        return(output[::-1])"
   ]
  },
  {
   "cell_type": "code",
   "execution_count": null,
   "metadata": {},
   "outputs": [],
   "source": []
  }
 ],
 "metadata": {
  "kernelspec": {
   "display_name": "Python 3",
   "language": "python",
   "name": "python3"
  },
  "language_info": {
   "codemirror_mode": {
    "name": "ipython",
    "version": 3
   },
   "file_extension": ".py",
   "mimetype": "text/x-python",
   "name": "python",
   "nbconvert_exporter": "python",
   "pygments_lexer": "ipython3",
   "version": "3.6.7"
  }
 },
 "nbformat": 4,
 "nbformat_minor": 2
}
