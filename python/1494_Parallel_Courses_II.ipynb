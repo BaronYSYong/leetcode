{
 "cells": [
  {
   "cell_type": "code",
   "execution_count": 1,
   "id": "607f1c1f",
   "metadata": {},
   "outputs": [],
   "source": [
    "from typing import List"
   ]
  },
  {
   "cell_type": "code",
   "execution_count": 2,
   "id": "1e0e4d9b",
   "metadata": {},
   "outputs": [],
   "source": [
    "# n = 4\n",
    "# dependencies = [[2,1],[3,1],[1,4]]\n",
    "# k = 2\n",
    "\n",
    "# n = 5\n",
    "# dependencies = [[2,1],[3,1],[4,1],[1,5]]\n",
    "# k = 2\n",
    "\n",
    "# n = 11\n",
    "# dependencies = []\n",
    "# k = 2\n",
    "\n",
    "n = 4\n",
    "dependencies = [[1,2],[4,2]]\n",
    "k = 1"
   ]
  },
  {
   "cell_type": "code",
   "execution_count": 3,
   "id": "60634abe",
   "metadata": {},
   "outputs": [
    {
     "name": "stdout",
     "output_type": "stream",
     "text": [
      "[0, 2, 0, 0, 2]\n",
      "[[1, 2], [2], [3], [4, 2]]\n"
     ]
    },
    {
     "data": {
      "text/plain": [
       "3"
      ]
     },
     "execution_count": 3,
     "metadata": {},
     "output_type": "execute_result"
    }
   ],
   "source": [
    "# my answer, worng answer\n",
    "import math\n",
    "\n",
    "class Solution:\n",
    "    def minNumberOfSemesters(self, n: int, dependencies: List[List[int]], k: int) -> int:\n",
    "        if len(dependencies) < 1:\n",
    "            return math.ceil(n/k)\n",
    "        \n",
    "        course = [0 for _ in range(n+1)]\n",
    "        for d in dependencies:\n",
    "            course[d[0]] = d[1]\n",
    "        print(course)\n",
    "        graphs = []\n",
    "        free_course = []\n",
    "        graph_len = []\n",
    "        for i in range(1, len(course)):\n",
    "            graph = [i]\n",
    "            j = course[i]\n",
    "            while True:\n",
    "                if j == 0:\n",
    "                    break\n",
    "                graph.append(j)\n",
    "                j = course[j]\n",
    "            graphs.append(graph)\n",
    "            graph_len.append(len(graph))\n",
    "        print(graphs)\n",
    "        max_graph_len = max(graph_len)\n",
    "        course_path = [[] for _ in range(max_graph_len)]\n",
    "        for g in graphs:\n",
    "            if len(g) != max_graph_len:\n",
    "                continue\n",
    "            for i in range(max_graph_len):\n",
    "                course_path[i].append(g[i])\n",
    "\n",
    "        min_semester = 0\n",
    "        course_taken = [0 for _ in range(n+1)]\n",
    "        for sem in course_path:\n",
    "            sem = set(sem)\n",
    "            min_semester += math.ceil(len(sem)/k)\n",
    "       \n",
    "        return min_semester\n",
    "\n",
    "solution = Solution()\n",
    "solution.minNumberOfSemesters(n, dependencies, k)"
   ]
  },
  {
   "cell_type": "code",
   "execution_count": 4,
   "id": "e2aaedf8",
   "metadata": {},
   "outputs": [],
   "source": [
    "# 25th\n",
    "class Solution(object):\n",
    "    def minNumberOfSemesters(self, n, dependencies, k):\n",
    "        \"\"\"\n",
    "        :type n: int\n",
    "        :type dependencies: List[List[int]]\n",
    "        :type k: int\n",
    "        :rtype: int\n",
    "        \"\"\"\n",
    "        def length(c):\n",
    "            if c in lens: return lens[c]\n",
    "            if c not in deps:\n",
    "                return lens.setdefault(c, 1)\n",
    "            return lens.setdefault(c, max(length(dc) for dc in deps[c]) + 1)\n",
    "        lens = collections.defaultdict(int)\n",
    "        pres = collections.defaultdict(set)\n",
    "        deps = collections.defaultdict(set)\n",
    "        for c1, c2 in dependencies:\n",
    "            pres[c2].add(c1)\n",
    "            deps[c1].add(c2)\n",
    "        canSelect = [(-length(c), c) for c in xrange(1, n + 1) if c not in pres]\n",
    "        heapq.heapify(canSelect)\n",
    "        ans = 0\n",
    "        while canSelect:\n",
    "            ans += 1\n",
    "            select = []\n",
    "            for i in xrange(k):\n",
    "                if canSelect:\n",
    "                    select.append(heapq.heappop(canSelect)[1])\n",
    "            for c in select:\n",
    "                for dc in deps[c]:\n",
    "                    pres[dc].remove(c)\n",
    "                    if not pres[dc]:\n",
    "                        heapq.heappush(canSelect, (-length(dc), dc))\n",
    "        return ans"
   ]
  },
  {
   "cell_type": "code",
   "execution_count": null,
   "id": "9327ae59",
   "metadata": {},
   "outputs": [],
   "source": []
  }
 ],
 "metadata": {
  "kernelspec": {
   "display_name": "Python 3 (ipykernel)",
   "language": "python",
   "name": "python3"
  },
  "language_info": {
   "codemirror_mode": {
    "name": "ipython",
    "version": 3
   },
   "file_extension": ".py",
   "mimetype": "text/x-python",
   "name": "python",
   "nbconvert_exporter": "python",
   "pygments_lexer": "ipython3",
   "version": "3.8.10"
  }
 },
 "nbformat": 4,
 "nbformat_minor": 5
}
