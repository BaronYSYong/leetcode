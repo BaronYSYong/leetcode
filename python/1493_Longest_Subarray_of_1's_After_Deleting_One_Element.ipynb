{
 "cells": [
  {
   "cell_type": "code",
   "execution_count": 1,
   "id": "420ebd54",
   "metadata": {},
   "outputs": [],
   "source": [
    "from typing import List"
   ]
  },
  {
   "cell_type": "code",
   "execution_count": 2,
   "id": "74b8c637",
   "metadata": {},
   "outputs": [],
   "source": [
    "# 3\n",
    "# nums = [1,1,0,1]\n",
    "# 5\n",
    "# nums = [0,1,1,1,0,1,1,0,1]\n",
    "# 2\n",
    "# nums = [1,1,1]\n",
    "# 4\n",
    "# nums = [1,1,0,0,1,1,1,0,1]\n",
    "# 0 \n",
    "# nums = [0,0,0]\n",
    "# 1\n",
    "# nums = [0,0,1,0]\n",
    "# 2\n",
    "nums = [0,0,1,1]"
   ]
  },
  {
   "cell_type": "code",
   "execution_count": 3,
   "id": "f0ec4226",
   "metadata": {},
   "outputs": [
    {
     "name": "stdout",
     "output_type": "stream",
     "text": [
      "[0, 0, 2]\n"
     ]
    },
    {
     "data": {
      "text/plain": [
       "2"
      ]
     },
     "execution_count": 3,
     "metadata": {},
     "output_type": "execute_result"
    }
   ],
   "source": [
    "class Solution:\n",
    "    def longestSubarray(self, nums: List[int]) -> int:\n",
    "        if sum(nums) == 0:\n",
    "            return 0\n",
    "\n",
    "        subarray = []\n",
    "        count = 0\n",
    "        for num in nums:\n",
    "            if num == 0:\n",
    "                subarray.append(count)\n",
    "                count = 0\n",
    "            else:\n",
    "                count += num\n",
    "        subarray.append(count)\n",
    "        \n",
    "        print(subarray)\n",
    "\n",
    "        if len(subarray) <= 1:\n",
    "            return subarray[0]-1\n",
    "\n",
    "        max_sub = 0\n",
    "        for i in range(len(subarray)-1):\n",
    "            if subarray[i] != 0:\n",
    "                max_sub = max(max_sub, subarray[i]+subarray[i+1])\n",
    "        return max(max_sub, subarray[-1])\n",
    "    \n",
    "solution = Solution()\n",
    "solution.longestSubarray(nums)"
   ]
  },
  {
   "cell_type": "code",
   "execution_count": null,
   "id": "8c0d22ef",
   "metadata": {},
   "outputs": [],
   "source": []
  }
 ],
 "metadata": {
  "kernelspec": {
   "display_name": "Python 3 (ipykernel)",
   "language": "python",
   "name": "python3"
  },
  "language_info": {
   "codemirror_mode": {
    "name": "ipython",
    "version": 3
   },
   "file_extension": ".py",
   "mimetype": "text/x-python",
   "name": "python",
   "nbconvert_exporter": "python",
   "pygments_lexer": "ipython3",
   "version": "3.8.10"
  }
 },
 "nbformat": 4,
 "nbformat_minor": 5
}
