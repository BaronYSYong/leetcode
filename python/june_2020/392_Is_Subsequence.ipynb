{
 "cells": [
  {
   "cell_type": "markdown",
   "metadata": {},
   "source": [
    "# Is Subsequence\n",
    "\n",
    "Given a string s and a string t, check if s is subsequence of t.\n",
    "\n",
    "A subsequence of a string is a new string which is formed from the original string by deleting some (can be none) of the characters without disturbing the relative positions of the remaining characters. (ie, \"ace\" is a subsequence of \"abcde\" while \"aec\" is not).\n",
    "\n",
    "### Follow up:\n",
    "If there are lots of incoming S, say S1, S2, ... , Sk where k >= 1B, and you want to check one by one to see if T has its subsequence. In this scenario, how would you change your code?\n",
    "\n",
    "Example 1:\n",
    "```\n",
    "Input: s = \"abc\", t = \"ahbgdc\"\n",
    "Output: true\n",
    "```\n",
    "Example 2:\n",
    "```\n",
    "Input: s = \"axc\", t = \"ahbgdc\"\n",
    "Output: false\n",
    "```\n",
    "\n",
    "Constraints:\n",
    "* 0 <= s.length <= 100\n",
    "* 0 <= t.length <= 10^4\n",
    "* Both strings consists only of lowercase characters."
   ]
  },
  {
   "cell_type": "code",
   "execution_count": 1,
   "metadata": {},
   "outputs": [],
   "source": [
    "s = \"abc\"\n",
    "t = \"ahbgdc\""
   ]
  },
  {
   "cell_type": "code",
   "execution_count": 2,
   "metadata": {},
   "outputs": [
    {
     "name": "stdout",
     "output_type": "stream",
     "text": [
      "CPU times: user 6 µs, sys: 1 µs, total: 7 µs\n",
      "Wall time: 8.58 µs\n"
     ]
    },
    {
     "data": {
      "text/plain": [
       "True"
      ]
     },
     "execution_count": 2,
     "metadata": {},
     "output_type": "execute_result"
    }
   ],
   "source": [
    "# my answer, beats 99.66% of python3\n",
    "def isSubsequence(s: str, t: str) -> bool:\n",
    "    if s == \"\":\n",
    "        return True\n",
    "\n",
    "    i = 0 \n",
    "    max_i = len(s) - 1\n",
    "    for c in t:\n",
    "        if s[i] == c:\n",
    "            if i == max_i:\n",
    "                return True\n",
    "            else:\n",
    "                i += 1\n",
    "    return False\n",
    "\n",
    "%time isSubsequence(s, t)"
   ]
  },
  {
   "cell_type": "code",
   "execution_count": 3,
   "metadata": {},
   "outputs": [
    {
     "name": "stdout",
     "output_type": "stream",
     "text": [
      "CPU times: user 6 µs, sys: 1 µs, total: 7 µs\n",
      "Wall time: 7.87 µs\n"
     ]
    },
    {
     "data": {
      "text/plain": [
       "True"
      ]
     },
     "execution_count": 3,
     "metadata": {},
     "output_type": "execute_result"
    }
   ],
   "source": [
    "# shortest and fastest answer\n",
    "def isSubsequence2(s, t):\n",
    "    iter_target = iter(t)\n",
    "    return all(char in iter_target for char in s)\n",
    "\n",
    "%time isSubsequence2(s, t)"
   ]
  },
  {
   "cell_type": "code",
   "execution_count": null,
   "metadata": {},
   "outputs": [],
   "source": []
  }
 ],
 "metadata": {
  "kernelspec": {
   "display_name": "Python 3",
   "language": "python",
   "name": "python3"
  },
  "language_info": {
   "codemirror_mode": {
    "name": "ipython",
    "version": 3
   },
   "file_extension": ".py",
   "mimetype": "text/x-python",
   "name": "python",
   "nbconvert_exporter": "python",
   "pygments_lexer": "ipython3",
   "version": "3.6.7"
  }
 },
 "nbformat": 4,
 "nbformat_minor": 2
}
