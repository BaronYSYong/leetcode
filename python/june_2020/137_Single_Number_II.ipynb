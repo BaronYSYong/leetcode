{
 "cells": [
  {
   "cell_type": "markdown",
   "metadata": {},
   "source": [
    "# Single Number II\n",
    "\n",
    "Given a non-empty array of integers, every element appears three times except for one, which appears exactly once. Find that single one.\n",
    "\n",
    "Note:\n",
    "\n",
    "Your algorithm should have a linear runtime complexity. Could you implement it without using extra memory?\n",
    "\n",
    "Example 1:\n",
    "```\n",
    "Input: [2,2,3,2]\n",
    "Output: 3\n",
    "```\n",
    "Example 2:\n",
    "```\n",
    "Input: [0,1,0,1,0,1,99]\n",
    "Output: 99\n",
    "```"
   ]
  },
  {
   "cell_type": "code",
   "execution_count": 1,
   "metadata": {},
   "outputs": [],
   "source": [
    "from typing import List"
   ]
  },
  {
   "cell_type": "code",
   "execution_count": 2,
   "metadata": {},
   "outputs": [],
   "source": [
    "nums = [2,2,3,2]\n",
    "# nums = [0,1,0,1,0,1,99]"
   ]
  },
  {
   "cell_type": "code",
   "execution_count": 3,
   "metadata": {},
   "outputs": [
    {
     "name": "stdout",
     "output_type": "stream",
     "text": [
      "CPU times: user 15 µs, sys: 1 µs, total: 16 µs\n",
      "Wall time: 18.1 µs\n"
     ]
    },
    {
     "data": {
      "text/plain": [
       "3"
      ]
     },
     "execution_count": 3,
     "metadata": {},
     "output_type": "execute_result"
    }
   ],
   "source": [
    "# my answer, 56ms\n",
    "class Solution:\n",
    "    def singleNumber(self, nums: List[int]) -> int:\n",
    "        return int((sum(list(set(nums))*3) - sum(nums))/2)\n",
    "    \n",
    "solution = Solution()\n",
    "%time solution.singleNumber(nums)"
   ]
  },
  {
   "cell_type": "code",
   "execution_count": 4,
   "metadata": {},
   "outputs": [
    {
     "name": "stdout",
     "output_type": "stream",
     "text": [
      "CPU times: user 6 µs, sys: 1 µs, total: 7 µs\n",
      "Wall time: 9.06 µs\n"
     ]
    },
    {
     "data": {
      "text/plain": [
       "3"
      ]
     },
     "execution_count": 4,
     "metadata": {},
     "output_type": "execute_result"
    }
   ],
   "source": [
    "# fastest answer, 36ms\n",
    "class Solution:\n",
    "    def singleNumber2(self, nums: List[int]) -> int:\n",
    "        dict = {}\n",
    "        \n",
    "        for val in nums:\n",
    "            if not val in dict: \n",
    "                dict[val] = 1\n",
    "            else:\n",
    "                dict[val] += 1\n",
    "        \n",
    "        for k,v in dict.items():\n",
    "            if v == 1:\n",
    "                return k\n",
    "            \n",
    "solution = Solution()\n",
    "%time solution.singleNumber2(nums)"
   ]
  }
 ],
 "metadata": {
  "kernelspec": {
   "display_name": "Python 3",
   "language": "python",
   "name": "python3"
  },
  "language_info": {
   "codemirror_mode": {
    "name": "ipython",
    "version": 3
   },
   "file_extension": ".py",
   "mimetype": "text/x-python",
   "name": "python",
   "nbconvert_exporter": "python",
   "pygments_lexer": "ipython3",
   "version": "3.6.7"
  }
 },
 "nbformat": 4,
 "nbformat_minor": 2
}
