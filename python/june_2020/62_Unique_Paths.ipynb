{
 "cells": [
  {
   "cell_type": "markdown",
   "metadata": {},
   "source": [
    "# Unique Paths\n",
    "\n",
    "A robot is located at the top-left corner of a m x n grid (marked 'Start' in the diagram below).\n",
    "\n",
    "The robot can only move either down or right at any point in time. The robot is trying to reach the bottom-right corner of the grid (marked 'Finish' in the diagram below).\n",
    "\n",
    "How many possible unique paths are there?\n",
    "\n",
    "Above is a 7 x 3 grid. How many possible unique paths are there?\n",
    "\n",
    " \n",
    "\n",
    "Example 1:\n",
    "```\n",
    "Input: m = 3, n = 2\n",
    "Output: 3\n",
    "Explanation:\n",
    "From the top-left corner, there are a total of 3 ways to reach the bottom-right corner:\n",
    "1. Right -> Right -> Down\n",
    "2. Right -> Down -> Right\n",
    "3. Down -> Right -> Right\n",
    "```\n",
    "Example 2:\n",
    "```\n",
    "Input: m = 7, n = 3\n",
    "Output: 28\n",
    "```\n",
    "\n",
    "Constraints:\n",
    "\n",
    "* 1 <= m, n <= 100\n",
    "* It's guaranteed that the answer will be less than or equal to 2 * 10 ^ 9."
   ]
  },
  {
   "cell_type": "markdown",
   "metadata": {},
   "source": [
    "## Reference\n",
    "* https://www.youtube.com/watch?v=-fS1pS1mxQc"
   ]
  },
  {
   "cell_type": "code",
   "execution_count": 1,
   "metadata": {},
   "outputs": [],
   "source": [
    "# 1\n",
    "# m = 1\n",
    "# n = 1\n",
    "# 28\n",
    "# m = 7\n",
    "# n = 3\n",
    "m = 100\n",
    "n = 100"
   ]
  },
  {
   "cell_type": "code",
   "execution_count": 2,
   "metadata": {},
   "outputs": [
    {
     "name": "stdout",
     "output_type": "stream",
     "text": [
      "CPU times: user 1.53 ms, sys: 0 ns, total: 1.53 ms\n",
      "Wall time: 1.54 ms\n"
     ]
    },
    {
     "data": {
      "text/plain": [
       "22750883079422934966181954039568885395604168260154104734000"
      ]
     },
     "execution_count": 2,
     "metadata": {},
     "output_type": "execute_result"
    }
   ],
   "source": [
    "# answer in https://www.youtube.com/watch?v=-fS1pS1mxQc, 56ms, 13.7MB\n",
    "class Solution:\n",
    "    def uniquePaths(self, m: int, n: int) -> int:\n",
    "        paths = [[0]*m for _ in range(n)]\n",
    "\n",
    "        for c in range(m):\n",
    "            paths[n-1][c] = 1\n",
    "\n",
    "        for r in range(n):\n",
    "            paths[r][m-1] = 1\n",
    "\n",
    "        for r in range(n-2, -1, -1):\n",
    "            for c in range(m-2, -1, -1):\n",
    "                paths[r][c] = paths[r][c+1] + paths[r+1][c]\n",
    "                \n",
    "        return paths[0][0]\n",
    "solution = Solution()\n",
    "%time solution.uniquePaths(m, n)"
   ]
  },
  {
   "cell_type": "code",
   "execution_count": 3,
   "metadata": {},
   "outputs": [
    {
     "name": "stdout",
     "output_type": "stream",
     "text": [
      "CPU times: user 36 µs, sys: 4 µs, total: 40 µs\n",
      "Wall time: 42.2 µs\n"
     ]
    },
    {
     "data": {
      "text/plain": [
       "22750883079422934966181954039568885395604168260154104734000"
      ]
     },
     "execution_count": 3,
     "metadata": {},
     "output_type": "execute_result"
    }
   ],
   "source": [
    "# fastest answer, 8ms\n",
    "class Solution:\n",
    "    def uniquePaths(self, m: int, n: int) -> int:\n",
    "        def choose(n, m):\n",
    "            ans = 1\n",
    "            for i in range(1, m + 1):\n",
    "                ans = ans * (n + 1 - i) // i\n",
    "            return ans\n",
    "        \n",
    "        return choose(m-1+n-1, m-1)\n",
    "solution = Solution()\n",
    "%time solution.uniquePaths(m, n)"
   ]
  },
  {
   "cell_type": "code",
   "execution_count": 4,
   "metadata": {},
   "outputs": [
    {
     "name": "stdout",
     "output_type": "stream",
     "text": [
      "CPU times: user 5.99 ms, sys: 0 ns, total: 5.99 ms\n",
      "Wall time: 5.95 ms\n"
     ]
    },
    {
     "data": {
      "text/plain": [
       "22750883079422934966181954039568885395604168260154104734000"
      ]
     },
     "execution_count": 4,
     "metadata": {},
     "output_type": "execute_result"
    }
   ],
   "source": [
    "# least memory, 13.5MB\n",
    "class Solution:\n",
    "    def uniquePaths(self, m: int, n: int) -> int:\n",
    "        cache = [[None for j in range(m)] for i in range(n)]\n",
    "        \n",
    "        def valid(i, j):\n",
    "            return i >= 0 and i < n and j >= 0 and j < m\n",
    "        \n",
    "        for i in range(n - 1, -1, -1):\n",
    "            for j in range(m - 1, -1, -1):\n",
    "                \n",
    "                if i == n - 1 and j == m - 1:\n",
    "                    cache[i][j] = 1\n",
    "                    continue\n",
    "                \n",
    "                if not valid(i + 1, j):\n",
    "                    cache[i][j] = cache[i][j + 1]\n",
    "                    continue\n",
    "                \n",
    "                if not valid(i, j + 1):\n",
    "                    cache[i][j] = cache[i + 1][j]\n",
    "                    continue\n",
    "                    \n",
    "                cache[i][j] = cache[i][j + 1] + cache[i + 1][j]\n",
    "                \n",
    "        return cache[0][0]\n",
    "solution = Solution()\n",
    "%time solution.uniquePaths(m, n)"
   ]
  }
 ],
 "metadata": {
  "kernelspec": {
   "display_name": "Python 3",
   "language": "python",
   "name": "python3"
  },
  "language_info": {
   "codemirror_mode": {
    "name": "ipython",
    "version": 3
   },
   "file_extension": ".py",
   "mimetype": "text/x-python",
   "name": "python",
   "nbconvert_exporter": "python",
   "pygments_lexer": "ipython3",
   "version": "3.6.7"
  }
 },
 "nbformat": 4,
 "nbformat_minor": 2
}
