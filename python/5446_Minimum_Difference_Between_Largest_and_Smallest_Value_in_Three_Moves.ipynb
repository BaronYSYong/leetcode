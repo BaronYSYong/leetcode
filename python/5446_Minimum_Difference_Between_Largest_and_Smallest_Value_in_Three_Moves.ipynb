{
 "cells": [
  {
   "cell_type": "markdown",
   "id": "6425f22c",
   "metadata": {},
   "source": [
    "# 5446. Minimum Difference Between Largest and Smallest Value in Three Moves\n",
    "\n",
    "Given an array nums, you are allowed to choose one element of nums and change it by any value in one move.\n",
    "\n",
    "Return the minimum difference between the largest and smallest value of nums after perfoming at most 3 moves.\n",
    "\n",
    " \n",
    "\n",
    "Example 1:\n",
    "```\n",
    "Input: nums = [5,3,2,4]\n",
    "Output: 0\n",
    "Explanation: Change the array [5,3,2,4] to [2,2,2,2].\n",
    "The difference between the maximum and minimum is 2-2 = 0.\n",
    "```\n",
    "Example 2:\n",
    "```\n",
    "Input: nums = [1,5,0,10,14]\n",
    "Output: 1\n",
    "Explanation: Change the array [1,5,0,10,14] to [1,1,0,1,1]. \n",
    "The difference between the maximum and minimum is 1-0 = 1.\n",
    "```\n",
    "Example 3:\n",
    "```\n",
    "Input: nums = [6,6,0,1,1,4,6]\n",
    "Output: 2\n",
    "```\n",
    "Example 4:\n",
    "```\n",
    "Input: nums = [1,5,6,14,15]\n",
    "Output: 1\n",
    "```\n",
    "\n",
    "Constraints:\n",
    "\n",
    "* 1 <= nums.length <= 10^5\n",
    "* -10^9 <= nums[i] <= 10^9"
   ]
  },
  {
   "cell_type": "code",
   "execution_count": 1,
   "id": "5647e7c7",
   "metadata": {},
   "outputs": [],
   "source": [
    "from typing import List"
   ]
  },
  {
   "cell_type": "code",
   "execution_count": 2,
   "id": "bd6564f6",
   "metadata": {},
   "outputs": [],
   "source": [
    "# 0\n",
    "# nums = [5,3,2,4]\n",
    "# 1\n",
    "# nums = [1,5,0,10,14]\n",
    "# 2\n",
    "# nums = [6,6,0,1,1,4,6]\n",
    "# 1\n",
    "# nums = [1,5,6,14,15]\n",
    "# 0\n",
    "# nums = [1,3]\n",
    "# 1\n",
    "nums = [82,81,95,75,20]"
   ]
  },
  {
   "cell_type": "code",
   "execution_count": 3,
   "id": "a8d621fe",
   "metadata": {},
   "outputs": [
    {
     "name": "stdout",
     "output_type": "stream",
     "text": [
      "CPU times: user 7 µs, sys: 1e+03 ns, total: 8 µs\n",
      "Wall time: 11.9 µs\n"
     ]
    },
    {
     "data": {
      "text/plain": [
       "13"
      ]
     },
     "execution_count": 3,
     "metadata": {},
     "output_type": "execute_result"
    }
   ],
   "source": [
    "# my answer, wrong answer\n",
    "class Solution:\n",
    "    def minDifference(self, nums: List[int]) -> int:\n",
    "        if len(nums) < 4:\n",
    "            return 0\n",
    "        nums.sort(reverse=True)\n",
    "        min_diff = nums[3] - nums[-1]\n",
    "        min_diff = min(min_diff, nums[0]-nums[-4])\n",
    "        return min_diff\n",
    "    \n",
    "solution = Solution()\n",
    "%time solution.minDifference(nums)"
   ]
  },
  {
   "cell_type": "code",
   "execution_count": 4,
   "id": "b6309dce",
   "metadata": {},
   "outputs": [
    {
     "name": "stdout",
     "output_type": "stream",
     "text": [
      "CPU times: user 7 µs, sys: 1 µs, total: 8 µs\n",
      "Wall time: 8.58 µs\n"
     ]
    },
    {
     "data": {
      "text/plain": [
       "1"
      ]
     },
     "execution_count": 4,
     "metadata": {},
     "output_type": "execute_result"
    }
   ],
   "source": [
    "# 1st answer\n",
    "class Solution(object):\n",
    "    def minDifference(self, A):\n",
    "        A.sort()\n",
    "        N = len(A)\n",
    "        \n",
    "        if N <= 3: return 0\n",
    "        take = N - 3\n",
    "        return min(A[i+take - 1] - A[i] for i in range(N - take + 1))\n",
    "    \n",
    "solution = Solution()\n",
    "%time solution.minDifference(nums)"
   ]
  },
  {
   "cell_type": "code",
   "execution_count": null,
   "id": "a79ebed7",
   "metadata": {},
   "outputs": [],
   "source": []
  }
 ],
 "metadata": {
  "kernelspec": {
   "display_name": "Python 3 (ipykernel)",
   "language": "python",
   "name": "python3"
  },
  "language_info": {
   "codemirror_mode": {
    "name": "ipython",
    "version": 3
   },
   "file_extension": ".py",
   "mimetype": "text/x-python",
   "name": "python",
   "nbconvert_exporter": "python",
   "pygments_lexer": "ipython3",
   "version": "3.8.10"
  }
 },
 "nbformat": 4,
 "nbformat_minor": 5
}
