{
 "cells": [
  {
   "cell_type": "markdown",
   "metadata": {},
   "source": [
    "# Two City Scheduling\n",
    "There are 2N people a company is planning to interview. The cost of flying the i-th person to city A is costs[i][0], and the cost of flying the i-th person to city B is costs[i][1].\n",
    "\n",
    "Return the minimum cost to fly every person to a city such that exactly N people arrive in each city.\n",
    "\n",
    " \n",
    "\n",
    "Example 1:\n",
    "```\n",
    "Input: [[10,20],[30,200],[400,50],[30,20]]\n",
    "Output: 110\n",
    "Explanation: \n",
    "The first person goes to city A for a cost of 10.\n",
    "The second person goes to city A for a cost of 30.\n",
    "The third person goes to city B for a cost of 50.\n",
    "The fourth person goes to city B for a cost of 20.\n",
    "\n",
    "The total minimum cost is 10 + 30 + 50 + 20 = 110 to have half the people interviewing in each city.\n",
    "```\n",
    "\n",
    "Note:\n",
    "\n",
    "* 1 <= costs.length <= 100\n",
    "* It is guaranteed that costs.length is even.\n",
    "* 1 <= costs[i][0], costs[i][1] <= 1000"
   ]
  },
  {
   "cell_type": "code",
   "execution_count": 1,
   "metadata": {},
   "outputs": [],
   "source": [
    "from typing import List"
   ]
  },
  {
   "cell_type": "code",
   "execution_count": 2,
   "metadata": {},
   "outputs": [],
   "source": [
    "# 110\n",
    "# [[10,20],[30,200],[400,50],[30,20]]\n",
    "# 1859\n",
    "# [[259, 770], [448, 54], [926, 667], [184, 139], [840, 118], [577, 469]]"
   ]
  },
  {
   "cell_type": "code",
   "execution_count": 3,
   "metadata": {},
   "outputs": [],
   "source": [
    "# My answer\n",
    "class Solution:\n",
    "    def twoCitySchedCost(self, costs: List[List[int]]) -> int:\n",
    "        costs.sort(key = lambda x: abs(x[1]-x[0]), reverse=True)\n",
    "        N = len(costs)/2\n",
    "        city = [0, 0]\n",
    "        min_cost = 0\n",
    "        for cost in costs:\n",
    "            if city[0] < N and city[1] < N:\n",
    "                if cost[0] < cost[1]:\n",
    "                    min_cost += cost[0]\n",
    "                    city[0] += 1\n",
    "                else:\n",
    "                    min_cost += cost[1]\n",
    "                    city[1] += 1\n",
    "            elif city[0] >= N:\n",
    "                min_cost += cost[1]\n",
    "                city[1] += 1\n",
    "            else:\n",
    "                min_cost += cost[0]\n",
    "                city[0] += 1\n",
    "        \n",
    "        return min_cost"
   ]
  },
  {
   "cell_type": "code",
   "execution_count": 4,
   "metadata": {},
   "outputs": [],
   "source": [
    "# Best answer\n",
    "class Solution:\n",
    "    def twoCitySchedCost(self, costs: List[List[int]]) -> int:\n",
    "        \n",
    "        costs = sorted(costs, key=lambda x: x[0] - x[1])\n",
    "        n = len(costs)\n",
    "\n",
    "        \n",
    "        return sum(costs[i][0] for i in range(n//2)) + sum(costs[i][1] for i in range(n//2,n))"
   ]
  }
 ],
 "metadata": {
  "kernelspec": {
   "display_name": "Python 3",
   "language": "python",
   "name": "python3"
  },
  "language_info": {
   "codemirror_mode": {
    "name": "ipython",
    "version": 3
   },
   "file_extension": ".py",
   "mimetype": "text/x-python",
   "name": "python",
   "nbconvert_exporter": "python",
   "pygments_lexer": "ipython3",
   "version": "3.6.7"
  }
 },
 "nbformat": 4,
 "nbformat_minor": 2
}
