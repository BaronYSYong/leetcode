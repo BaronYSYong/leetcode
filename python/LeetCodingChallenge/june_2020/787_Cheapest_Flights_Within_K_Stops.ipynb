{
 "cells": [
  {
   "cell_type": "markdown",
   "metadata": {},
   "source": [
    "# Cheapest Flights Within K Stops\n",
    "There are n cities connected by m flights. Each flight starts from city u and arrives at v with a price w.\n",
    "\n",
    "Now given all the cities and flights, together with starting city src and the destination dst, your task is to find the cheapest price from src to dst with up to k stops. If there is no such route, output -1.\n",
    "\n",
    "Example 1:\n",
    "```\n",
    "Input: \n",
    "n = 3, edges = [[0,1,100],[1,2,100],[0,2,500]]\n",
    "src = 0, dst = 2, k = 1\n",
    "Output: 200\n",
    "Explanation: \n",
    "The graph looks like this:\n",
    "\n",
    "\n",
    "The cheapest price from city 0 to city 2 with at most 1 stop costs 200, as marked red in the picture.\n",
    "```\n",
    "Example 2:\n",
    "```\n",
    "Input: \n",
    "n = 3, edges = [[0,1,100],[1,2,100],[0,2,500]]\n",
    "src = 0, dst = 2, k = 0\n",
    "Output: 500\n",
    "Explanation: \n",
    "The graph looks like this:\n",
    "\n",
    "\n",
    "The cheapest price from city 0 to city 2 with at most 0 stop costs 500, as marked blue in the picture.\n",
    "```\n",
    "\n",
    "Constraints:\n",
    "\n",
    "* The number of nodes n will be in range [1, 100], with nodes labeled from 0 to n - 1.\n",
    "* The size of flights will be in range [0, n * (n - 1) / 2].\n",
    "* The format of each flight will be (src, dst, price).\n",
    "* The price of each flight will be in the range [1, 10000].\n",
    "* k is in the range of [0, n - 1].\n",
    "* There will not be any duplicated flights or self cycles."
   ]
  },
  {
   "cell_type": "markdown",
   "metadata": {},
   "source": [
    "## Reference\n",
    "* https://www.youtube.com/watch?v=IQOG3w4abAg\n",
    "* [DFS, BFS and Bellman-Ford algorithm](http://zxi.mytechroad.com/blog/dynamic-programming/leetcode-787-cheapest-flights-within-k-stops/)"
   ]
  },
  {
   "cell_type": "code",
   "execution_count": 1,
   "metadata": {},
   "outputs": [],
   "source": [
    "from typing import List"
   ]
  },
  {
   "cell_type": "code",
   "execution_count": 2,
   "metadata": {},
   "outputs": [],
   "source": [
    "# my answer, beats 96.29% of python3 submissions\n",
    "# https://www.youtube.com/watch?v=odABRPyCHws\n",
    "import collections\n",
    "\n",
    "class Solution:\n",
    "    def findCheapestPrice(self, n: int, flights: List[List[int]], src: int, dst: int, K: int) -> int:\n",
    "        if src == dst:\n",
    "            return 0\n",
    "        location = collections.defaultdict(list)\n",
    "        prices = collections.defaultdict(lambda: float('inf'))\n",
    "        \n",
    "        for u, v, p in flights:\n",
    "            location[u] += [(v,p)]\n",
    "            \n",
    "        q = [(src, -1, 0)]\n",
    "        \n",
    "        while q:\n",
    "            position, k, cost = q.pop(0)\n",
    "            if position == dst or k == K:\n",
    "                continue\n",
    "            for neighbour, p in location[position]:\n",
    "                if cost + p >= prices[neighbour]:\n",
    "                    continue\n",
    "                else:\n",
    "                    prices[neighbour] = cost+p\n",
    "                    q += [(neighbour, k+1, cost+p)]\n",
    "        \n",
    "        if prices[dst] < float('inf'):\n",
    "            return prices[dst]\n",
    "        else:\n",
    "            return -1\n",
    "                "
   ]
  },
  {
   "cell_type": "code",
   "execution_count": 3,
   "metadata": {},
   "outputs": [],
   "source": [
    "# using heapq, https://docs.python.org/3/library/heapq.html\n",
    "# https://www.youtube.com/watch?v=UbP2Zek1c48\n"
   ]
  },
  {
   "cell_type": "code",
   "execution_count": null,
   "metadata": {},
   "outputs": [],
   "source": []
  }
 ],
 "metadata": {
  "kernelspec": {
   "display_name": "Python 3",
   "language": "python",
   "name": "python3"
  },
  "language_info": {
   "codemirror_mode": {
    "name": "ipython",
    "version": 3
   },
   "file_extension": ".py",
   "mimetype": "text/x-python",
   "name": "python",
   "nbconvert_exporter": "python",
   "pygments_lexer": "ipython3",
   "version": "3.6.7"
  }
 },
 "nbformat": 4,
 "nbformat_minor": 2
}
