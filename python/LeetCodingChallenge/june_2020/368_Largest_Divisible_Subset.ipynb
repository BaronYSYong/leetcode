{
 "cells": [
  {
   "cell_type": "markdown",
   "metadata": {},
   "source": [
    "# Largest Divisible Subset\n",
    "\n",
    "Given a set of distinct positive integers, find the largest subset such that every pair (Si, Sj) of elements in this subset satisfies:\n",
    "\n",
    "Si % Sj = 0 or Sj % Si = 0.\n",
    "\n",
    "If there are multiple solutions, return any subset is fine.\n",
    "\n",
    "Example 1:\n",
    "```\n",
    "Input: [1,2,3]\n",
    "Output: [1,2] (of course, [1,3] will also be ok)\n",
    "```\n",
    "Example 2:\n",
    "```\n",
    "Input: [1,2,4,8]\n",
    "Output: [1,2,4,8]\n",
    "```"
   ]
  },
  {
   "cell_type": "markdown",
   "metadata": {},
   "source": [
    "## Reference\n",
    "* https://www.youtube.com/watch?v=21tD6yXc0LM"
   ]
  },
  {
   "cell_type": "code",
   "execution_count": 1,
   "metadata": {},
   "outputs": [],
   "source": [
    "# nums = [1,2,3]\n",
    "# nums = [1,2,4,8]\n",
    "nums = [1,2,4,8,16,32,64,128,256,512,1024,2048,4096]"
   ]
  },
  {
   "cell_type": "code",
   "execution_count": 2,
   "metadata": {},
   "outputs": [],
   "source": [
    "from math import sqrt\n",
    "from typing import List"
   ]
  },
  {
   "cell_type": "code",
   "execution_count": 3,
   "metadata": {},
   "outputs": [
    {
     "name": "stdout",
     "output_type": "stream",
     "text": [
      "CPU times: user 52 µs, sys: 4 µs, total: 56 µs\n",
      "Wall time: 59.4 µs\n"
     ]
    },
    {
     "data": {
      "text/plain": [
       "[1, 2, 4, 8, 16, 32, 64, 128, 256, 512, 1024, 2048, 4096]"
      ]
     },
     "execution_count": 3,
     "metadata": {},
     "output_type": "execute_result"
    }
   ],
   "source": [
    "# my answer, beats 38.26 of python3 submission, 460ms\n",
    "def largestDivisibleSubset(nums: List[int]) -> List[int]:\n",
    "    if len(nums) == 0:\n",
    "        return []\n",
    "\n",
    "    nums.sort()\n",
    "    subset = [[num] for num in nums]\n",
    "\n",
    "    for i in range(len(nums)):\n",
    "        for j in range(i):\n",
    "            if nums[i] % nums[j] == 0 and len(subset[i]) < len(subset[j]) + 1:\n",
    "                subset[i] = subset[j] + [nums[i]]\n",
    "\n",
    "    return max(subset, key=len)\n",
    "\n",
    "%time largestDivisibleSubset(nums)"
   ]
  },
  {
   "cell_type": "code",
   "execution_count": 4,
   "metadata": {},
   "outputs": [
    {
     "name": "stdout",
     "output_type": "stream",
     "text": [
      "CPU times: user 59 µs, sys: 5 µs, total: 64 µs\n",
      "Wall time: 66 µs\n"
     ]
    },
    {
     "data": {
      "text/plain": [
       "[1, 2, 4, 8, 16, 32, 64, 128, 256, 512, 1024, 2048, 4096]"
      ]
     },
     "execution_count": 4,
     "metadata": {},
     "output_type": "execute_result"
    }
   ],
   "source": [
    "# fastest answer, 112ms\n",
    "def largestDivisibleSubset2(nums: List[int]) -> List[int]:\n",
    "    if not nums or  len(nums) == 0:\n",
    "        return []\n",
    "    nums = sorted(nums)\n",
    "    dp = {}\n",
    "    for i in range(len(nums)):\n",
    "        if nums[i] == 1:\n",
    "            dp[1] = 1\n",
    "            continue\n",
    "\n",
    "        for j in range(1, int(sqrt(nums[i]))+1):\n",
    "            tmp = nums[i] %  j\n",
    "            if tmp == 0:\n",
    "                dp[nums[i]] = max(dp.get(j, 0) + 1, dp.get(nums[i]//j, 0) + 1, dp.get(nums[i], 1))\n",
    "\n",
    "\n",
    "    #  reconstruct the result\n",
    "    rs  = []\n",
    "    max_len =  max(dp.values())\n",
    "    while max_len > 0:\n",
    "        for x in dp:\n",
    "            if dp[x] == max_len:\n",
    "                rs.append(x)\n",
    "                break\n",
    "        max_len -= 1\n",
    "    return rs[::-1]\n",
    "\n",
    "%time largestDivisibleSubset2(nums)"
   ]
  },
  {
   "cell_type": "code",
   "execution_count": null,
   "metadata": {},
   "outputs": [],
   "source": []
  }
 ],
 "metadata": {
  "kernelspec": {
   "display_name": "Python 3",
   "language": "python",
   "name": "python3"
  },
  "language_info": {
   "codemirror_mode": {
    "name": "ipython",
    "version": 3
   },
   "file_extension": ".py",
   "mimetype": "text/x-python",
   "name": "python",
   "nbconvert_exporter": "python",
   "pygments_lexer": "ipython3",
   "version": "3.6.7"
  }
 },
 "nbformat": 4,
 "nbformat_minor": 2
}
