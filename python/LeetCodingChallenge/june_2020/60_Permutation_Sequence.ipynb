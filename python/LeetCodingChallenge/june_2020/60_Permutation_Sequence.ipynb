{
 "cells": [
  {
   "cell_type": "markdown",
   "metadata": {},
   "source": [
    "# Permutation Sequence\n",
    "\n",
    "The set [1,2,3,...,n] contains a total of n! unique permutations.\n",
    "\n",
    "By listing and labeling all of the permutations in order, we get the following sequence for n = 3:\n",
    "\n",
    "\"123\"\n",
    "\"132\"\n",
    "\"213\"\n",
    "\"231\"\n",
    "\"312\"\n",
    "\"321\"\n",
    "Given n and k, return the kth permutation sequence.\n",
    "\n",
    "Note:\n",
    "\n",
    "Given n will be between 1 and 9 inclusive.\n",
    "Given k will be between 1 and n! inclusive.\n",
    "Example 1:\n",
    "```\n",
    "Input: n = 3, k = 3\n",
    "Output: \"213\"\n",
    "```\n",
    "Example 2:\n",
    "```\n",
    "Input: n = 4, k = 9\n",
    "Output: \"2314\"\n",
    "```"
   ]
  },
  {
   "cell_type": "markdown",
   "metadata": {},
   "source": [
    "## Reference\n",
    "* https://www.geeksforgeeks.org/generate-all-the-permutation-of-a-list-in-python/\n",
    "* https://www.youtube.com/watch?v=knTd0fgAo-0"
   ]
  },
  {
   "cell_type": "code",
   "execution_count": 1,
   "metadata": {},
   "outputs": [],
   "source": [
    "# '213'\n",
    "# n = 3\n",
    "# k = 3\n",
    "\n",
    "# '792346851'\n",
    "n = 9\n",
    "k = 278082\n"
   ]
  },
  {
   "cell_type": "code",
   "execution_count": 2,
   "metadata": {},
   "outputs": [
    {
     "name": "stdout",
     "output_type": "stream",
     "text": [
      "CPU times: user 1.15 s, sys: 51.9 ms, total: 1.2 s\n",
      "Wall time: 1.2 s\n"
     ]
    },
    {
     "data": {
      "text/plain": [
       "'792346851'"
      ]
     },
     "execution_count": 2,
     "metadata": {},
     "output_type": "execute_result"
    }
   ],
   "source": [
    "# my answer, Time Limit Exceeded\n",
    "def getPermutation(n: int, k: int) -> str:\n",
    "    if n == 1:\n",
    "        return '1'\n",
    "        \n",
    "    def permutation(lst):\n",
    "        if len(lst) == 0: \n",
    "            return [] \n",
    "        if len(lst) == 1: \n",
    "            return [lst] \n",
    "        l = []\n",
    "\n",
    "        for i in range(len(lst)): \n",
    "            m = lst[i]\n",
    "            remLst = lst[:i] + lst[i+1:] \n",
    "            for p in permutation(remLst): \n",
    "                l.append([m] + p) \n",
    "        return l \n",
    "    \n",
    "    lst = list(range(1, n+1))\n",
    "    return ''.join(str(i) for i in permutation(lst)[k-1])\n",
    "\n",
    "%time getPermutation(n, k)"
   ]
  },
  {
   "cell_type": "code",
   "execution_count": 3,
   "metadata": {},
   "outputs": [
    {
     "name": "stdout",
     "output_type": "stream",
     "text": [
      "[1, 2, 6, 24, 120, 720, 5040, 40320, 362880]\n",
      "CPU times: user 95 µs, sys: 6 µs, total: 101 µs\n",
      "Wall time: 93 µs\n"
     ]
    },
    {
     "data": {
      "text/plain": [
       "'792346851'"
      ]
     },
     "execution_count": 3,
     "metadata": {},
     "output_type": "execute_result"
    }
   ],
   "source": [
    "# answer shown in https://www.youtube.com/watch?v=knTd0fgAo-0, beats 27.73% of python3 submissions\n",
    "def getPermutation(n: int, k:int) -> str:\n",
    "    fact, digits = [1]*n, [1]*n\n",
    "    for i in range(1, n):\n",
    "        fact[i] = fact[i-1] * (i+1)\n",
    "        digits[i] = i+1\n",
    "    print(fact)\n",
    "    result = \"\"\n",
    "    \n",
    "    while len(result) < n-1:\n",
    "        repeat = fact[-2]\n",
    "        next_digit = (k-1)//repeat\n",
    "        result += str(digits[next_digit])\n",
    "        digits.pop(next_digit)\n",
    "        fact = fact[:-1]\n",
    "        k = k % repeat\n",
    "        if k == 0:\n",
    "            for i in range(len(digits)-1, -1, -1):\n",
    "                result += str(digits[i])\n",
    "    if len(result) < n: result += str(digits[0])\n",
    "    \n",
    "    return result\n",
    "\n",
    "%time getPermutation(n, k)"
   ]
  },
  {
   "cell_type": "code",
   "execution_count": null,
   "metadata": {},
   "outputs": [],
   "source": []
  }
 ],
 "metadata": {
  "kernelspec": {
   "display_name": "Python 3",
   "language": "python",
   "name": "python3"
  },
  "language_info": {
   "codemirror_mode": {
    "name": "ipython",
    "version": 3
   },
   "file_extension": ".py",
   "mimetype": "text/x-python",
   "name": "python",
   "nbconvert_exporter": "python",
   "pygments_lexer": "ipython3",
   "version": "3.6.7"
  }
 },
 "nbformat": 4,
 "nbformat_minor": 2
}
