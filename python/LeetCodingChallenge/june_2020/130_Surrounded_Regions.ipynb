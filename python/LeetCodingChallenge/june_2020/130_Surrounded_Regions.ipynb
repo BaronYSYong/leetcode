{
 "cells": [
  {
   "cell_type": "markdown",
   "metadata": {},
   "source": [
    "# Surrounded Regions\n",
    "\n",
    "Given a 2D board containing 'X' and 'O' (the letter O), capture all regions surrounded by 'X'.\n",
    "\n",
    "A region is captured by flipping all 'O's into 'X's in that surrounded region.\n",
    "\n",
    "Example:\n",
    "```\n",
    "X X X X\n",
    "X O O X\n",
    "X X O X\n",
    "X O X X\n",
    "```\n",
    "After running your function, the board should be:\n",
    "```\n",
    "X X X X\n",
    "X X X X\n",
    "X X X X\n",
    "X O X X\n",
    "```\n",
    "Explanation:\n",
    "\n",
    "Surrounded regions shouldn’t be on the border, which means that any 'O' on the border of the board are not flipped to 'X'. Any 'O' that is not on the border and it is not connected to an 'O' on the border will be flipped to 'X'. Two cells are connected if they are adjacent cells connected horizontally or vertically."
   ]
  },
  {
   "cell_type": "code",
   "execution_count": 1,
   "metadata": {},
   "outputs": [],
   "source": [
    "board = [[\"X\",\"X\",\"X\",\"X\"],[\"X\",\"O\",\"O\",\"X\"],[\"X\",\"X\",\"O\",\"X\"],[\"X\",\"O\",\"X\",\"X\"]]"
   ]
  },
  {
   "cell_type": "code",
   "execution_count": 2,
   "metadata": {},
   "outputs": [],
   "source": [
    "from typing import List"
   ]
  },
  {
   "cell_type": "code",
   "execution_count": 3,
   "metadata": {},
   "outputs": [
    {
     "name": "stdout",
     "output_type": "stream",
     "text": [
      "CPU times: user 18 µs, sys: 1 µs, total: 19 µs\n",
      "Wall time: 21.9 µs\n"
     ]
    }
   ],
   "source": [
    "# my answer, beats 78.03% of python3 submissions, 15.2MB\n",
    "class Solution:\n",
    "    def solve(self, board: List[List[str]]) -> None:\n",
    "        \"\"\"\n",
    "        Do not return anything, modify board in-place instead.\n",
    "        \"\"\"\n",
    "        self.board = board\n",
    "        row = len(board)\n",
    "        if row <= 2: \n",
    "            return\n",
    "        \n",
    "        column = len(board[0])\n",
    "        if column <= 2: \n",
    "            return\n",
    "        \n",
    "        for i in range(row):\n",
    "            for j in range(column):\n",
    "                if board[i][j] == 'O' and (i == 0 or i == row-1 or j == 0 or j == column-1):\n",
    "                    self.dfs(i, j)\n",
    "        \n",
    "        for i in range(row):\n",
    "            for j in range(column):\n",
    "                if self.board[i][j] == 'O': \n",
    "                    self.board[i][j] = 'X'\n",
    "                elif self.board[i][j] == 'A':\n",
    "                    self.board[i][j] = 'O'\n",
    "        \n",
    "    def dfs(self, i, j):\n",
    "        if i >= 0 and i < len(self.board) and j >= 0 and j < len(self.board[0]) and self.board[i][j] == 'O':\n",
    "            self.board[i][j] = 'A'\n",
    "            self.dfs(i+1, j)\n",
    "            self.dfs(i-1, j)\n",
    "            self.dfs(i, j+1)\n",
    "            self.dfs(i, j-1)\n",
    "\n",
    "solution = Solution()\n",
    "%time solution.solve(board)"
   ]
  },
  {
   "cell_type": "code",
   "execution_count": 4,
   "metadata": {},
   "outputs": [
    {
     "name": "stdout",
     "output_type": "stream",
     "text": [
      "CPU times: user 22 µs, sys: 1 µs, total: 23 µs\n",
      "Wall time: 25.7 µs\n"
     ]
    }
   ],
   "source": [
    "# least memory used, 14536kb\n",
    "class Solution2:\n",
    "    def solve(self, board: List[List[str]]) -> None:\n",
    "        \"\"\"\n",
    "        Do not return anything, modify board in-place instead.\n",
    "        \"\"\"\n",
    "        if not board or not board[0]: return\n",
    "        m, n = len(board), len(board[0])\n",
    "        from collections import deque\n",
    "\n",
    "        queue = deque()\n",
    "        for i in range(m):\n",
    "            if board[i][0] == \"O\": queue.append((i, 0))\n",
    "            if board[i][n-1] == \"O\": queue.append((i, n-1))\n",
    "        for j in range(1, n):\n",
    "            if board[0][j] == \"O\": queue.append((0, j))\n",
    "            if board[m-1][j] == \"O\": queue.append((m-1, j))\n",
    "\n",
    "        while queue:\n",
    "            i, j = queue.popleft()\n",
    "            board[i][j] = \"B\"\n",
    "            for p, q in ((i + 1, j), (i - 1, j), (i, j + 1), (i, j - 1)):\n",
    "                if 0 <= p < m and 0 <= q < n and board[p][q] == \"O\":\n",
    "                    queue.append((p, q))\n",
    "\n",
    "        for i in range(m):\n",
    "            for j in range(n):\n",
    "                if board[i][j] == \"O\": board[i][j] = \"X\"\n",
    "                if board[i][j] == \"B\": board[i][j] = \"O\"\n",
    "solution = Solution2()\n",
    "%time solution.solve(board)"
   ]
  }
 ],
 "metadata": {
  "kernelspec": {
   "display_name": "Python 3",
   "language": "python",
   "name": "python3"
  },
  "language_info": {
   "codemirror_mode": {
    "name": "ipython",
    "version": 3
   },
   "file_extension": ".py",
   "mimetype": "text/x-python",
   "name": "python",
   "nbconvert_exporter": "python",
   "pygments_lexer": "ipython3",
   "version": "3.6.7"
  }
 },
 "nbformat": 4,
 "nbformat_minor": 2
}
