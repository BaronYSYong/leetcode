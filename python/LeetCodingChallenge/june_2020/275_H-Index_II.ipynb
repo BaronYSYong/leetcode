{
 "cells": [
  {
   "cell_type": "markdown",
   "metadata": {},
   "source": [
    "# H-Index II\n",
    "\n",
    "Given an array of citations sorted in ascending order (each citation is a non-negative integer) of a researcher, write a function to compute the researcher's h-index.\n",
    "\n",
    "According to the definition of h-index on Wikipedia: \"A scientist has index h if h of his/her N papers have at least h citations each, and the other N − h papers have no more than h citations each.\"\n",
    "\n",
    "Example:\n",
    "```\n",
    "Input: citations = [0,1,3,5,6]\n",
    "Output: 3 \n",
    "Explanation: [0,1,3,5,6] means the researcher has 5 papers in total and each of them had \n",
    "             received 0, 1, 3, 5, 6 citations respectively. \n",
    "             Since the researcher has 3 papers with at least 3 citations each and the remaining \n",
    "             two with no more than 3 citations each, her h-index is 3.\n",
    "```\n",
    "Note:\n",
    "\n",
    "If there are several possible values for h, the maximum one is taken as the h-index."
   ]
  },
  {
   "cell_type": "code",
   "execution_count": 1,
   "metadata": {},
   "outputs": [],
   "source": [
    "citations = [0,1,3,5,6]"
   ]
  },
  {
   "cell_type": "code",
   "execution_count": 2,
   "metadata": {},
   "outputs": [],
   "source": [
    "from typing import List"
   ]
  },
  {
   "cell_type": "code",
   "execution_count": 3,
   "metadata": {},
   "outputs": [
    {
     "name": "stdout",
     "output_type": "stream",
     "text": [
      "CPU times: user 7 µs, sys: 0 ns, total: 7 µs\n",
      "Wall time: 9.3 µs\n"
     ]
    },
    {
     "data": {
      "text/plain": [
       "3"
      ]
     },
     "execution_count": 3,
     "metadata": {},
     "output_type": "execute_result"
    }
   ],
   "source": [
    "# my answer, beats 21% python3 submissions, 180ms, 20.2MB\n",
    "def hIndex(citations: List[int]) -> int:\n",
    "    h = 0\n",
    "    j = 1\n",
    "    for i in range(len(citations), 0, -1):\n",
    "        h = max(min(j, citations[i-1]), h)\n",
    "        j += 1\n",
    "    return h\n",
    "%time hIndex(citations)"
   ]
  },
  {
   "cell_type": "code",
   "execution_count": 4,
   "metadata": {},
   "outputs": [
    {
     "name": "stdout",
     "output_type": "stream",
     "text": [
      "CPU times: user 4 µs, sys: 0 ns, total: 4 µs\n",
      "Wall time: 5.96 µs\n"
     ]
    },
    {
     "data": {
      "text/plain": [
       "3"
      ]
     },
     "execution_count": 4,
     "metadata": {},
     "output_type": "execute_result"
    }
   ],
   "source": [
    "# fastest answer, 128ms\n",
    "def hIndex2(citations: List[int]) -> int:\n",
    "    if not citations:\n",
    "        return 0\n",
    "\n",
    "    left = 0\n",
    "    right = len(citations)-1\n",
    "\n",
    "    while left < right:\n",
    "        mid = left + (right-left)//2\n",
    "\n",
    "        if citations[mid] < len(citations) - mid:\n",
    "            left = mid + 1\n",
    "        else:\n",
    "            right = mid\n",
    "\n",
    "    return len(citations) - right if citations[right] >= (len(citations) - right) else 0\n",
    "%time hIndex2(citations)"
   ]
  },
  {
   "cell_type": "code",
   "execution_count": null,
   "metadata": {},
   "outputs": [],
   "source": []
  }
 ],
 "metadata": {
  "kernelspec": {
   "display_name": "Python 3",
   "language": "python",
   "name": "python3"
  },
  "language_info": {
   "codemirror_mode": {
    "name": "ipython",
    "version": 3
   },
   "file_extension": ".py",
   "mimetype": "text/x-python",
   "name": "python",
   "nbconvert_exporter": "python",
   "pygments_lexer": "ipython3",
   "version": "3.6.7"
  }
 },
 "nbformat": 4,
 "nbformat_minor": 2
}
