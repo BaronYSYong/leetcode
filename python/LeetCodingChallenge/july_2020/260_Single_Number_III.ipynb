{
 "cells": [
  {
   "cell_type": "markdown",
   "metadata": {},
   "source": [
    "# Single Number III\n",
    "\n",
    "Given an array of numbers nums, in which exactly two elements appear only once and all the other elements appear exactly twice. Find the two elements that appear only once.\n",
    "\n",
    "Example:\n",
    "```\n",
    "Input:  [1,2,1,3,2,5]\n",
    "Output: [3,5]\n",
    "```\n",
    "Note:\n",
    "\n",
    "* The order of the result is not important. So in the above example, [5, 3] is also correct.\n",
    "* Your algorithm should run in linear runtime complexity. Could you implement it using only constant space complexity?"
   ]
  },
  {
   "cell_type": "code",
   "execution_count": 1,
   "metadata": {},
   "outputs": [],
   "source": [
    "from typing import List"
   ]
  },
  {
   "cell_type": "code",
   "execution_count": 2,
   "metadata": {},
   "outputs": [],
   "source": [
    "nums = [10,1,2,1,11,9,3,2,6,7,5,4,8,9,8,4,10,7,6,11]"
   ]
  },
  {
   "cell_type": "code",
   "execution_count": 3,
   "metadata": {},
   "outputs": [
    {
     "name": "stdout",
     "output_type": "stream",
     "text": [
      "CPU times: user 13 µs, sys: 1 µs, total: 14 µs\n",
      "Wall time: 16.2 µs\n"
     ]
    },
    {
     "data": {
      "text/plain": [
       "[3, 5]"
      ]
     },
     "execution_count": 3,
     "metadata": {},
     "output_type": "execute_result"
    }
   ],
   "source": [
    "# my answer, 56 ms, 15.5 MB\n",
    "class Solution:\n",
    "    def singleNumber(self, nums: List[int]) -> List[int]:\n",
    "        nums_dict = {}\n",
    "        res = []\n",
    "        for n in nums:\n",
    "            if n not in nums_dict:\n",
    "                nums_dict[n] = 1\n",
    "            else:\n",
    "                nums_dict[n] += 1\n",
    "\n",
    "        for key, value in nums_dict.items():\n",
    "            if value == 1:\n",
    "                res.append(key)\n",
    "        return res\n",
    "solution = Solution()\n",
    "%time solution.singleNumber(nums)"
   ]
  },
  {
   "cell_type": "code",
   "execution_count": 4,
   "metadata": {},
   "outputs": [
    {
     "name": "stdout",
     "output_type": "stream",
     "text": [
      "CPU times: user 7 µs, sys: 0 ns, total: 7 µs\n",
      "Wall time: 8.82 µs\n"
     ]
    },
    {
     "data": {
      "text/plain": [
       "[5, 3]"
      ]
     },
     "execution_count": 4,
     "metadata": {},
     "output_type": "execute_result"
    }
   ],
   "source": [
    "# fastest answer, 40 ms\n",
    "class Solution:\n",
    "    def singleNumber(self, nums: List[int]) -> List[int]:\n",
    "        xorres = 0\n",
    "        n1 = n2 = 0\n",
    "        for n in nums:\n",
    "            xorres ^= n\n",
    "        diff = 1\n",
    "        while diff & xorres == 0:\n",
    "            diff <<= 1\n",
    "        for n in nums:\n",
    "            if diff & n == 0:\n",
    "                n1 ^= n\n",
    "            else:\n",
    "                n2 ^= n\n",
    "        return [n1, n2]\n",
    "solution = Solution()\n",
    "%time solution.singleNumber(nums)"
   ]
  },
  {
   "cell_type": "code",
   "execution_count": 5,
   "metadata": {},
   "outputs": [
    {
     "name": "stdout",
     "output_type": "stream",
     "text": [
      "CPU times: user 11 µs, sys: 1 µs, total: 12 µs\n",
      "Wall time: 13.8 µs\n"
     ]
    },
    {
     "data": {
      "text/plain": [
       "[3, 5]"
      ]
     },
     "execution_count": 5,
     "metadata": {},
     "output_type": "execute_result"
    }
   ],
   "source": [
    "# least memory, 15.128 MB\n",
    "class Solution:\n",
    "    def singleNumber(self, nums: List[int]) -> List[int]:\n",
    "        nondup=[]\n",
    "        for ele in nums:\n",
    "            if ele in nondup:\n",
    "                nondup.remove(ele)\n",
    "            else:\n",
    "                nondup.append(ele)\n",
    "        return nondup\n",
    "solution = Solution()\n",
    "%time solution.singleNumber(nums)"
   ]
  },
  {
   "cell_type": "code",
   "execution_count": null,
   "metadata": {},
   "outputs": [],
   "source": []
  }
 ],
 "metadata": {
  "kernelspec": {
   "display_name": "Python 3",
   "language": "python",
   "name": "python3"
  },
  "language_info": {
   "codemirror_mode": {
    "name": "ipython",
    "version": 3
   },
   "file_extension": ".py",
   "mimetype": "text/x-python",
   "name": "python",
   "nbconvert_exporter": "python",
   "pygments_lexer": "ipython3",
   "version": "3.6.7"
  }
 },
 "nbformat": 4,
 "nbformat_minor": 2
}
