{
 "cells": [
  {
   "cell_type": "markdown",
   "metadata": {},
   "source": [
    "# Climbing Stairs\n",
    "\n",
    "You are climbing a stair case. It takes n steps to reach to the top.\n",
    "\n",
    "Each time you can either climb 1 or 2 steps. In how many distinct ways can you climb to the top?\n",
    "\n",
    "Example 1:\n",
    "```\n",
    "Input: 2\n",
    "Output: 2\n",
    "Explanation: There are two ways to climb to the top.\n",
    "1. 1 step + 1 step\n",
    "2. 2 steps\n",
    "```\n",
    "Example 2:\n",
    "```\n",
    "Input: 3\n",
    "Output: 3\n",
    "Explanation: There are three ways to climb to the top.\n",
    "1. 1 step + 1 step + 1 step\n",
    "2. 1 step + 2 steps\n",
    "3. 2 steps + 1 step\n",
    "``` \n",
    "\n",
    "Constraints:\n",
    "* 1 <= n <= 45\n",
    "\n",
    "Hint:\n",
    "* To reach nth step, what could have been your previous steps? (Think about the step sizes)"
   ]
  },
  {
   "cell_type": "markdown",
   "metadata": {},
   "source": [
    "## Reference\n",
    "* https://www.youtube.com/watch?v=AWezsCJDHSk\n",
    "* https://leetcode.com/articles/climbing-stairs/"
   ]
  },
  {
   "cell_type": "code",
   "execution_count": 1,
   "metadata": {},
   "outputs": [],
   "source": [
    "n = 45"
   ]
  },
  {
   "cell_type": "code",
   "execution_count": 2,
   "metadata": {},
   "outputs": [
    {
     "name": "stdout",
     "output_type": "stream",
     "text": [
      "CPU times: user 10 µs, sys: 1 µs, total: 11 µs\n",
      "Wall time: 13.4 µs\n"
     ]
    },
    {
     "data": {
      "text/plain": [
       "1836311903"
      ]
     },
     "execution_count": 2,
     "metadata": {},
     "output_type": "execute_result"
    }
   ],
   "source": [
    "# answer in https://www.youtube.com/watch?v=AWezsCJDHSk, 24 ms, 13.8 MB\n",
    "class Solution:\n",
    "    def climbStairs(self, n: int) -> int:\n",
    "        if n <= 2:\n",
    "            return n\n",
    "        x, y = 1, 2\n",
    "        for _ in range(3, n):\n",
    "            x, y = y, x+y\n",
    "        return x+y\n",
    "solution = Solution()\n",
    "%time solution.climbStairs(n)"
   ]
  },
  {
   "cell_type": "code",
   "execution_count": 3,
   "metadata": {},
   "outputs": [
    {
     "name": "stdout",
     "output_type": "stream",
     "text": [
      "CPU times: user 31 µs, sys: 0 ns, total: 31 µs\n",
      "Wall time: 32.7 µs\n"
     ]
    },
    {
     "data": {
      "text/plain": [
       "1836311903"
      ]
     },
     "execution_count": 3,
     "metadata": {},
     "output_type": "execute_result"
    }
   ],
   "source": [
    "# fastest answer, 8ms\n",
    "class Solution:\n",
    "    def climbStairs(self, n: int) -> int:\n",
    "        return self.myclimbStairs(n,dict={})\n",
    "    def myclimbStairs(self,n,dict):\n",
    "        if n == 1:\n",
    "            return 1\n",
    "        if n == 2:\n",
    "            return 2\n",
    "        if n-1 in dict.keys():\n",
    "            c1 = dict[n-1]\n",
    "        else:\n",
    "            dict[n-1] = self.myclimbStairs(n-1,dict)\n",
    "            c1 = dict[n-1]\n",
    "        if n-2 in dict.keys():\n",
    "            c2 = dict[n-2]\n",
    "        else:\n",
    "            dict[n-2] = self.myclimbStairs(n-2,dict)\n",
    "            c2 = dict[n-2]\n",
    "        return c1+c2\n",
    "solution = Solution()\n",
    "%time solution.climbStairs(n)"
   ]
  },
  {
   "cell_type": "code",
   "execution_count": 4,
   "metadata": {},
   "outputs": [
    {
     "name": "stdout",
     "output_type": "stream",
     "text": [
      "CPU times: user 14 µs, sys: 1e+03 ns, total: 15 µs\n",
      "Wall time: 17.4 µs\n"
     ]
    },
    {
     "data": {
      "text/plain": [
       "1836311903"
      ]
     },
     "execution_count": 4,
     "metadata": {},
     "output_type": "execute_result"
    }
   ],
   "source": [
    "# least memory, 13.508 MB\n",
    "class Solution:\n",
    "    def climbStairs(self, n: int) -> int:\n",
    "        st = [1,1]\n",
    "        if(n<2):\n",
    "            return st[n]\n",
    "        i = 2\n",
    "        while(i<=n):\n",
    "            st.append(st[i-1]+st[i-2])\n",
    "            i = i + 1\n",
    "        return st[n]\n",
    "solution = Solution()\n",
    "%time solution.climbStairs(n)"
   ]
  },
  {
   "cell_type": "code",
   "execution_count": null,
   "metadata": {},
   "outputs": [],
   "source": []
  }
 ],
 "metadata": {
  "kernelspec": {
   "display_name": "Python 3",
   "language": "python",
   "name": "python3"
  },
  "language_info": {
   "codemirror_mode": {
    "name": "ipython",
    "version": 3
   },
   "file_extension": ".py",
   "mimetype": "text/x-python",
   "name": "python",
   "nbconvert_exporter": "python",
   "pygments_lexer": "ipython3",
   "version": "3.6.7"
  }
 },
 "nbformat": 4,
 "nbformat_minor": 2
}
