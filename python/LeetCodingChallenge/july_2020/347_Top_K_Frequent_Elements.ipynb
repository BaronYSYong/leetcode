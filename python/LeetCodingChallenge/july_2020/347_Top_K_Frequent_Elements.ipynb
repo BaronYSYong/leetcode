{
 "cells": [
  {
   "cell_type": "markdown",
   "metadata": {},
   "source": [
    "# Top K Frequent Elements\n",
    "\n",
    "Given a non-empty array of integers, return the k most frequent elements.\n",
    "\n",
    "Example 1:\n",
    "```\n",
    "Input: nums = [1,1,1,2,2,3], k = 2\n",
    "Output: [1,2]\n",
    "```\n",
    "Example 2:\n",
    "```\n",
    "Input: nums = [1], k = 1\n",
    "Output: [1]\n",
    "```\n",
    "Note:\n",
    "\n",
    "* You may assume k is always valid, 1 ≤ k ≤ number of unique elements.\n",
    "* Your algorithm's time complexity must be better than O(n log n), where n is the array's size.\n",
    "* It's guaranteed that the answer is unique, in other words the set of the top k frequent elements is unique.\n",
    "* You can return the answer in any order."
   ]
  },
  {
   "cell_type": "markdown",
   "metadata": {},
   "source": [
    "## Reference\n",
    "* https://leetcode.com/articles/top-k-frequent-elements/"
   ]
  },
  {
   "cell_type": "code",
   "execution_count": 1,
   "metadata": {},
   "outputs": [],
   "source": [
    "nums = [1,1,1,2,2,3]; k = 2\n",
    "# nums = [1]; k = 1"
   ]
  },
  {
   "cell_type": "code",
   "execution_count": 2,
   "metadata": {},
   "outputs": [],
   "source": [
    "from typing import List"
   ]
  },
  {
   "cell_type": "code",
   "execution_count": 3,
   "metadata": {},
   "outputs": [
    {
     "name": "stdout",
     "output_type": "stream",
     "text": [
      "CPU times: user 11 µs, sys: 1e+03 ns, total: 12 µs\n",
      "Wall time: 12.9 µs\n"
     ]
    },
    {
     "data": {
      "text/plain": [
       "[1, 2]"
      ]
     },
     "execution_count": 3,
     "metadata": {},
     "output_type": "execute_result"
    }
   ],
   "source": [
    "# my answer, 108 ms, 18.5 MB\n",
    "class Solution:\n",
    "    def topKFrequent(self, nums: List[int], k: int) -> List[int]:\n",
    "        nums_dict = {}\n",
    "        for num in nums:\n",
    "            if num not in nums_dict:\n",
    "                nums_dict[num] = 1\n",
    "            else:\n",
    "                nums_dict[num] += 1\n",
    "        nums_frequent = [k for k, v in sorted(nums_dict.items(), key = lambda item: item[1], reverse=True)]\n",
    "        return nums_frequent[:k]\n",
    "\n",
    "solution = Solution()\n",
    "%time solution.topKFrequent(nums, k)"
   ]
  },
  {
   "cell_type": "code",
   "execution_count": 4,
   "metadata": {},
   "outputs": [
    {
     "name": "stdout",
     "output_type": "stream",
     "text": [
      "CPU times: user 541 µs, sys: 0 ns, total: 541 µs\n",
      "Wall time: 549 µs\n"
     ]
    },
    {
     "data": {
      "text/plain": [
       "[1, 2]"
      ]
     },
     "execution_count": 4,
     "metadata": {},
     "output_type": "execute_result"
    }
   ],
   "source": [
    "# fastest answer, 80ms\n",
    "from collections import Counter\n",
    "import heapq\n",
    "class Solution:\n",
    "    def topKFrequent(self, nums: List[int], k: int) -> List[int]:\n",
    "        if k == len(nums):\n",
    "            nums\n",
    "        \n",
    "        count = Counter(nums)\n",
    "        return heapq.nlargest(k,count.keys(), key= count.get)\n",
    "    \n",
    "solution = Solution()\n",
    "%time solution.topKFrequent(nums, k)"
   ]
  }
 ],
 "metadata": {
  "kernelspec": {
   "display_name": "Python 3",
   "language": "python",
   "name": "python3"
  },
  "language_info": {
   "codemirror_mode": {
    "name": "ipython",
    "version": 3
   },
   "file_extension": ".py",
   "mimetype": "text/x-python",
   "name": "python",
   "nbconvert_exporter": "python",
   "pygments_lexer": "ipython3",
   "version": "3.6.7"
  }
 },
 "nbformat": 4,
 "nbformat_minor": 2
}
