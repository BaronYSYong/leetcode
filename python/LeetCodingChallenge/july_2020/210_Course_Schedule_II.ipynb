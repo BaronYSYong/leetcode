{
 "cells": [
  {
   "cell_type": "markdown",
   "metadata": {},
   "source": [
    "# Course Schedule II\n",
    "\n",
    "There are a total of n courses you have to take, labeled from 0 to n-1.\n",
    "\n",
    "Some courses may have prerequisites, for example to take course 0 you have to first take course 1, which is expressed as a pair: [0,1]\n",
    "\n",
    "Given the total number of courses and a list of prerequisite pairs, return the ordering of courses you should take to finish all courses.\n",
    "\n",
    "There may be multiple correct orders, you just need to return one of them. If it is impossible to finish all courses, return an empty array.\n",
    "\n",
    "Example 1:\n",
    "```\n",
    "Input: 2, [[1,0]] \n",
    "Output: [0,1]\n",
    "Explanation: There are a total of 2 courses to take. To take course 1 you should have finished   \n",
    "             course 0. So the correct course order is [0,1] .\n",
    "```\n",
    "Example 2:\n",
    "```\n",
    "Input: 4, [[1,0],[2,0],[3,1],[3,2]]\n",
    "Output: [0,1,2,3] or [0,2,1,3]\n",
    "Explanation: There are a total of 4 courses to take. To take course 3 you should have finished both     \n",
    "             courses 1 and 2. Both courses 1 and 2 should be taken after you finished course 0. \n",
    "             So one correct course order is [0,1,2,3]. Another correct ordering is [0,2,1,3] .\n",
    "```\n",
    "Note:\n",
    "\n",
    "1. The input prerequisites is a graph represented by a list of edges, not adjacency matrices. Read more about how a graph is represented.\n",
    "1. You may assume that there are no duplicate edges in the input prerequisites.\n",
    "\n",
    "Hint:  \n",
    "1. This problem is equivalent to finding the topological order in a directed graph. If a cycle exists, no topological ordering exists and therefore it will be impossible to take all courses.\n",
    "1. Topological Sort via DFS - A great video tutorial (21 minutes) on Coursera explaining the basic concepts of Topological Sort.\n",
    "1. Topological sort could also be done via BFS."
   ]
  },
  {
   "cell_type": "markdown",
   "metadata": {},
   "source": [
    "## Reference\n",
    "* https://www.youtube.com/watch?v=_BGK0kpE4oE\n",
    "* https://leetcode.com/articles/course-schedule-ii/"
   ]
  },
  {
   "cell_type": "code",
   "execution_count": 1,
   "metadata": {},
   "outputs": [],
   "source": [
    "from typing import List"
   ]
  },
  {
   "cell_type": "code",
   "execution_count": 2,
   "metadata": {},
   "outputs": [],
   "source": [
    "numCourses = 4; prerequisites = [[1,0],[2,0],[3,1],[3,2]]"
   ]
  },
  {
   "cell_type": "code",
   "execution_count": 3,
   "metadata": {},
   "outputs": [
    {
     "name": "stdout",
     "output_type": "stream",
     "text": [
      "CPU times: user 11 µs, sys: 1 µs, total: 12 µs\n",
      "Wall time: 13.8 µs\n"
     ]
    },
    {
     "data": {
      "text/plain": [
       "[0, 2, 1, 3]"
      ]
     },
     "execution_count": 3,
     "metadata": {},
     "output_type": "execute_result"
    }
   ],
   "source": [
    "# answer in https://www.youtube.com/watch?v=_BGK0kpE4oE, 108 ms, 15.8 MB\n",
    "class Solution:\n",
    "    def findOrder(self, numCourses: int, prerequisites: List[List[int]]) -> List[int]:\n",
    "        self.adj = [[] for _ in range(numCourses)]\n",
    "        for courses in prerequisites:\n",
    "            self.adj[courses[1]].append(courses[0])\n",
    "            \n",
    "        self.s = []\n",
    "        self.visited = [0] * numCourses\n",
    "        for i in range(numCourses):\n",
    "            if self.visited[i] == 0 and self.dfs(i): \n",
    "                return []\n",
    "        self.s.reverse()\n",
    "        return self.s\n",
    "    \n",
    "    def dfs(self, u):\n",
    "        self.visited[u] = 1\n",
    "        for v in self.adj[u]:\n",
    "            if self.visited[v] == 1: \n",
    "                return True\n",
    "            if self.visited[v] == 0 and self.dfs(v): \n",
    "                return True\n",
    "        \n",
    "        self.visited[u] = 2\n",
    "        self.s.append(u)\n",
    "        return False\n",
    "\n",
    "solution = Solution()\n",
    "%time solution.findOrder(numCourses, prerequisites)"
   ]
  },
  {
   "cell_type": "code",
   "execution_count": 4,
   "metadata": {},
   "outputs": [
    {
     "name": "stdout",
     "output_type": "stream",
     "text": [
      "CPU times: user 13 µs, sys: 1e+03 ns, total: 14 µs\n",
      "Wall time: 16.5 µs\n"
     ]
    },
    {
     "data": {
      "text/plain": [
       "[0, 1, 2, 3]"
      ]
     },
     "execution_count": 4,
     "metadata": {},
     "output_type": "execute_result"
    }
   ],
   "source": [
    "# fastest answer, 80 ms\n",
    "from collections import defaultdict\n",
    "\n",
    "class Solution:\n",
    "    def findOrder(self, num: int, p: List[List[int]]) -> List[int]:\n",
    "        \n",
    "        e = defaultdict(list)\n",
    "        d = defaultdict(int)\n",
    "        \n",
    "        for b, a in p:\n",
    "            e[a].append(b)\n",
    "            d[b] += 1\n",
    "        \n",
    "        res = []\n",
    "        for i in range(num):\n",
    "            if not d[i]:\n",
    "                res.append(i)\n",
    "        \n",
    "        for ele in res:\n",
    "            for end in e[ele]:\n",
    "                d[end] -= 1\n",
    "                if not d[end]:\n",
    "                    res.append(end)\n",
    "        \n",
    "        return (res if len(res) == num else [])\n",
    "    \n",
    "solution = Solution()\n",
    "%time solution.findOrder(numCourses, prerequisites)"
   ]
  },
  {
   "cell_type": "code",
   "execution_count": 5,
   "metadata": {},
   "outputs": [
    {
     "name": "stdout",
     "output_type": "stream",
     "text": [
      "CPU times: user 14 µs, sys: 1 µs, total: 15 µs\n",
      "Wall time: 17.6 µs\n"
     ]
    },
    {
     "data": {
      "text/plain": [
       "[0, 1, 2, 3]"
      ]
     },
     "execution_count": 5,
     "metadata": {},
     "output_type": "execute_result"
    }
   ],
   "source": [
    "# least memory, 14.78 MB\n",
    "from collections import defaultdict\n",
    "from collections import deque\n",
    "\n",
    "\n",
    "class Solution:\n",
    "    def findOrder(self, numCourses: int, prerequisites: List[List[int]]) -> List[int]:\n",
    "        return solution_topological_sort_bfs(numCourses, prerequisites)\n",
    "    \n",
    "\"\"\"\n",
    "\n",
    "[[1,0],[2,0],[3,1],[3,2]]\n",
    "\n",
    "{\n",
    "    0: [1, 2],\n",
    "    1: [3],\n",
    "    2: [3],\n",
    "}\n",
    "\n",
    "0 -> 1 -> 3\n",
    "0 -> 2 -> 3\n",
    "\n",
    "\"\"\"\n",
    "\n",
    "\n",
    "def solution_topological_sort_bfs(num_courses, prerequisites):\n",
    "    course_dependencies = defaultdict(list)\n",
    "    in_degrees = [0] * num_courses\n",
    "    for course, prereq in prerequisites:\n",
    "        course_dependencies[prereq].append(course)\n",
    "        in_degrees[course] +=  1\n",
    "        \n",
    "    to_visit = deque([course for course, degree in enumerate(in_degrees) if degree == 0])\n",
    "    result = []\n",
    "    \n",
    "    while to_visit:\n",
    "        course = to_visit.popleft()\n",
    "        result.append(course)\n",
    "        for next_course in course_dependencies[course]:\n",
    "            in_degrees[next_course] -= 1\n",
    "            if in_degrees[next_course] == 0:\n",
    "                to_visit.append(next_course)\n",
    "    \n",
    "    for course, degree in enumerate(in_degrees):\n",
    "        if degree != 0:\n",
    "            return []\n",
    "        if course not in course_dependencies:\n",
    "            result.append(course)\n",
    "            \n",
    "    return result\n",
    "\n",
    "solution = Solution()\n",
    "%time solution.findOrder(numCourses, prerequisites)"
   ]
  }
 ],
 "metadata": {
  "kernelspec": {
   "display_name": "Python 3",
   "language": "python",
   "name": "python3"
  },
  "language_info": {
   "codemirror_mode": {
    "name": "ipython",
    "version": 3
   },
   "file_extension": ".py",
   "mimetype": "text/x-python",
   "name": "python",
   "nbconvert_exporter": "python",
   "pygments_lexer": "ipython3",
   "version": "3.6.7"
  }
 },
 "nbformat": 4,
 "nbformat_minor": 2
}
