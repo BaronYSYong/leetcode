{
 "cells": [
  {
   "cell_type": "markdown",
   "metadata": {},
   "source": [
    "# Prison Cells After N Days\n",
    "\n",
    "There are 8 prison cells in a row, and each cell is either occupied or vacant.\n",
    "\n",
    "Each day, whether the cell is occupied or vacant changes according to the following rules:\n",
    "\n",
    "If a cell has two adjacent neighbors that are both occupied or both vacant, then the cell becomes occupied.\n",
    "Otherwise, it becomes vacant.\n",
    "(Note that because the prison is a row, the first and the last cells in the row can't have two adjacent neighbors.)\n",
    "\n",
    "We describe the current state of the prison in the following way: cells[i] == 1 if the i-th cell is occupied, else cells[i] == 0.\n",
    "\n",
    "Given the initial state of the prison, return the state of the prison after N days (and N such changes described above.)\n",
    "\n",
    " \n",
    "\n",
    "Example 1:\n",
    "```\n",
    "Input: cells = [0,1,0,1,1,0,0,1], N = 7\n",
    "Output: [0,0,1,1,0,0,0,0]\n",
    "Explanation: \n",
    "The following table summarizes the state of the prison on each day:\n",
    "Day 0: [0, 1, 0, 1, 1, 0, 0, 1]\n",
    "Day 1: [0, 1, 1, 0, 0, 0, 0, 0]\n",
    "Day 2: [0, 0, 0, 0, 1, 1, 1, 0]\n",
    "Day 3: [0, 1, 1, 0, 0, 1, 0, 0]\n",
    "Day 4: [0, 0, 0, 0, 0, 1, 0, 0]\n",
    "Day 5: [0, 1, 1, 1, 0, 1, 0, 0]\n",
    "Day 6: [0, 0, 1, 0, 1, 1, 0, 0]\n",
    "Day 7: [0, 0, 1, 1, 0, 0, 0, 0]\n",
    "```\n",
    "Example 2:\n",
    "```\n",
    "Input: cells = [1,0,0,1,0,0,1,0], N = 1000000000\n",
    "Output: [0,0,1,1,1,1,1,0]\n",
    "```\n",
    "\n",
    "Note:\n",
    "\n",
    "cells.length == 8\n",
    "cells[i] is in {0, 1}\n",
    "1 <= N <= 10^9"
   ]
  },
  {
   "cell_type": "code",
   "execution_count": 1,
   "metadata": {},
   "outputs": [],
   "source": [
    "from typing import List"
   ]
  },
  {
   "cell_type": "code",
   "execution_count": 2,
   "metadata": {},
   "outputs": [],
   "source": [
    "cells = [1,0,0,1,0,0,1,0]\n",
    "N = 1000000000"
   ]
  },
  {
   "cell_type": "code",
   "execution_count": 3,
   "metadata": {},
   "outputs": [],
   "source": [
    "# answer in https://www.youtube.com/watch?v=XaayRYdKG0I, 44ms, 14MB\n",
    "class Solution:\n",
    "    def prisonAfterNDays(self, cells: List[int], N: int) -> List[int]:\n",
    "        _map = {}\n",
    "        self.cells = cells\n",
    "        for i in range(N):\n",
    "            s = str(self.cells)\n",
    "            if s in _map:\n",
    "                loop_length = i - _map[s]\n",
    "                remaining_days = (N-i) % loop_length\n",
    "                return self.prisonAfterNDays(self.cells, remaining_days)\n",
    "            else:\n",
    "                _map[s] = i\n",
    "                prev = self.cells[0]\n",
    "                for j in range(1, 7):\n",
    "                    curr, next = self.cells[j], self.cells[j+1]\n",
    "                    self.cells[j] = 1 - (prev ^ next)\n",
    "                    prev = curr\n",
    "            self.cells[0], self.cells[7] = 0, 0\n",
    "        return self.cells\n",
    "        "
   ]
  },
  {
   "cell_type": "code",
   "execution_count": 4,
   "metadata": {},
   "outputs": [],
   "source": [
    "# fastest answer, 24ms\n",
    "class Solution:\n",
    "    def prisonAfterNDays(self, cells: List[int], N: int) -> List[int]:\n",
    "        if not N:\n",
    "            return cells\n",
    "        \n",
    "        while N:\n",
    "            state = cells.copy()\n",
    "            for i in range(len(cells)):\n",
    "                if i == 0 or i == len(state) - 1:\n",
    "                    cells[i] = 0\n",
    "                else:\n",
    "                    if state[i-1] == state[i+1]:\n",
    "                        cells[i] = 1\n",
    "                    else:\n",
    "                        cells[i] = 0\n",
    "            N = (N-1) % 14\n",
    "        return cells\n",
    "    \n",
    "        '''\n",
    "        first = True\n",
    "        while(N):\n",
    "            tempList = [0]*8\n",
    "            if first:\n",
    "                tempList[7] = 0\n",
    "                tempList[0] = 0\n",
    "                first = False\n",
    "            for i in range(1,7):\n",
    "                if (cells[i-1] and cells[i+1]) or (not (cells[i-1] or cells[i+1])):\n",
    "                    tempList[i] = 1\n",
    "\n",
    "            cells = tempList\n",
    "            N -= 1\n",
    "        \n",
    "        return cells\n",
    "        '''\n",
    "                "
   ]
  },
  {
   "cell_type": "code",
   "execution_count": 5,
   "metadata": {},
   "outputs": [],
   "source": [
    "# least memory, 13.512MB\n",
    "class Solution:\n",
    "    def prisonAfterNDays(self, cells: List[int], N: int) -> List[int]:\n",
    "        \n",
    "        def helper(cells):\n",
    "            ans=[0]*8\n",
    "            for i in range(1,7):\n",
    "                if cells[i-1]==cells[i+1]:\n",
    "                    ans[i]=1\n",
    "                else:\n",
    "                    ans[i]=0\n",
    "            return ans\n",
    "        for i in range((N-1)%14+1):\n",
    "            cells=helper(cells)\n",
    "        return cells"
   ]
  }
 ],
 "metadata": {
  "kernelspec": {
   "display_name": "Python 3",
   "language": "python",
   "name": "python3"
  },
  "language_info": {
   "codemirror_mode": {
    "name": "ipython",
    "version": 3
   },
   "file_extension": ".py",
   "mimetype": "text/x-python",
   "name": "python",
   "nbconvert_exporter": "python",
   "pygments_lexer": "ipython3",
   "version": "3.6.7"
  }
 },
 "nbformat": 4,
 "nbformat_minor": 2
}
