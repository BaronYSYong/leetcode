{
 "cells": [
  {
   "cell_type": "markdown",
   "metadata": {},
   "source": [
    "# 3Sum\n",
    "\n",
    "Given an array nums of n integers, are there elements a, b, c in nums such that a + b + c = 0? Find all unique triplets in the array which gives the sum of zero.\n",
    "\n",
    "Note:\n",
    "\n",
    "The solution set must not contain duplicate triplets.\n",
    "\n",
    "Example:\n",
    "```\n",
    "Given array nums = [-1, 0, 1, 2, -1, -4],\n",
    "\n",
    "A solution set is:\n",
    "[\n",
    "  [-1, 0, 1],\n",
    "  [-1, -1, 2]\n",
    "]\n",
    "```"
   ]
  },
  {
   "cell_type": "markdown",
   "metadata": {},
   "source": [
    "## Reference\n",
    "* https://www.youtube.com/watch?v=Ca7k53qcTic"
   ]
  },
  {
   "cell_type": "code",
   "execution_count": 1,
   "metadata": {},
   "outputs": [],
   "source": [
    "nums = [-1, 0, 1, 2, -1, -4]"
   ]
  },
  {
   "cell_type": "code",
   "execution_count": 2,
   "metadata": {},
   "outputs": [],
   "source": [
    "from typing import List"
   ]
  },
  {
   "cell_type": "code",
   "execution_count": 3,
   "metadata": {},
   "outputs": [
    {
     "name": "stdout",
     "output_type": "stream",
     "text": [
      "CPU times: user 12 µs, sys: 0 ns, total: 12 µs\n",
      "Wall time: 15.5 µs\n"
     ]
    },
    {
     "data": {
      "text/plain": [
       "[[-1, -1, 2], [-1, 0, 1]]"
      ]
     },
     "execution_count": 3,
     "metadata": {},
     "output_type": "execute_result"
    }
   ],
   "source": [
    "# answer in https://www.youtube.com/watch?v=Ca7k53qcTic, 940ms, 17.4MB\n",
    "class Solution:\n",
    "    def threeSum(self, nums: List[int]) -> List[List[int]]:\n",
    "        n = len(nums)\n",
    "        if n < 3: \n",
    "            return []\n",
    "        \n",
    "        result = []\n",
    "        nums.sort()\n",
    "        for i in range(n-2):\n",
    "            if i == 0 or nums[i] != nums[i-1]:\n",
    "                j, k = i+1, n-1\n",
    "                while j < k:\n",
    "                    sums = nums[i] + nums[j] + nums[k]\n",
    "                    if sums == 0:\n",
    "                        result.append([nums[i], nums[j], nums[k]])\n",
    "                        while j < k and nums[j] == nums[j+1]:\n",
    "                            j += 1\n",
    "                        while j < k and nums[k] == nums[k-1]:\n",
    "                            k -= 1\n",
    "                        j, k = j+1, k-1\n",
    "                    elif sums > 0:\n",
    "                        k -= 1\n",
    "                    else:\n",
    "                        j += 1\n",
    "        return result\n",
    "\n",
    "solution = Solution()\n",
    "%time solution.threeSum(nums)"
   ]
  },
  {
   "cell_type": "code",
   "execution_count": 4,
   "metadata": {},
   "outputs": [
    {
     "name": "stdout",
     "output_type": "stream",
     "text": [
      "CPU times: user 14 µs, sys: 0 ns, total: 14 µs\n",
      "Wall time: 16 µs\n"
     ]
    },
    {
     "data": {
      "text/plain": [
       "[(-1, -1, 2), (-1, 0, 1)]"
      ]
     },
     "execution_count": 4,
     "metadata": {},
     "output_type": "execute_result"
    }
   ],
   "source": [
    "from bisect import bisect_left, bisect_right\n",
    "\n",
    "# fastest answer, 180ms\n",
    "class Solution:\n",
    "    def threeSum(self,n):\n",
    "        f={}\n",
    "        for i in n:f[i]=f.get(i,0)+1        \n",
    "        n=sorted(f)\n",
    "        a=[]        \n",
    "        for i,I in enumerate(n):\n",
    "            if not I:\n",
    "                if f[I]>2:a.append((0,0,0))\n",
    "            elif f[I]>1 and -2*I in f:a.append((I,I,-2*I))    \n",
    "            if I<0:\n",
    "                t=-I\n",
    "                l=bisect_left(n,t-n[-1],i+1)\n",
    "                r=bisect_right(n,t//2,l)\n",
    "                for J in n[l:r]:\n",
    "                    K=t-J\n",
    "                    if K in f and K!=J:a.append((I,J,K))\n",
    "        return a\n",
    "\n",
    "solution = Solution()\n",
    "%time solution.threeSum(nums)"
   ]
  },
  {
   "cell_type": "code",
   "execution_count": null,
   "metadata": {},
   "outputs": [],
   "source": []
  }
 ],
 "metadata": {
  "kernelspec": {
   "display_name": "Python 3",
   "language": "python",
   "name": "python3"
  },
  "language_info": {
   "codemirror_mode": {
    "name": "ipython",
    "version": 3
   },
   "file_extension": ".py",
   "mimetype": "text/x-python",
   "name": "python",
   "nbconvert_exporter": "python",
   "pygments_lexer": "ipython3",
   "version": "3.6.7"
  }
 },
 "nbformat": 4,
 "nbformat_minor": 2
}
