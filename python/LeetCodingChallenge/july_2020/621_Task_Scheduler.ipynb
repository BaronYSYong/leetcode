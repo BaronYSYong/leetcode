{
 "cells": [
  {
   "cell_type": "markdown",
   "metadata": {},
   "source": [
    "# Task Scheduler\n",
    "\n",
    "You are given a char array representing tasks CPU need to do. It contains capital letters A to Z where each letter represents a different task. Tasks could be done without the original order of the array. Each task is done in one unit of time. For each unit of time, the CPU could complete either one task or just be idle.\n",
    "\n",
    "However, there is a non-negative integer n that represents the cooldown period between two same tasks (the same letter in the array), that is that there must be at least n units of time between any two same tasks.\n",
    "\n",
    "You need to return the least number of units of times that the CPU will take to finish all the given tasks.\n",
    "\n",
    "\n",
    "Example 1:\n",
    "```\n",
    "Input: tasks = [\"A\",\"A\",\"A\",\"B\",\"B\",\"B\"], n = 2\n",
    "Output: 8\n",
    "Explanation: \n",
    "A -> B -> idle -> A -> B -> idle -> A -> B\n",
    "There is at least 2 units of time between any two same tasks.\n",
    "```\n",
    "Example 2:\n",
    "```\n",
    "Input: tasks = [\"A\",\"A\",\"A\",\"B\",\"B\",\"B\"], n = 0\n",
    "Output: 6\n",
    "Explanation: On this case any permutation of size 6 would work since n = 0.\n",
    "[\"A\",\"A\",\"A\",\"B\",\"B\",\"B\"]\n",
    "[\"A\",\"B\",\"A\",\"B\",\"A\",\"B\"]\n",
    "[\"B\",\"B\",\"B\",\"A\",\"A\",\"A\"]\n",
    "...\n",
    "And so on.\n",
    "```\n",
    "Example 3:\n",
    "```\n",
    "Input: tasks = [\"A\",\"A\",\"A\",\"A\",\"A\",\"A\",\"B\",\"C\",\"D\",\"E\",\"F\",\"G\"], n = 2\n",
    "Output: 16\n",
    "Explanation: \n",
    "One possible solution is\n",
    "A -> B -> C -> A -> D -> E -> A -> F -> G -> A -> idle -> idle -> A -> idle -> idle -> A\n",
    " ```\n",
    "\n",
    "Constraints:\n",
    "\n",
    "* The number of tasks is in the range [1, 10000].\n",
    "* The integer n is in the range [0, 100]."
   ]
  },
  {
   "cell_type": "code",
   "execution_count": 1,
   "metadata": {},
   "outputs": [],
   "source": [
    "tasks = [\"A\",\"A\",\"A\",\"A\",\"A\",\"A\",\"B\",\"C\",\"D\",\"E\",\"F\",\"G\"]; n = 2"
   ]
  },
  {
   "cell_type": "code",
   "execution_count": 2,
   "metadata": {},
   "outputs": [],
   "source": [
    "from typing import List"
   ]
  },
  {
   "cell_type": "markdown",
   "metadata": {},
   "source": [
    "## Reference\n",
    "* https://www.youtube.com/watch?v=CHlCkJadQ7o&t=330s"
   ]
  },
  {
   "cell_type": "code",
   "execution_count": 3,
   "metadata": {},
   "outputs": [
    {
     "name": "stdout",
     "output_type": "stream",
     "text": [
      "CPU times: user 22 µs, sys: 1 µs, total: 23 µs\n",
      "Wall time: 26 µs\n"
     ]
    },
    {
     "data": {
      "text/plain": [
       "16"
      ]
     },
     "execution_count": 3,
     "metadata": {},
     "output_type": "execute_result"
    }
   ],
   "source": [
    "# answer in https://www.youtube.com/watch?v=CHlCkJadQ7o&t=330s, 444 ms, 14 MB\n",
    "class Solution:\n",
    "    def leastInterval(self, tasks: List[str], n: int) -> int:\n",
    "        d = {}\n",
    "        for i in tasks:\n",
    "            if i in d:\n",
    "                d[i] += 1\n",
    "            else:\n",
    "                d[i] = 1\n",
    "        lst = sorted(d.values(), reverse=True)\n",
    "        max_number = lst[0]\n",
    "        \n",
    "        i = 0\n",
    "        count = 0\n",
    "        while i < len(lst) and lst[i] == max_number:\n",
    "            count += 1\n",
    "            i += 1\n",
    "            \n",
    "        ret = (max_number - 1) * (n + 1) + count\n",
    "        return max(ret, len(tasks))\n",
    "solution = Solution()\n",
    "%time solution.leastInterval(tasks, n)"
   ]
  },
  {
   "cell_type": "code",
   "execution_count": 4,
   "metadata": {},
   "outputs": [
    {
     "name": "stdout",
     "output_type": "stream",
     "text": [
      "CPU times: user 848 µs, sys: 19 µs, total: 867 µs\n",
      "Wall time: 900 µs\n"
     ]
    },
    {
     "data": {
      "text/plain": [
       "16"
      ]
     },
     "execution_count": 4,
     "metadata": {},
     "output_type": "execute_result"
    }
   ],
   "source": [
    "# fastest answer, 392 ms\n",
    "import collections\n",
    "class Solution:\n",
    "    def leastInterval(self, tasks: List[str], n: int) -> int:\n",
    "        count = collections.Counter(tasks)\n",
    "        lst = sorted(count.values(), reverse=True)\n",
    "        maxCount = lst[0]\n",
    "        i = 0\n",
    "        counter = 0\n",
    "        \n",
    "        while i<len(lst) and lst[i]==maxCount:\n",
    "            counter+=1\n",
    "            i+=1\n",
    "        \n",
    "        ret = (maxCount-1)*(n+1)+counter\n",
    "        return max(ret, len(tasks))\n",
    "solution = Solution()\n",
    "%time solution.leastInterval(tasks, n)"
   ]
  },
  {
   "cell_type": "code",
   "execution_count": 5,
   "metadata": {},
   "outputs": [
    {
     "name": "stdout",
     "output_type": "stream",
     "text": [
      "Counter({'A': 6, 'B': 1, 'C': 1, 'D': 1, 'E': 1, 'F': 1, 'G': 1})\n",
      "Counter({'A': 5, 'D': 1, 'E': 1, 'F': 1, 'G': 1})\n",
      "Counter({'A': 4, 'F': 1, 'G': 1})\n",
      "Counter({'A': 3})\n",
      "Counter({'A': 2})\n",
      "Counter({'A': 1})\n",
      "CPU times: user 0 ns, sys: 756 µs, total: 756 µs\n",
      "Wall time: 725 µs\n"
     ]
    },
    {
     "data": {
      "text/plain": [
       "16"
      ]
     },
     "execution_count": 5,
     "metadata": {},
     "output_type": "execute_result"
    }
   ],
   "source": [
    "from collections import Counter\n",
    "import heapq\n",
    "# least memory, 13.724 MB\n",
    "class Solution:\n",
    "    def leastInterval(self, tasks: List[str], n: int) -> int:\n",
    "        '''\n",
    "        greedy algorithm want to take the most frequent tasks\n",
    "        AAAABBBB n = 2\n",
    "        total_time = 0\n",
    "        \n",
    "        while n > 0:\n",
    "            get the most frequent element \n",
    "            \n",
    "        make a helper function to get the most frequent task that is not prev\n",
    "        \n",
    "        if there is just one task left, means we can n*task_freq\n",
    "        '''\n",
    "        \n",
    "        if n == 0:\n",
    "            return len(tasks)\n",
    "        \n",
    "        counter = 0\n",
    "        self.task_counter = Counter(tasks)\n",
    "        \n",
    "        while len(self.task_counter) > 0:\n",
    "            print(self.task_counter)\n",
    "            temp = n+1\n",
    "            heap = self.createHeap();\n",
    "            \n",
    "            while(temp > 0 and len(self.task_counter) > 0):\n",
    "                self.removeMostFreq(heap)\n",
    "                counter += 1\n",
    "                temp -= 1\n",
    "                \n",
    "        return counter\n",
    "                \n",
    "                \n",
    "    def createHeap(self):\n",
    "        heap = [(-value, key) for key, value in self.task_counter.items()]\n",
    "        heapq.heapify(heap)\n",
    "        return heap\n",
    "    \n",
    "    def removeMostFreq(self, heap):\n",
    "        \n",
    "        if len(heap) == 0:\n",
    "            return\n",
    "        else:\n",
    "            most_freq_el = heapq.heappop(heap)\n",
    "            self.task_counter[most_freq_el[1]] -= 1\n",
    "            \n",
    "            if self.task_counter[most_freq_el[1]] == 0:\n",
    "                self.task_counter.pop(most_freq_el[1])\n",
    "        \n",
    "solution = Solution()\n",
    "%time solution.leastInterval(tasks, n)"
   ]
  },
  {
   "cell_type": "code",
   "execution_count": null,
   "metadata": {},
   "outputs": [],
   "source": []
  }
 ],
 "metadata": {
  "kernelspec": {
   "display_name": "Python 3",
   "language": "python",
   "name": "python3"
  },
  "language_info": {
   "codemirror_mode": {
    "name": "ipython",
    "version": 3
   },
   "file_extension": ".py",
   "mimetype": "text/x-python",
   "name": "python",
   "nbconvert_exporter": "python",
   "pygments_lexer": "ipython3",
   "version": "3.6.7"
  }
 },
 "nbformat": 4,
 "nbformat_minor": 2
}
