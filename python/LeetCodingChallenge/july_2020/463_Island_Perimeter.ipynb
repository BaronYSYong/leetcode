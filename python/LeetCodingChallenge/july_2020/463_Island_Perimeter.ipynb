{
 "cells": [
  {
   "cell_type": "markdown",
   "metadata": {},
   "source": [
    "# Island Perimeter\n",
    "\n",
    "You are given a map in form of a two-dimensional integer grid where 1 represents land and 0 represents water.\n",
    "\n",
    "Grid cells are connected horizontally/vertically (not diagonally). The grid is completely surrounded by water, and there is exactly one island (i.e., one or more connected land cells).\n",
    "\n",
    "The island doesn't have \"lakes\" (water inside that isn't connected to the water around the island). One cell is a square with side length 1. The grid is rectangular, width and height don't exceed 100. Determine the perimeter of the island.\n",
    "\n",
    " \n",
    "\n",
    "Example:\n",
    "```\n",
    "Input:\n",
    "[[0,1,0,0],\n",
    " [1,1,1,0],\n",
    " [0,1,0,0],\n",
    " [1,1,0,0]]\n",
    "\n",
    "Output: 16\n",
    "```"
   ]
  },
  {
   "cell_type": "markdown",
   "metadata": {},
   "source": [
    "## Reference\n",
    "* https://www.youtube.com/watch?v=UcEYCLPWREQ"
   ]
  },
  {
   "cell_type": "code",
   "execution_count": 1,
   "metadata": {},
   "outputs": [],
   "source": [
    "grid = [[0,1,0,0],[1,1,1,0],[0,1,0,0],[1,1,0,0]]"
   ]
  },
  {
   "cell_type": "code",
   "execution_count": 2,
   "metadata": {},
   "outputs": [],
   "source": [
    "from typing import List"
   ]
  },
  {
   "cell_type": "code",
   "execution_count": 3,
   "metadata": {},
   "outputs": [
    {
     "name": "stdout",
     "output_type": "stream",
     "text": [
      "CPU times: user 9 µs, sys: 1e+03 ns, total: 10 µs\n",
      "Wall time: 10.7 µs\n"
     ]
    },
    {
     "data": {
      "text/plain": [
       "16"
      ]
     },
     "execution_count": 3,
     "metadata": {},
     "output_type": "execute_result"
    }
   ],
   "source": [
    "# normal array solution, 720ms, 14MB\n",
    "class Solution:\n",
    "    def islandPerimeter(self, grid: List[List[int]]) -> int:\n",
    "        perimeter = 0\n",
    "        r, c = len(grid), len(grid[0])\n",
    "        for i in range(r):\n",
    "            for j in range(c):\n",
    "                if grid[i][j] == 0:\n",
    "                    continue\n",
    "                perimeter += 4\n",
    "                if i > 0:\n",
    "                    perimeter -= grid[i-1][j]\n",
    "                if j > 0:\n",
    "                    perimeter -= grid[i][j-1]\n",
    "                if i < r-1:\n",
    "                    perimeter -= grid[i+1][j]\n",
    "                if j < c-1:\n",
    "                    perimeter -= grid[i][j+1]\n",
    "        return perimeter\n",
    "\n",
    "solution = Solution()\n",
    "%time solution.islandPerimeter(grid)"
   ]
  },
  {
   "cell_type": "code",
   "execution_count": 4,
   "metadata": {},
   "outputs": [
    {
     "name": "stdout",
     "output_type": "stream",
     "text": [
      "CPU times: user 15 µs, sys: 0 ns, total: 15 µs\n",
      "Wall time: 17.4 µs\n"
     ]
    },
    {
     "data": {
      "text/plain": [
       "16"
      ]
     },
     "execution_count": 4,
     "metadata": {},
     "output_type": "execute_result"
    }
   ],
   "source": [
    "# DFS method, 908ms, 17.6MB\n",
    "class Solution:\n",
    "    def islandPerimeter(self, grid: List[List[int]]) -> int:\n",
    "        self.perimeter = 0\n",
    "        r, c = len(grid), len(grid[0])        \n",
    "        \n",
    "        def dfs(grid, i, j):\n",
    "            grid[i][j] =2\n",
    "            if i == 0 or grid[i-1][j] == 0:\n",
    "                self.perimeter += 1\n",
    "            if i == r-1 or grid[i+1][j] == 0:\n",
    "                self.perimeter += 1\n",
    "            if j == 0 or grid[i][j-1] == 0:\n",
    "                self.perimeter += 1\n",
    "            if j == c-1 or grid[i][j+1] == 0:\n",
    "                self.perimeter += 1\n",
    "            \n",
    "            if i > 0 and grid[i-1][j] == 1:\n",
    "                dfs(grid, i-1, j)\n",
    "            if i < r-1 and grid[i+1][j] == 1:\n",
    "                dfs(grid, i+1, j)\n",
    "            if j > 0 and grid[i][j-1] == 1:\n",
    "                dfs(grid,i, j-1)\n",
    "            if j < c-1 and grid[i][j+1] == 1:\n",
    "                dfs(grid, i, j+1)\n",
    "            \n",
    "        for i in range(r):\n",
    "            for j in range(c):\n",
    "                if grid[i][j] == 1:\n",
    "                    dfs(grid, i, j)\n",
    "\n",
    "        return self.perimeter\n",
    "    \n",
    "solution = Solution()\n",
    "%time solution.islandPerimeter(grid)"
   ]
  },
  {
   "cell_type": "code",
   "execution_count": 5,
   "metadata": {},
   "outputs": [],
   "source": [
    "grid = [[0,1,0,0],[1,1,1,0],[0,1,0,0],[1,1,0,0]]"
   ]
  },
  {
   "cell_type": "code",
   "execution_count": 6,
   "metadata": {},
   "outputs": [
    {
     "name": "stdout",
     "output_type": "stream",
     "text": [
      "CPU times: user 8 µs, sys: 1 µs, total: 9 µs\n",
      "Wall time: 9.78 µs\n"
     ]
    },
    {
     "data": {
      "text/plain": [
       "16"
      ]
     },
     "execution_count": 6,
     "metadata": {},
     "output_type": "execute_result"
    }
   ],
   "source": [
    "# fastest answer, 452ms\n",
    "class Solution:\n",
    "    def islandPerimeter(self, grid: List[List[int]]) -> int:\n",
    "        rows = len(grid)\n",
    "        cols = len(grid[0])\n",
    "        \n",
    "        result = 0\n",
    "        \n",
    "        for r in range(rows):\n",
    "            for c in range(cols):\n",
    "                if grid[r][c] == 1:\n",
    "                    result += 4\n",
    "                    \n",
    "                    if r > 0 and grid[r-1][c] == 1:\n",
    "                        result -= 2\n",
    "                        \n",
    "                    if c > 0 and grid[r][c-1] == 1:\n",
    "                        result -= 2\n",
    "        \n",
    "        return result\n",
    "    \n",
    "solution = Solution()\n",
    "%time solution.islandPerimeter(grid)"
   ]
  },
  {
   "cell_type": "code",
   "execution_count": 7,
   "metadata": {},
   "outputs": [
    {
     "name": "stdout",
     "output_type": "stream",
     "text": [
      "CPU times: user 11 µs, sys: 0 ns, total: 11 µs\n",
      "Wall time: 12.4 µs\n"
     ]
    },
    {
     "data": {
      "text/plain": [
       "16"
      ]
     },
     "execution_count": 7,
     "metadata": {},
     "output_type": "execute_result"
    }
   ],
   "source": [
    "# least memory, 13.624MB\n",
    "class Solution:\n",
    "    def islandPerimeter(self, grid: List[List[int]]) -> int:\n",
    "        R = len(grid)\n",
    "        C = len(grid[0])\n",
    "        perimeter = 0\n",
    "        for r in range(R):\n",
    "            for c in range(C):\n",
    "                if grid[r][c] == 1:\n",
    "                    count = 0\n",
    "                    if r == 0 or grid[r-1][c] == 0:\n",
    "                        count += 1\n",
    "                    if r == R-1 or grid[r+1][c] == 0:\n",
    "                        count += 1\n",
    "                    if c == 0 or grid[r][c-1] == 0:\n",
    "                        count += 1\n",
    "                    if c == C-1 or grid[r][c+1] == 0:\n",
    "                        count += 1\n",
    "                    perimeter += count\n",
    "        return perimeter\n",
    "\n",
    "solution = Solution()\n",
    "%time solution.islandPerimeter(grid)"
   ]
  }
 ],
 "metadata": {
  "kernelspec": {
   "display_name": "Python 3",
   "language": "python",
   "name": "python3"
  },
  "language_info": {
   "codemirror_mode": {
    "name": "ipython",
    "version": 3
   },
   "file_extension": ".py",
   "mimetype": "text/x-python",
   "name": "python",
   "nbconvert_exporter": "python",
   "pygments_lexer": "ipython3",
   "version": "3.6.7"
  }
 },
 "nbformat": 4,
 "nbformat_minor": 2
}
