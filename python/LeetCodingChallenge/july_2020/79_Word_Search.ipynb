{
 "cells": [
  {
   "cell_type": "markdown",
   "metadata": {},
   "source": [
    "#  Word Search\n",
    "\n",
    "Given a 2D board and a word, find if the word exists in the grid.\n",
    "\n",
    "The word can be constructed from letters of sequentially adjacent cell, where \"adjacent\" cells are those horizontally or vertically neighboring. The same letter cell may not be used more than once.\n",
    "\n",
    "Example:\n",
    "```\n",
    "board =\n",
    "[\n",
    "  ['A','B','C','E'],\n",
    "  ['S','F','C','S'],\n",
    "  ['A','D','E','E']\n",
    "]\n",
    "\n",
    "Given word = \"ABCCED\", return true.\n",
    "Given word = \"SEE\", return true.\n",
    "Given word = \"ABCB\", return false.\n",
    "```\n",
    "\n",
    "Constraints:\n",
    "\n",
    "* board and word consists only of lowercase and uppercase English letters.\n",
    "* 1 <= board.length <= 200\n",
    "* 1 <= board[i].length <= 200\n",
    "* 1 <= word.length <= 10^3"
   ]
  },
  {
   "cell_type": "markdown",
   "metadata": {},
   "source": [
    "## Reference\n",
    "* https://www.youtube.com/watch?v=X0kX7PMOYi0"
   ]
  },
  {
   "cell_type": "code",
   "execution_count": 1,
   "metadata": {},
   "outputs": [],
   "source": [
    "board = [\n",
    "         ['A','B','C','E'],\n",
    "         ['S','F','C','S'],\n",
    "         ['A','D','E','E']\n",
    "        ]\n",
    "word = \"ABCCED\""
   ]
  },
  {
   "cell_type": "code",
   "execution_count": 2,
   "metadata": {},
   "outputs": [],
   "source": [
    "from typing import List"
   ]
  },
  {
   "cell_type": "code",
   "execution_count": 3,
   "metadata": {},
   "outputs": [
    {
     "name": "stdout",
     "output_type": "stream",
     "text": [
      "CPU times: user 14 µs, sys: 1e+03 ns, total: 15 µs\n",
      "Wall time: 16.9 µs\n"
     ]
    },
    {
     "data": {
      "text/plain": [
       "True"
      ]
     },
     "execution_count": 3,
     "metadata": {},
     "output_type": "execute_result"
    }
   ],
   "source": [
    "# answer in https://www.youtube.com/watch?v=X0kX7PMOYi0, 396 ms, 15.1 MB\n",
    "class Solution:\n",
    "    def exist(self, board: List[List[str]], word: str) -> bool:\n",
    "        r, c = len(board), len(board[0])\n",
    "        self.board = board\n",
    "        self.word = word\n",
    "        for i in range(r):\n",
    "            for j in range(c):\n",
    "                if board[i][j] == word[0] and self.search(i, j, 0):\n",
    "                    return True\n",
    "        return False\n",
    "    \n",
    "    def search(self, i, j, idx):\n",
    "        if idx == len(self.word) - 1:\n",
    "            return True\n",
    "        self. board[i][j] = chr(ord(self.board[i][j]) - 65)\n",
    "        \n",
    "        if i > 0 and self.board[i-1][j] == self.word[idx+1] and self.search(i-1, j, idx+1):\n",
    "            return True\n",
    "        if j > 0 and self.board[i][j-1] == self.word[idx+1] and self.search(i, j-1, idx+1):\n",
    "            return True\n",
    "        if i < len(self.board)-1 and self.board[i+1][j] == self.word[idx+1] and self.search(i+1, j, idx+1):\n",
    "            return True\n",
    "        if j < len(self.board[0])-1 and self.board[i][j+1] == self.word[idx+1] and self.search(i, j+1, idx+1):\n",
    "            return True\n",
    "        \n",
    "        self.board[i][j] = chr(ord(self.board[i][j]) + 65)\n",
    "        return False\n",
    "\n",
    "solution = Solution()\n",
    "%time solution.exist(board, word)"
   ]
  },
  {
   "cell_type": "code",
   "execution_count": 4,
   "metadata": {},
   "outputs": [],
   "source": [
    "board = [\n",
    "         ['A','B','C','E'],\n",
    "         ['S','F','C','S'],\n",
    "         ['A','D','E','E']\n",
    "        ]\n",
    "word = \"ABCCED\""
   ]
  },
  {
   "cell_type": "code",
   "execution_count": 5,
   "metadata": {},
   "outputs": [
    {
     "name": "stdout",
     "output_type": "stream",
     "text": [
      "CPU times: user 397 µs, sys: 31 µs, total: 428 µs\n",
      "Wall time: 432 µs\n"
     ]
    },
    {
     "data": {
      "text/plain": [
       "True"
      ]
     },
     "execution_count": 5,
     "metadata": {},
     "output_type": "execute_result"
    }
   ],
   "source": [
    "# fastest answer, 144 ms\n",
    "from itertools import chain\n",
    "from collections import Counter\n",
    "class Solution:\n",
    "    def exist(self, b, w):\n",
    "        if not b or not b[0]: return False\n",
    "        bc = Counter(chain(*b))\n",
    "        wc = Counter(w)\n",
    "        if any(c > bc[s] for s, c in wc.items()): return False\n",
    "        m, n, wl = len(b), len(b[0]), len(w) - 1\n",
    "        def dfs(d: int, x: int, y: int) -> bool:\n",
    "            if w[d] != b[y][x]: return False\n",
    "            if d == wl: return True\n",
    "            c, b[y][x] = b[y][x], ''\n",
    "            if x > 0 and dfs(d + 1, x - 1, y): return True\n",
    "            if x < n-1 and dfs(d + 1, x + 1, y): return True\n",
    "            if y > 0 and dfs(d + 1, x, y - 1): return True\n",
    "            if y < m-1 and dfs(d + 1, x, y + 1): return True\n",
    "            b[y][x] = c\n",
    "            return False\n",
    "        return any(dfs(0, j, i) for i in range(m) for j in range(n) if w[0] == b[i][j])\n",
    "\n",
    "solution = Solution()\n",
    "%time solution.exist(board, word)"
   ]
  },
  {
   "cell_type": "code",
   "execution_count": 6,
   "metadata": {},
   "outputs": [],
   "source": [
    "board = [\n",
    "         ['A','B','C','E'],\n",
    "         ['S','F','C','S'],\n",
    "         ['A','D','E','E']\n",
    "        ]\n",
    "word = \"ABCCED\""
   ]
  },
  {
   "cell_type": "code",
   "execution_count": 7,
   "metadata": {},
   "outputs": [
    {
     "name": "stdout",
     "output_type": "stream",
     "text": [
      "CPU times: user 44 µs, sys: 0 ns, total: 44 µs\n",
      "Wall time: 47.9 µs\n"
     ]
    },
    {
     "data": {
      "text/plain": [
       "True"
      ]
     },
     "execution_count": 7,
     "metadata": {},
     "output_type": "execute_result"
    }
   ],
   "source": [
    "# least memory, 14.244 MB\n",
    "class Solution:\n",
    "    def findWord(self, board, word, x, y):\n",
    "        if board[x][y] != word[0]:\n",
    "            return False\n",
    "        used = set([(x,y)])\n",
    "        path = [(x,y)]\n",
    "        dirs = [0]\n",
    "        while dirs:\n",
    "            if len(dirs) == len(word):\n",
    "                return True\n",
    "            x, y = path[-1]\n",
    "            if dirs[-1] == 0:\n",
    "                nx, ny = x - 1, y\n",
    "            elif dirs[-1] == 1:\n",
    "                nx, ny = x, y - 1\n",
    "            elif dirs[-1] == 2:\n",
    "                nx, ny = x + 1, y\n",
    "            elif dirs[-1] == 3:\n",
    "                nx, ny = x, y + 1\n",
    "            else:\n",
    "                used.remove(path[-1])\n",
    "                del path[-1]\n",
    "                del dirs[-1]\n",
    "                continue\n",
    "            dirs[-1] += 1\n",
    "            if nx < 0 or ny < 0 or nx >= len(board) or ny >= len(board[0]):\n",
    "                continue\n",
    "            if (nx,ny) in used:\n",
    "                continue\n",
    "            if board[nx][ny] != word[len(dirs)]:\n",
    "                continue\n",
    "            dirs.append(0)\n",
    "            path.append((nx,ny))\n",
    "            used.add((nx,ny))\n",
    "        return False\n",
    "    \n",
    "    def exist(self, board: List[List[str]], word: str) -> bool:\n",
    "        # find first letters\n",
    "        for x in range(len(board)):\n",
    "            for y in range(len(board[0])):\n",
    "                if self.findWord(board, word, x, y):\n",
    "                    return True\n",
    "        return False\n",
    "\n",
    "solution = Solution()\n",
    "%time solution.exist(board, word)"
   ]
  },
  {
   "cell_type": "code",
   "execution_count": null,
   "metadata": {},
   "outputs": [],
   "source": []
  }
 ],
 "metadata": {
  "kernelspec": {
   "display_name": "Python 3",
   "language": "python",
   "name": "python3"
  },
  "language_info": {
   "codemirror_mode": {
    "name": "ipython",
    "version": 3
   },
   "file_extension": ".py",
   "mimetype": "text/x-python",
   "name": "python",
   "nbconvert_exporter": "python",
   "pygments_lexer": "ipython3",
   "version": "3.6.7"
  }
 },
 "nbformat": 4,
 "nbformat_minor": 2
}
