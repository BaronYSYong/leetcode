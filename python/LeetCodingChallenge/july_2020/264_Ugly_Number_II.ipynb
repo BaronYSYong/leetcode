{
 "cells": [
  {
   "cell_type": "markdown",
   "metadata": {},
   "source": [
    "# Ugly Number II\n",
    "\n",
    "Write a program to find the n-th ugly number.\n",
    "\n",
    "Ugly numbers are positive numbers whose prime factors only include 2, 3, 5. \n",
    "\n",
    "Example:\n",
    "```\n",
    "Input: n = 10\n",
    "Output: 12\n",
    "Explanation: 1, 2, 3, 4, 5, 6, 8, 9, 10, 12 is the sequence of the first 10 ugly numbers.\n",
    "```\n",
    "Note:  \n",
    "\n",
    "* 1 is typically treated as an ugly number.\n",
    "* n does not exceed 1690."
   ]
  },
  {
   "cell_type": "markdown",
   "metadata": {},
   "source": [
    "## Reference\n",
    "* https://www.geeksforgeeks.org/ugly-numbers/"
   ]
  },
  {
   "cell_type": "code",
   "execution_count": 1,
   "metadata": {},
   "outputs": [],
   "source": [
    "# 30\n",
    "# n = 18\n",
    "# 150000\n",
    "# n = 341\n",
    "# 165888\n",
    "# n = 351\n",
    "# 2123366400\n",
    "n = 1690"
   ]
  },
  {
   "cell_type": "code",
   "execution_count": 2,
   "metadata": {},
   "outputs": [
    {
     "name": "stdout",
     "output_type": "stream",
     "text": [
      "CPU times: user 1.53 ms, sys: 83 µs, total: 1.61 ms\n",
      "Wall time: 1.62 ms\n"
     ]
    },
    {
     "data": {
      "text/plain": [
       "2123366400"
      ]
     },
     "execution_count": 2,
     "metadata": {},
     "output_type": "execute_result"
    }
   ],
   "source": [
    "# Method 2 (Use Dynamic Programming), 160ms, 14MB\n",
    "class Solution:\n",
    "    def nthUglyNumber(self, n: int) -> int:\n",
    "        ugly = [0] * n \n",
    "        ugly[0] = 1\n",
    "        i2 = i3 =i5 = 0\n",
    "\n",
    "        next_multiple_of_2 = 2\n",
    "        next_multiple_of_3 = 3\n",
    "        next_multiple_of_5 = 5\n",
    "\n",
    "        for l in range(1, n): \n",
    "\n",
    "            # choose the min value of all available multiples \n",
    "            ugly[l] = min(next_multiple_of_2, next_multiple_of_3, next_multiple_of_5) \n",
    "\n",
    "            # increment the value of index accordingly \n",
    "            if ugly[l] == next_multiple_of_2: \n",
    "                i2 += 1\n",
    "                next_multiple_of_2 = ugly[i2] * 2\n",
    "\n",
    "            if ugly[l] == next_multiple_of_3: \n",
    "                i3 += 1\n",
    "                next_multiple_of_3 = ugly[i3] * 3\n",
    "\n",
    "            if ugly[l] == next_multiple_of_5:  \n",
    "                i5 += 1\n",
    "                next_multiple_of_5 = ugly[i5] * 5\n",
    "\n",
    "        return ugly[-1] \n",
    "solution = Solution()\n",
    "%time solution.nthUglyNumber(n)"
   ]
  },
  {
   "cell_type": "code",
   "execution_count": 3,
   "metadata": {},
   "outputs": [
    {
     "name": "stdout",
     "output_type": "stream",
     "text": [
      "CPU times: user 3 µs, sys: 0 ns, total: 3 µs\n",
      "Wall time: 4.29 µs\n"
     ]
    },
    {
     "data": {
      "text/plain": [
       "2123366400"
      ]
     },
     "execution_count": 3,
     "metadata": {},
     "output_type": "execute_result"
    }
   ],
   "source": [
    "# fastest solution, 20ms\n",
    "from heapq import heappop, heappush\n",
    "class Ugly:\n",
    "    def __init__(self):\n",
    "        seen = {1, }\n",
    "        self.nums = nums = []\n",
    "        heap = []\n",
    "        heappush(heap, 1)\n",
    "\n",
    "        for _ in range(1690):\n",
    "            curr_ugly = heappop(heap)\n",
    "            nums.append(curr_ugly)\n",
    "            for i in [2, 3, 5]:\n",
    "                new_ugly = curr_ugly * i\n",
    "                if new_ugly not in seen:\n",
    "                    seen.add(new_ugly)\n",
    "                    heappush(heap, new_ugly)\n",
    "    \n",
    "class Solution:\n",
    "    u = Ugly()\n",
    "    def nthUglyNumber(self, n):\n",
    "        return self.u.nums[n - 1]\n",
    "    \n",
    "solution = Solution()\n",
    "%time solution.nthUglyNumber(n)    "
   ]
  },
  {
   "cell_type": "code",
   "execution_count": 4,
   "metadata": {},
   "outputs": [
    {
     "name": "stdout",
     "output_type": "stream",
     "text": [
      "CPU times: user 2.04 ms, sys: 0 ns, total: 2.04 ms\n",
      "Wall time: 2.04 ms\n"
     ]
    },
    {
     "data": {
      "text/plain": [
       "2123366400"
      ]
     },
     "execution_count": 4,
     "metadata": {},
     "output_type": "execute_result"
    }
   ],
   "source": [
    "# least memory, 13.568MB\n",
    "import heapq\n",
    "class Solution:\n",
    "    def nthUglyNumber(self, n: int) -> int:\n",
    "        l = [1]\n",
    "        factors = [2, 3, 5]\n",
    "        c = 0\n",
    "        last = -1\n",
    "        while l:\n",
    "            cur = heapq.heappop(l)\n",
    "            if cur != last:\n",
    "                n -= 1\n",
    "                if n == 0:\n",
    "                    return cur\n",
    "                last = cur\n",
    "                for factor in factors:\n",
    "                    heapq.heappush(l, cur * factor)\n",
    "solution = Solution()\n",
    "%time solution.nthUglyNumber(n)    "
   ]
  }
 ],
 "metadata": {
  "kernelspec": {
   "display_name": "Python 3",
   "language": "python",
   "name": "python3"
  },
  "language_info": {
   "codemirror_mode": {
    "name": "ipython",
    "version": 3
   },
   "file_extension": ".py",
   "mimetype": "text/x-python",
   "name": "python",
   "nbconvert_exporter": "python",
   "pygments_lexer": "ipython3",
   "version": "3.6.7"
  }
 },
 "nbformat": 4,
 "nbformat_minor": 2
}
