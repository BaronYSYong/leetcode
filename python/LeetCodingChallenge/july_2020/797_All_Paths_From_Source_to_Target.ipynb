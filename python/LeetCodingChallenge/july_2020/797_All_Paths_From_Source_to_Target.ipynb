{
 "cells": [
  {
   "cell_type": "markdown",
   "metadata": {},
   "source": [
    "# All Paths From Source to Target\n",
    "\n",
    "Given a directed, acyclic graph of N nodes.  Find all possible paths from node 0 to node N-1, and return them in any order.\n",
    "\n",
    "The graph is given as follows:  the nodes are 0, 1, ..., graph.length - 1.  graph[i] is a list of all nodes j for which the edge (i, j) exists.\n",
    "\n",
    "Example:\n",
    "```\n",
    "Input: [[1,2], [3], [3], []] \n",
    "Output: [[0,1,3],[0,2,3]] \n",
    "Explanation: The graph looks like this:\n",
    "0--->1\n",
    "|    |\n",
    "v    v\n",
    "2--->3\n",
    "There are two paths: 0 -> 1 -> 3 and 0 -> 2 -> 3.\n",
    "```\n",
    "Note:\n",
    "\n",
    "* The number of nodes in the graph will be in the range [2, 15].\n",
    "* You can print different paths in any order, but you should keep the order of nodes inside one path."
   ]
  },
  {
   "cell_type": "markdown",
   "metadata": {},
   "source": [
    "## Reference\n",
    "* https://www.youtube.com/watch?v=SZ3zpzQk2jg"
   ]
  },
  {
   "cell_type": "code",
   "execution_count": 1,
   "metadata": {},
   "outputs": [],
   "source": [
    "from typing import List"
   ]
  },
  {
   "cell_type": "code",
   "execution_count": 2,
   "metadata": {},
   "outputs": [],
   "source": [
    "graph = [[1,2], [3], [3], []]"
   ]
  },
  {
   "cell_type": "code",
   "execution_count": 3,
   "metadata": {},
   "outputs": [],
   "source": [
    "# answer in https://www.youtube.com/watch?v=SZ3zpzQk2jg, 132 ms, 15.5 MB\n",
    "class Solution:\n",
    "    def allPathsSourceTarget(self, graph: List[List[int]]) -> List[List[int]]:\n",
    "        result = []\n",
    "        def dfs(path, u):\n",
    "            if u == len(graph-1):\n",
    "                result.append(path+[u])\n",
    "            else:\n",
    "                for v in graph[u]:\n",
    "                    dfs(path + [u], v)\n",
    "        \n",
    "        dfs([], 0)\n",
    "        return result"
   ]
  },
  {
   "cell_type": "code",
   "execution_count": 4,
   "metadata": {},
   "outputs": [],
   "source": [
    "# fastest answer, 88 ms\n",
    "class Solution:\n",
    "    def allPathsSourceTarget(self, graph: List[List[int]]) -> List[List[int]]:\n",
    "        q = [[0]]\n",
    "        res = []\n",
    "        while len(q) > 0:\n",
    "            current = q.pop(0)\n",
    "            if current[-1] == len(graph) - 1:\n",
    "                res.append(current)\n",
    "                continue\n",
    "            for neighbor in graph[current[-1]]:\n",
    "                q.append(current + [neighbor])\n",
    "        \n",
    "        return res"
   ]
  },
  {
   "cell_type": "code",
   "execution_count": 5,
   "metadata": {},
   "outputs": [],
   "source": [
    "# least memory, 14.884 MB\n",
    "class Solution:\n",
    "    def allPathsSourceTarget(self, graph: List[List[int]]) -> List[List[int]]:\n",
    "        d = {}\n",
    "        for i in range(len(graph)):\n",
    "            d[i] = graph[i]\n",
    "        start = 0\n",
    "        end = len(graph) - 1\n",
    "        res = []\n",
    "        self.DFS(d, start, end, res, [0])\n",
    "        return res\n",
    "    def DFS(self, d, start, end, res, path):\n",
    "        if start == end:\n",
    "            res.append(path)\n",
    "        if not d[start]:\n",
    "            return\n",
    "        for n in d[start]:\n",
    "            self.DFS(d, n, end, res, path + [n])\n",
    "        return res"
   ]
  },
  {
   "cell_type": "code",
   "execution_count": null,
   "metadata": {},
   "outputs": [],
   "source": []
  }
 ],
 "metadata": {
  "kernelspec": {
   "display_name": "Python 3",
   "language": "python",
   "name": "python3"
  },
  "language_info": {
   "codemirror_mode": {
    "name": "ipython",
    "version": 3
   },
   "file_extension": ".py",
   "mimetype": "text/x-python",
   "name": "python",
   "nbconvert_exporter": "python",
   "pygments_lexer": "ipython3",
   "version": "3.6.7"
  }
 },
 "nbformat": 4,
 "nbformat_minor": 2
}
