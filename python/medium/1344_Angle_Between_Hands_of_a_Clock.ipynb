{
 "cells": [
  {
   "cell_type": "markdown",
   "metadata": {},
   "source": [
    "# Angle Between Hands of a Clock\n",
    "\n",
    "Given two numbers, hour and minutes. Return the smaller angle (in degrees) formed between the hour and the minute hand.\n",
    " \n",
    "Example 1:\n",
    "```\n",
    "Input: hour = 12, minutes = 30\n",
    "Output: 165\n",
    "```\n",
    "Example 2:\n",
    "```\n",
    "Input: hour = 3, minutes = 30\n",
    "Output: 75\n",
    "```\n",
    "Example 3:\n",
    "```\n",
    "Input: hour = 3, minutes = 15\n",
    "Output: 7.5\n",
    "```\n",
    "Example 4:\n",
    "```\n",
    "Input: hour = 4, minutes = 50\n",
    "Output: 155\n",
    "```\n",
    "Example 5:\n",
    "```\n",
    "Input: hour = 12, minutes = 0\n",
    "Output: 0\n",
    "```\n",
    "\n",
    "Constraints:\n",
    "\n",
    "* 1 <= hour <= 12\n",
    "* 0 <= minutes <= 59\n",
    "* Answers within 10^-5 of the actual value will be accepted as correct.\n",
    "\n",
    "Hint:\n",
    "* The tricky part is determining how the minute hand affects the position of the hour hand.\n",
    "* Calculate the angles separately then find the difference."
   ]
  },
  {
   "cell_type": "code",
   "execution_count": 1,
   "metadata": {},
   "outputs": [],
   "source": [
    "# 165\n",
    "# hour = 12; minutes = 30\n",
    "# 75\n",
    "# hour = 3; minutes = 30\n",
    "# 7.5\n",
    "# hour = 3; minutes = 15\n",
    "# 155\n",
    "# hour = 4; minutes = 50\n",
    "# 0\n",
    "# hour = 12; minutes = 0\n",
    "# 76.5\n",
    "# hour = 1; minutes = 57\n",
    "# 75\n",
    "hour = 3; minutes = 30"
   ]
  },
  {
   "cell_type": "code",
   "execution_count": 2,
   "metadata": {},
   "outputs": [
    {
     "name": "stdout",
     "output_type": "stream",
     "text": [
      "CPU times: user 6 µs, sys: 0 ns, total: 6 µs\n",
      "Wall time: 7.15 µs\n"
     ]
    },
    {
     "data": {
      "text/plain": [
       "75.0"
      ]
     },
     "execution_count": 2,
     "metadata": {},
     "output_type": "execute_result"
    }
   ],
   "source": [
    "# my answer, 36 ms, 14 MB\n",
    "class Solution:\n",
    "    def angleClock(self, hour: int, minutes: int) -> float:\n",
    "        hour_degree = ((hour%12)/12*360) + (minutes*0.5)\n",
    "        minutes_degree = minutes/60*360\n",
    "        diff_angle = abs(hour_degree - minutes_degree)\n",
    "        \n",
    "        if diff_angle > 180:\n",
    "            return 360 - diff_angle\n",
    "        else:\n",
    "            return diff_angle\n",
    "solution = Solution()\n",
    "%time solution.angleClock(hour, minutes)"
   ]
  },
  {
   "cell_type": "code",
   "execution_count": 3,
   "metadata": {},
   "outputs": [
    {
     "name": "stdout",
     "output_type": "stream",
     "text": [
      "CPU times: user 11 µs, sys: 1 µs, total: 12 µs\n",
      "Wall time: 13.1 µs\n"
     ]
    },
    {
     "data": {
      "text/plain": [
       "75.0"
      ]
     },
     "execution_count": 3,
     "metadata": {},
     "output_type": "execute_result"
    }
   ],
   "source": [
    "# fastest answer, 12 ms\n",
    "class Solution:\n",
    "    def angleClock(self, hour: int, minutes: int) -> float:\n",
    "        # divide minutes by 5\n",
    "        # difference of numbers 6 apart (180)\n",
    "        # difference of 3 apart (90)\n",
    "        # therefore, difference of 1 apart is 30\n",
    "        # 1 is 30, 2 is 60, 3 is 90, 4 is 120, 5 is 150, 6 is 180, 7 is 150 ..\n",
    "        \n",
    "        # calculate minute angle (minutes * 6)\n",
    "        minuteAngle = float(minutes * 6)\n",
    "        hourAngle = (float(hour % 12) * 30.0) + (minutes * 0.5)\n",
    "        diffAngle = max(hourAngle, minuteAngle) - min(hourAngle, minuteAngle)\n",
    "        if diffAngle <= 180.0:\n",
    "            return max(hourAngle, minuteAngle) - min(hourAngle, minuteAngle) \n",
    "        else:\n",
    "            return 360 - diffAngle\n",
    "solution = Solution()\n",
    "%time solution.angleClock(hour, minutes)"
   ]
  },
  {
   "cell_type": "code",
   "execution_count": 4,
   "metadata": {},
   "outputs": [
    {
     "name": "stdout",
     "output_type": "stream",
     "text": [
      "CPU times: user 9 µs, sys: 0 ns, total: 9 µs\n",
      "Wall time: 11.7 µs\n"
     ]
    },
    {
     "data": {
      "text/plain": [
       "75.0"
      ]
     },
     "execution_count": 4,
     "metadata": {},
     "output_type": "execute_result"
    }
   ],
   "source": [
    "# least memory, 13.532 MB\n",
    "class Solution:\n",
    "    def angleClock(self, hour: int, minutes: int) -> float:\n",
    "        \n",
    "        pre_defined_angles = {1:30,2:60,3:90,4:120,5:150,6:180,7:210,8:240,9:270,10:300,11:330,12:0}\n",
    "        \n",
    "        hour_hand_angle_moved = pre_defined_angles[hour]+minutes * 0.5\n",
    "                \n",
    "        minute_hand_angle_moved = 6 * minutes\n",
    "        \n",
    "        res = abs(minute_hand_angle_moved-hour_hand_angle_moved)\n",
    "        \n",
    "        if res > 180:\n",
    "            return abs(360-res)\n",
    "        else:\n",
    "            return res\n",
    "solution = Solution()\n",
    "%time solution.angleClock(hour, minutes)"
   ]
  },
  {
   "cell_type": "code",
   "execution_count": null,
   "metadata": {},
   "outputs": [],
   "source": []
  }
 ],
 "metadata": {
  "kernelspec": {
   "display_name": "Python 3",
   "language": "python",
   "name": "python3"
  },
  "language_info": {
   "codemirror_mode": {
    "name": "ipython",
    "version": 3
   },
   "file_extension": ".py",
   "mimetype": "text/x-python",
   "name": "python",
   "nbconvert_exporter": "python",
   "pygments_lexer": "ipython3",
   "version": "3.6.7"
  }
 },
 "nbformat": 4,
 "nbformat_minor": 2
}
