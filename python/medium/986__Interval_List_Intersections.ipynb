{
 "cells": [
  {
   "cell_type": "markdown",
   "id": "645cfb87",
   "metadata": {},
   "source": [
    "# 986. Interval List Intersections\n",
    "Given two lists of closed intervals, each list of intervals is pairwise disjoint and in sorted order.\n",
    "\n",
    "Return the intersection of these two interval lists.\n",
    "\n",
    "(Formally, a closed interval [a, b] (with a <= b) denotes the set of real numbers x with a <= x <= b.  The intersection of two closed intervals is a set of real numbers that is either empty, or can be represented as a closed interval.  For example, the intersection of [1, 3] and [2, 4] is [2, 3].)\n",
    "\n",
    " \n",
    "\n",
    "Example 1:\n",
    "```\n",
    "\n",
    "\n",
    "Input: A = [[0,2],[5,10],[13,23],[24,25]], B = [[1,5],[8,12],[15,24],[25,26]]\n",
    "Output: [[1,2],[5,5],[8,10],[15,23],[24,24],[25,25]]\n",
    "Reminder: The inputs and the desired output are lists of Interval objects, and not arrays or lists.\n",
    "```\n",
    "\n",
    "Note:\n",
    "\n",
    "* 0 <= A.length < 1000\n",
    "* 0 <= B.length < 1000\n",
    "* 0 <= A[i].start, A[i].end, B[i].start, B[i].end < 10^9"
   ]
  },
  {
   "cell_type": "code",
   "execution_count": 1,
   "id": "20a5319a",
   "metadata": {},
   "outputs": [],
   "source": [
    "from typing import List"
   ]
  },
  {
   "cell_type": "code",
   "execution_count": 2,
   "id": "a4af1257",
   "metadata": {},
   "outputs": [],
   "source": [
    "A = [[0,2],[5,10],[13,23],[24,25]]\n",
    "B = [[1,5],[8,12],[15,24],[25,26]]"
   ]
  },
  {
   "cell_type": "code",
   "execution_count": 3,
   "id": "d476ff94",
   "metadata": {},
   "outputs": [
    {
     "name": "stdout",
     "output_type": "stream",
     "text": [
      "CPU times: user 22 µs, sys: 2 µs, total: 24 µs\n",
      "Wall time: 27.7 µs\n"
     ]
    },
    {
     "data": {
      "text/plain": [
       "[[1, 2], [5, 5], [8, 10], [15, 23], [24, 24], [25, 25]]"
      ]
     },
     "execution_count": 3,
     "metadata": {},
     "output_type": "execute_result"
    }
   ],
   "source": [
    "def intervalIntersection(A: List[List[int]], B: List[List[int]]) -> List[List[int]]:\n",
    "    a = 0\n",
    "    b = 0\n",
    "    interval = []\n",
    "    while True:\n",
    "        if a >= len(A) or b >= len(B):\n",
    "            break\n",
    "        start = [A[a][0], B[b][0]]\n",
    "        end = [A[a][-1], B[b][-1]]\n",
    "        if max(start) > min(end):\n",
    "            if max(start) == A[a][0]:\n",
    "                b += 1\n",
    "            else:\n",
    "                a += 1\n",
    "            continue\n",
    "        else:\n",
    "            interval.append(sorted(A[a]+B[b])[1:3])\n",
    "            if A[a][-1] > B[b][-1]:\n",
    "                b += 1\n",
    "            else:\n",
    "                a +=1\n",
    "    return interval\n",
    "%time intervalIntersection(A, B)"
   ]
  },
  {
   "cell_type": "code",
   "execution_count": 4,
   "id": "ba13cd88",
   "metadata": {},
   "outputs": [
    {
     "name": "stdout",
     "output_type": "stream",
     "text": [
      "CPU times: user 9 µs, sys: 1 µs, total: 10 µs\n",
      "Wall time: 12.2 µs\n"
     ]
    },
    {
     "data": {
      "text/plain": [
       "[[1, 2], [5, 5], [8, 10], [15, 23], [24, 24], [25, 25]]"
      ]
     },
     "execution_count": 4,
     "metadata": {},
     "output_type": "execute_result"
    }
   ],
   "source": [
    "def intervalIntersection2(A: List[List[int]], B: List[List[int]]) -> List[List[int]]:\n",
    "    res = []\n",
    "    a_i = 0\n",
    "    b_i = 0\n",
    "\n",
    "    while a_i < len(A) and b_i < len(B):\n",
    "        start_a, end_a = A[a_i]\n",
    "        start_b, end_b = B[b_i]\n",
    "\n",
    "        if end_a < start_b:\n",
    "            a_i += 1\n",
    "        elif end_b < start_a:\n",
    "            b_i += 1\n",
    "        else:\n",
    "            if end_a <= end_b:\n",
    "                a_i += 1\n",
    "            else:\n",
    "                b_i += 1\n",
    "            res.append([max(start_a, start_b), min(end_a, end_b)])\n",
    "    return res\n",
    "%time intervalIntersection2(A,B)"
   ]
  },
  {
   "cell_type": "code",
   "execution_count": 5,
   "id": "ebf7cf83",
   "metadata": {},
   "outputs": [
    {
     "name": "stdout",
     "output_type": "stream",
     "text": [
      "CPU times: user 15 µs, sys: 2 µs, total: 17 µs\n",
      "Wall time: 18.8 µs\n"
     ]
    },
    {
     "data": {
      "text/plain": [
       "[[1, 2], [5, 5], [8, 10], [15, 23], [24, 24], [25, 25]]"
      ]
     },
     "execution_count": 5,
     "metadata": {},
     "output_type": "execute_result"
    }
   ],
   "source": [
    "def intervalIntersection3(A: List[List[int]], B: List[List[int]]) -> List[List[int]]:\n",
    "    ans = []\n",
    "    i = j = 0\n",
    "\n",
    "    while i < len(A) and j < len(B):\n",
    "        # Let's check if A[i] intersects B[j].\n",
    "        # lo - the startpoint of the intersection\n",
    "        # hi - the endpoint of the intersection\n",
    "        lo = max(A[i][0], B[j][0])\n",
    "        hi = min(A[i][1], B[j][1])\n",
    "        if lo <= hi:\n",
    "            ans.append([lo, hi])\n",
    "\n",
    "        # Remove the interval with the smallest endpoint\n",
    "        if A[i][1] < B[j][1]:\n",
    "            i += 1\n",
    "        else:\n",
    "            j += 1\n",
    "\n",
    "    return ans\n",
    "%time intervalIntersection3(A, B)"
   ]
  },
  {
   "cell_type": "code",
   "execution_count": null,
   "id": "da8dc46f",
   "metadata": {},
   "outputs": [],
   "source": []
  }
 ],
 "metadata": {
  "kernelspec": {
   "display_name": "Python 3 (ipykernel)",
   "language": "python",
   "name": "python3"
  },
  "language_info": {
   "codemirror_mode": {
    "name": "ipython",
    "version": 3
   },
   "file_extension": ".py",
   "mimetype": "text/x-python",
   "name": "python",
   "nbconvert_exporter": "python",
   "pygments_lexer": "ipython3",
   "version": "3.8.10"
  }
 },
 "nbformat": 4,
 "nbformat_minor": 5
}
