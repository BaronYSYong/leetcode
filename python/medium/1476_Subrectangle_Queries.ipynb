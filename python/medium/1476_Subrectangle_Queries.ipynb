{
 "cells": [
  {
   "cell_type": "code",
   "execution_count": 1,
   "id": "b925a1e5",
   "metadata": {},
   "outputs": [],
   "source": [
    "from typing import List"
   ]
  },
  {
   "cell_type": "code",
   "execution_count": 2,
   "id": "91e7e9af",
   "metadata": {},
   "outputs": [],
   "source": [
    "# my answer\n",
    "class SubrectangleQueries:\n",
    "\n",
    "    def __init__(self, rectangle: List[List[int]]):\n",
    "        self.rectangle = rectangle\n",
    "        \n",
    "\n",
    "    def updateSubrectangle(self, row1: int, col1: int, row2: int, col2: int, newValue: int) -> None:\n",
    "        for row in range(row1, row2+1):\n",
    "            for column in range(col1, col2+1):\n",
    "                self.rectangle[row][column] = newValue\n",
    "        \n",
    "\n",
    "    def getValue(self, row: int, col: int) -> int:\n",
    "        return self.rectangle[row][col]"
   ]
  },
  {
   "cell_type": "code",
   "execution_count": null,
   "id": "c3240faa",
   "metadata": {},
   "outputs": [],
   "source": []
  }
 ],
 "metadata": {
  "kernelspec": {
   "display_name": "Python 3 (ipykernel)",
   "language": "python",
   "name": "python3"
  },
  "language_info": {
   "codemirror_mode": {
    "name": "ipython",
    "version": 3
   },
   "file_extension": ".py",
   "mimetype": "text/x-python",
   "name": "python",
   "nbconvert_exporter": "python",
   "pygments_lexer": "ipython3",
   "version": "3.8.10"
  }
 },
 "nbformat": 4,
 "nbformat_minor": 5
}
