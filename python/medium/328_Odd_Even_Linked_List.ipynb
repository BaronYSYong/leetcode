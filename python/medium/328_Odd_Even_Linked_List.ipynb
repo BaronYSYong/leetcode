{
 "cells": [
  {
   "cell_type": "markdown",
   "id": "e3f9debd",
   "metadata": {},
   "source": [
    "# 328. Odd Even Linked List\n",
    "\n",
    "Given a singly linked list, group all odd nodes together followed by the even nodes. Please note here we are talking about the node number and not the value in the nodes.\n",
    "\n",
    "You should try to do it in place. The program should run in O(1) space complexity and O(nodes) time complexity.\n",
    "\n",
    "Example 1:\n",
    "```\n",
    "Input: 1->2->3->4->5->NULL\n",
    "Output: 1->3->5->2->4->NULL\n",
    "```\n",
    "Example 2:\n",
    "```\n",
    "Input: 2->1->3->5->6->4->7->NULL\n",
    "Output: 2->3->6->7->1->5->4->NULL\n",
    "```\n",
    "Note:\n",
    "\n",
    "* The relative order inside both the even and odd groups should remain as it was in the input.\n",
    "* The first node is considered odd, the second node even and so on ..."
   ]
  },
  {
   "cell_type": "code",
   "execution_count": 1,
   "id": "eaac5f6b",
   "metadata": {},
   "outputs": [],
   "source": [
    "class ListNode:\n",
    "    def __init__(self, val=0, next=None):\n",
    "        self.val = val\n",
    "        self.next = next"
   ]
  },
  {
   "cell_type": "code",
   "execution_count": 2,
   "id": "ad854b4d",
   "metadata": {},
   "outputs": [],
   "source": [
    "def oddEvenList(self, head: ListNode) -> ListNode:\n",
    "    odd = []\n",
    "    even = []\n",
    "    count = 1\n",
    "\n",
    "    if head is None:\n",
    "        return None\n",
    "\n",
    "    while head.next is not None:\n",
    "        if count % 2 == 1:\n",
    "            odd.append(head.val)\n",
    "        else:\n",
    "            even.append(head.val)\n",
    "        count += 1\n",
    "        head = head.next\n",
    "    if count % 2 == 1:\n",
    "        odd.append(head.val)\n",
    "    else:\n",
    "        even.append(head.val)\n",
    "\n",
    "    odd_even = odd + even\n",
    "    ret = ListNode(odd_even.pop(), None)\n",
    "\n",
    "    while len(odd_even) != 0:\n",
    "        ret = ListNode(odd_even.pop(), ret)\n",
    "\n",
    "    return ret"
   ]
  },
  {
   "cell_type": "code",
   "execution_count": 3,
   "id": "92227d29",
   "metadata": {},
   "outputs": [],
   "source": [
    "def oddEvenList(self, head: ListNode) -> ListNode:\n",
    "    cur = head\n",
    "    values = []\n",
    "    while cur:\n",
    "        values.append(cur.val)\n",
    "        cur = cur.next\n",
    "\n",
    "    i = 0\n",
    "    cur = head\n",
    "    while i < len(values):\n",
    "        cur.val = values[i]\n",
    "        cur = cur.next\n",
    "        i+=2\n",
    "    i = 1\n",
    "    while i < len(values):\n",
    "        cur.val = values[i]\n",
    "        cur = cur.next\n",
    "        i+=2\n",
    "    return head"
   ]
  },
  {
   "cell_type": "code",
   "execution_count": null,
   "id": "10127b81",
   "metadata": {},
   "outputs": [],
   "source": []
  }
 ],
 "metadata": {
  "kernelspec": {
   "display_name": "Python 3 (ipykernel)",
   "language": "python",
   "name": "python3"
  },
  "language_info": {
   "codemirror_mode": {
    "name": "ipython",
    "version": 3
   },
   "file_extension": ".py",
   "mimetype": "text/x-python",
   "name": "python",
   "nbconvert_exporter": "python",
   "pygments_lexer": "ipython3",
   "version": "3.8.10"
  }
 },
 "nbformat": 4,
 "nbformat_minor": 5
}
