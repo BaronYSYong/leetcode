{
 "cells": [
  {
   "cell_type": "markdown",
   "metadata": {},
   "source": [
    "#  Pow(x, n)\n",
    "\n",
    "Implement pow(x, n), which calculates x raised to the power n (xn).\n",
    "\n",
    "Example 1:\n",
    "```\n",
    "Input: 2.00000, 10\n",
    "Output: 1024.00000\n",
    "```\n",
    "Example 2:\n",
    "```\n",
    "Input: 2.10000, 3\n",
    "Output: 9.26100\n",
    "```\n",
    "Example 3:\n",
    "```\n",
    "Input: 2.00000, -2\n",
    "Output: 0.25000\n",
    "Explanation: 2-2 = 1/22 = 1/4 = 0.25\n",
    "```\n",
    "Note:\n",
    "\n",
    "* -100.0 < x < 100.0\n",
    "* n is a 32-bit signed integer, within the range [−231, 231 − 1]"
   ]
  },
  {
   "cell_type": "code",
   "execution_count": 1,
   "metadata": {},
   "outputs": [],
   "source": [
    "x = 2.00000; n = -2"
   ]
  },
  {
   "cell_type": "code",
   "execution_count": 2,
   "metadata": {},
   "outputs": [],
   "source": [
    "# my answer, 44ms, 13.8MB\n",
    "class Solution:\n",
    "    def myPow(self, x: float, n: int) -> float:\n",
    "        return x**n"
   ]
  },
  {
   "cell_type": "code",
   "execution_count": 3,
   "metadata": {},
   "outputs": [],
   "source": [
    "# fastest answer, 8ms\n",
    "class Solution:\n",
    "    def myPow(self, x: float, n: int) -> float:\n",
    "        \n",
    "        return pow(x,n)"
   ]
  },
  {
   "cell_type": "code",
   "execution_count": 4,
   "metadata": {},
   "outputs": [],
   "source": [
    "# least memory, 13.492MB\n",
    "class Solution:\n",
    "    def myPow(self, x, n):\n",
    "\n",
    "        if n < 0:\n",
    "            x = 1/x\n",
    "            n = -n\n",
    "\n",
    "        ans = 1\n",
    "        curr_p = x\n",
    "        while n:\n",
    "\n",
    "            # If number is odd\n",
    "            if n % 2 == 1:\n",
    "                ans *= curr_p\n",
    "            curr_p *= curr_p\n",
    "\n",
    "            n //= 2\n",
    "\n",
    "        return ans"
   ]
  }
 ],
 "metadata": {
  "kernelspec": {
   "display_name": "Python 3 (ipykernel)",
   "language": "python",
   "name": "python3"
  },
  "language_info": {
   "codemirror_mode": {
    "name": "ipython",
    "version": 3
   },
   "file_extension": ".py",
   "mimetype": "text/x-python",
   "name": "python",
   "nbconvert_exporter": "python",
   "pygments_lexer": "ipython3",
   "version": "3.8.10"
  }
 },
 "nbformat": 4,
 "nbformat_minor": 2
}
