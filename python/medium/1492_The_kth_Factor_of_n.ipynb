{
 "cells": [
  {
   "cell_type": "code",
   "execution_count": 1,
   "id": "0da50bd9",
   "metadata": {},
   "outputs": [],
   "source": [
    "# n = 12\n",
    "# k = 3\n",
    "# n = 7\n",
    "# k = 2\n",
    "# n = 4\n",
    "# k = 4\n",
    "# n = 1\n",
    "# k = 1\n",
    "n = 1000\n",
    "k = 3"
   ]
  },
  {
   "cell_type": "code",
   "execution_count": 2,
   "id": "0779b897",
   "metadata": {},
   "outputs": [
    {
     "data": {
      "text/plain": [
       "4"
      ]
     },
     "execution_count": 2,
     "metadata": {},
     "output_type": "execute_result"
    }
   ],
   "source": [
    "class Solution:\n",
    "    def kthFactor(self, n: int, k: int) -> int:\n",
    "        factor_list = []\n",
    "        for i in range(1, n+1):\n",
    "            if n % i == 0:\n",
    "                factor_list.append(i)\n",
    "\n",
    "        if len(factor_list) >= k:\n",
    "            return factor_list[k-1]\n",
    "        else:\n",
    "            return -1\n",
    "solution = Solution()\n",
    "solution.kthFactor(n, k)"
   ]
  },
  {
   "cell_type": "code",
   "execution_count": null,
   "id": "9303323c",
   "metadata": {},
   "outputs": [],
   "source": []
  }
 ],
 "metadata": {
  "kernelspec": {
   "display_name": "Python 3 (ipykernel)",
   "language": "python",
   "name": "python3"
  },
  "language_info": {
   "codemirror_mode": {
    "name": "ipython",
    "version": 3
   },
   "file_extension": ".py",
   "mimetype": "text/x-python",
   "name": "python",
   "nbconvert_exporter": "python",
   "pygments_lexer": "ipython3",
   "version": "3.8.10"
  }
 },
 "nbformat": 4,
 "nbformat_minor": 5
}
