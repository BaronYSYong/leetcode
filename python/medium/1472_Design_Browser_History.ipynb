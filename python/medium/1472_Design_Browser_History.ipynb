{
 "cells": [
  {
   "cell_type": "code",
   "execution_count": 1,
   "id": "80bf615e",
   "metadata": {},
   "outputs": [],
   "source": [
    "# Input:\n",
    "# [\"BrowserHistory\",\"visit\",\"visit\",\"visit\",\"back\",\"back\",\"forward\",\"visit\",\"forward\",\"back\",\"back\"]\n",
    "# [[\"leetcode.com\"],[\"google.com\"],[\"facebook.com\"],[\"youtube.com\"],[1],[1],[1],[\"linkedin.com\"],[2],[2],[7]]\n",
    "# Output:\n",
    "# [null,null,null,null,\"facebook.com\",\"google.com\",\"facebook.com\",null,\"linkedin.com\",\"google.com\",\"leetcode.com\"]"
   ]
  },
  {
   "cell_type": "code",
   "execution_count": 2,
   "id": "7ccfd721",
   "metadata": {},
   "outputs": [],
   "source": [
    "# my answer\n",
    "class BrowserHistory:\n",
    "\n",
    "    def __init__(self, homepage: str):\n",
    "        self.visit_list = []\n",
    "        self.visit_len = 1\n",
    "        self.visit_list.append(homepage)\n",
    "\n",
    "    def visit(self, url: str) -> None:\n",
    "        self.visit_list = self.visit_list[:self.visit_len]\n",
    "        self.visit_list.append(url)\n",
    "        self.visit_len += 1\n",
    "        \n",
    "\n",
    "    def back(self, steps: int) -> str:\n",
    "        self.visit_len -= steps\n",
    "        if self.visit_len < 1:\n",
    "            self.visit_len = 1\n",
    "        return self.visit_list[self.visit_len-1]\n",
    "        \n",
    "\n",
    "    def forward(self, steps: int) -> str:\n",
    "        self.visit_len += steps\n",
    "        if self.visit_len > len(self.visit_list):\n",
    "            self.visit_len = len(self.visit_list)\n",
    "        return self.visit_list[self.visit_len-1]\n",
    "        \n",
    "\n",
    "\n",
    "# Your BrowserHistory object will be instantiated and called as such:\n",
    "# obj = BrowserHistory(homepage)\n",
    "# obj.visit(url)\n",
    "# param_2 = obj.back(steps)\n",
    "# param_3 = obj.forward(steps)"
   ]
  },
  {
   "cell_type": "code",
   "execution_count": null,
   "id": "6461c276",
   "metadata": {},
   "outputs": [],
   "source": []
  }
 ],
 "metadata": {
  "kernelspec": {
   "display_name": "Python 3 (ipykernel)",
   "language": "python",
   "name": "python3"
  },
  "language_info": {
   "codemirror_mode": {
    "name": "ipython",
    "version": 3
   },
   "file_extension": ".py",
   "mimetype": "text/x-python",
   "name": "python",
   "nbconvert_exporter": "python",
   "pygments_lexer": "ipython3",
   "version": "3.8.10"
  }
 },
 "nbformat": 4,
 "nbformat_minor": 5
}
