{
 "cells": [
  {
   "cell_type": "code",
   "execution_count": 1,
   "id": "8dae0b47",
   "metadata": {},
   "outputs": [],
   "source": [
    "from typing import List"
   ]
  },
  {
   "cell_type": "code",
   "execution_count": 2,
   "id": "effbfa99",
   "metadata": {},
   "outputs": [],
   "source": [
    "# arr = [5,5,4]\n",
    "# k = 1\n",
    "arr = [4,3,1,1,3,3,2]\n",
    "k = 3"
   ]
  },
  {
   "cell_type": "code",
   "execution_count": 3,
   "id": "e2c6f4a9",
   "metadata": {},
   "outputs": [
    {
     "name": "stdout",
     "output_type": "stream",
     "text": [
      "CPU times: user 9 µs, sys: 2 µs, total: 11 µs\n",
      "Wall time: 11.7 µs\n"
     ]
    },
    {
     "data": {
      "text/plain": [
       "2"
      ]
     },
     "execution_count": 3,
     "metadata": {},
     "output_type": "execute_result"
    }
   ],
   "source": [
    "# my answer\n",
    "def findLeastNumOfUniqueInts(arr: List[int], k: int) -> int:\n",
    "    a = {}\n",
    "    for i in arr:\n",
    "        if i not in a:\n",
    "            a[i] = 0\n",
    "        a[i] += 1\n",
    "\n",
    "    b = []\n",
    "    for key, value in a.items():\n",
    "        b.append([key, value])\n",
    "    b.sort(key = lambda x: x[1])\n",
    "    while k > 0:\n",
    "        k -= b[0][-1]\n",
    "        if k >= 0:\n",
    "            b.pop(0)\n",
    "        else:\n",
    "            b[0][-1] = abs(b[0][-1])\n",
    "    return len(b)\n",
    "%time findLeastNumOfUniqueInts(arr, k)"
   ]
  },
  {
   "cell_type": "code",
   "execution_count": null,
   "id": "13515307",
   "metadata": {},
   "outputs": [],
   "source": []
  }
 ],
 "metadata": {
  "kernelspec": {
   "display_name": "Python 3 (ipykernel)",
   "language": "python",
   "name": "python3"
  },
  "language_info": {
   "codemirror_mode": {
    "name": "ipython",
    "version": 3
   },
   "file_extension": ".py",
   "mimetype": "text/x-python",
   "name": "python",
   "nbconvert_exporter": "python",
   "pygments_lexer": "ipython3",
   "version": "3.8.10"
  }
 },
 "nbformat": 4,
 "nbformat_minor": 5
}
