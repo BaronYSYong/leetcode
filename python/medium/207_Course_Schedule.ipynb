{
 "cells": [
  {
   "cell_type": "code",
   "execution_count": 1,
   "id": "44229084",
   "metadata": {},
   "outputs": [],
   "source": [
    "from typing import List"
   ]
  },
  {
   "cell_type": "code",
   "execution_count": 2,
   "id": "083a5c19",
   "metadata": {},
   "outputs": [],
   "source": [
    "numCourses = 2\n",
    "prerequisites = [[1,0]]"
   ]
  },
  {
   "cell_type": "code",
   "execution_count": 3,
   "id": "9def6953",
   "metadata": {},
   "outputs": [],
   "source": [
    "class Solution:\n",
    "    def canFinish(self, numCourses: int, prerequisites: List[List[int]]) -> bool:\n",
    "        self.graph = [[] for _ in range(numCourses)]\n",
    "        for pre in prerequisites:\n",
    "            self.graph[pre[0]].append(pre[1])\n",
    "\n",
    "        self.visited = [0] * numCourses\n",
    "        for course in range(numCourses):\n",
    "            if self.visited[course] == 0 and not self.dfs(course):\n",
    "                return False\n",
    "        print(self.visited)\n",
    "        return True\n",
    "\n",
    "\n",
    "    def dfs(self, course):\n",
    "        if self.visited[course] == 1:\n",
    "            return False\n",
    "        self.visited[course] = 1\n",
    "        for g in self.graph[course]:\n",
    "            if not self.dfs(g):\n",
    "                return False\n",
    "        self.visited[course] = 2\n",
    "\n",
    "        return True"
   ]
  },
  {
   "cell_type": "code",
   "execution_count": 4,
   "id": "825ce7ea",
   "metadata": {},
   "outputs": [
    {
     "name": "stdout",
     "output_type": "stream",
     "text": [
      "[2, 2]\n"
     ]
    },
    {
     "data": {
      "text/plain": [
       "True"
      ]
     },
     "execution_count": 4,
     "metadata": {},
     "output_type": "execute_result"
    }
   ],
   "source": [
    "solution = Solution()\n",
    "solution.canFinish(numCourses, prerequisites)"
   ]
  },
  {
   "cell_type": "code",
   "execution_count": null,
   "id": "b4db29b7",
   "metadata": {},
   "outputs": [],
   "source": []
  }
 ],
 "metadata": {
  "kernelspec": {
   "display_name": "Python 3 (ipykernel)",
   "language": "python",
   "name": "python3"
  },
  "language_info": {
   "codemirror_mode": {
    "name": "ipython",
    "version": 3
   },
   "file_extension": ".py",
   "mimetype": "text/x-python",
   "name": "python",
   "nbconvert_exporter": "python",
   "pygments_lexer": "ipython3",
   "version": "3.8.10"
  }
 },
 "nbformat": 4,
 "nbformat_minor": 5
}
