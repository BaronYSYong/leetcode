{
 "cells": [
  {
   "cell_type": "markdown",
   "id": "3b4f9c1c",
   "metadata": {},
   "source": [
    "# 540. Single Element in a Sorted Array\n",
    "You are given a sorted array consisting of only integers where every element appears exactly twice, except for one element which appears exactly once. Find this single element that appears only once.\n",
    "\n",
    "Example 1:\n",
    "```\n",
    "Input: [1,1,2,3,3,4,4,8,8]\n",
    "Output: 2\n",
    "```\n",
    "Example 2:\n",
    "```\n",
    "Input: [3,3,7,7,10,11,11]\n",
    "Output: 10\n",
    "``` \n",
    "Note: Your solution should run in O(log n) time and O(1) space."
   ]
  },
  {
   "cell_type": "code",
   "execution_count": 1,
   "id": "045c927f",
   "metadata": {},
   "outputs": [],
   "source": [
    "from typing import List"
   ]
  },
  {
   "cell_type": "code",
   "execution_count": 2,
   "id": "31a51361",
   "metadata": {},
   "outputs": [],
   "source": [
    "nums = [3,3,7,7,10,11,11]"
   ]
  },
  {
   "cell_type": "code",
   "execution_count": 3,
   "id": "742808a0",
   "metadata": {},
   "outputs": [
    {
     "name": "stdout",
     "output_type": "stream",
     "text": [
      "CPU times: user 3 µs, sys: 0 ns, total: 3 µs\n",
      "Wall time: 5.01 µs\n"
     ]
    },
    {
     "data": {
      "text/plain": [
       "10"
      ]
     },
     "execution_count": 3,
     "metadata": {},
     "output_type": "execute_result"
    }
   ],
   "source": [
    "def singleNonDuplicate(nums: List[int]) -> int:\n",
    "    num = 0\n",
    "    for i in nums:\n",
    "        num ^= i\n",
    "    return num \n",
    "\n",
    "%time singleNonDuplicate(nums)"
   ]
  },
  {
   "cell_type": "code",
   "execution_count": 4,
   "id": "f6511725",
   "metadata": {},
   "outputs": [
    {
     "name": "stdout",
     "output_type": "stream",
     "text": [
      "CPU times: user 3 µs, sys: 0 ns, total: 3 µs\n",
      "Wall time: 5.48 µs\n"
     ]
    },
    {
     "data": {
      "text/plain": [
       "10"
      ]
     },
     "execution_count": 4,
     "metadata": {},
     "output_type": "execute_result"
    }
   ],
   "source": [
    "def singleNonDuplicate2(nums: List[int]) -> int:\n",
    "    low = 0\n",
    "    high = len(nums) - 1\n",
    "    while True:\n",
    "        mid = (low + high) // 2\n",
    "        if mid % 2 == 1:\n",
    "            mid -= 1\n",
    "        if mid < high and nums[mid] == nums[mid+1]:\n",
    "            low = mid + 2\n",
    "        elif mid > low and nums[mid] == nums[mid-1]:\n",
    "            high = mid - 2\n",
    "        else:\n",
    "            return nums[mid]\n",
    "\n",
    "%time singleNonDuplicate2(nums)"
   ]
  }
 ],
 "metadata": {
  "kernelspec": {
   "display_name": "Python 3 (ipykernel)",
   "language": "python",
   "name": "python3"
  },
  "language_info": {
   "codemirror_mode": {
    "name": "ipython",
    "version": 3
   },
   "file_extension": ".py",
   "mimetype": "text/x-python",
   "name": "python",
   "nbconvert_exporter": "python",
   "pygments_lexer": "ipython3",
   "version": "3.8.10"
  }
 },
 "nbformat": 4,
 "nbformat_minor": 5
}
