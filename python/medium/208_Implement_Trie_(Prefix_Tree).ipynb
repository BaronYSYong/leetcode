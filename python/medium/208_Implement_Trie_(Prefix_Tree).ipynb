{
 "cells": [
  {
   "cell_type": "markdown",
   "id": "0d3cc1bc",
   "metadata": {},
   "source": [
    "# 208. Implement Trie (Prefix Tree)\n",
    "Implement a trie with insert, search, and startsWith methods.\n",
    "\n",
    "Example:\n",
    "```\n",
    "Trie trie = new Trie();\n",
    "\n",
    "trie.insert(\"apple\");\n",
    "trie.search(\"apple\");   // returns true\n",
    "trie.search(\"app\");     // returns false\n",
    "trie.startsWith(\"app\"); // returns true\n",
    "trie.insert(\"app\");   \n",
    "trie.search(\"app\");     // returns true\n",
    "```\n",
    "Note:\n",
    "\n",
    "You may assume that all inputs are consist of lowercase letters a-z.\n",
    "All inputs are guaranteed to be non-empty strings."
   ]
  },
  {
   "cell_type": "code",
   "execution_count": 1,
   "id": "ba175ba0",
   "metadata": {},
   "outputs": [],
   "source": [
    "class Trie:\n",
    "\n",
    "    def __init__(self):\n",
    "        self.dictionary = []\n",
    "        \n",
    "\n",
    "    def insert(self, word: str) -> None:\n",
    "        self.dictionary.append(word)\n",
    "        \n",
    "\n",
    "    def search(self, word: str) -> bool:\n",
    "        return word in self.dictionary\n",
    "        \n",
    "\n",
    "    def startsWith(self, prefix: str) -> bool:\n",
    "        for word in self.dictionary:\n",
    "            if prefix in word[:len(prefix)]:\n",
    "                return True\n",
    "        return False\n",
    "        \n",
    "\n",
    "\n",
    "# Your Trie object will be instantiated and called as such:\n",
    "# obj = Trie()\n",
    "# obj.insert(word)\n",
    "# param_2 = obj.search(word)\n",
    "# param_3 = obj.startsWith(prefix)"
   ]
  },
  {
   "cell_type": "code",
   "execution_count": null,
   "id": "1c9da01b",
   "metadata": {},
   "outputs": [],
   "source": []
  }
 ],
 "metadata": {
  "kernelspec": {
   "display_name": "Python 3 (ipykernel)",
   "language": "python",
   "name": "python3"
  },
  "language_info": {
   "codemirror_mode": {
    "name": "ipython",
    "version": 3
   },
   "file_extension": ".py",
   "mimetype": "text/x-python",
   "name": "python",
   "nbconvert_exporter": "python",
   "pygments_lexer": "ipython3",
   "version": "3.8.10"
  }
 },
 "nbformat": 4,
 "nbformat_minor": 5
}
