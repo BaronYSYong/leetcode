{
 "cells": [
  {
   "cell_type": "code",
   "execution_count": 1,
   "id": "62967080",
   "metadata": {},
   "outputs": [],
   "source": [
    "from typing import List"
   ]
  },
  {
   "cell_type": "code",
   "execution_count": 2,
   "id": "ac2ad132",
   "metadata": {},
   "outputs": [],
   "source": [
    "# [5,1]\n",
    "# arr = [1,2,3,4,5]\n",
    "# k = 2\n",
    "\n",
    "# [5,5]\n",
    "# arr = [1,1,3,5,5]\n",
    "# k = 2\n",
    "\n",
    "# [11,8,6,6,7]\n",
    "# arr = [6,7,11,7,6,8]\n",
    "# k = 5\n",
    "\n",
    "# [-3,11,2]\n",
    "# arr = [6,-3,7,2,11]\n",
    "# k = 3\n",
    "\n",
    "# [22,17]\n",
    "arr = [-7,22,17,3]\n",
    "k = 2"
   ]
  },
  {
   "cell_type": "code",
   "execution_count": 3,
   "id": "a17404a6",
   "metadata": {},
   "outputs": [],
   "source": [
    "# my answer\n",
    "class Solution:\n",
    "    def getStrongest(self, arr: List[int], k: int) -> List[int]:\n",
    "        if len(arr)%2 == 0:\n",
    "            n = len(arr)-1\n",
    "        else:\n",
    "            n = len(arr)\n",
    "        median = sorted(arr)[n//2]\n",
    "        arr.sort(key = lambda x: (-abs(x-median), -x))\n",
    "        \n",
    "        return arr[:k]"
   ]
  },
  {
   "cell_type": "code",
   "execution_count": null,
   "id": "2939c953",
   "metadata": {},
   "outputs": [],
   "source": []
  }
 ],
 "metadata": {
  "kernelspec": {
   "display_name": "Python 3 (ipykernel)",
   "language": "python",
   "name": "python3"
  },
  "language_info": {
   "codemirror_mode": {
    "name": "ipython",
    "version": 3
   },
   "file_extension": ".py",
   "mimetype": "text/x-python",
   "name": "python",
   "nbconvert_exporter": "python",
   "pygments_lexer": "ipython3",
   "version": "3.8.10"
  }
 },
 "nbformat": 4,
 "nbformat_minor": 5
}
