{
 "cells": [
  {
   "cell_type": "code",
   "execution_count": 1,
   "id": "4cbfcba7",
   "metadata": {},
   "outputs": [],
   "source": [
    "# target = \"10111\"\n",
    "# target = \"101\"\n",
    "# target = \"00000\"\n",
    "target = \"001011101\""
   ]
  },
  {
   "cell_type": "code",
   "execution_count": 2,
   "id": "6fb33fd4",
   "metadata": {},
   "outputs": [
    {
     "name": "stdout",
     "output_type": "stream",
     "text": [
      "CPU times: user 33 µs, sys: 0 ns, total: 33 µs\n",
      "Wall time: 42.7 µs\n"
     ]
    },
    {
     "data": {
      "text/plain": [
       "5"
      ]
     },
     "execution_count": 2,
     "metadata": {},
     "output_type": "execute_result"
    }
   ],
   "source": [
    "class Solution:\n",
    "    def minFlips(self, target: str) -> int:\n",
    "        count = 0\n",
    "        flip = 1\n",
    "        for t in target:\n",
    "            if int(t) == flip:\n",
    "                count += 1\n",
    "                flip ^= 1\n",
    "        return count    \n",
    "solution = Solution()\n",
    "%time solution.minFlips(target)"
   ]
  },
  {
   "cell_type": "code",
   "execution_count": null,
   "id": "d156da6b",
   "metadata": {},
   "outputs": [],
   "source": []
  }
 ],
 "metadata": {
  "kernelspec": {
   "display_name": "Python 3 (ipykernel)",
   "language": "python",
   "name": "python3"
  },
  "language_info": {
   "codemirror_mode": {
    "name": "ipython",
    "version": 3
   },
   "file_extension": ".py",
   "mimetype": "text/x-python",
   "name": "python",
   "nbconvert_exporter": "python",
   "pygments_lexer": "ipython3",
   "version": "3.8.10"
  }
 },
 "nbformat": 4,
 "nbformat_minor": 5
}
