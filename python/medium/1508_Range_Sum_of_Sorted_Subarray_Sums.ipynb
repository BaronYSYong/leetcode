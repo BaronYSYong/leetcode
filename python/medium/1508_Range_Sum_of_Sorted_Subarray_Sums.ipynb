{
 "cells": [
  {
   "cell_type": "code",
   "execution_count": 1,
   "id": "ba94c4b6",
   "metadata": {},
   "outputs": [],
   "source": [
    "from typing import List"
   ]
  },
  {
   "cell_type": "code",
   "execution_count": 2,
   "id": "71f8fc5d",
   "metadata": {},
   "outputs": [],
   "source": [
    "# 13\n",
    "# nums = [1,2,3,4]; n = 4; left = 1; right = 5\n",
    "# 6\n",
    "# nums = [1,2,3,4]; n = 4; left = 3; right = 4\n",
    "# 50\n",
    "nums = [1,2,3,4]; n = 4; left = 1; right = 10"
   ]
  },
  {
   "cell_type": "code",
   "execution_count": 3,
   "id": "c4bd6a92",
   "metadata": {},
   "outputs": [
    {
     "name": "stdout",
     "output_type": "stream",
     "text": [
      "CPU times: user 7 µs, sys: 1 µs, total: 8 µs\n",
      "Wall time: 9.54 µs\n"
     ]
    },
    {
     "data": {
      "text/plain": [
       "50"
      ]
     },
     "execution_count": 3,
     "metadata": {},
     "output_type": "execute_result"
    }
   ],
   "source": [
    "# my asnwer\n",
    "class Solution:\n",
    "    def rangeSum(self, nums: List[int], n: int, left: int, right: int) -> int:\n",
    "        arr = []\n",
    "        for i in range(n):\n",
    "            sums = 0\n",
    "            for j in range(i, n):\n",
    "                sums += nums[j]\n",
    "                arr.append(sums)\n",
    "        arr.sort()\n",
    "        return sum(arr[left-1:right]) % (10**9 + 7)\n",
    "    \n",
    "solution = Solution()\n",
    "%time solution.rangeSum(nums, n, left, right)"
   ]
  },
  {
   "cell_type": "code",
   "execution_count": 4,
   "id": "a94c5890",
   "metadata": {},
   "outputs": [],
   "source": [
    "# 1st answer\n",
    "class Solution(object):\n",
    "    def rangeSum(self, A, N, left, right):\n",
    "        MOD = 10 ** 9 + 7\n",
    "        B = []\n",
    "        P = [0]\n",
    "        for x in A:\n",
    "            P.append(P[-1] + x)\n",
    "            P[-1] %= MOD\n",
    "        for i, x in enumerate(P):\n",
    "            for j in xrange(i+1, len(P)):\n",
    "                s = P[j] - x\n",
    "                B.append(s)\n",
    "        B.sort()\n",
    "        P = [0]\n",
    "        for x in B:\n",
    "            P.append(P[-1] + x)\n",
    "            P[-1] %= MOD\n",
    "        ans = P[right ] - P[left - 1]\n",
    "        return ans % MOD"
   ]
  }
 ],
 "metadata": {
  "kernelspec": {
   "display_name": "Python 3 (ipykernel)",
   "language": "python",
   "name": "python3"
  },
  "language_info": {
   "codemirror_mode": {
    "name": "ipython",
    "version": 3
   },
   "file_extension": ".py",
   "mimetype": "text/x-python",
   "name": "python",
   "nbconvert_exporter": "python",
   "pygments_lexer": "ipython3",
   "version": "3.8.10"
  }
 },
 "nbformat": 4,
 "nbformat_minor": 5
}
