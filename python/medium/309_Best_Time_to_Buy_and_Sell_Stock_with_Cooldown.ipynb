{
 "cells": [
  {
   "cell_type": "markdown",
   "metadata": {},
   "source": [
    "# Best Time to Buy and Sell Stock with Cooldown\n",
    "\n",
    "Say you have an array for which the ith element is the price of a given stock on day i.\n",
    "\n",
    "Design an algorithm to find the maximum profit. You may complete as many transactions as you like (ie, buy one and sell one share of the stock multiple times) with the following restrictions:\n",
    "\n",
    "You may not engage in multiple transactions at the same time (ie, you must sell the stock before you buy again).\n",
    "After you sell your stock, you cannot buy stock on next day. (ie, cooldown 1 day)\n",
    "Example:\n",
    "```\n",
    "Input: [1,2,3,0,2]\n",
    "Output: 3 \n",
    "Explanation: transactions = [buy, sell, cooldown, buy, sell]\n",
    "```"
   ]
  },
  {
   "cell_type": "markdown",
   "metadata": {},
   "source": [
    "## Reference\n",
    "* https://www.youtube.com/watch?v=w6xk5Po-DX0\n",
    "* https://www.youtube.com/watch?v=pkiJyNijgBw"
   ]
  },
  {
   "cell_type": "code",
   "execution_count": 1,
   "metadata": {},
   "outputs": [],
   "source": [
    "prices = [1,2,3,0,2]"
   ]
  },
  {
   "cell_type": "code",
   "execution_count": 2,
   "metadata": {},
   "outputs": [],
   "source": [
    "from typing import List"
   ]
  },
  {
   "cell_type": "code",
   "execution_count": 3,
   "metadata": {},
   "outputs": [
    {
     "name": "stdout",
     "output_type": "stream",
     "text": [
      "CPU times: user 9 µs, sys: 1 µs, total: 10 µs\n",
      "Wall time: 12.6 µs\n"
     ]
    },
    {
     "data": {
      "text/plain": [
       "3"
      ]
     },
     "execution_count": 3,
     "metadata": {},
     "output_type": "execute_result"
    }
   ],
   "source": [
    "# answer in https://www.youtube.com/watch?v=pkiJyNijgBw, 36 ms, 14.1 MB\n",
    "class Solution:\n",
    "    def maxProfit(self, prices: List[int]) -> int:\n",
    "        if len(prices) <= 1:\n",
    "            return 0\n",
    "        A, B, C = 0, -prices[0], 0\n",
    "        for i in range(1, len(prices)):\n",
    "            tmp = A\n",
    "            A = max(A, C)\n",
    "            C = B + prices[i]\n",
    "            B = max(B, tmp - prices[i])\n",
    "        \n",
    "        return max(A, C)\n",
    "solution = Solution()\n",
    "%time solution.maxProfit(prices)"
   ]
  },
  {
   "cell_type": "code",
   "execution_count": 4,
   "metadata": {},
   "outputs": [
    {
     "name": "stdout",
     "output_type": "stream",
     "text": [
      "CPU times: user 45 µs, sys: 0 ns, total: 45 µs\n",
      "Wall time: 55.1 µs\n"
     ]
    },
    {
     "data": {
      "text/plain": [
       "3"
      ]
     },
     "execution_count": 4,
     "metadata": {},
     "output_type": "execute_result"
    }
   ],
   "source": [
    "# fastest answer, 20 ms\n",
    "class Solution:\n",
    "    def maxProfit(self, prices: List[int]) -> int:\n",
    "        sold,held,reset = float('-inf'),float('-inf'),0\n",
    "        \n",
    "        for price in prices:\n",
    "            pre_sold = sold\n",
    "            sold = held + price\n",
    "            held = max(held,reset-price)\n",
    "            reset = max(reset,pre_sold)\n",
    "        \n",
    "        return max(sold,reset)\n",
    "solution = Solution()\n",
    "%time solution.maxProfit(prices)    "
   ]
  },
  {
   "cell_type": "code",
   "execution_count": 5,
   "metadata": {},
   "outputs": [
    {
     "name": "stdout",
     "output_type": "stream",
     "text": [
      "CPU times: user 10 µs, sys: 0 ns, total: 10 µs\n",
      "Wall time: 13.1 µs\n"
     ]
    },
    {
     "data": {
      "text/plain": [
       "3"
      ]
     },
     "execution_count": 5,
     "metadata": {},
     "output_type": "execute_result"
    }
   ],
   "source": [
    "# least memory, 13.844 MB\n",
    "class Solution:\n",
    "    def maxProfit(self, prices: List[int]) -> int:\n",
    "        if not prices:\n",
    "            return 0\n",
    "        n=len(prices)\n",
    "        buy=[0]*n\n",
    "        sell=[0]*n\n",
    "        buy[0]=-prices[0]\n",
    "        for i in range(1,n):\n",
    "            buy[i]=max(sell[i-2]-prices[i] if i-2>=0 else -prices[i],buy[i-1])\n",
    "            sell[i]=max(prices[i]+buy[i-1],sell[i-1])\n",
    "        return sell[-1]\n",
    "solution = Solution()\n",
    "%time solution.maxProfit(prices)  "
   ]
  }
 ],
 "metadata": {
  "kernelspec": {
   "display_name": "Python 3 (ipykernel)",
   "language": "python",
   "name": "python3"
  },
  "language_info": {
   "codemirror_mode": {
    "name": "ipython",
    "version": 3
   },
   "file_extension": ".py",
   "mimetype": "text/x-python",
   "name": "python",
   "nbconvert_exporter": "python",
   "pygments_lexer": "ipython3",
   "version": "3.8.10"
  }
 },
 "nbformat": 4,
 "nbformat_minor": 2
}
