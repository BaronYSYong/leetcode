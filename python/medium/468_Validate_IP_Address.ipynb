{
 "cells": [
  {
   "cell_type": "markdown",
   "metadata": {},
   "source": [
    "# Validate IP Address\n",
    "\n",
    "Write a function to check whether an input string is a valid IPv4 address or IPv6 address or neither.\n",
    "\n",
    "IPv4 addresses are canonically represented in dot-decimal notation, which consists of four decimal numbers, each ranging from 0 to 255, separated by dots (\".\"), e.g.,172.16.254.1;\n",
    "\n",
    "Besides, leading zeros in the IPv4 is invalid. For example, the address 172.16.254.01 is invalid.\n",
    "\n",
    "IPv6 addresses are represented as eight groups of four hexadecimal digits, each group representing 16 bits. The groups are separated by colons (\":\"). For example, the address 2001:0db8:85a3:0000:0000:8a2e:0370:7334 is a valid one. Also, we could omit some leading zeros among four hexadecimal digits and some low-case characters in the address to upper-case ones, so 2001:db8:85a3:0:0:8A2E:0370:7334 is also a valid IPv6 address(Omit leading zeros and using upper cases).\n",
    "\n",
    "However, we don't replace a consecutive group of zero value with a single empty group using two consecutive colons (::) to pursue simplicity. For example, 2001:0db8:85a3::8A2E:0370:7334 is an invalid IPv6 address.\n",
    "\n",
    "Besides, extra leading zeros in the IPv6 is also invalid. For example, the address 02001:0db8:85a3:0000:0000:8a2e:0370:7334 is invalid.\n",
    "\n",
    "Example 1:\n",
    "```\n",
    "Input: IP = \"172.16.254.1\"\n",
    "Output: \"IPv4\"\n",
    "Explanation: This is a valid IPv4 address, return \"IPv4\".\n",
    "```\n",
    "Example 2:\n",
    "```\n",
    "Input: IP = \"2001:0db8:85a3:0:0:8A2E:0370:7334\"\n",
    "Output: \"IPv6\"\n",
    "Explanation: This is a valid IPv6 address, return \"IPv6\".\n",
    "```\n",
    "Example 3:\n",
    "```\n",
    "Input: IP = \"256.256.256.256\"\n",
    "Output: \"Neither\"\n",
    "Explanation: This is neither a IPv4 address nor a IPv6 address.\n",
    "```\n",
    "\n",
    "Constraints:\n",
    "* IP consists only of English letters, digits and the characters \".\" and \":\"."
   ]
  },
  {
   "cell_type": "markdown",
   "metadata": {},
   "source": [
    "## Reference\n",
    "* https://leetcode.com/articles/validate-ip-address/"
   ]
  },
  {
   "cell_type": "code",
   "execution_count": 1,
   "metadata": {},
   "outputs": [],
   "source": [
    "# IP = \"172.16.254.1\"\n",
    "# IP = \"2001:0db8:85a3:0:0:8A2E:0370:7334\"\n",
    "# IP = \"256.256.256.256\"\n",
    "# IP = \"172.16.254.01\"\n",
    "# IP = \"2001:0db8:85a3::8A2E:0370:7334\"\n",
    "# Neither\n",
    "IP = \"01.01.01.01\""
   ]
  },
  {
   "cell_type": "code",
   "execution_count": 2,
   "metadata": {},
   "outputs": [
    {
     "name": "stdout",
     "output_type": "stream",
     "text": [
      "CPU times: user 32 µs, sys: 2 µs, total: 34 µs\n",
      "Wall time: 36 µs\n"
     ]
    },
    {
     "data": {
      "text/plain": [
       "'IPv4'"
      ]
     },
     "execution_count": 2,
     "metadata": {},
     "output_type": "execute_result"
    }
   ],
   "source": [
    "# Solution 1: using ipaddress\n",
    "from ipaddress import ip_address, IPv6Address\n",
    "class Solution:\n",
    "    def validIPAddress(self, IP: str) -> str:\n",
    "        try:\n",
    "            return \"IPv6\" if type(ip_address(IP)) is IPv6Address else \"IPv4\"\n",
    "        except ValueError:\n",
    "            return \"Neither\"\n",
    "\n",
    "solution = Solution()\n",
    "%time solution.validIPAddress(IP)"
   ]
  },
  {
   "cell_type": "code",
   "execution_count": 3,
   "metadata": {},
   "outputs": [
    {
     "name": "stdout",
     "output_type": "stream",
     "text": [
      "CPU times: user 6 µs, sys: 0 ns, total: 6 µs\n",
      "Wall time: 8.11 µs\n"
     ]
    },
    {
     "data": {
      "text/plain": [
       "'Neither'"
      ]
     },
     "execution_count": 3,
     "metadata": {},
     "output_type": "execute_result"
    }
   ],
   "source": [
    "# Solution 2: Regex, 48ms, 13.8MB\n",
    "import re\n",
    "class Solution:\n",
    "    chunk_IPv4 = r'([0-9]|[1-9][0-9]|1[0-9][0-9]|2[0-4][0-9]|25[0-5])'\n",
    "    patten_IPv4 = re.compile(r'^(' + chunk_IPv4 + r'\\.){3}' + chunk_IPv4 + r'$')\n",
    "    \n",
    "    chunk_IPv6 = r'([0-9a-fA-F]{1,4})'\n",
    "    patten_IPv6 = re.compile(r'^(' + chunk_IPv6 + r'\\:){7}' + chunk_IPv6 + r'$')\n",
    "\n",
    "    def validIPAddress(self, IP: str) -> str:        \n",
    "        if self.patten_IPv4.match(IP):\n",
    "            return \"IPv4\"\n",
    "        return \"IPv6\" if self.patten_IPv6.match(IP) else \"Neither\" \n",
    "    \n",
    "solution = Solution()\n",
    "%time solution.validIPAddress(IP)"
   ]
  },
  {
   "cell_type": "code",
   "execution_count": 4,
   "metadata": {},
   "outputs": [
    {
     "name": "stdout",
     "output_type": "stream",
     "text": [
      "CPU times: user 10 µs, sys: 1 µs, total: 11 µs\n",
      "Wall time: 13.6 µs\n"
     ]
    },
    {
     "data": {
      "text/plain": [
       "'Neither'"
      ]
     },
     "execution_count": 4,
     "metadata": {},
     "output_type": "execute_result"
    }
   ],
   "source": [
    "# Solution 3: Divide and Conquer\n",
    "class Solution:\n",
    "    def validate_IPv4(self, IP: str) -> str:\n",
    "        nums = IP.split('.')\n",
    "        for x in nums:\n",
    "            # Validate integer in range (0, 255):\n",
    "            # 1. length of chunk is between 1 and 3\n",
    "            if len(x) == 0 or len(x) > 3:\n",
    "                return \"Neither\"\n",
    "            # 2. no extra leading zeros\n",
    "            # 3. only digits are allowed\n",
    "            # 4. less than 255\n",
    "            if x[0] == '0' and len(x) != 1 or not x.isdigit() or int(x) > 255:\n",
    "                return \"Neither\"\n",
    "        return \"IPv4\"\n",
    "    \n",
    "    def validate_IPv6(self, IP: str) -> str:\n",
    "        nums = IP.split(':')\n",
    "        hexdigits = '0123456789abcdefABCDEF'\n",
    "        for x in nums:\n",
    "            # Validate hexadecimal in range (0, 2**16):\n",
    "            # 1. at least one and not more than 4 hexdigits in one chunk\n",
    "            # 2. only hexdigits are allowed: 0-9, a-f, A-F\n",
    "            if len(x) == 0 or len(x) > 4 or not all(c in hexdigits for c in x):\n",
    "                return \"Neither\"\n",
    "        return \"IPv6\"\n",
    "        \n",
    "    def validIPAddress(self, IP: str) -> str:\n",
    "        if IP.count('.') == 3:\n",
    "            return self.validate_IPv4(IP)\n",
    "        elif IP.count(':') == 7:\n",
    "            return self.validate_IPv6(IP)\n",
    "        else:\n",
    "            return \"Neither\"\n",
    "        \n",
    "solution = Solution()\n",
    "%time solution.validIPAddress(IP)"
   ]
  },
  {
   "cell_type": "code",
   "execution_count": 5,
   "metadata": {},
   "outputs": [],
   "source": [
    "# fastest answer, 8ms\n",
    "def checkipv4(ip):\n",
    "    a=ip.split(\".\")\n",
    "    if(len(a)!=4):\n",
    "        return False\n",
    "    for num in a:\n",
    "        if(num==\"\" or (len(num)>1 and num[0]==\"0\") or  not num.isnumeric() or  int(num)>255):\n",
    "            return False\n",
    "    return True\n",
    "    \n",
    "    \n",
    "def checkipv6(ip):\n",
    "    mem={\"a\",\"b\",\"c\",\"d\",\"e\",\"f\",\"A\",\"B\",\"C\",\"D\",\"E\",\"F\"}\n",
    "    a=ip.split(\":\")\n",
    "    if(len(a)!=8):\n",
    "        return False\n",
    "    for num in a:\n",
    "        for c in num:\n",
    "            if c!=\"\" and not c.isnumeric() and c not in mem:\n",
    "                return False\n",
    "        if len(num)>4 or num==\"\":\n",
    "            return False\n",
    "    return True\n",
    "    \n",
    "class Solution:\n",
    "    def validIPAddress(self, ip: str) -> str:\n",
    "        if \".\" in ip :\n",
    "            return \"IPv4\" if(checkipv4(ip)) else \"Neither\"\n",
    "        if \":\" in ip :\n",
    "            return \"IPv6\" if(checkipv6(ip)) else \"Neither\"\n",
    "        return \"Neither\""
   ]
  },
  {
   "cell_type": "code",
   "execution_count": 6,
   "metadata": {},
   "outputs": [],
   "source": [
    "# least memory, 13.512MB\n",
    "class Solution:\n",
    "    def validIPAddress(self, IP: str) -> str:\n",
    "        def check_v4(ip):\n",
    "            octates = ip.split('.')\n",
    "            if len(octates) != 4:\n",
    "                return False\n",
    "            \n",
    "            for octate in octates:\n",
    "                if not octate or not octate.isdigit():\n",
    "                    return False\n",
    "                \n",
    "                if octate[0] == '0' and len(octate) > 1:\n",
    "                    return False\n",
    "                \n",
    "                if int(octate) > 255:\n",
    "                    return False\n",
    "                \n",
    "            return True\n",
    "        \n",
    "        def check_v6(ip):\n",
    "            allowed_chars = set(('a', 'b', 'c', 'd', 'e', 'f'))\n",
    "            sections = ip.split(':')\n",
    "            if len(sections) != 8:\n",
    "                return False\n",
    "            \n",
    "            for section in sections:\n",
    "                if not section or len(section) > 4:\n",
    "                    return False\n",
    "                \n",
    "                for c in section:\n",
    "                    if c.isdigit():\n",
    "                        continue\n",
    "                    elif c.lower() not in allowed_chars:\n",
    "                        return False\n",
    "            return True\n",
    "        \n",
    "        if check_v4(IP):\n",
    "            return \"IPv4\"\n",
    "        elif check_v6(IP):\n",
    "            return \"IPv6\"\n",
    "        \n",
    "        return \"Neither\""
   ]
  },
  {
   "cell_type": "code",
   "execution_count": null,
   "metadata": {},
   "outputs": [],
   "source": []
  }
 ],
 "metadata": {
  "kernelspec": {
   "display_name": "Python 3",
   "language": "python",
   "name": "python3"
  },
  "language_info": {
   "codemirror_mode": {
    "name": "ipython",
    "version": 3
   },
   "file_extension": ".py",
   "mimetype": "text/x-python",
   "name": "python",
   "nbconvert_exporter": "python",
   "pygments_lexer": "ipython3",
   "version": "3.6.7"
  }
 },
 "nbformat": 4,
 "nbformat_minor": 2
}
