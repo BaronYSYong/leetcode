{
 "cells": [
  {
   "cell_type": "code",
   "execution_count": 1,
   "id": "add071e8",
   "metadata": {},
   "outputs": [
    {
     "data": {
      "text/html": [
       "<style>.container { width:100% !important; }</style>"
      ],
      "text/plain": [
       "<IPython.core.display.HTML object>"
      ]
     },
     "metadata": {},
     "output_type": "display_data"
    }
   ],
   "source": [
    "from IPython.display import display, HTML\n",
    "display(HTML(\"<style>.container { width:100% !important; }</style>\"))"
   ]
  },
  {
   "cell_type": "markdown",
   "id": "0a38dfbf",
   "metadata": {},
   "source": [
    "```\n",
    "Given a string, find the length of the longest substring without repeating characters.\n",
    "\n",
    "Examples:\n",
    "Given \"abcabcbb\", the answer is \"abc\", which the length is 3.\n",
    "Given \"bbbbb\", the answer is \"b\", with the length of 1.\n",
    "Given \"pwwkew\", the answer is \"wke\", with the length of 3. \n",
    "Note that the answer must be a substring, \"pwke\" is a subsequence and not a substring.\n",
    "```"
   ]
  },
  {
   "cell_type": "code",
   "execution_count": 2,
   "id": "54967c0d",
   "metadata": {},
   "outputs": [],
   "source": [
    "class Solution(object):\n",
    "    def lengthOfLongestSubstring1(self, s):\n",
    "        \"\"\"\n",
    "        :type s: str\n",
    "        :rtype: int\n",
    "        runtime: 215ms\n",
    "        \"\"\"\n",
    "        if s=='':\n",
    "            return 0\n",
    "        usedChar = s[0]\n",
    "        length = []\n",
    "        for i in range(len(s)-1):\n",
    "            if s[i+1] in usedChar:\n",
    "                length.append(len(usedChar))\n",
    "                if s[i+1] == usedChar[-1]:\n",
    "                    usedChar = s[i+1]\n",
    "                else:\n",
    "                    index = usedChar.index(s[i+1])\n",
    "                    usedChar = usedChar[index+1:] + s[i+1]\n",
    "            else:\n",
    "                usedChar += s[i+1]\n",
    "        length.append(len(usedChar))\n",
    "        return max(length)\n",
    "\n",
    "    def lengthOfLongestSubstring2(self, s):\n",
    "        \"\"\"\n",
    "        :type s: str\n",
    "        :rtype: int\n",
    "        runtime: 88ms\n",
    "        \"\"\"\n",
    "        start = maxLength = 0\n",
    "        usedChar = {}\n",
    "        \n",
    "        for i in range(len(s)):\n",
    "            if s[i] in usedChar and start <= usedChar[s[i]]:\n",
    "                start = usedChar[s[i]] + 1\n",
    "            else:\n",
    "                maxLength = max(maxLength, i - start + 1)\n",
    "\n",
    "            usedChar[s[i]] = i\n",
    "\n",
    "        return maxLength  "
   ]
  },
  {
   "cell_type": "code",
   "execution_count": 3,
   "id": "ad4bfa34",
   "metadata": {},
   "outputs": [
    {
     "name": "stdout",
     "output_type": "stream",
     "text": [
      "3\n",
      "1\n",
      "3\n"
     ]
    }
   ],
   "source": [
    "maxlength = Solution()\n",
    "for s in [\"abcabcbb\", \"bbbbb\", \"pwwkew\"]:\n",
    "    print(maxlength.lengthOfLongestSubstring2(s))"
   ]
  }
 ],
 "metadata": {
  "kernelspec": {
   "display_name": "Python 3 (ipykernel)",
   "language": "python",
   "name": "python3"
  },
  "language_info": {
   "codemirror_mode": {
    "name": "ipython",
    "version": 3
   },
   "file_extension": ".py",
   "mimetype": "text/x-python",
   "name": "python",
   "nbconvert_exporter": "python",
   "pygments_lexer": "ipython3",
   "version": "3.8.10"
  }
 },
 "nbformat": 4,
 "nbformat_minor": 5
}
