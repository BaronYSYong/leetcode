{
 "cells": [
  {
   "cell_type": "code",
   "execution_count": 1,
   "id": "0d9910bf",
   "metadata": {},
   "outputs": [],
   "source": [
    "# s = \"42\" # answer is 42\n",
    "# s = \"   -42\" # answer is -42\n",
    "# s = \"4193 with words\" # answer is 4193\n",
    "# s = \"words and 987\" # answer is 0\n",
    "# s = \"+-12\" # answer is 0\n",
    "# s = \"   +0 123\" # answer is 0\n",
    "s = \"-349658437684375\""
   ]
  },
  {
   "cell_type": "code",
   "execution_count": 2,
   "id": "56cfc568",
   "metadata": {},
   "outputs": [],
   "source": [
    "# my asnwer, 75ms\n",
    "class Solution:\n",
    "    def myAtoi(self, s: str) -> int:\n",
    "        atoi = \"\"\n",
    "        for c in s:\n",
    "            if c == \" \" and len(atoi) < 1:\n",
    "                continue\n",
    "            elif (c == \"-\" or c == \"+\") and len(atoi) < 1:\n",
    "                atoi += c\n",
    "            elif c.isnumeric():\n",
    "                atoi += c\n",
    "            else:\n",
    "                break\n",
    "\n",
    "        if atoi == \"\" or atoi == \"+\" or atoi == \"-\":\n",
    "            return 0\n",
    "        elif int(atoi) < -2**31:\n",
    "            return -2**31\n",
    "        elif int(atoi) > 2**31-1:\n",
    "            return 2**31-1\n",
    "        else:\n",
    "            return int(atoi)"
   ]
  },
  {
   "cell_type": "code",
   "execution_count": 3,
   "id": "2d06c02f",
   "metadata": {},
   "outputs": [
    {
     "name": "stdout",
     "output_type": "stream",
     "text": [
      "CPU times: user 22 µs, sys: 2 µs, total: 24 µs\n",
      "Wall time: 28.4 µs\n"
     ]
    },
    {
     "data": {
      "text/plain": [
       "-2147483648"
      ]
     },
     "execution_count": 3,
     "metadata": {},
     "output_type": "execute_result"
    }
   ],
   "source": [
    "solution = Solution()\n",
    "%time solution.myAtoi(s)"
   ]
  },
  {
   "cell_type": "code",
   "execution_count": 4,
   "id": "00972331",
   "metadata": {},
   "outputs": [],
   "source": [
    "# fastest answer, 19ms\n",
    "class Solution:\n",
    "    def myAtoi(self, s: str) -> int:\n",
    "        s = s.strip()\n",
    "        \n",
    "        if not s:\n",
    "            return 0\n",
    "        i = 0\n",
    "        sign = 1\n",
    "        num = \"0\"\n",
    "        if s[i] in \"+-\":\n",
    "            if s[i] == \"-\":\n",
    "                sign = -1\n",
    "            i += 1\n",
    "        \n",
    "        while i < len(s):\n",
    "            if not s[i].isdigit():\n",
    "                break\n",
    "                \n",
    "            num += s[i]\n",
    "            i += 1\n",
    "        \n",
    "        print(num)\n",
    "        res = int(num) * sign\n",
    "        \n",
    "        return min(max(-2**31, res), 2**31 - 1)"
   ]
  },
  {
   "cell_type": "code",
   "execution_count": 5,
   "id": "13b7bf57",
   "metadata": {},
   "outputs": [
    {
     "name": "stdout",
     "output_type": "stream",
     "text": [
      "0349658437684375\n",
      "CPU times: user 264 µs, sys: 22 µs, total: 286 µs\n",
      "Wall time: 253 µs\n"
     ]
    },
    {
     "data": {
      "text/plain": [
       "-2147483648"
      ]
     },
     "execution_count": 5,
     "metadata": {},
     "output_type": "execute_result"
    }
   ],
   "source": [
    "solution = Solution()\n",
    "%time solution.myAtoi(s)"
   ]
  }
 ],
 "metadata": {
  "kernelspec": {
   "display_name": "Python 3 (ipykernel)",
   "language": "python",
   "name": "python3"
  },
  "language_info": {
   "codemirror_mode": {
    "name": "ipython",
    "version": 3
   },
   "file_extension": ".py",
   "mimetype": "text/x-python",
   "name": "python",
   "nbconvert_exporter": "python",
   "pygments_lexer": "ipython3",
   "version": "3.8.10"
  }
 },
 "nbformat": 4,
 "nbformat_minor": 5
}
