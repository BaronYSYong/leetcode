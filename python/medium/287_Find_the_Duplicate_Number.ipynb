{
 "cells": [
  {
   "cell_type": "markdown",
   "metadata": {},
   "source": [
    "# Find the Duplicate Number\n",
    "\n",
    "Given an array nums containing n + 1 integers where each integer is between 1 and n (inclusive), prove that at least one duplicate number must exist. Assume that there is only one duplicate number, find the duplicate one.\n",
    "\n",
    "Example 1:\n",
    "```\n",
    "Input: [1,3,4,2,2]\n",
    "Output: 2\n",
    "```\n",
    "Example 2:\n",
    "```\n",
    "Input: [3,1,3,4,2]\n",
    "Output: 3\n",
    "```\n",
    "Note:\n",
    "\n",
    "* You must not modify the array (assume the array is read only).\n",
    "* You must use only constant, O(1) extra space.\n",
    "* Your runtime complexity should be less than O(n2).\n",
    "* There is only one duplicate number in the array, but it could be repeated more than once."
   ]
  },
  {
   "cell_type": "markdown",
   "metadata": {},
   "source": [
    "## Reference\n",
    "* https://leetcode.com/articles/find-the-duplicate-number/"
   ]
  },
  {
   "cell_type": "code",
   "execution_count": 1,
   "metadata": {},
   "outputs": [],
   "source": [
    "from typing import List"
   ]
  },
  {
   "cell_type": "code",
   "execution_count": 2,
   "metadata": {},
   "outputs": [],
   "source": [
    "nums = [3,1,3,4,2]"
   ]
  },
  {
   "cell_type": "code",
   "execution_count": 3,
   "metadata": {},
   "outputs": [],
   "source": [
    "# my answer, 84ms\n",
    "class Solution:\n",
    "    def findDuplicate(self, nums: List[int]) -> int:\n",
    "        nums_dict = {}\n",
    "        for num in nums:\n",
    "            if num not in nums_dict:\n",
    "                nums_dict[num] = 1\n",
    "            else:\n",
    "                nums_dict[num] += 1\n",
    "        \n",
    "        for key, value in nums_dict.items():\n",
    "            if value > 1:\n",
    "                return key"
   ]
  },
  {
   "cell_type": "code",
   "execution_count": 4,
   "metadata": {},
   "outputs": [],
   "source": [
    "# 2nd try, 60ms, 16.5MB\n",
    "class Solution:\n",
    "    def findDuplicate(self, nums: List[int]) -> int:\n",
    "        nums_dict = {}\n",
    "        for num in nums:\n",
    "            if num in nums_dict:\n",
    "                return num\n",
    "            else:\n",
    "                nums_dict[num] = 1"
   ]
  },
  {
   "cell_type": "code",
   "execution_count": 5,
   "metadata": {},
   "outputs": [],
   "source": [
    "# fastest answer, 44ms\n",
    "from collections import defaultdict\n",
    "class Solution:\n",
    "    def findDuplicate(self, nums: List[int]) -> int:\n",
    "        dict = defaultdict(int)\n",
    "        for n in nums:\n",
    "            dict[n] += 1\n",
    "            if dict[n] > 1: return n"
   ]
  },
  {
   "cell_type": "code",
   "execution_count": 6,
   "metadata": {},
   "outputs": [],
   "source": [
    "# smallest memory, 15968kb\n",
    "class Solution:\n",
    "    def findDuplicate(self, nums: List[int]) -> int:\n",
    "        \n",
    "        n = len(nums)-1\n",
    "        left, right = 1, n\n",
    "        while left < right:\n",
    "            mid = left + (right-left)//2\n",
    "            print(\"mid:\", mid)\n",
    "            cnt = 0\n",
    "            for num in nums:\n",
    "                if num <= mid:\n",
    "                    cnt += 1\n",
    "            if cnt > mid:\n",
    "                right = mid\n",
    "            else:\n",
    "                left = mid + 1\n",
    "        return right"
   ]
  }
 ],
 "metadata": {
  "kernelspec": {
   "display_name": "Python 3",
   "language": "python",
   "name": "python3"
  },
  "language_info": {
   "codemirror_mode": {
    "name": "ipython",
    "version": 3
   },
   "file_extension": ".py",
   "mimetype": "text/x-python",
   "name": "python",
   "nbconvert_exporter": "python",
   "pygments_lexer": "ipython3",
   "version": "3.6.7"
  }
 },
 "nbformat": 4,
 "nbformat_minor": 2
}
