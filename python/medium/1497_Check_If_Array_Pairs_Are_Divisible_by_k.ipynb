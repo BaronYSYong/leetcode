{
 "cells": [
  {
   "cell_type": "code",
   "execution_count": 1,
   "id": "d25d6d09",
   "metadata": {},
   "outputs": [],
   "source": [
    "from typing import List"
   ]
  },
  {
   "cell_type": "code",
   "execution_count": 2,
   "id": "c0416685",
   "metadata": {},
   "outputs": [],
   "source": [
    "# arr = [1,2,3,4,5,10,6,7,8,9]\n",
    "# k = 5\n",
    "\n",
    "# arr = [1,2,3,4,5,6]\n",
    "# k = 7\n",
    "\n",
    "# arr = [1,2,3,4,5,6]\n",
    "# k = 10\n",
    "arr = [-10,10]\n",
    "k = 2\n",
    "\n",
    "# arr = [-1,1,-2,2,-3,3,-4,4]\n",
    "# k = 3"
   ]
  },
  {
   "cell_type": "code",
   "execution_count": 3,
   "id": "6a3d11b7",
   "metadata": {},
   "outputs": [
    {
     "name": "stdout",
     "output_type": "stream",
     "text": [
      "CPU times: user 2 µs, sys: 0 ns, total: 2 µs\n",
      "Wall time: 4.53 µs\n"
     ]
    },
    {
     "data": {
      "text/plain": [
       "True"
      ]
     },
     "execution_count": 3,
     "metadata": {},
     "output_type": "execute_result"
    }
   ],
   "source": [
    "# my answer\n",
    "class Solution:\n",
    "    def canArrange(self, arr: List[int], k: int) -> bool:\n",
    "        if sum(arr) % k == 0:\n",
    "            return True\n",
    "        else:\n",
    "            False\n",
    "\n",
    "solution = Solution()\n",
    "%time solution.canArrange(arr, k)"
   ]
  },
  {
   "cell_type": "code",
   "execution_count": null,
   "id": "3284c466",
   "metadata": {},
   "outputs": [],
   "source": []
  }
 ],
 "metadata": {
  "kernelspec": {
   "display_name": "Python 3 (ipykernel)",
   "language": "python",
   "name": "python3"
  },
  "language_info": {
   "codemirror_mode": {
    "name": "ipython",
    "version": 3
   },
   "file_extension": ".py",
   "mimetype": "text/x-python",
   "name": "python",
   "nbconvert_exporter": "python",
   "pygments_lexer": "ipython3",
   "version": "3.8.10"
  }
 },
 "nbformat": 4,
 "nbformat_minor": 5
}
