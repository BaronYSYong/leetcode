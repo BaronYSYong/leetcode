{
 "cells": [
  {
   "cell_type": "code",
   "execution_count": 1,
   "id": "3c299ec3",
   "metadata": {},
   "outputs": [],
   "source": [
    "# salary = [4000,3000,1000,2000]\n",
    "# salary = [1000,2000,3000]\n",
    "# salary = [6000,5000,4000,3000,2000,1000]\n",
    "salary = [8000,9000,2000,3000,6000,1000]"
   ]
  },
  {
   "cell_type": "code",
   "execution_count": 2,
   "id": "9e2e2e22",
   "metadata": {},
   "outputs": [
    {
     "data": {
      "text/plain": [
       "4750.0"
      ]
     },
     "execution_count": 2,
     "metadata": {},
     "output_type": "execute_result"
    }
   ],
   "source": [
    "(sum(salary) - min(salary) - max(salary))/(len(salary)-2)"
   ]
  },
  {
   "cell_type": "code",
   "execution_count": null,
   "id": "45ca690a",
   "metadata": {},
   "outputs": [],
   "source": []
  }
 ],
 "metadata": {
  "kernelspec": {
   "display_name": "Python 3 (ipykernel)",
   "language": "python",
   "name": "python3"
  },
  "language_info": {
   "codemirror_mode": {
    "name": "ipython",
    "version": 3
   },
   "file_extension": ".py",
   "mimetype": "text/x-python",
   "name": "python",
   "nbconvert_exporter": "python",
   "pygments_lexer": "ipython3",
   "version": "3.8.10"
  }
 },
 "nbformat": 4,
 "nbformat_minor": 5
}
