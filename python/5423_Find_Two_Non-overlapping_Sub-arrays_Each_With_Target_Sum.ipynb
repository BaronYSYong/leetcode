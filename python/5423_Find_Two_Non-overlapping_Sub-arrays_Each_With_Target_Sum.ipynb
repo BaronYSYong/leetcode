{
 "cells": [
  {
   "cell_type": "markdown",
   "id": "54fdc55b",
   "metadata": {},
   "source": [
    "# 5423. Find Two Non-overlapping Sub-arrays Each With Target Sum\n",
    "Given an array of integers arr and an integer target.\n",
    "\n",
    "You have to find two non-overlapping sub-arrays of arr each with sum equal target. There can be multiple answers so you have to find an answer where the sum of the lengths of the two sub-arrays is minimum.\n",
    "\n",
    "Return the minimum sum of the lengths of the two required sub-arrays, or return -1 if you cannot find such two sub-arrays.\n",
    "\n",
    "Example 1:\n",
    "```\n",
    "Input: arr = [3,2,2,4,3], target = 3\n",
    "Output: 2\n",
    "Explanation: Only two sub-arrays have sum = 3 ([3] and [3]). The sum of their lengths is 2.\n",
    "```\n",
    "Example 2:\n",
    "```\n",
    "Input: arr = [7,3,4,7], target = 7\n",
    "Output: 2\n",
    "Explanation: Although we have three non-overlapping sub-arrays of sum = 7 ([7], [3,4] and [7]), but we will choose the first and third sub-arrays as the sum of their lengths is 2.\n",
    "```\n",
    "Example 3:\n",
    "```\n",
    "Input: arr = [4,3,2,6,2,3,4], target = 6\n",
    "Output: -1\n",
    "Explanation: We have only one sub-array of sum = 6.\n",
    "```\n",
    "Example 4:\n",
    "```\n",
    "Input: arr = [5,5,4,4,5], target = 3\n",
    "Output: -1\n",
    "Explanation: We cannot find a sub-array of sum = 3.\n",
    "```\n",
    "Example 5:\n",
    "```\n",
    "Input: arr = [3,1,1,1,5,1,2,1], target = 3\n",
    "Output: 3\n",
    "Explanation: Note that sub-arrays [1,2] and [2,1] cannot be an answer because they overlap.\n",
    "```\n",
    " \n",
    "\n",
    "Constraints:\n",
    "\n",
    "* 1 <= arr.length <= 10^5\n",
    "* 1 <= arr[i] <= 1000\n",
    "* 1 <= target <= 10^8\n"
   ]
  },
  {
   "cell_type": "code",
   "execution_count": 1,
   "id": "50823bdc",
   "metadata": {},
   "outputs": [],
   "source": [
    "from typing import List"
   ]
  },
  {
   "cell_type": "code",
   "execution_count": 2,
   "id": "64e6a4d0",
   "metadata": {},
   "outputs": [],
   "source": [
    "# 2\n",
    "# arr = [3,2,2,4,3]\n",
    "# target = 3\n",
    "\n",
    "# 2\n",
    "# arr = [7,3,4,7]\n",
    "# target = 7\n",
    "\n",
    "# -1\n",
    "# arr = [4,3,2,6,2,3,4]\n",
    "# target = 6\n",
    "\n",
    "# -1\n",
    "# arr = [5,5,4,4,5]\n",
    "# target = 3\n",
    "\n",
    "# 3\n",
    "# arr = [3,1,1,1,5,1,2,1]\n",
    "# target = 3\n",
    "\n",
    "# 4\n",
    "arr = [1,2,2,3,2,6,7,2,1,4,8]\n",
    "target = 5\n",
    "\n",
    "# 5\n",
    "arr = [78,18,1,94,1,1,1,29,58,3,4,1,2,56,17,19,4,1,63,2,16,11,1,1,2,1,25,62,10,69,12,7,1,6,2,92,4,1,61,7,26,1,1,1,67,26,2,2,70,25,2,68,13,4,11,1,34,14,7,37,4,1,12,51,25,2,4,3,56,21,7,8,5,93,1,1,2,55,14,25,1,1,1,89,6,1,1,24,22,50,1,28,9,51,9,88,1,7,1,30,32,18,12,3,2,18,10,4,11,43,6,5,93,2,2,68,18,11,47,33,17,27,56,13,1,2,29,1,17,1,10,15,18,3,1,86,7,4,16,45,3,29,2,1,1,31,19,18,16,12,1,56,4,35,1,1,36,59,1,1,16,58,18,4,1,43,31,15,6,1,1,6,49,27,12,1,2,80,14,2,1,21,32,18,15,11,59,10,1,14,3,3,7,15,4,55,4,1,12,4,1,1,53,37,2,5,72,3,6,10,3,3,83,8,1,5]\n",
    "target = 97"
   ]
  },
  {
   "cell_type": "code",
   "execution_count": 3,
   "id": "015e2b96",
   "metadata": {},
   "outputs": [
    {
     "name": "stdout",
     "output_type": "stream",
     "text": [
      "[[78, 18, 1], [94, 1, 1, 1], [29, 58, 3, 4, 1, 2], [56, 17, 19, 4, 1], [63, 2, 16, 11, 1, 1, 2, 1], [25, 62, 10], [69, 12, 7, 1, 6, 2], [92, 4, 1], [61, 7, 26, 1, 1, 1], [67, 26, 2, 2], [70, 25, 2], [68, 13, 4, 11, 1], [34, 14, 7, 37, 4, 1], [12, 51, 25, 2, 4, 3], [56, 21, 7, 8, 5], [93, 1, 1, 2], [55, 14, 25, 1, 1, 1], [89, 6, 1, 1], [24, 22, 50, 1], [28, 9, 51, 9], [88, 1, 7, 1], [30, 32, 18, 12, 3, 2], [18, 10, 4, 11, 43, 6, 5], [93, 2, 2], [68, 18, 11], [47, 33, 17], [27, 56, 13, 1], [2, 29, 1, 17, 1, 10, 15, 18, 3, 1], [86, 7, 4], [16, 45, 3, 29, 2, 1, 1], [31, 19, 18, 16, 12, 1], [56, 4, 35, 1, 1], [36, 59, 1, 1], [16, 58, 18, 4, 1], [43, 31, 15, 6, 1, 1], [6, 49, 27, 12, 1, 2], [80, 14, 2, 1], [21, 32, 18, 15, 11], [59, 10, 1, 14, 3, 3, 7], [15, 4, 55, 4, 1, 12, 4, 1, 1], [53, 37, 2, 5], [72, 3, 6, 10, 3, 3], [83, 8, 1, 5]]\n",
      "CPU times: user 118 µs, sys: 19 µs, total: 137 µs\n",
      "Wall time: 139 µs\n"
     ]
    },
    {
     "data": {
      "text/plain": [
       "6"
      ]
     },
     "execution_count": 3,
     "metadata": {},
     "output_type": "execute_result"
    }
   ],
   "source": [
    "def minSumOfLengths(arr: List[int], target: int) -> int:\n",
    "    i = 0\n",
    "    sub_arrays = []\n",
    "    sub_array = []\n",
    "    a = []\n",
    "    while i < len(arr):\n",
    "        sub_array.append(arr[i])\n",
    "        sum_arr = sum(sub_array)\n",
    "        if sum_arr == target:\n",
    "            a.append(sub_array)\n",
    "            sub_arrays.append(len(sub_array))\n",
    "            sub_array = []\n",
    "            i += 1\n",
    "        elif sum_arr > target:\n",
    "            if len(sub_array) == 1:\n",
    "                i += 1\n",
    "            elif len(sub_array) > 2:\n",
    "                i -= (len(sub_array)-2)\n",
    "            sub_array = []\n",
    "\n",
    "        else:\n",
    "            i += 1\n",
    "    print(a)\n",
    "            \n",
    "    if len(sub_arrays) < 2:\n",
    "        return -1\n",
    "    else:\n",
    "        return sum(sorted(sub_arrays)[:2])\n",
    "\n",
    "%time minSumOfLengths(arr, target)"
   ]
  },
  {
   "cell_type": "code",
   "execution_count": 4,
   "id": "82da0891",
   "metadata": {},
   "outputs": [],
   "source": [
    "# place 8\n",
    "class Solution:\n",
    "    def minSumOfLengths(self, a: List[int], target: int) -> int:\n",
    "        n = len(a)\n",
    "        a = [0] + a\n",
    "        s = {}\n",
    "        cs = 0\n",
    "        inf = 10**9\n",
    "        b = [inf] * (n + 1)\n",
    "        res = inf\n",
    "        for i in range(n + 1):\n",
    "            cs += a[i]\n",
    "            if i:\n",
    "                b[i] = min(b[i-1], b[i])\n",
    "                j = s.get(cs - target, None)\n",
    "                if j is not None:\n",
    "                    b[i] = min(b[i], i - j)\n",
    "                    res = min(res, i - j + b[j])\n",
    "            s[cs] = i\n",
    "        return res if res != inf else -1"
   ]
  }
 ],
 "metadata": {
  "kernelspec": {
   "display_name": "Python 3 (ipykernel)",
   "language": "python",
   "name": "python3"
  },
  "language_info": {
   "codemirror_mode": {
    "name": "ipython",
    "version": 3
   },
   "file_extension": ".py",
   "mimetype": "text/x-python",
   "name": "python",
   "nbconvert_exporter": "python",
   "pygments_lexer": "ipython3",
   "version": "3.8.10"
  }
 },
 "nbformat": 4,
 "nbformat_minor": 5
}
