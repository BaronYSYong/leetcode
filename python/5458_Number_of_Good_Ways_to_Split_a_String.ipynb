{
 "cells": [
  {
   "cell_type": "markdown",
   "id": "7dca2324",
   "metadata": {},
   "source": [
    "# 5458. Number of Good Ways to Split a String\n",
    "\n",
    "You are given a string s, a split is called good if you can split s into 2 non-empty strings p and q where its concatenation is equal to s and the number of distinct letters in p and q are the same.\n",
    "\n",
    "Return the number of good splits you can make in s.\n",
    "\n",
    "Example 1:\n",
    "```\n",
    "Input: s = \"aacaba\"\n",
    "Output: 2\n",
    "Explanation: There are 5 ways to split \"aacaba\" and 2 of them are good. \n",
    "(\"a\", \"acaba\") Left string and right string contains 1 and 3 different letters respectively.\n",
    "(\"aa\", \"caba\") Left string and right string contains 1 and 3 different letters respectively.\n",
    "(\"aac\", \"aba\") Left string and right string contains 2 and 2 different letters respectively (good split).\n",
    "(\"aaca\", \"ba\") Left string and right string contains 2 and 2 different letters respectively (good split).\n",
    "(\"aacab\", \"a\") Left string and right string contains 3 and 1 different letters respectively.\n",
    "```\n",
    "Example 2:\n",
    "```\n",
    "Input: s = \"abcd\"\n",
    "Output: 1\n",
    "Explanation: Split the string as follows (\"ab\", \"cd\").\n",
    "```\n",
    "Example 3:\n",
    "```\n",
    "Input: s = \"aaaaa\"\n",
    "Output: 4\n",
    "Explanation: All possible splits are good.\n",
    "```\n",
    "Example 4:\n",
    "```\n",
    "Input: s = \"acbadbaada\"\n",
    "Output: 2\n",
    "```\n",
    "\n",
    "Constraints:\n",
    "\n",
    "* s contains only lowercase English letters.\n",
    "* 1 <= s.length <= 10^5"
   ]
  },
  {
   "cell_type": "code",
   "execution_count": 1,
   "id": "8695b2eb",
   "metadata": {},
   "outputs": [],
   "source": [
    "# s = \"aacaba\"\n",
    "# s = \"acbadbaada\"\n",
    "# s = \"abcd\"\n",
    "# s = \"aaaaa\"\n",
    "# 18664\n",
    "s = \"cikohdddhfjhhljfkelfaeiaijalndjhdhoooeocalliemjgaafknjiakgaobffhaofglhkiefhigacjoehcdbhglgckadkmnnomfmealkffchkbknnbhbiokbiaejdlgebnocbdmahalnjdaemhkafnnahgbbggjlbdkjoghigcdkcaifadnciffikmebkneeciddlofflmiligdaacclonblnbebncojldbnihceoegfnhjifohbioheabolibldedagjcfkleicdghahajfmlohdnkajeanijfofgmekgmjachknddoiaeibokimggenghjmhnmlbakbackhabkbdmihkbmodinggbnjonlkaogdoeijcoaebhaaehgndlngnolbokkfcoanlnochnfklakmhlilkkclnhhfdleedddbjiknabcofiidaijeelgdkblheciogfhhennjneckedmcdfddjckjfnnmjhhomahcmglnjiiegodgmnkngjomiajnjnbajanggoabolbkfdoelbiegeaojiehblienjlemajjbleildikkmddjgafkdgbnfongemelgmfjeeiaodgimbbaackffdnakkeiihnoogneciodfkggamehnacenfkeefcddadknaekhhfjjjkhbnmjciojacijelokjaoldgfbbakligodaccnkdgmnnoicgdcgigdglbimnbkcamoicgocacannedihihjmfjnahobejngolljmklcchnfcndoncbbibmiggnkcanekdmmlnnmcmkeecndafilgbnngojofnelcebkaeejojfegholkfhlhaookdcjinnmaaaebihbbakghdcieljiehnjgifbogkgbjlcecmlemkmljimfdoolcgigclhfdlfeaemdcmodjlhgbcailaccecgcdlkimdjhdibmakodkckggggndbimhlojckchdegbkegcongjcfblbgaedaaijflkkiolmaohgbnjkcgeiegnahcldojejkfkjihodjillfknhdmemfkficaenekechkaiaianlhfbahcokliffkoelbchidaakhmejcldbkobghlcojifabbmkbnebenemjjhilgbdjobllbcgikhhifdoggaiokimcjlckjmhhlihkkndjemaljllgcbnmgbhknofbbonlijenhkfdhilcljjcljconkkijldnnfloebhhefdbbmnbaiaaooenbinccaeonjfjaecndejkeajokidcamdabaiakcklldcjlgfnhdcnboegamemjhnheliodbekibgmbodekjjidkleofncejgkmoiehhcijngfdmenohhghfobniehcmjcanggnaiimidhnohokhelligffkdchjijiniefbikhjfjlabibdlngonbjglkfollgchfmnmleiimmobhmdaolidlmaeaoafbdnbiaabejolmcgbhjkffjjfdjejgahmiiambcmklhcngegmcjfcdahkaokdfgfehgahfckkmimbonckmbjolmknamcnjddimebhjobgibfbfkmialfcddlakdkejfodhcghddiolakmckljckkhlflkocikdhidcfcjciffhmakfdocjkfjbfafgagaicloodflikkdemniomdcjfbojmjfhnfeiadoflcfcklkdebhbgkgikcfcjfneahfgjaoaidlakknldffiejkgbjcclgkhmnaobheciegnealhlcfcceohomckdghmdmggbgnaecaibigodjjjjobfeecegkgelmbolimaaljkjlkgmceemalakbeeogchijeggefjddcjagodaljalimdodbikjjacjijflmhfcmhoijmbfenhgdbdklmdiinbnjcmhnagjiblbceiaiadhcchehgldhejnokofcohicobcolchmohodejnfhionlbinbedgkgkfcmokmkiddelckfkchdmbfbbnbnadkebljodheeofadbegjoeldenhdjjkflamancfbbcnmgagmnimjcnhadoidnhedknmhcokflfcodehmadhjkbnmabhanagodkganlbjcmgmdmmhbkgcifdlbkohacafofdjkjamdigldbjclkkibimbnaaaggmfgmhcdncljfjfaeagjeiodbfclhehaehcconblgmglocdjekicjkacdmjoejmmojojlbggjolffdajagficblcemobaoemblddccidkcmljfggjbohamegoeenbmffedfkidkfflkjnmlgbcchoickohnhnhdbjkkmgcbmjbbegdfjgiiamjfggfooakhneeejjfjjbnjhdogelcecgenimgbhncbmnklaicicdjbcbdngahfnhagekoojefhlbnlkihnedlfananfiollellgmgbkefnikljjeeogkaimlcakefcnifakceojemblcmegnjmhlblelnibjccfbdnbjihbknaohchkbabdieaffcliicmncdldoafhiionlhnbbkijmnalcahfhdjhmanlbbkebejdlgajjedcddibkknldmdanflnbhlakgagednhjcmgjccinjeolijlgmijdnmhajdhhmgcclaijldaiocfgdeomaagejkfkklkedlaenlghananmgdkcoocddgokjjgbflanjdlhhoklfkllfoflfedknecolgffahefclkmcfcajbcncjmllimgjneaiglcolcaamhjedggglngmidokikjjehhfgeoaiijhkbgmmnnagkjafobdmbfklfjcehlfejbcnecdikjehjelcahfmefdofbhlgnnfgchhaclmaehokllleeeameehhhifnlodndjagmmjadgkfamlnbnlfeddnkgehgcmhehiegcaediichmningbnlalnmlejlaoooabmoimimgljnhfnjedabkdikokoinicjcngcmhkblmffgobcmdndbafjbfdbjfdafhljanncedhdojbbhonnhkkicofidbfdbmhnaaaaicaalnndlkjfbmbmnmickmkbncodhoenhfikifiaolfanjccglblgkidadbiiflcldmanmbabgkdjoimomcjlknamcleoaigfeconhmjligjoaljicjgmgekacndljmaajiklddflbbgoaellbnfcibonhecbfhnjnaimfcahdlhkhldeijikobeonfcdoacdbhcllahigdfillooghdhhllbkecbohfnkmhjjmdodifklmdlaimgaoaeoaobfebkbjdfhnhoijfmoleoimjiigcakedjhfclnkjindleghmhldjjiafhhhleinecjkgadoggjlocbnmaelljekaaomghmfgljoohmbbjbndnimdhiknacdcbmegafhjgohomkogcgblhogbjcblojfnmmlngekhmajnamhacgjcinikbgholakhlmolemgjchbbloeldkmokkggcmnmfhnfhmbkemgmedcjihoihomnnnagmjiedlamofgekgehdlfnedimacnbmoaiobjeljfliehkoekbhcigifmnifefdfmllandgdhjnkbchkaenghhcienmeefmnfkjbefmdfohfeeihddlmmambamibjihidfeldngohiahjfkccnagcgofhnodcbnjghijlfngiedikonbllgljebbmmgifnlfgiihhgnhighkaidjdembdfcoglbcibcehoeaiecgmdocgahkahekaigbihimbbhhifjmhohideahjmdbonodfjbdjldfjfmhdnabkndgfdgdkfbgdjngkhbogdbongbknegcbbbemnlehchodbjalojoclklbhfnjjnggmnhecaigednlhijldomaanfcnhnnahjakimoofmjmighblfiijngjeaenhfdehghflmofhjmnfakbnefgalhgemaocdbcbccneonejekgbkdknblkcahggobjinbldlcfidnijihgookddndfdaemieklldjllchneijfkklaojgkkambalagkahaojhfclkdflhdhjjachkbhkhmcgjgjhaogmlfonffhifaooiolgocllhakbgbaafbafihfanljfdafoikioflfgkcmagnanenmdmkagoaddfgmiafgmmefaekbonkidjogdcmmnimffhjngihhiklmhgaanhdjjacoboaadeibcijlbiidjmgncgofebfbichiijddjabejceookbkhcklieofbhmfimimmfkbceinfdfohnmmkmbjlfhkbobmmegbgbfkooohhamcomnbijhackgdcgaljbgjabkbmhodbgnfhcbeckmnijbicdakakcffkmcgfchobfdokjjjdfbgbkeeoobmccnokllgkejghbhfdoogleiaodnfgelcagifjnljoinlandklofeekcmllihmgbibkkdknblhnhdmiojkdmdkonboiojekbkhmbiageomjiedbimlnagdimolalgkddhdgojmaciacfhajmcoojdbcljmbeigabclhkfkfbnglkgldfakbfmjfdbmkdglimgfnedjlhlfdfdfiiofhfmeehelljejjnchamlcehbcfakjnalefedhjdliooojaanfhgejcdgllffbkmffbencjnodfblaheghifabegfincbaknmlofkafjoclcgiaacflahdcbggicofjdffkdoahdmomcjecdocfhllhmlhflnnbbcbedkbcicnmkjnhdojkfjijfhifnmajnlifccfhjejjddboijaancnofmchackokobigaabdokggibdkoogdijidjgldffekjmkohkedjbghbejmmahkfjjfechcjnoaedbfodacgahjlahfeddkffoeemhnmlnbdcfgglndknlfclmkfciiinnleglanoiicgchocfimkmjdffigejiacagjofjecdnoledddbmjhjblmjlhfocibjcgoemiigmmjikflkengcndmackbidlgfakbobendgkjoendmhdgngcieiigclgdeolnnleloejjabjdaodleiemmlnkieijflljicafodenooammgaoabccodljmflfdedclggchdaicdilknbfnglihnfalkdhkcegbngkifkofnckokhafjckhcdljocjnjmemkeamljmggeibabojdlegghmhkleakknnmmihmbfhmibkdeekdahakbjgmhmehdlmcgmcjkidbhgocnjcliclmeocokcogfcgkibhjlianjdjflklacoojffajkjbjkgcingdilhefhibcmgijecgikbemoecehimecfbnafjnnmjbghdelojldeojldbeeockhcnciagoojgcehckjieckjlbbndlndnlemkcanbfkmnhfliekmfoibelamnhlgcmfeohicbcoblecmmghhnklbgmgneooimjbijhblghojlmaofahhmhbfmjbalongbhmflafcaddhdehibfgaefaoabjnbjmdilgjbjekgkimegjjhghbdhfmebkodmkdibdllnnnilimeglkljfgbbdlmaicmgbcomnmdninkllhhgfkjonohadkkjbeammamonibcannnfhnacgmehhgkkkmdahbdgbhbnnmjobjedhoeebjhafllmknaijecgkmgjfagjlnkcchfghenkflcmiinlbhokgckcffoegiceblhoggkahiilceiljdancgjodkmnblcngjddcgfgjamfcinenkemffodmnhgmhhhncjbklaglcoihfjoljcnfggohkekhgolcomngdenfiklanmeahibmledhkojooakkjimjoedjcofcdmkjbhglmckmffhedecajjegjmbighkjhcmflamkhjaiejcidndehkcekminlaeoinekoaagbaedbhmgcbaldelfabhlhakogddbfmbcacgccdfkkmjngncejgejjiniflgnnajilgkccfcgfkednedlmdlneichfoakbilfgefofmebgabdjedikjnicokfifmiilcmfokilkofebbjcegnfomdjhncmglmgnfccgakoebfecodogkdbeedbhfhfllebikgnohkonbekmblflbeadfahkbhekooelljoifholamcjmjnlcmminhkgfmihmhjboodkhcolldjlmncooblfikngnfmgiigjckaebenmjibbkabakhockcaakgacmnnfjdgalgnanckkfelilfkcdddbfgbjeejkmagkfoeehoodcjjgkhilboeffjkhaoecclmgoljlefajmjfidimikekffoemagfkedfhjdfmflkfdlbalgjahdkklefikmmdbkneifgalokfilomfabjkfifocehiohnlejjmcbofhjmfjojmkdockmngnoafnhiebmjkalmjbejhlechbfcljgeibmojnbfgnioimjidfdbfbfbfmoheiaefoiieieailelkcjbofdbjghalcolgchnaemakkeemmnbbachfjkncdfilgmigojeldeildjdgeggigkmoijeomonnikbeoceefekifdikdaocclkmeklnggcfongglblijckllmlhbggjhnkaiejbkcmmjlmkcidbfjdnhkabfijfeamljghldflbgjkdihgdbkjiohedicmlgaehaiobbifgdhkadlcklejjdgiahobhhgakaaeencdgohhenngliehdicidfiebmbhgmhdganekjamhcdnneficbbhndjkgibcheedoemaegimjcaddghljeaoccmjdlidjdmohhlfcfgjcdbflecbfheoimcajmdkeigkhnoogiaobldbmkiogahnmenhceijnolmjfaegihjgkamjfjjafldhmdnfgddbikmhelkadknhgbehnfmbcakgocmhjccenlakcccbhflnjiogeoohbhhjcglgoifdgmeheobmemgonadgiddienkljeekkhegkjhjifidgegleeaonaaofnblnlhlknfjnoljdabkijamfbfnbbmhbiegmkcmfeaicolfcbghhgcnjkealnfglagbohfbhhdinggjfefhcebhdhlkmmdbconileecjkogfloamiimgacjoaogfmkkiimliemladlmnddlfchdbljbonigbmdeaekcmcokkfdaehnnjhadmokiidhodhliglmaeoeiigeehjiahkdifdjmhfbijcglkokkajiaidklfankoeoigcloillhjbbkjgoejoelcmdjklmfgeojcnbmhejnknndgibjbnajaonbodekmjjkngmnelhobdklblbadglmkdoeacecefjaainbomnkfjmacdfahodgjdiobflihfekcmhdlimlgkmoolfcafbikeoammekajokbegfkneinhahbclamdcdcfhkiijbfjddhgaffcjnoajbocfnflggejgcijdaimjhmokgnmmckboiacdgoodebkojbjdcejkhelielnligicijgakihoglkilckijlccnjhnomhicohfgmcfkiafjghallokcafajikmbigckmflbdbjiidhjnfdhcmfekilkofjjmkoanfagfbnmfailfmcfnicjfnnjdjemgbemlaalfdjdjjcahjcadbihlijanlaffjjlgckllffalioihihdbjdcakffcgeegmcokbeoafcamlkfciaehaibdnjliofclgjcgoimcfobhncndjghcaaanagjimnjealgaokcoffdnkidhnadbkfcoohmcglbkbancdlohchjahjefcenaiemjoachljcfemcdhfchbihnhlncdoakhjenadembjkbemghjhjljgbmfbboaldboaggfnkobfhlkicclbjahdnjgbligjdmohbdjffdccdjihchaooinkmlifndmjgnocegdkccdjfigmobdfhnkmjehajhmahadeegicljajaakagembgeloibemofnnenbgjamldclngiojlahcomdikmkalbmhbaoacdbhdmfggebbjgnjmooolliaikndfodahddanibdhodncmabjinidhdamikedlbifnfdgddhjgaioheoadnfiicggknjgchnekfghihjeoladkebegomonoegnlbaanedkfcamcfhgdmdmnomhcobkeofiodaenonefoaknljhkbmlgmejbjcillbiemjndoieojmjeobiiblhldhclokbbomccnobkjdmjcbchngjeahiajlimeekmlaneiedikfihcoalgmdobmeglfefekkkgggkoneglaocgejlknmgmhbefihboihfjhdoihdjdllgofhbocgkljicdihhkdongeldbbfbinnjfcmkjofmgcocklfjeneajdccdgkhmmbglgmldjgigcokajhdhhfahkjhhndgmggemaaaiafcfjflemlnlaiimdklanghfehmigammhnnghamjanbbioflhgmndlldmjegbindkloahoagmckihemldaebohidfjbfdciamommijflhfminkdknclejojmckaefedbindkmfbejiigcgbfeoedmoohajhbhmoaldbcncjjeffajkjnnfgkinkclkanhlejlggdobeikjmhimbbfjafjjfiofammgcnjgcdaanoegifcnbhbbjdhdjninfaalokfiiobnkjdhhledhbcnikmaclnfdakdgianmgfnikhhmamlecbmfdilcaicddekoobhfcdmhodngfiaahelmbdjigdngkbkbgkinmlkchccegimjdfcifdiihffeldkckmkcfhkgocblmajfcikonodfmkjeonfobkoojmadifbedjkjakgebflgbjeenoojdbfbkjcinhniibodfoldldeldeajkieklkmlnjgcokmbgmilcefkkjibdddbnefodkaldeibdkhifloicamomhocacbobmendbeffcbjiahefiajcceahfookhiflmcbmckfemkbgoiokdadiidkikhoakomloaemgblhinikgmcoebiimlbgjgehjnnadbhocehejoilknckegdhobndleonignfjekdbglgdhldcladjhmkdmgddiionnjdacoemgjbkekokbbaeokidfakofmheinkocnklfdbfbdkjngcilekabbkhdonmfnfndljddhiiiiehbddnnlmaoggnfofgejgdomemeknmmdgimfeeighibclglkoahokeknkaadeacinadgmdihamgekkfdilhjogkhdkejjnmlgdhjndeomfbadfkgdogghknekdcgiiohclimienkdlmcogjejdihlnomgniefcnhkekofcojiofcadnbnchhmlcmadlbkjekdcihjbhdjidnaannnmenkbigclhcbjhaccicfimkjickfifolgdiaiggcmajledijebioijdlbbefaobjdgnolomhcfkdhekdibcmgjlmbldkfejkbjfjdhfiimdadaaalbcfhaokdihnecnajhfombfegoabbimbdlnaadmadjndofffockkemnjfdnceggckniofcfgoodhglokfnmingoilfkccaaadjocjlmmdbghiafohggbbnhohebkkacmmgmkncmliaagcfclkgfckfllbdcmjheoianlciboiolbghbjmhneeifajgjfeocdhiicdgkaiadddamfahalgckkejjcgekecaafnbhnggabcconljhbfbfnbgmljengbohkolfiifeihgodngdbonjakikgfjefgaeaffhnjimdejjmocaiijdamgdalogmblohjffnamjjkhbohcdkghhbcjkgbdljcfljdeaibmkohfnkkdkdddljhgfejlbjdiafnodlmoamiofnmkcekjeojlefoghlnmjnggffbebbjmibmkejgbiaiamookadljhjaoohmjjjienahmikdcfjedcfeofjelackeomkbegmabhdcojjjndgblilnnbanmdfklfeobnbbhdmocfglmbffeecnenackeccniddbjmcgebjjhajabfdgonbhldgbnbejjeojeiljdidanehogbdkinlajcamjnfjfdgkfjiehiaainkckhmcjklamohdobfbanfkbnmkjceahedbdfhkfmjhbgnnoddoamanbgohmfnohaghjmgdjonikladglhkljekejbgkldhkbgjjhhjmjenacbcelihncmnhgoclkafkhmkbahadjgbagcimhhdkbjfjjjokdliobghhniofjbackmlchaokjkhjgllknajkjdgidfcomginehhcfecafgmkhmabbkndidmgkmcbdkfedeiifdlfjgnibibhkcdljhkihbjbkbedlaohchmaogjjfdgfjdbokfaakfigenalodafabkefoifmoabafoldmcgbhendfnogiikgkjjfmigmagmkdcneijgcegbffakbjgniljljkiddglccnmfdfmejeanjjaefgidlngnbcmakmjhhdmbdchbahgijfbekbblfdehfbijocbmjlgfkbbonjbgojnmninhkdcibegekjklilfladkogjhlmfbkdbojedckdcfmajmhhejefkcclmjgdkaocejekgjglebbndblcmiakmbdfmcicehjijeddjjlnckbbbgafllhhdifaafjhajolcbiflfcgcgodfjnciomkafbhlnhegmheenachhlikebfhhffkakhdljjndmamdjmkhbgmjdoejidfefomiemebjgoldnjejmlidodbocicabjeikmallbbdemhijaiienacfomnfabeelhmlihhnkkjlgcklfbjjcifjhdaakjifkfekhkncfibgkhegkeejjeljinbcimhbjdbkmjinmlmnakfeoehjnhijgihmcngmloiljnbdhlcjcbbmcjkceffhkegmfgbamlefkgkhdalnbibbhllidjffelagnagijglnlllgambbhecjojeljmcfmfndekknefbaeagocjcnglmjnfalajcefkaoacfhnolebkfghkhodmfnencdlankkoeliichlfnbefbiggmhilfikbcfmalddocjkfhekfhgaidnogkmiaeaiodeddmgenmcncogoakoojndnccflmmggegimfnoafieafakmbgalaggldjlgfniljidnagljglkejnkfafklmlnmaeedkdbmohbinejondahgdjemhbfcbgagcdgjfaaabmfejfdjhnfegngloanlbomehcffmkoegjoljlbhdhofldlbhiahcbigjjjmkcjkceddioomenkmgflcmkgeokohhlmglniiolefeenglggfhbcddkednmakjgbgecbjmenbdeiokhgkfbedcjmjbmndieanndnlhdcffnhnkdlbimgdllmihiagfncnodhjocbagmfchccfijeaadffaiigblijfmfgdfgnfglahblaloeejgabgbkmnabfdchnkacmonakafdgjdbfoalfhfkcjiiijcceenlbahfgffgcdgiaamhgkbhgdiefdogbogfoboebcjgfamailjcegekgnbbdncjfagibdeoidcaognkoabhkogknfnkohhblolgndadaohlkfakdbnejnkojhdhmjgaoahkleijjaofmkainhociekgcnmdjghombadhhfhkfmjhedebanjioblfmnafaogoecinhakobmoingdadcchondneakbigjncaelgciinacdidhmbnflmogecbbdoagaelggmijneokfcgnigcgjdnoidhjfdaodmmcfjnmcnhjkbnlhnlakndnllibblcglbigjjnboagagdakdoneomongaaoefifegdibmonfjalhlechgbfdfnigkkddjbfejemajgnnbgggaaknhinjbbolimemgolgfhbnfnfaeoeiaaibiibdhfhcnllgfleablmacejichbklhklidodgegfflmdjgdeomlnkalofhdagnocflafmodekcfhnojnfomblbdbehdkifngbjioniggibfefdflcggblhcjjmggbhgkcklibbiemeokhlcoblehkdjlnjcfjmeohbafbdnlnbmaocnoanljnjjdnceemifodflknnmdlcelfihkhfbbeafcloiiljlbhclcmkiockiccdkincmelgldhkibaenbfbikgcmhhjmfkgbdffkabbnjccnhfelidnnjofembfogoidgefcaeahjnglcoaegfniekbnobjfmmofnoajnbmkmggbhljjbcjkkdkkbkmekgflghlichdokdcgjhgjljkadckibkbhfekinnjdgjgilkannaifehaidikiifomjojeconnnooehbdoinbohjkjfelfnndideabhohnicccgdmbfoamjcnfojmkbjjnchamkfcnmjahjmjichmfoeodamhkmaoigemalcaoijhedmljhhgjdfacjlhickaklaefbbeabaadgbmabaaebkiihncamaijihbljndmadjekgdndbaigalnlnliadhakmfkbhojnoglbmjohhjhfcmmlghbnooamnnaojcblcfcobfkgjebmkahindfbiieekakeajollmnlkaancdakmccoaecfolbndcnckhajdmamhbddjojkgeojinalniakbfnennejlmjnednaoffhfcdhjkcegonfkhmjelcdgkehboffiheahlalnkcakmdamolhkjkghihchdbnjcccameifanhlnofhlodldhlinjfiglgljeaeacmgedlkjfcdhkegaiidaggifnnndhefjleljddijgiflikeanfngfeccjlaoihfancbofgendcnnckniockmhhdimkbiiolldaafandijcnofdemihadbbgboafcjmcfklckkenedhcloiemniflbhhoklfhikmfcbemdmkokcmmfihgebhbblbedjjjiadfjabciodikecefhnikfhaiohchbclonhkifhnccmafddkmjlalacoajldfndmgfmifggmlnaiddonjojbikfhkbekdbdbhcfiehffabkaeemnaboklnaelloifeeniojdhbinemjgaoeggocblclcbhjeicmjkhnnjemeffeodfkbklkhogefiaicndialmmmbndijfclncnemanjaaaiidifaklidmchkhhlgfimhlkmlmkmekellhljccjicmbnnfkdjkmllakkfdnaagiljebfhoajgahkdnmgiollljfgihickfoajhhhoaladdnnlblajihekfgelefdabaoonjaajlcghcabncmfdblfifjmoodcbmanmkidnlfjimcialomfikbikjhbkcamigggjncdkiffghenfiljigliioanooilimbjefgejajjgbokhaodjebbcmnokjonjenlaoihbhdlgbcgdelfbdbcjknemanohbjjkgagidbicobammkfhliibodhgbmmeaebgmifibgdahbmhcjndadenjkobaibeceoefihdncoghbdmdlihfefhbleoekgnhidbnfhclijkacambonifbjfoihkjddljfdihcmcglbfbjmfelmmdikhmgonilkehbkcbbehicjhfcloohciojielfknffadlmclakgfcfglkfbcmkeombfdlhndfhgjaciknkhbdccinodiojoogginnheeomcbadaidbfiolkgomklmbagjkoflbggjkdjknnehmdkkjlebheaienmgchoilcjejoogfdnfgnlganmjoflhneeamefnoccmejdmcllccenkhabjdfanmblhdmmgjmcnkdabbbgnkmjhgcaaejjbidnecbjfhaeciaobghmnbmciblmohlibjkniimjdjkoodfieimglogjkignfolmilefeikmndneddeoofjbcogfhhomnfejjbilgnnhgngflkannkgfocffhojfkaghhjdklfggaemgbhegaangcdfgdjhanjhdolfinmfnindlmmmbbfljicbmgiloiickoenjkkfchgckjohemgelloafnellccaobfmnnfeojldcmbbfodhgliefgfbjenfagklkabfkofkecakmcigjgfobjajhjkalonleoikdambhbogkhlhojdlmaemahmmoiifafkofimnalacdhdchkdncknlocfeclefkhjmgjohciefkonnmfbhgoflgndkaklgfjdagmogaoijmalnoolbfnokckcflekalekhdlocgnbjoefccigibkbjobgommjhelhlcmeeojhilhmkfgenhhemgcoalnjghgefbgindacacaodalnhnoneidmbehecalnmklhglgmabahllddehgcmmcmchoelangcfbiihcijjbbhkobnhngmkeiljhkdianmdeiajdbflchghhhjjogikfomikalmlcfkoncmfacjfhnfkencdikoefbgenngioiochjkfdcjggkanlgenooifmbjmlmodneilecmgebolmjmjjfildcehnkhmhncnidgccejgcikebcenncfbfcobffjjccmeboojgjeghdedemoeldlkfhjjickbfjnfiajcjhojhbliclhhbboneffhjdioniccfomdlkkboncabjgmblncdgljekiikhmodladmfdeffannjalcneodeljfimocceecommcocbjoacnbikhbchniiclijomdjlojfbfkdnjnjaggjeokoilifkfjlfhidmaodlkbojbjfkojldflgamlefodojeigadienmihkcmkimdmfnbjaldikemfcgdlfdlhihklhjgjgegbekhfoghlcoammliiadbfcijnllcnehfihagfmecmjfflcaecoobjlmjkneghaobgcollfjedfkddmbobnkihkeokelaebgbhbfoffinlhfglkjbdjjelknjlnenfhdgdgiianbcohkajhlejlkadkdmhieffncjboemmeaebiijjmegafleioebamllieijnfahfieogaaejibikcjodlelanjegdmgoiiabkbhailjfjjbjcbdkedfblbdbaehjmjikjiekjcnlhigdelcfeccfbdjgefehjcikdghknjogdgjmjjkfejmkoilbigkoicigceoahhdabfnbmiegjmbfifgimablfinhoimfabollnjgkfkmofnmikogamggkfdbjdimikgeehioeibeajnggkbmbkmdallladobijgdnkmhglgogdiknoeegfhjfkfhclgjnndgdjekgjjgimggolcbikembmonagieeccjblmmhlojbhgniimllncelbjmahlijiaaejkgocekglghibcaideabechegabkgihbklloidiknalglcnkcdacmdccclhdlbbjncbcjlemmmcmkmhimmbbhflffiefhcnmfammlejjllakelnfknfboebhbdcaneeaiahimmibhmodbkclkjhkebcfhaojgfhdjedjhenaeangfhhhibkjidhcodgjcjoifacgcgdlanilejojgeihacbmjnogegnngolaogkmalghlkajakhmokihminnnahoffmenbfaolblieojidonicjfldfmbododoaccikammgjcmgboeoebbmlcgnjhbhmmnjdhagmbjoomkiafhgdjgjklelghameijfjgbghcfmiahchemdnnjdgajehgiegadjbejggoadbeeahcihhdlekmlofbjnomnbkbannfkeijfjeknajoabfffjckgdgblficfjgkjnebkikkiafjhammlgcjoifmijcbjliolehbonmngadogeohffakmefkdincikkadjcoonijmbgigiomcaiijhhanighkmdljjnknmfmhhhenhgkohlddlbfebaeoiaenoebcjjaechglkbhmgolieelcbgigmmnmhnaaaojekndfdddoobcohnafocdbldblbaggnhjghaioidegcnojfgncfnlecoddilgcaonagfgnahhgjmkmamjccllegfkbeifdgbfomcnmiedklifccdojbckieglggenmjlocmbgmlgldnikbbhamgbeogafmiomnomhabddiijodnmbaiaahlkdibeegjingedebnjglhiidmboaekckdbbankekdnkdbhellkdlgbjohbjnbjnjgimgjeajmbfjoddmeojiibgngjdnadbmlnaifcajjbedcnmkhjjdkmmmiahncalffjokachlejaacbgjonfhcfjnjondachmnfealieemmndjnammcgfjcadkgcmknofdfnbamdaifacfohlgiiddaoialidfadkjadgimlbdmhneajommfgkmhokdehgmkaflegbmedhkbjfbijegaagbfdeahndblhiggajefacahlghncjeanjkokbdhcgnikebmhicgfodnhhoheojckjhhdggnfnkgiocgconmjghggodbgmbbfnaadckdblellnkokfgdlokjodbfcglemkonhgbeehafdmncoohhdbcclemooghkonhhieecmbbgdifbklbchbfefcaandaelchhiginmbodgonlhagboemfcdbdmkmekeeijnddiakimaeommnjnbalahcneogeibkohoheejbaekfcifekfnbcnddnnndfflaihdecklhonkiigmkhlcigbikdaimikiejbggkfiiobinfbdbeillchfgofhhfjecanddmkmldbnlmcjfkhbmkebhffabieghkfmeaannjcnaclohkmmhecbicdcbilfnfcjjjnfgamagkfomaenjenmmhmobcadbmicennfmmegjhdjaikhiihcnkbjdimfnokadijnklhjogjbfcaheogijeddcbbfajoodknfekhffjgiimgnlidmmfhdcbcibmdlldkecbkmlfcbkgfnemahjjhfkhjjcafdbmdjfdkffcekhbbbgcomajjoclalgfjobemmndifehaoifkoojkglkabnlkhjijhbkiocfafibhjncgelahmfefhfbleeokbdgjfkfnhmokmeifkfkegbafohdohllaloocfbjldgohbnkilfdmcceofehebbjfnfdobdchhleahjlbchcnidkndeibnobajjnfnfhhgdedacclhaldekboalgohncjefoelbbeblknmkefmobofibbdkcfmbajbhekhgahmmkdiofhlfkaolmebgcfgfcfmnehbblcbnklgdjdhgegioodagigeffciikageoclffkkjobfjimkihhhmmmdlgomkjjibjnbabghofiabanfedkaaambijeedaoknnnncnmbndbajjcffeefcjlehmakakcmjkdhneeikcaoafmgaackccijeligfgbmgmjhiendleedkbmenajcbhfhckogloioookgjhcijmajnbkefmgihfdacmogahgkmhlbhnoaidinffbfdjbgoekaajobliboifhjhfbenhmoinenbfebcgfcicjefheiagfgangdgdlkalclcdgmfhijcafafdikeheabafijbofdaglighejlolbijnjkjdneoehobjhbbagfflnjnialekaialdebkdeiehanhegbjhjmmjkghkalgfikciaehmbldjoaaflkibbdfciaikhfhmjcaknccjgggjnbghhijbnemoagfhokljbnnkoimjelbcagkomofkbjbcmgocfogagklgodnoecmaocdhbcdgdfgindohoclcfidecimlmfdngijlajdjflhgnjmkkhjjkjmhccekofnemliahfjhjofehebijkcgakmkhadcficleeeoclibgembdleebaeckdbaechcccfmlhaoiojfjmcjgdfngimdhgfekaacahekhdahflglehmaljngadcecoafndccnolbmgobfojdojokoenhacdjhanjamjokinkbmaekjkalfcbfkignicekljfagfbdinnheejannglomdmhngomkbjkioilhmamaljnkgnimcahickbhejbfjjadonifdbfdfjchegnnjdedihcoldfifdjcfnfjkbadofljmjhocooaldjioddnjalihdnfhggmadlfdeigfgeeflgdnndefcaccbhmflmoeligdoognikmifacmkdkdclbaekookikdhgedfangojcacchihdimejbgjbffkejmmcfgdcikalciaifmlgfijgnibceljmhokbnobcjncdhaneekojkamdgoadlbdoafmefkbhlnhicidm\""
   ]
  },
  {
   "cell_type": "code",
   "execution_count": 2,
   "id": "5bc5a7f6",
   "metadata": {},
   "outputs": [
    {
     "name": "stdout",
     "output_type": "stream",
     "text": [
      "CPU times: user 2.72 s, sys: 0 ns, total: 2.72 s\n",
      "Wall time: 2.72 s\n"
     ]
    },
    {
     "data": {
      "text/plain": [
       "18664"
      ]
     },
     "execution_count": 2,
     "metadata": {},
     "output_type": "execute_result"
    }
   ],
   "source": [
    "# Time Limit Exceeded \n",
    "class Solution:\n",
    "    def numSplits(self, s: str) -> int:\n",
    "        l = len(s)\n",
    "        count = 0\n",
    "        for i in range(l):\n",
    "            if len(set(s[:i])) == len(set(s[i:l])):\n",
    "                count += 1\n",
    "        return count\n",
    "solution = Solution()\n",
    "%time solution.numSplits(s)"
   ]
  },
  {
   "cell_type": "code",
   "execution_count": 3,
   "id": "defb2888",
   "metadata": {},
   "outputs": [
    {
     "name": "stdout",
     "output_type": "stream",
     "text": [
      "CPU times: user 9.84 ms, sys: 0 ns, total: 9.84 ms\n",
      "Wall time: 9.81 ms\n"
     ]
    },
    {
     "data": {
      "text/plain": [
       "18664"
      ]
     },
     "execution_count": 3,
     "metadata": {},
     "output_type": "execute_result"
    }
   ],
   "source": [
    "# 4th place\n",
    "class Solution:\n",
    "    def numSplits(self, s: str) -> int:\n",
    "        a = []\n",
    "        d = {}\n",
    "        for i in s:\n",
    "            if i not in d:\n",
    "                d[i] = 1\n",
    "            a.append(len(d))\n",
    "        d = {}\n",
    "        b = []\n",
    "        for i in s[::-1]:\n",
    "            if i not in d:\n",
    "                d[i] = 1\n",
    "            b.append(len(d))\n",
    "        b = b[::-1]\n",
    "        ans = 0\n",
    "        for i in range(0,len(s)-1):\n",
    "            if a[i]==b[i+1]:\n",
    "                ans+=1\n",
    "        return ans\n",
    "solution = Solution()\n",
    "%time solution.numSplits(s)"
   ]
  },
  {
   "cell_type": "code",
   "execution_count": null,
   "id": "8cfeecdd",
   "metadata": {},
   "outputs": [],
   "source": []
  }
 ],
 "metadata": {
  "kernelspec": {
   "display_name": "Python 3 (ipykernel)",
   "language": "python",
   "name": "python3"
  },
  "language_info": {
   "codemirror_mode": {
    "name": "ipython",
    "version": 3
   },
   "file_extension": ".py",
   "mimetype": "text/x-python",
   "name": "python",
   "nbconvert_exporter": "python",
   "pygments_lexer": "ipython3",
   "version": "3.8.10"
  }
 },
 "nbformat": 4,
 "nbformat_minor": 5
}
