{
 "cells": [
  {
   "cell_type": "markdown",
   "metadata": {},
   "source": [
    "# Reconstruct Itinerary\n",
    "\n",
    "Given a list of airline tickets represented by pairs of departure and arrival airports [from, to], reconstruct the itinerary in order. All of the tickets belong to a man who departs from JFK. Thus, the itinerary must begin with JFK.\n",
    "\n",
    "Note:\n",
    "1. If there are multiple valid itineraries, you should return the itinerary that has the smallest lexical order when read as a single string. For example, the itinerary [\"JFK\", \"LGA\"] has a smaller lexical order than [\"JFK\", \"LGB\"].\n",
    "1. All airports are represented by three capital letters (IATA code).\n",
    "1. You may assume all tickets form at least one valid itinerary.\n",
    "1. One must use all the tickets once and only once.\n",
    "\n",
    "Example 1:\n",
    "```\n",
    "Input: [[\"MUC\", \"LHR\"], [\"JFK\", \"MUC\"], [\"SFO\", \"SJC\"], [\"LHR\", \"SFO\"]]\n",
    "Output: [\"JFK\", \"MUC\", \"LHR\", \"SFO\", \"SJC\"]\n",
    "```\n",
    "Example 2:\n",
    "```\n",
    "Input: [[\"JFK\",\"SFO\"],[\"JFK\",\"ATL\"],[\"SFO\",\"ATL\"],[\"ATL\",\"JFK\"],[\"ATL\",\"SFO\"]]\n",
    "Output: [\"JFK\",\"ATL\",\"JFK\",\"SFO\",\"ATL\",\"SFO\"]\n",
    "Explanation: Another possible reconstruction is [\"JFK\",\"SFO\",\"ATL\",\"JFK\",\"ATL\",\"SFO\"].\n",
    "             But it is larger in lexical order.\n",
    "```"
   ]
  },
  {
   "cell_type": "markdown",
   "metadata": {},
   "source": [
    "## Reference\n",
    "* https://www.youtube.com/watch?v=j31ZOupyrAs"
   ]
  },
  {
   "cell_type": "code",
   "execution_count": 1,
   "metadata": {},
   "outputs": [],
   "source": [
    "# [\"JFK\", \"MUC\", \"LHR\", \"SFO\", \"SJC\"]\n",
    "# tickets = [[\"MUC\", \"LHR\"], [\"JFK\", \"MUC\"], [\"SFO\", \"SJC\"], [\"LHR\", \"SFO\"]]\n",
    "# [\"JFK\",\"ATL\",\"JFK\",\"SFO\",\"ATL\",\"SFO\"]\n",
    "# tickets = [[\"JFK\",\"SFO\"],[\"JFK\",\"ATL\"],[\"SFO\",\"ATL\"],[\"ATL\",\"JFK\"],[\"ATL\",\"SFO\"]]\n",
    "# [\"JFK\",\"NRT\",\"JFK\",\"KUL\"]\n",
    "# tickets = [[\"JFK\",\"KUL\"],[\"JFK\",\"NRT\"],[\"NRT\",\"JFK\"]]\n",
    "# [\"JFK\",\"AXA\",\"AUA\",\"ADL\",\"ANU\",\"AUA\",\"ANU\",\"EZE\",\"ADL\",\"EZE\",\"ANU\",\"JFK\",\"AXA\",\"EZE\",\"TIA\",\"AUA\",\"AXA\",\"TIA\",\"ADL\",\"EZE\",\"HBA\"]\n",
    "tickets = [[\"EZE\",\"TIA\"],[\"EZE\",\"HBA\"],[\"AXA\",\"TIA\"],[\"JFK\",\"AXA\"],[\"ANU\",\"JFK\"],[\"ADL\",\"ANU\"],[\"TIA\",\"AUA\"],[\"ANU\",\"AUA\"],[\"ADL\",\"EZE\"],[\"ADL\",\"EZE\"],[\"EZE\",\"ADL\"],[\"AXA\",\"EZE\"],[\"AUA\",\"AXA\"],[\"JFK\",\"AXA\"],[\"AXA\",\"AUA\"],[\"AUA\",\"ADL\"],[\"ANU\",\"EZE\"],[\"TIA\",\"ADL\"],[\"EZE\",\"ANU\"],[\"AUA\",\"ANU\"]]"
   ]
  },
  {
   "cell_type": "code",
   "execution_count": 2,
   "metadata": {},
   "outputs": [],
   "source": [
    "my_answer = [\"JFK\",\"AXA\",\"AUA\",\"ADL\",\"ANU\",\"AUA\",\"ANU\",\"EZE\",\"ADL\",\"EZE\",\"ANU\",\"JFK\",\"AXA\",\"EZE\",\"TIA\",\"ADL\",\"EZE\",\"HBA\"]\n",
    "correct_answer = [\"JFK\",\"AXA\",\"AUA\",\"ADL\",\"ANU\",\"AUA\",\"ANU\",\"EZE\",\"ADL\",\"EZE\",\"ANU\",\"JFK\",\"AXA\",\"EZE\",\"TIA\",\"AUA\",\"AXA\",\"TIA\",\"ADL\",\"EZE\",\"HBA\"]"
   ]
  },
  {
   "cell_type": "code",
   "execution_count": 3,
   "metadata": {},
   "outputs": [],
   "source": [
    "from typing import List"
   ]
  },
  {
   "cell_type": "code",
   "execution_count": 4,
   "metadata": {},
   "outputs": [
    {
     "name": "stdout",
     "output_type": "stream",
     "text": [
      "CPU times: user 55 µs, sys: 3 µs, total: 58 µs\n",
      "Wall time: 128 µs\n"
     ]
    },
    {
     "data": {
      "text/plain": [
       "['JFK',\n",
       " 'AXA',\n",
       " 'AUA',\n",
       " 'ADL',\n",
       " 'ANU',\n",
       " 'AUA',\n",
       " 'ANU',\n",
       " 'EZE',\n",
       " 'ADL',\n",
       " 'EZE',\n",
       " 'ANU',\n",
       " 'JFK',\n",
       " 'AXA',\n",
       " 'EZE',\n",
       " 'TIA',\n",
       " 'ADL',\n",
       " 'EZE',\n",
       " 'HBA']"
      ]
     },
     "execution_count": 4,
     "metadata": {},
     "output_type": "execute_result"
    }
   ],
   "source": [
    "# my answer, wrong answer\n",
    "from collections import defaultdict\n",
    "\n",
    "class Solution:\n",
    "    def findItinerary(self, tickets: List[List[str]]) -> List[str]:\n",
    "        departure_arrival = defaultdict(list)\n",
    "        for t in tickets:\n",
    "            departure_arrival[t[0]].append(t[1])\n",
    "\n",
    "        for departure, arrival in departure_arrival.items():\n",
    "            arrival.sort()\n",
    "\n",
    "        itinerary = ['JFK']\n",
    "        while True:\n",
    "            depart = itinerary[-1]\n",
    "            if len(departure_arrival[depart]) == 0:\n",
    "                break\n",
    "\n",
    "            if len(departure_arrival[depart]) > 1:\n",
    "                for i in range(len(departure_arrival[depart])):\n",
    "                    if departure_arrival[depart][i] in departure_arrival:\n",
    "                        itinerary.append(departure_arrival[depart].pop(i))\n",
    "                        break\n",
    "            else:\n",
    "                itinerary.append(departure_arrival[depart].pop(0))\n",
    "\n",
    "            if len(departure_arrival[depart]) == 0:\n",
    "                del departure_arrival[depart]\n",
    "\n",
    "        return itinerary\n",
    "\n",
    "solution = Solution()\n",
    "%time solution.findItinerary(tickets)\n",
    "        \n",
    "        \n",
    "        \n",
    "    "
   ]
  },
  {
   "cell_type": "code",
   "execution_count": 5,
   "metadata": {},
   "outputs": [],
   "source": [
    "# answer in https://www.youtube.com/watch?v=j31ZOupyrAs, 88ms, 13.8MB\n",
    "class Solution:\n",
    "    def findItinerary(self, tickets: List[List[str]]) -> List[str]:\n",
    "        self.adj = {}\n",
    "        tickets.sort(key = lambda x: x[1])\n",
    "        \n",
    "        for u, v in tickets:\n",
    "            if u in self.adj:\n",
    "                self.adj[u].append(v)\n",
    "            else:\n",
    "                self.adj[u] = [v]\n",
    "        \n",
    "        self.result = []\n",
    "        self.dfs(\"JFK\")\n",
    "        \n",
    "        return self.result[::-1]\n",
    "    \n",
    "    def dfs(self, s):\n",
    "        while s in self.adj and len(self.adj[s]) > 0:\n",
    "            v = self.adj[s][0]\n",
    "            self.adj[s].pop(0)\n",
    "            self.dfs(v)\n",
    "        \n",
    "        self.result.append(s)"
   ]
  },
  {
   "cell_type": "code",
   "execution_count": 6,
   "metadata": {},
   "outputs": [],
   "source": [
    "# fastest answer, 60ms\n",
    "class Solution:\n",
    "    def findItinerary(self, tickets: List[List[str]]) -> List[str]:\n",
    "#### By Euler path using DFS\n",
    "        self.graph = collections.defaultdict(list)\n",
    "        for frm,to in tickets:\n",
    "            self.graph[frm].append(to)\n",
    "            \n",
    "        for k,v in self.graph.items():\n",
    "            v.sort()\n",
    "        \n",
    "        self.ans = []\n",
    "        self.DFS(\"JFK\")\n",
    "        return self.ans[::-1]\n",
    "    \n",
    "    def DFS(self,src):\n",
    "        \n",
    "        dest = self.graph[src]\n",
    "        while dest:\n",
    "            nextD = dest.pop(0)\n",
    "            self.DFS(nextD)\n",
    "        self.ans.append(src)\n",
    "        \n",
    "## by DFS way\n",
    "#         self.graph = collections.defaultdict(list)#need list data type in case of samee destination visited more than ones\n",
    "#         self.visited = dict()\n",
    "        \n",
    "#         for frm,to in tickets:\n",
    "#             self.graph[frm].append(to)\n",
    "            \n",
    "#         print(self.graph)\n",
    "#         for k,v in self.graph.items():\n",
    "#             v.sort()\n",
    "#             self.visited[k] = [False]*len(v)\n",
    "            \n",
    "#         self.flights = len(tickets)\n",
    "#         self.ans = []\n",
    "#         src = \"JFK\"\n",
    "#         self.DFS(\"JFK\",[\"JFK\"])\n",
    "#         return self.ans\n",
    "    \n",
    "#     def DFS(self,src,ans):     \n",
    "#         if len(ans) == self.flights+1:\n",
    "#             self.ans = [v for v in ans]\n",
    "#             return True\n",
    "        \n",
    "#         for i,dest in enumerate(self.graph[src]):\n",
    "#             if not self.visited[src][i]:\n",
    "#                 self.visited[src][i]=True\n",
    "#                 # print(src,\"==\",self.graph)\n",
    "#                 res = self.DFS(dest,ans+[dest])\n",
    "#                 self.visited[src][i]=False\n",
    "#                 if res:\n",
    "#                     return True\n",
    "\n",
    "#         return False"
   ]
  },
  {
   "cell_type": "code",
   "execution_count": 7,
   "metadata": {},
   "outputs": [],
   "source": [
    "# least memory, 13644kb\n",
    "from heapq import heappush, heappop\n",
    "\n",
    "class Solution:\n",
    "    def findItinerary(self, tickets: List[List[str]]) -> List[str]:\n",
    "        origin_to_dest = collections.defaultdict(list)\n",
    "        for origin, dest in tickets:\n",
    "            heappush(origin_to_dest[origin], dest)\n",
    "\n",
    "        stack = ['JFK']\n",
    "        res = []\n",
    "        while stack:\n",
    "            origin = stack[-1]\n",
    "            if origin in origin_to_dest and origin_to_dest[origin]:\n",
    "                stack.append(heappop(origin_to_dest[origin]))\n",
    "            else:\n",
    "                res.append(stack.pop())\n",
    "        res.reverse()\n",
    "        return res"
   ]
  },
  {
   "cell_type": "code",
   "execution_count": null,
   "metadata": {},
   "outputs": [],
   "source": []
  }
 ],
 "metadata": {
  "kernelspec": {
   "display_name": "Python 3",
   "language": "python",
   "name": "python3"
  },
  "language_info": {
   "codemirror_mode": {
    "name": "ipython",
    "version": 3
   },
   "file_extension": ".py",
   "mimetype": "text/x-python",
   "name": "python",
   "nbconvert_exporter": "python",
   "pygments_lexer": "ipython3",
   "version": "3.6.7"
  }
 },
 "nbformat": 4,
 "nbformat_minor": 2
}
