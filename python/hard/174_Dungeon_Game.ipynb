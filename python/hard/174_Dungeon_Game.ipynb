{
 "cells": [
  {
   "cell_type": "markdown",
   "metadata": {},
   "source": [
    "# Dungeon Game\n",
    "\n",
    "The demons had captured the princess (P) and imprisoned her in the bottom-right corner of a dungeon. The dungeon consists of M x N rooms laid out in a 2D grid. Our valiant knight (K) was initially positioned in the top-left room and must fight his way through the dungeon to rescue the princess.\n",
    "\n",
    "The knight has an initial health point represented by a positive integer. If at any point his health point drops to 0 or below, he dies immediately.\n",
    "\n",
    "Some of the rooms are guarded by demons, so the knight loses health (negative integers) upon entering these rooms; other rooms are either empty (0's) or contain magic orbs that increase the knight's health (positive integers).\n",
    "\n",
    "In order to reach the princess as quickly as possible, the knight decides to move only rightward or downward in each step.\n",
    "\n",
    " \n",
    "\n",
    "Write a function to determine the knight's minimum initial health so that he is able to rescue the princess.\n",
    "\n",
    "For example, given the dungeon below, the initial health of the knight must be at least 7 if he follows the optimal path RIGHT-> RIGHT -> DOWN -> DOWN.\n",
    "\n",
    "-2 (K)\t-3\t3\n",
    "-5\t-10\t1\n",
    "10\t30\t-5 (P)\n",
    " \n",
    "\n",
    "Note:\n",
    "\n",
    "* The knight's health has no upper bound.\n",
    "* Any room can contain threats or power-ups, even the first room the knight enters and the bottom-right room where the princess is imprisoned."
   ]
  },
  {
   "cell_type": "markdown",
   "metadata": {},
   "source": [
    "## Reference\n",
    "* https://www.youtube.com/watch?v=LbC0ejgACkE\n",
    "* https://leetcode.com/explore/challenge/card/june-leetcoding-challenge/541/week-3-june-15th-june-21st/3367/discuss/698271/Python-Short-DP-7-lines-O(mn)-top-down-explained\n",
    "* https://leetcode.com/explore/challenge/card/june-leetcoding-challenge/541/week-3-june-15th-june-21st/3367/discuss/698961/Python-Simple-in-place-DP-solution-O(1)-space"
   ]
  },
  {
   "cell_type": "code",
   "execution_count": 1,
   "metadata": {},
   "outputs": [],
   "source": [
    "from typing import List"
   ]
  },
  {
   "cell_type": "code",
   "execution_count": 2,
   "metadata": {},
   "outputs": [],
   "source": [
    "dungeon = [[-2,-3,3],[-5,-10,1],[10,30,-5]]"
   ]
  },
  {
   "cell_type": "code",
   "execution_count": 3,
   "metadata": {},
   "outputs": [
    {
     "name": "stdout",
     "output_type": "stream",
     "text": [
      "CPU times: user 14 µs, sys: 1 µs, total: 15 µs\n",
      "Wall time: 16.9 µs\n"
     ]
    },
    {
     "data": {
      "text/plain": [
       "7"
      ]
     },
     "execution_count": 3,
     "metadata": {},
     "output_type": "execute_result"
    }
   ],
   "source": [
    "# answer in https://www.youtube.com/watch?v=LbC0ejgACkE, 72ms\n",
    "class Solution:\n",
    "    def calculateMinimumHP(self, dungeon: List[List[int]]) -> int:\n",
    "        row = len(dungeon)\n",
    "        column = len(dungeon[0])\n",
    "        sol = [[0]*column for _ in range(row)]\n",
    "        sol[row-1][column-1] = 1 if dungeon[row-1][column-1] > 0 else (1 - dungeon[row-1][column-1])\n",
    "        \n",
    "        for i in range(row-2, -1, -1):\n",
    "            sol[i][column-1] = max(sol[i+1][column-1] - dungeon[i][column-1], 1)\n",
    "        \n",
    "        for j in range(column-2, -1, -1):\n",
    "            sol[row-1][j] = max(sol[row-1][j+1] - dungeon[row-1][j], 1)\n",
    "        \n",
    "        for i in range(row-2, -1, -1):\n",
    "            for j in range(column-2, -1, -1):\n",
    "                sol[i][j] = max(min(sol[i+1][j], sol[i][j+1]) - dungeon[i][j], 1)\n",
    "        \n",
    "        return sol[0][0]\n",
    "    \n",
    "solution = Solution()\n",
    "%time solution.calculateMinimumHP(dungeon)"
   ]
  },
  {
   "cell_type": "code",
   "execution_count": 4,
   "metadata": {},
   "outputs": [
    {
     "name": "stdout",
     "output_type": "stream",
     "text": [
      "CPU times: user 20 µs, sys: 0 ns, total: 20 µs\n",
      "Wall time: 22.4 µs\n"
     ]
    },
    {
     "data": {
      "text/plain": [
       "7"
      ]
     },
     "execution_count": 4,
     "metadata": {},
     "output_type": "execute_result"
    }
   ],
   "source": [
    "# fastest answer, 56ms\n",
    "class Solution:\n",
    "    def calculateMinimumHP(self, dungeon: List[List[int]]) -> int:\n",
    "        if not dungeon:\n",
    "            return 0\n",
    "        \n",
    "        num_row, num_col = len(dungeon), len(dungeon[0])\n",
    "        dp = [float('inf')] * num_col\n",
    "        dp[num_col - 1] = 1\n",
    "        \n",
    "        for row in reversed(range(num_row)):\n",
    "            for col in reversed(range(num_col)):\n",
    "                if row == num_row - 1 and col == num_col - 1:\n",
    "                    dp[col] = max(1, 1 - dungeon[row][col])\n",
    "                elif row == num_row - 1:\n",
    "                    dp[col] = max(1, dp[col + 1] - dungeon[row][col])\n",
    "                elif col == num_col - 1:\n",
    "                    dp[col] = max(1, dp[col] - dungeon[row][col])\n",
    "                else:\n",
    "                    dp[col] = max(1, min(dp[col], dp[col + 1]) - dungeon[row][col])\n",
    "        \n",
    "        return dp[0]\n",
    "    \n",
    "solution = Solution()\n",
    "%time solution.calculateMinimumHP(dungeon)"
   ]
  },
  {
   "cell_type": "code",
   "execution_count": null,
   "metadata": {},
   "outputs": [],
   "source": []
  }
 ],
 "metadata": {
  "kernelspec": {
   "display_name": "Python 3",
   "language": "python",
   "name": "python3"
  },
  "language_info": {
   "codemirror_mode": {
    "name": "ipython",
    "version": 3
   },
   "file_extension": ".py",
   "mimetype": "text/x-python",
   "name": "python",
   "nbconvert_exporter": "python",
   "pygments_lexer": "ipython3",
   "version": "3.6.7"
  }
 },
 "nbformat": 4,
 "nbformat_minor": 2
}
