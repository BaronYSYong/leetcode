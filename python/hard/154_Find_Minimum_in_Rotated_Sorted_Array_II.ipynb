{
 "cells": [
  {
   "cell_type": "markdown",
   "metadata": {},
   "source": [
    "# Find Minimum in Rotated Sorted Array II\n",
    "\n",
    "Suppose an array sorted in ascending order is rotated at some pivot unknown to you beforehand.\n",
    "\n",
    "(i.e.,  [0,1,2,4,5,6,7] might become  [4,5,6,7,0,1,2]).\n",
    "\n",
    "Find the minimum element.\n",
    "\n",
    "The array may contain duplicates.\n",
    "\n",
    "Example 1:\n",
    "```\n",
    "Input: [1,3,5]\n",
    "Output: 1\n",
    "```\n",
    "Example 2:\n",
    "```\n",
    "Input: [2,2,2,0,1]\n",
    "Output: 0\n",
    "```"
   ]
  },
  {
   "cell_type": "markdown",
   "metadata": {},
   "source": [
    "## Reference\n",
    "* https://www.youtube.com/watch?v=K0PjrikGKK4"
   ]
  },
  {
   "cell_type": "code",
   "execution_count": 1,
   "metadata": {},
   "outputs": [],
   "source": [
    "nums = [2,2,2,0,1]"
   ]
  },
  {
   "cell_type": "code",
   "execution_count": 2,
   "metadata": {},
   "outputs": [],
   "source": [
    "from typing import List"
   ]
  },
  {
   "cell_type": "code",
   "execution_count": 3,
   "metadata": {},
   "outputs": [
    {
     "name": "stdout",
     "output_type": "stream",
     "text": [
      "CPU times: user 5 µs, sys: 1 µs, total: 6 µs\n",
      "Wall time: 9.06 µs\n"
     ]
    },
    {
     "data": {
      "text/plain": [
       "0"
      ]
     },
     "execution_count": 3,
     "metadata": {},
     "output_type": "execute_result"
    }
   ],
   "source": [
    "# my answer, 68 ms, 14.2 MB\n",
    "class Solution:\n",
    "    def findMin(self, nums: List[int]) -> int:\n",
    "        return min(nums)\n",
    "\n",
    "solution = Solution()\n",
    "%time solution.findMin(nums)"
   ]
  },
  {
   "cell_type": "code",
   "execution_count": 4,
   "metadata": {},
   "outputs": [
    {
     "name": "stdout",
     "output_type": "stream",
     "text": [
      "CPU times: user 18 µs, sys: 0 ns, total: 18 µs\n",
      "Wall time: 23.4 µs\n"
     ]
    },
    {
     "data": {
      "text/plain": [
       "0"
      ]
     },
     "execution_count": 4,
     "metadata": {},
     "output_type": "execute_result"
    }
   ],
   "source": [
    "# fastest, 36 ms\n",
    "class Solution:\n",
    "    def findMin(self, nums: List[int]) -> int:\n",
    "        \n",
    "        lo = 0\n",
    "        hi = len(nums)-1\n",
    "        \n",
    "        while lo < hi:\n",
    "            mid = (lo+hi)//2\n",
    "            if nums[lo] == nums[mid] == nums[hi]:\n",
    "                lo += 1\n",
    "                hi -= 1\n",
    "            elif nums[hi] >= nums[mid]:\n",
    "                hi = mid\n",
    "            else:\n",
    "                lo = mid+1\n",
    "        return nums[lo]\n",
    "    \n",
    "solution = Solution()\n",
    "%time solution.findMin(nums)"
   ]
  },
  {
   "cell_type": "code",
   "execution_count": 5,
   "metadata": {},
   "outputs": [
    {
     "name": "stdout",
     "output_type": "stream",
     "text": [
      "CPU times: user 5 µs, sys: 0 ns, total: 5 µs\n",
      "Wall time: 6.91 µs\n"
     ]
    },
    {
     "data": {
      "text/plain": [
       "0"
      ]
     },
     "execution_count": 5,
     "metadata": {},
     "output_type": "execute_result"
    }
   ],
   "source": [
    "# least memory, 13984 kb\n",
    "class Solution:\n",
    "    def findMin(self, nums: List[int]) -> int:\n",
    "        \n",
    "        # if there's no nums:\n",
    "        if not nums:\n",
    "            return float(\"inf\")\n",
    "        \n",
    "        # build out left and right for binary search\n",
    "        left = 0\n",
    "        right = len(nums) - 1\n",
    "        \n",
    "        # as long as left and right don't meet\n",
    "        while left < right:\n",
    "            \n",
    "            #find middle\n",
    "            middle = left + (right - left) // 2\n",
    "            \n",
    "            # case 1:\n",
    "            # 4,5,6,7,0,1,2\n",
    "            # middle say 7 is greater than 2, \n",
    "            # so move right\n",
    "            if nums[middle] > nums[right]:\n",
    "                left = middle + 1\n",
    "                \n",
    "            # case 2:\n",
    "            # 9 10 1 2 3 4 5 6 7 \n",
    "            # say mid is 2, which is lesser than high, 7\n",
    "            # so move left, while retaining mid in that subarray\n",
    "            elif nums[middle] < nums [right]:\n",
    "                right = middle\n",
    "                \n",
    "            # case 3:\n",
    "            # 2, 0, 1, 2, 2, 2, 2, 2\n",
    "            # say 2 is middle, and high is middle\n",
    "            # we can never deduce anything from this case, just reduce the subarray\n",
    "            else:\n",
    "                right = right - 1\n",
    "                \n",
    "        # the tipping point where left crosses right, \n",
    "        # this should be the minimum \n",
    "        return nums[left]\n",
    "    \n",
    "solution = Solution()\n",
    "%time solution.findMin(nums)"
   ]
  },
  {
   "cell_type": "code",
   "execution_count": null,
   "metadata": {},
   "outputs": [],
   "source": []
  }
 ],
 "metadata": {
  "kernelspec": {
   "display_name": "Python 3",
   "language": "python",
   "name": "python3"
  },
  "language_info": {
   "codemirror_mode": {
    "name": "ipython",
    "version": 3
   },
   "file_extension": ".py",
   "mimetype": "text/x-python",
   "name": "python",
   "nbconvert_exporter": "python",
   "pygments_lexer": "ipython3",
   "version": "3.6.7"
  }
 },
 "nbformat": 4,
 "nbformat_minor": 2
}
