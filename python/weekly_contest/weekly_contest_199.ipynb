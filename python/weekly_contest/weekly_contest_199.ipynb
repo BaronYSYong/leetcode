{
 "cells": [
  {
   "cell_type": "markdown",
   "metadata": {},
   "source": [
    "# 1528. Shuffle String"
   ]
  },
  {
   "cell_type": "code",
   "execution_count": 6,
   "metadata": {},
   "outputs": [],
   "source": [
    "from typing import List"
   ]
  },
  {
   "cell_type": "code",
   "execution_count": 15,
   "metadata": {},
   "outputs": [],
   "source": [
    "# s = \"codeleet\";indices = [4,5,6,7,0,2,1,3]\n",
    "# s = \"abc\"; indices = [0,1,2]\n",
    "# s = \"aiohn\"; indices = [3,1,4,2,0]\n",
    "# s = \"aaiougrt\"; indices = [4,0,2,6,7,3,1,5]\n",
    "s = \"art\"; indices = [1,0,2]"
   ]
  },
  {
   "cell_type": "code",
   "execution_count": 16,
   "metadata": {},
   "outputs": [
    {
     "name": "stdout",
     "output_type": "stream",
     "text": [
      "CPU times: user 10 µs, sys: 1 µs, total: 11 µs\n",
      "Wall time: 14.8 µs\n"
     ]
    },
    {
     "data": {
      "text/plain": [
       "'rat'"
      ]
     },
     "execution_count": 16,
     "metadata": {},
     "output_type": "execute_result"
    }
   ],
   "source": [
    "class Solution:\n",
    "    def restoreString(self, s: str, indices: List[int]) -> str:\n",
    "        new_s = ['']*len(s)\n",
    "        j = 0\n",
    "        for i in indices:\n",
    "            new_s[i] = s[j]\n",
    "            j += 1\n",
    "        return ''.join(new_s)\n",
    "solution = Solution()\n",
    "%time solution.restoreString(s, indices)"
   ]
  },
  {
   "cell_type": "markdown",
   "metadata": {},
   "source": [
    "# 1529. Bulb Switcher IV"
   ]
  },
  {
   "cell_type": "code",
   "execution_count": 73,
   "metadata": {},
   "outputs": [],
   "source": [
    "# target = \"10111\"\n",
    "# target = \"101\"\n",
    "# target = \"00000\"\n",
    "target = \"001011101\""
   ]
  },
  {
   "cell_type": "code",
   "execution_count": 123,
   "metadata": {},
   "outputs": [
    {
     "name": "stdout",
     "output_type": "stream",
     "text": [
      "CPU times: user 8 µs, sys: 0 ns, total: 8 µs\n",
      "Wall time: 9.54 µs\n"
     ]
    },
    {
     "data": {
      "text/plain": [
       "5"
      ]
     },
     "execution_count": 123,
     "metadata": {},
     "output_type": "execute_result"
    }
   ],
   "source": [
    "class Solution:\n",
    "    def minFlips(self, target: str) -> int:\n",
    "        count = 0\n",
    "        flip = 1\n",
    "        for t in target:\n",
    "            if int(t) == flip:\n",
    "                count += 1\n",
    "                flip ^= 1\n",
    "        return count    \n",
    "solution = Solution()\n",
    "%time solution.minFlips(target)"
   ]
  },
  {
   "cell_type": "markdown",
   "metadata": {},
   "source": [
    "# 5474. Number of Good Leaf Nodes Pairs\n",
    "\n",
    "Given the root of a binary tree and an integer distance. A pair of two different leaf nodes of a binary tree is said to be good if the length of the shortest path between them is less than or equal to distance.\n",
    "\n",
    "Return the number of good leaf node pairs in the tree.\n",
    "\n",
    "Example 1:\n",
    "```\n",
    "Input: root = [1,2,3,null,4], distance = 3\n",
    "Output: 1\n",
    "Explanation: The leaf nodes of the tree are 3 and 4 and the length of the shortest path between them is 3. This is the only good pair.\n",
    "```\n",
    "Example 2:\n",
    "```\n",
    "Input: root = [1,2,3,4,5,6,7], distance = 3\n",
    "Output: 2\n",
    "Explanation: The good pairs are [4,5] and [6,7] with shortest path = 2. The pair [4,6] is not good because the length of ther shortest path between them is 4.\n",
    "```\n",
    "Example 3:\n",
    "```\n",
    "Input: root = [7,1,4,6,null,5,3,null,null,null,null,null,2], distance = 3\n",
    "Output: 1\n",
    "Explanation: The only good pair is [2,5].\n",
    "```\n",
    "Example 4:\n",
    "```\n",
    "Input: root = [100], distance = 1\n",
    "Output: 0\n",
    "```\n",
    "Example 5:\n",
    "```\n",
    "Input: root = [1,1,1], distance = 2\n",
    "Output: 1\n",
    "```\n",
    "\n",
    "Constraints:\n",
    "\n",
    "* The number of nodes in the tree is in the range [1, 2^10].\n",
    "* Each node's value is between [1, 100].\n",
    "* 1 <= distance <= 10"
   ]
  },
  {
   "cell_type": "code",
   "execution_count": 129,
   "metadata": {},
   "outputs": [],
   "source": [
    "# Definition for a binary tree node.\n",
    "class TreeNode(object):\n",
    "    def __init__(self, val=0, left=None, right=None):\n",
    "        self.val = val\n",
    "        self.left = left\n",
    "        self.right = right"
   ]
  },
  {
   "cell_type": "code",
   "execution_count": 130,
   "metadata": {},
   "outputs": [],
   "source": [
    "# 1st place\n",
    "class Solution(object):\n",
    "    def countPairs(self, root, distance):\n",
    "        graph = collections.defaultdict(list)\n",
    "        M = {}\n",
    "        nodes = []\n",
    "        leaves = set()\n",
    "        self.t = 0\n",
    "        def dfs(node):\n",
    "            if node:\n",
    "                M[node] = ans = self.t\n",
    "                self.t += 1\n",
    "                \n",
    "                v1 = dfs(node.left)\n",
    "                v2 = dfs(node.right)\n",
    "                if v1 is not None:\n",
    "                    graph[ans].append(v1)\n",
    "                    graph[v1].append(ans)\n",
    "                if v2 is not None:\n",
    "                    graph[ans].append(v2)\n",
    "                    graph[v2].append(ans)\n",
    "                if v1 is v2 is None:\n",
    "                    leaves.add(ans)\n",
    "                return ans\n",
    "        \n",
    "        dfs(root)\n",
    "        Minv = [0] * len(M)\n",
    "        for node in M:\n",
    "            i = M[node]\n",
    "            Minv[i] = node\n",
    "        \n",
    "        #print(\"!\", leaves, graph)\n",
    "        ans = 0\n",
    "        for i in leaves:\n",
    "            rooty = i\n",
    "            queue = [[i, 0]]\n",
    "            seen = {i}\n",
    "            for node, d in queue:\n",
    "                if d > distance: break\n",
    "                if node in leaves and node != rooty:\n",
    "                    #print(\"!\", node, d)\n",
    "                    ans += 1\n",
    "                for nei in graph[node]:\n",
    "                    if nei not in seen:\n",
    "                        seen.add(nei)\n",
    "                        queue.append([nei, d + 1])\n",
    "        \n",
    "        return ans // 2\n"
   ]
  },
  {
   "cell_type": "markdown",
   "metadata": {},
   "source": [
    "# 1531. String Compression II\n",
    "\n",
    "Run-length encoding is a string compression method that works by replacing consecutive identical characters (repeated 2 or more times) with the concatenation of the character and the number marking the count of the characters (length of the run). For example, to compress the string \"aabccc\" we replace \"aa\" by \"a2\" and replace \"ccc\" by \"c3\". Thus the compressed string becomes \"a2bc3\".\n",
    "\n",
    "Notice that in this problem, we are not adding '1' after single characters.\n",
    "\n",
    "Given a string s and an integer k. You need to delete at most k characters from s such that the run-length encoded version of s has minimum length.\n",
    "\n",
    "Find the minimum length of the run-length encoded version of s after deleting at most k characters.\n",
    "\n",
    "Example 1:\n",
    "```\n",
    "Input: s = \"aaabcccd\", k = 2\n",
    "Output: 4\n",
    "Explanation: Compressing s without deleting anything will give us \"a3bc3d\" of length 6. Deleting any of the characters 'a' or 'c' would at most decrease the length of the compressed string to 5, for instance delete 2 'a' then we will have s = \"abcccd\" which compressed is abc3d. Therefore, the optimal way is to delete 'b' and 'd', then the compressed version of s will be \"a3c3\" of length 4.\n",
    "```\n",
    "Example 2:\n",
    "```\n",
    "Input: s = \"aabbaa\", k = 2\n",
    "Output: 2\n",
    "Explanation: If we delete both 'b' characters, the resulting compressed string would be \"a4\" of length 2.\n",
    "```\n",
    "Example 3:\n",
    "```\n",
    "Input: s = \"aaaaaaaaaaa\", k = 0\n",
    "Output: 3\n",
    "Explanation: Since k is zero, we cannot delete anything. The compressed string is \"a11\" of length 3.\n",
    "```\n",
    "\n",
    "Constraints:\n",
    "\n",
    "* 1 <= s.length <= 100\n",
    "* 0 <= k <= s.length\n",
    "* s contains only lowercase English letters."
   ]
  },
  {
   "cell_type": "code",
   "execution_count": 126,
   "metadata": {},
   "outputs": [],
   "source": [
    "s = \"aaabcccd\"; k = 2\n",
    "# s = \"aabbaa\"; k = 2"
   ]
  },
  {
   "cell_type": "code",
   "execution_count": 128,
   "metadata": {},
   "outputs": [
    {
     "name": "stdout",
     "output_type": "stream",
     "text": [
      "CPU times: user 60 µs, sys: 1 µs, total: 61 µs\n",
      "Wall time: 64.8 µs\n"
     ]
    },
    {
     "data": {
      "text/plain": [
       "4"
      ]
     },
     "execution_count": 128,
     "metadata": {},
     "output_type": "execute_result"
    }
   ],
   "source": [
    "# 1st place\n",
    "from functools import lru_cache\n",
    "from itertools import groupby\n",
    "class Solution:\n",
    "    def getLengthOfOptimalCompression(self, S, K):\n",
    "        def rle(x):\n",
    "            if x <= 1: return x\n",
    "            return len(str(x)) + 1\n",
    "\n",
    "        N = len(S)\n",
    "        if N == K:\n",
    "            return 0\n",
    "        \"\"\"\n",
    "        left = [1] * N\n",
    "        for i in range(N - 1):\n",
    "            if S[i] == S[i + 1]:\n",
    "                left[i + 1] = left[i] + 1\n",
    "\n",
    "        right = [1] * N\n",
    "        for i in reversed(range(N - 1)):\n",
    "            if S[i] == S[i + 1]:\n",
    "                right[i] = right[i + 1] + 1\n",
    "\n",
    "        R = [len(list(g)) for _, g in groupby(S)]\n",
    "\n",
    "        prefix = [0] * N\n",
    "        prev = 0\n",
    "        i = 0\n",
    "        for x in R:\n",
    "            for j in range(1, 1 + x):\n",
    "                prefix[i] = prev + rle(j)\n",
    "                i += 1\n",
    "            prev += rle(x)\n",
    "\n",
    "        suffix = [0] * N\n",
    "        prev = 0\n",
    "        i = N - 1\n",
    "        for x in reversed(R):\n",
    "            for j in range(1, 1 + x):\n",
    "                suffix[i] = prev + rle(j)\n",
    "                i -= 1\n",
    "            prev += rle(x)\n",
    "        \"\"\"\n",
    "        INF = int(1e9)\n",
    "        @lru_cache(None)\n",
    "        def dp(i, curlength, lastcur, eaten):\n",
    "            \n",
    "            if eaten > K:\n",
    "                return INF\n",
    "            if i == N:\n",
    "                return 0\n",
    "            # Eat this character:\n",
    "            ans = dp(i + 1, curlength, lastcur, eaten + 1)\n",
    "            \n",
    "            # Or add:\n",
    "            if S[i] == lastcur:\n",
    "                delta = rle(curlength + 1) - rle(curlength)\n",
    "                cand = dp(i + 1, curlength + 1, lastcur, eaten) + delta\n",
    "                if cand < ans: ans = cand\n",
    "            else:\n",
    "                cand = dp(i + 1, 1, S[i], eaten) + 1\n",
    "                if cand < ans: ans = cand\n",
    "            return ans\n",
    "        \n",
    "        return dp(0, 0, '', 0)\n",
    "solution = Solution()\n",
    "%time solution.getLengthOfOptimalCompression(s, k)"
   ]
  },
  {
   "cell_type": "code",
   "execution_count": null,
   "metadata": {},
   "outputs": [],
   "source": []
  }
 ],
 "metadata": {
  "kernelspec": {
   "display_name": "Python 3",
   "language": "python",
   "name": "python3"
  },
  "language_info": {
   "codemirror_mode": {
    "name": "ipython",
    "version": 3
   },
   "file_extension": ".py",
   "mimetype": "text/x-python",
   "name": "python",
   "nbconvert_exporter": "python",
   "pygments_lexer": "ipython3",
   "version": "3.6.7"
  }
 },
 "nbformat": 4,
 "nbformat_minor": 2
}
