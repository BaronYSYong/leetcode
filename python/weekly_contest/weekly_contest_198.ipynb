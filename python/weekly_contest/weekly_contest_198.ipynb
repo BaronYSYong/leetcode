{
 "cells": [
  {
   "cell_type": "markdown",
   "metadata": {},
   "source": [
    "# 1518. Water Bottles"
   ]
  },
  {
   "cell_type": "code",
   "execution_count": 1,
   "metadata": {},
   "outputs": [],
   "source": [
    "# 13\n",
    "# numBottles = 9; numExchange = 3\n",
    "# 19\n",
    "# numBottles = 15; numExchange = 4\n",
    "# 6\n",
    "# numBottles = 5; numExchange = 5\n",
    "# 2\n",
    "numBottles = 2; numExchange = 3"
   ]
  },
  {
   "cell_type": "code",
   "execution_count": 2,
   "metadata": {},
   "outputs": [],
   "source": [
    "class Solution:\n",
    "    def numWaterBottles(self, numBottles: int, numExchange: int) -> int:\n",
    "        empty_bottles = numBottles%numExchange\n",
    "        full = int(numBottles/numExchange)\n",
    "        total_bottles = empty_bottles + full\n",
    "        count = numBottles + full\n",
    "\n",
    "        while int(total_bottles/numExchange) > 0:\n",
    "            full = int(total_bottles/numExchange)\n",
    "            empty_bottles = total_bottles%numExchange\n",
    "            total_bottles = empty_bottles + full\n",
    "            count += full\n",
    "\n",
    "        return count\n",
    "\n",
    "solution = Solution()\n",
    "%time solution.numWaterBottles(numBottles, numExchange)"
   ]
  },
  {
   "cell_type": "markdown",
   "metadata": {},
   "source": [
    "# 5465. Number of Nodes in the Sub-Tree With the Same Label\n",
    "\n",
    "Given a tree (i.e. a connected, undirected graph that has no cycles) consisting of n nodes numbered from 0 to n - 1 and exactly n - 1 edges. The root of the tree is the node 0, and each node of the tree has a label which is a lower-case character given in the string labels (i.e. The node with the number i has the label labels[i]).\n",
    "\n",
    "The edges array is given on the form edges[i] = [ai, bi], which means there is an edge between nodes ai and bi in the tree.\n",
    "\n",
    "Return an array of size n where ans[i] is the number of nodes in the subtree of the ith node which have the same label as node i.\n",
    "\n",
    "A subtree of a tree T is the tree consisting of a node in T and all of its descendant nodes.\n",
    "\n",
    "Example 1:\n",
    "```\n",
    "Input: n = 7, edges = [[0,1],[0,2],[1,4],[1,5],[2,3],[2,6]], labels = \"abaedcd\"\n",
    "Output: [2,1,1,1,1,1,1]\n",
    "Explanation: Node 0 has label 'a' and its sub-tree has node 2 with label 'a' as well, thus the answer is 2. Notice that any node is part of its sub-tree.\n",
    "Node 1 has a label 'b'. The sub-tree of node 1 contains nodes 1,4 and 5, as nodes 4 and 5 have different labels than node 1, the answer is just 1 (the node itself).\n",
    "```\n",
    "Example 2:\n",
    "```\n",
    "Input: n = 4, edges = [[0,1],[1,2],[0,3]], labels = \"bbbb\"\n",
    "Output: [4,2,1,1]\n",
    "Explanation: The sub-tree of node 2 contains only node 2, so the answer is 1.\n",
    "The sub-tree of node 3 contains only node 3, so the answer is 1.\n",
    "The sub-tree of node 1 contains nodes 1 and 2, both have label 'b', thus the answer is 2.\n",
    "The sub-tree of node 0 contains nodes 0, 1, 2 and 3, all with label 'b', thus the answer is 4.\n",
    "```\n",
    "Example 3:\n",
    "```\n",
    "Input: n = 5, edges = [[0,1],[0,2],[1,3],[0,4]], labels = \"aabab\"\n",
    "Output: [3,2,1,1,1]\n",
    "```\n",
    "Example 4:\n",
    "```\n",
    "Input: n = 6, edges = [[0,1],[0,2],[1,3],[3,4],[4,5]], labels = \"cbabaa\"\n",
    "Output: [1,2,1,1,2,1]\n",
    "```\n",
    "Example 5:\n",
    "```\n",
    "Input: n = 7, edges = [[0,1],[1,2],[2,3],[3,4],[4,5],[5,6]], labels = \"aaabaaa\"\n",
    "Output: [6,5,4,1,3,2,1]\n",
    "```\n",
    "\n",
    "Constraints:\n",
    "\n",
    "* 1 <= n <= 10^5\n",
    "* edges.length == n - 1\n",
    "* edges[i].length == 2\n",
    "* 0 <= ai, bi < n\n",
    "* ai != bi\n",
    "* labels.length == n\n",
    "* labels is consisting of only of lower-case English letters."
   ]
  },
  {
   "cell_type": "code",
   "execution_count": 3,
   "metadata": {},
   "outputs": [],
   "source": [
    "from typing import List"
   ]
  },
  {
   "cell_type": "code",
   "execution_count": 4,
   "metadata": {},
   "outputs": [],
   "source": [
    "# n = 7; edges = [[0,1],[0,2],[1,4],[1,5],[2,3],[2,6]]; labels = \"abaedcd\"\n",
    "# n = 4; edges = [[0,1],[1,2],[0,3]]; labels = \"bbbb\"\n",
    "# n = 5; edges = [[0,1],[0,2],[1,3],[0,4]]; labels = \"aabab\"\n",
    "# n = 6; edges = [[0,1],[0,2],[1,3],[3,4],[4,5]]; labels = \"cbabaa\"\n",
    "# n = 7; edges = [[0,1],[1,2],[2,3],[3,4],[4,5],[5,6]]; labels = \"aaabaaa\"\n",
    "# [1,1,2,1]\n",
    "# n = 4; edges = [[0,2],[0,3],[1,2]]; labels = \"aeed\"\n",
    "# [2,2,1,1,1,3,2,1,1,1,1,1,1,1,1,1,1,1,1,2,1,1,1,1,1]\n",
    "n = 25\n",
    "edges = [[4,0],[5,4],[12,5],[3,12],[18,3],[10,18],[8,5],[16,8],[14,16],[13,16],[9,13],[22,9],[2,5],[6,2],[1,6],[11,1],[15,11],[20,11],[7,20],[19,1],[17,19],[23,19],[24,2],[21,24]]\n",
    "labels = \"hcheiavadwjctaortvpsflssg\"\n"
   ]
  },
  {
   "cell_type": "code",
   "execution_count": 5,
   "metadata": {},
   "outputs": [
    {
     "name": "stdout",
     "output_type": "stream",
     "text": [
      "CPU times: user 49 µs, sys: 3 µs, total: 52 µs\n",
      "Wall time: 54.6 µs\n"
     ]
    },
    {
     "data": {
      "text/plain": [
       "[1, 2, 1, 1, 1, 3, 2, 1, 1, 1, 1, 1, 2, 1, 1, 1, 1, 1, 1, 2, 1, 1, 1, 1, 1]"
      ]
     },
     "execution_count": 5,
     "metadata": {},
     "output_type": "execute_result"
    }
   ],
   "source": [
    "# my answer, wrong answer\n",
    "class Solution:\n",
    "    def countSubTrees(self, n: int, edges: List[List[int]], labels: str) -> List[int]:\n",
    "        self.nodes = [[] for _ in range(n)]\n",
    "        visit = [0] * n\n",
    "        self.labels = labels\n",
    "        for e in edges:\n",
    "            if visit[e[1]] > 0:\n",
    "                self.nodes[e[1]].append(e[0])\n",
    "                visit[e[0]] += 1\n",
    "            else:\n",
    "                self.nodes[e[0]].append(e[1])\n",
    "                visit[e[1]] += 1\n",
    "        self.same_label = [1] * n\n",
    "        for i in range(len(labels)):\n",
    "            self.dfs(i, i)\n",
    "        \n",
    "        return self.same_label\n",
    "\n",
    "    def dfs(self, r, i):\n",
    "        for n in self.nodes[i]:\n",
    "            if self.labels[r] == self.labels[n]:\n",
    "                self.same_label[r] += 1\n",
    "            self.dfs(r, n)\n",
    "\n",
    "solution = Solution()\n",
    "%time solution.countSubTrees(n, edges, labels)\n",
    "    "
   ]
  },
  {
   "cell_type": "code",
   "execution_count": 6,
   "metadata": {},
   "outputs": [
    {
     "name": "stdout",
     "output_type": "stream",
     "text": [
      "CPU times: user 113 µs, sys: 8 µs, total: 121 µs\n",
      "Wall time: 123 µs\n"
     ]
    },
    {
     "data": {
      "text/plain": [
       "[2, 2, 1, 1, 1, 3, 2, 1, 1, 1, 1, 1, 1, 1, 1, 1, 1, 1, 1, 2, 1, 1, 1, 1, 1]"
      ]
     },
     "execution_count": 6,
     "metadata": {},
     "output_type": "execute_result"
    }
   ],
   "source": [
    "# 8th\n",
    "class Solution:\n",
    "    def countSubTrees(self, n: int, edges: List[List[int]], labels: str) -> List[int]:\n",
    "        adj = {i:[] for i in range(n)}\n",
    "        for u,v in edges:\n",
    "            adj[u].append(v)\n",
    "            adj[v].append(u)\n",
    "        cur = 0\n",
    "        seen = set()\n",
    "        ctrs = {i:[0 for _ in range(26)] for i in range(n)}\n",
    "        value = lambda c : ord(c) - 97\n",
    "        def dfs(cur, seen):\n",
    "            seen.add(cur)\n",
    "            label = labels[cur]\n",
    "            ctrs[cur][value(label)] += 1\n",
    "            for child in adj[cur]:\n",
    "                if child in seen:\n",
    "                    continue\n",
    "                dfs(child, seen)\n",
    "                for i in range(26):\n",
    "                    ctrs[cur][i] += ctrs[child][i]\n",
    "        dfs(0,seen)\n",
    "        return [ctrs[i][value(label)] for i,label in enumerate(labels)]\n",
    "    \n",
    "solution = Solution()\n",
    "%time solution.countSubTrees(n, edges, labels)   "
   ]
  },
  {
   "cell_type": "markdown",
   "metadata": {},
   "source": [
    "# 5466. Maximum Number of Non-Overlapping Substrings\n",
    "\n",
    "Given a string s of lowercase letters, you need to find the maximum number of non-empty substrings of s that meet the following conditions:\n",
    "\n",
    "The substrings do not overlap, that is for any two substrings s[i..j] and s[k..l], either j < k or i > l is true.\n",
    "A substring that contains a certain character c must also contain all occurrences of c.\n",
    "Find the maximum number of substrings that meet the above conditions. If there are multiple solutions with the same number of substrings, return the one with minimum total length. It can be shown that there exists a unique solution of minimum total length.\n",
    "\n",
    "Notice that you can return the substrings in any order.\n",
    "\n",
    "Example 1:\n",
    "```\n",
    "Input: s = \"adefaddaccc\"\n",
    "Output: [\"e\",\"f\",\"ccc\"]\n",
    "Explanation: The following are all the possible substrings that meet the conditions:\n",
    "[\n",
    "  \"adefaddaccc\"\n",
    "  \"adefadda\",\n",
    "  \"ef\",\n",
    "  \"e\",\n",
    "  \"f\",\n",
    "  \"ccc\",\n",
    "]\n",
    "If we choose the first string, we cannot choose anything else and we'd get only 1. If we choose \"adefadda\", we are left with \"ccc\" which is the only one that doesn't overlap, thus obtaining 2 substrings. Notice also, that it's not optimal to choose \"ef\" since it can be split into two. Therefore, the optimal way is to choose [\"e\",\"f\",\"ccc\"] which gives us 3 substrings. No other solution of the same number of substrings exist.\n",
    "```\n",
    "Example 2:\n",
    "```\n",
    "Input: s = \"abbaccd\"\n",
    "Output: [\"d\",\"bb\",\"cc\"]\n",
    "Explanation: Notice that while the set of substrings [\"d\",\"abba\",\"cc\"] also has length 3, it's considered incorrect since it has larger total length.\n",
    "```\n",
    "\n",
    "Constraints:\n",
    "\n",
    "* 1 <= s.length <= 10^5\n",
    "* s contains only lowercase English letters."
   ]
  },
  {
   "cell_type": "code",
   "execution_count": 7,
   "metadata": {},
   "outputs": [],
   "source": [
    "# 8th\n",
    "import heapq\n",
    "\n",
    "class Solution:\n",
    "    def maxNumOfSubstrings(self, s: str) -> List[str]:\n",
    "        first = {}\n",
    "        last = {}\n",
    "        for i in range(len(s)):\n",
    "            c = s[i]\n",
    "            last[c] = i\n",
    "        for i in range(len(s)-1,-1,-1):\n",
    "            c = s[i]\n",
    "            first[c] = i\n",
    "        intervals = set()\n",
    "        lookup = {}\n",
    "        for c in first:\n",
    "            st = first[c]\n",
    "            ed = last[c]\n",
    "            visible = set()\n",
    "            for i in range(st,ed+1):\n",
    "                visible.add(s[i])\n",
    "            lookup[c] = visible\n",
    "        for c in first:\n",
    "            seen = set()\n",
    "            def dfs(cur,seen):\n",
    "                seen.add(cur)\n",
    "                for n in lookup[cur]:\n",
    "                    if n not in seen:\n",
    "                        dfs(n,seen)\n",
    "            dfs(c,seen)\n",
    "            lower = min(first[c] for c in seen)\n",
    "            upper = max(last[c] for c in seen)\n",
    "            intervals.add((lower, upper))\n",
    "        pq = []\n",
    "        intervals = list(intervals)\n",
    "        intervals.sort(key = lambda x : x[1] - x[0])\n",
    "        ans = []\n",
    "        taken = set()\n",
    "        for a,b in intervals:\n",
    "            if any(x in taken for x in range(a,b+1)):\n",
    "                continue\n",
    "            taken.add(a)\n",
    "            taken.add(b)\n",
    "            ans.append(s[a:b+1])\n",
    "        return ans"
   ]
  },
  {
   "cell_type": "markdown",
   "metadata": {},
   "source": [
    "# 5467. Find a Value of a Mysterious Function Closest to Target\n",
    "\n",
    "Winston was given the above mysterious function func. He has an integer array arr and an integer target and he wants to find the values l and r that make the value |func(arr, l, r) - target| minimum possible.\n",
    "\n",
    "Return the minimum possible value of |func(arr, l, r) - target|.\n",
    "\n",
    "Notice that func should be called with the values l and r where 0 <= l, r < arr.length.\n",
    "\n",
    "Example 1:\n",
    "```\n",
    "Input: arr = [9,12,3,7,15], target = 5\n",
    "Output: 2\n",
    "Explanation: Calling func with all the pairs of [l,r] = [[0,0],[1,1],[2,2],[3,3],[4,4],[0,1],[1,2],[2,3],[3,4],[0,2],[1,3],[2,4],[0,3],[1,4],[0,4]], Winston got the following results [9,12,3,7,15,8,0,3,7,0,0,3,0,0,0]. The value closest to 5 is 7 and 3, thus the minimum difference is 2.\n",
    "```\n",
    "Example 2:\n",
    "```\n",
    "Input: arr = [1000000,1000000,1000000], target = 1\n",
    "Output: 999999\n",
    "Explanation: Winston called the func with all possible values of [l,r] and he always got 1000000, thus the min difference is 999999.\n",
    "```\n",
    "Example 3:\n",
    "```\n",
    "Input: arr = [1,2,4,8,16], target = 0\n",
    "Output: 0\n",
    "```\n",
    "\n",
    "Constraints:\n",
    "\n",
    "* 1 <= arr.length <= 10^5\n",
    "* 1 <= arr[i] <= 10^6\n",
    "* 0 <= target <= 10^7"
   ]
  },
  {
   "cell_type": "code",
   "execution_count": 8,
   "metadata": {},
   "outputs": [],
   "source": [
    "# arr = [9,12,3,7,15]; target = 5\n",
    "# arr = [1000000,1000000,1000000]; target = 1\n",
    "arr = [1,2,4,8,16]; target = 0"
   ]
  },
  {
   "cell_type": "code",
   "execution_count": 9,
   "metadata": {},
   "outputs": [],
   "source": [
    "def func(arr, l, r):\n",
    "    if (r < l):\n",
    "        return -1000000000\n",
    "    ans = arr[l]\n",
    "    for i in range(l+1, r):\n",
    "        ans  = ans and arr[i]\n",
    "    return ans"
   ]
  },
  {
   "cell_type": "code",
   "execution_count": 10,
   "metadata": {},
   "outputs": [
    {
     "name": "stdout",
     "output_type": "stream",
     "text": [
      "[1, 1, 2, 4, 8, 2, 2, 4, 8, 4, 4, 8, 8, 8, 16]\n"
     ]
    },
    {
     "data": {
      "text/plain": [
       "1"
      ]
     },
     "execution_count": 10,
     "metadata": {},
     "output_type": "execute_result"
    }
   ],
   "source": [
    "s = len(arr)\n",
    "\n",
    "a = []\n",
    "for i in range(s):\n",
    "    for j in range(i, s):\n",
    "        a.append(func(arr, i, j))\n",
    "\n",
    "print(a)\n",
    "min_a = 10000000000\n",
    "\n",
    "for i in a:\n",
    "    min_a = min(min_a, abs(i-target))\n",
    "min_a"
   ]
  },
  {
   "cell_type": "code",
   "execution_count": 11,
   "metadata": {},
   "outputs": [],
   "source": [
    "# 8th\n",
    "class Solution:\n",
    "    def closestToTarget(self, arr: List[int], target: int) -> int:\n",
    "        if target in arr:\n",
    "            return 0\n",
    "        old_arr = arr\n",
    "        arr = [old_arr[0]]\n",
    "        for i in range(1,len(old_arr)):\n",
    "            if old_arr[i] != arr[-1]:\n",
    "                arr.append(old_arr[i])\n",
    "        best = abs(target - arr[0]) \n",
    "        for i in range(len(arr)):\n",
    "            cur = arr[i]\n",
    "            best = min(best, abs(target - cur))\n",
    "            for j in range(i+1,len(arr)):\n",
    "                cur &= arr[j]\n",
    "                best = min(best, abs(target - cur))\n",
    "                if cur < target:\n",
    "                    break\n",
    "        return best"
   ]
  }
 ],
 "metadata": {
  "kernelspec": {
   "display_name": "Python 3",
   "language": "python",
   "name": "python3"
  },
  "language_info": {
   "codemirror_mode": {
    "name": "ipython",
    "version": 3
   },
   "file_extension": ".py",
   "mimetype": "text/x-python",
   "name": "python",
   "nbconvert_exporter": "python",
   "pygments_lexer": "ipython3",
   "version": "3.6.7"
  }
 },
 "nbformat": 4,
 "nbformat_minor": 2
}
