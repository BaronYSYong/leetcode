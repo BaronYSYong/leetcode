{
 "cells": [
  {
   "cell_type": "code",
   "execution_count": 1,
   "metadata": {},
   "outputs": [],
   "source": [
    "from typing import List"
   ]
  },
  {
   "cell_type": "markdown",
   "metadata": {},
   "source": [
    "# 1470. Shuffle the Array"
   ]
  },
  {
   "cell_type": "code",
   "execution_count": 2,
   "metadata": {},
   "outputs": [],
   "source": [
    "# [2,3,5,4,1,7] \n",
    "# nums = [2,5,1,3,4,7]\n",
    "# n = 3\n",
    "\n",
    "# [1,4,2,3,3,2,4,1]\n",
    "nums = [1,2,3,4,4,3,2,1]\n",
    "n = 4"
   ]
  },
  {
   "cell_type": "code",
   "execution_count": 3,
   "metadata": {},
   "outputs": [],
   "source": [
    "# my answer\n",
    "class Solution:\n",
    "    def shuffle(self, nums: List[int], n: int) -> List[int]:\n",
    "        shuffle = []\n",
    "        for i in range(n):\n",
    "            shuffle.append(nums[i])\n",
    "            shuffle.append(nums[i+n])\n",
    "        return shuffle"
   ]
  },
  {
   "cell_type": "markdown",
   "metadata": {},
   "source": [
    "# 1471. The k Strongest Values in an Array"
   ]
  },
  {
   "cell_type": "code",
   "execution_count": 4,
   "metadata": {},
   "outputs": [],
   "source": [
    "# [5,1]\n",
    "# arr = [1,2,3,4,5]\n",
    "# k = 2\n",
    "\n",
    "# [5,5]\n",
    "# arr = [1,1,3,5,5]\n",
    "# k = 2\n",
    "\n",
    "# [11,8,6,6,7]\n",
    "# arr = [6,7,11,7,6,8]\n",
    "# k = 5\n",
    "\n",
    "# [-3,11,2]\n",
    "# arr = [6,-3,7,2,11]\n",
    "# k = 3\n",
    "\n",
    "# [22,17]\n",
    "arr = [-7,22,17,3]\n",
    "k = 2"
   ]
  },
  {
   "cell_type": "code",
   "execution_count": 5,
   "metadata": {},
   "outputs": [],
   "source": [
    "# my answer\n",
    "class Solution:\n",
    "    def getStrongest(self, arr: List[int], k: int) -> List[int]:\n",
    "        if len(arr)%2 == 0:\n",
    "            n = len(arr)-1\n",
    "        else:\n",
    "            n = len(arr)\n",
    "        median = sorted(arr)[n//2]\n",
    "        arr.sort(key = lambda x: (-abs(x-median), -x))\n",
    "        \n",
    "        return arr[:k]"
   ]
  },
  {
   "cell_type": "markdown",
   "metadata": {},
   "source": [
    "# 1472. Design Browser History"
   ]
  },
  {
   "cell_type": "code",
   "execution_count": 6,
   "metadata": {},
   "outputs": [],
   "source": [
    "# Input:\n",
    "# [\"BrowserHistory\",\"visit\",\"visit\",\"visit\",\"back\",\"back\",\"forward\",\"visit\",\"forward\",\"back\",\"back\"]\n",
    "# [[\"leetcode.com\"],[\"google.com\"],[\"facebook.com\"],[\"youtube.com\"],[1],[1],[1],[\"linkedin.com\"],[2],[2],[7]]\n",
    "# Output:\n",
    "# [null,null,null,null,\"facebook.com\",\"google.com\",\"facebook.com\",null,\"linkedin.com\",\"google.com\",\"leetcode.com\"]"
   ]
  },
  {
   "cell_type": "code",
   "execution_count": 7,
   "metadata": {},
   "outputs": [],
   "source": [
    "# my answer\n",
    "class BrowserHistory:\n",
    "\n",
    "    def __init__(self, homepage: str):\n",
    "        self.visit_list = []\n",
    "        self.visit_len = 1\n",
    "        self.visit_list.append(homepage)\n",
    "\n",
    "    def visit(self, url: str) -> None:\n",
    "        self.visit_list = self.visit_list[:self.visit_len]\n",
    "        self.visit_list.append(url)\n",
    "        self.visit_len += 1\n",
    "        \n",
    "\n",
    "    def back(self, steps: int) -> str:\n",
    "        self.visit_len -= steps\n",
    "        if self.visit_len < 1:\n",
    "            self.visit_len = 1\n",
    "        return self.visit_list[self.visit_len-1]\n",
    "        \n",
    "\n",
    "    def forward(self, steps: int) -> str:\n",
    "        self.visit_len += steps\n",
    "        if self.visit_len > len(self.visit_list):\n",
    "            self.visit_len = len(self.visit_list)\n",
    "        return self.visit_list[self.visit_len-1]\n",
    "        \n",
    "\n",
    "\n",
    "# Your BrowserHistory object will be instantiated and called as such:\n",
    "# obj = BrowserHistory(homepage)\n",
    "# obj.visit(url)\n",
    "# param_2 = obj.back(steps)\n",
    "# param_3 = obj.forward(steps)"
   ]
  },
  {
   "cell_type": "markdown",
   "metadata": {},
   "source": [
    "# 5431. Paint House III\n",
    "\n",
    "There is a row of m houses in a small city, each house must be painted with one of the n colors (labeled from 1 to n), some houses that has been painted last summer should not be painted again.\n",
    "\n",
    "A neighborhood is a maximal group of continuous houses that are painted with the same color. (For example: houses = [1,2,2,3,3,2,1,1] contains 5 neighborhoods  [{1}, {2,2}, {3,3}, {2}, {1,1}]).\n",
    "\n",
    "Given an array houses, an m * n matrix cost and an integer target where:\n",
    "\n",
    "houses[i]: is the color of the house i, 0 if the house is not painted yet.\n",
    "cost[i][j]: is the cost of paint the house i with the color j+1.\n",
    "Return the minimum cost of painting all the remaining houses in such a way that there are exactly target neighborhoods, if not possible return -1.\n",
    "\n",
    " \n",
    "\n",
    "Example 1:\n",
    "```\n",
    "Input: houses = [0,0,0,0,0], cost = [[1,10],[10,1],[10,1],[1,10],[5,1]], m = 5, n = 2, target = 3\n",
    "Output: 9\n",
    "Explanation: Paint houses of this way [1,2,2,1,1]\n",
    "This array contains target = 3 neighborhoods, [{1}, {2,2}, {1,1}].\n",
    "Cost of paint all houses (1 + 1 + 1 + 1 + 5) = 9.\n",
    "```\n",
    "Example 2:\n",
    "```\n",
    "Input: houses = [0,2,1,2,0], cost = [[1,10],[10,1],[10,1],[1,10],[5,1]], m = 5, n = 2, target = 3\n",
    "Output: 11\n",
    "Explanation: Some houses are already painted, Paint the houses of this way [2,2,1,2,2]\n",
    "This array contains target = 3 neighborhoods, [{2,2}, {1}, {2,2}]. \n",
    "Cost of paint the first and last house (10 + 1) = 11.\n",
    "```\n",
    "Example 3:\n",
    "```\n",
    "Input: houses = [0,0,0,0,0], cost = [[1,10],[10,1],[1,10],[10,1],[1,10]], m = 5, n = 2, target = 5\n",
    "Output: 5\n",
    "```\n",
    "Example 4:\n",
    "```\n",
    "Input: houses = [3,1,2,3], cost = [[1,1,1],[1,1,1],[1,1,1],[1,1,1]], m = 4, n = 3, target = 3\n",
    "Output: -1\n",
    "Explanation: Houses are already painted with a total of 4 neighborhoods [{3},{1},{2},{3}] different of target = 3.\n",
    " ```\n",
    "\n",
    "Constraints:\n",
    "\n",
    "* m == houses.length == cost.length\n",
    "* n == cost[i].length\n",
    "* 1 <= m <= 100\n",
    "* 1 <= n <= 20\n",
    "* 1 <= target <= m\n",
    "* 0 <= houses[i] <= n\n",
    "* 1 <= cost[i][j] <= 10^4"
   ]
  },
  {
   "cell_type": "code",
   "execution_count": 8,
   "metadata": {},
   "outputs": [],
   "source": [
    "# 9\n",
    "houses = [0,0,0,0,0]\n",
    "cost = [[1,10],[10,1],[10,1],[1,10],[5,1]]\n",
    "m = 5\n",
    "n = 2\n",
    "target = 3"
   ]
  },
  {
   "cell_type": "code",
   "execution_count": 9,
   "metadata": {},
   "outputs": [],
   "source": [
    "# min_costs = 0\n",
    "# try_target = 0\n",
    "# paint = []\n",
    "# for i, house in enumerate(houses):\n",
    "#     if house == 0:\n",
    "#         min_cost = min(cost[i])\n",
    "#         min_costs += min_cost\n",
    "#         paint.append(cost[i].index(min_cost)+1)\n",
    "#     else:\n",
    "#         paint.append(house)\n",
    "# neighboorhoods ="
   ]
  },
  {
   "cell_type": "code",
   "execution_count": 10,
   "metadata": {},
   "outputs": [],
   "source": [
    "# 13th place\n",
    "from functools import lru_cache\n",
    "memo = lru_cache(None)\n",
    "class Solution:\n",
    "    def minCost(self, houses, C, N, num_colors, target):\n",
    "        # C is matrix , C[i][j] cost to paint ith house jth color\n",
    "        INF = float('inf')\n",
    "        \n",
    "        @memo\n",
    "        def dp(i, j, k):\n",
    "            # prev color was j\n",
    "            # min cost, currently k neighborhoods\n",
    "            if i == N:\n",
    "                return 0 if k == target else INF\n",
    "            ans = INF\n",
    "            \n",
    "            for new_color in (range(num_colors) if houses[i] == 0 else [houses[i] - 1]):\n",
    "                cost = C[i][new_color]\n",
    "                bns = cost + dp(i+1, new_color, k + (new_color != j))\n",
    "                if bns<ans: ans=bns\n",
    "            return ans\n",
    "        ans =  dp(0,-1,0)\n",
    "        if ans == INF: return -1\n",
    "        for i,x in enumerate(houses):\n",
    "            if x:\n",
    "                ans -= C[i][x-1]\n",
    "        return ans"
   ]
  },
  {
   "cell_type": "code",
   "execution_count": 11,
   "metadata": {},
   "outputs": [],
   "source": [
    "# 15th place\n",
    "class Solution(object):\n",
    "    def minCost(self, houses, cost, m, n, target):\n",
    "        \"\"\"\n",
    "        :type houses: List[int]\n",
    "        :type cost: List[List[int]]\n",
    "        :type m: int\n",
    "        :type n: int\n",
    "        :type target: int\n",
    "        :rtype: int\n",
    "        \"\"\"\n",
    "        # paint first i houses ending on color j with total k neighborhoods\n",
    "        f = [[[float('inf')]*(target+1) for _ in xrange(n+1)] for i in xrange(m+1)]\n",
    "        f[0][0][0] = 0\n",
    "        for i, x in enumerate(houses):\n",
    "            if x > 0:\n",
    "                for j in xrange(n+1):\n",
    "                    # color j -> color x-1\n",
    "                    d = 1 if j!=x else 0\n",
    "                    for k in xrange(target+1-d):\n",
    "                        f[i+1][x][k+d] = min(f[i+1][x][k+d], f[i][j][k])\n",
    "            else:\n",
    "                for j in xrange(n+1):\n",
    "                    for jj in xrange(1,n+1):\n",
    "                        d = 1 if j!=jj else 0\n",
    "                        for k in xrange(target+1-d):\n",
    "                            f[i+1][jj][k+d] = min(f[i+1][jj][k+d], f[i][j][k]+cost[i][jj-1])\n",
    "        r = min(f[m][j][target] for j in xrange(n+1))\n",
    "        return r if r < float('inf') else -1"
   ]
  },
  {
   "cell_type": "code",
   "execution_count": null,
   "metadata": {},
   "outputs": [],
   "source": []
  }
 ],
 "metadata": {
  "kernelspec": {
   "display_name": "Python 3",
   "language": "python",
   "name": "python3"
  },
  "language_info": {
   "codemirror_mode": {
    "name": "ipython",
    "version": 3
   },
   "file_extension": ".py",
   "mimetype": "text/x-python",
   "name": "python",
   "nbconvert_exporter": "python",
   "pygments_lexer": "ipython3",
   "version": "3.6.7"
  }
 },
 "nbformat": 4,
 "nbformat_minor": 2
}
