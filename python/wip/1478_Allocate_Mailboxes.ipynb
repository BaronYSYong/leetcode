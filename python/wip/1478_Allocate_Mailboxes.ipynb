{
 "cells": [
  {
   "cell_type": "markdown",
   "id": "4e14d5cb",
   "metadata": {},
   "source": [
    "# 1478. Allocate Mailboxes\n",
    "Given the array houses and an integer k. where houses[i] is the location of the ith house along a street, your task is to allocate k mailboxes in the street.\n",
    "\n",
    "Return the minimum total distance between each house and its nearest mailbox.\n",
    "\n",
    "The answer is guaranteed to fit in a 32-bit signed integer.\n",
    "\n",
    "Example 1:\n",
    "```\n",
    "Input: houses = [1,4,8,10,20], k = 3\n",
    "Output: 5\n",
    "Explanation: Allocate mailboxes in position 3, 9 and 20.\n",
    "Minimum total distance from each houses to nearest mailboxes is |3-1| + |4-3| + |9-8| + |10-9| + |20-20| = 5 \n",
    "```\n",
    "Example 2:\n",
    "```\n",
    "Input: houses = [2,3,5,12,18], k = 2\n",
    "Output: 9\n",
    "Explanation: Allocate mailboxes in position 3 and 14.\n",
    "Minimum total distance from each houses to nearest mailboxes is |2-3| + |3-3| + |5-3| + |12-14| + |18-14| = 9.\n",
    "```\n",
    "Example 3:\n",
    "```\n",
    "Input: houses = [7,4,6,1], k = 1\n",
    "Output: 8\n",
    "```\n",
    "Example 4:\n",
    "```\n",
    "Input: houses = [3,6,14,10], k = 4\n",
    "Output: 0\n",
    "```\n",
    "\n",
    "Constraints:\n",
    "* n == houses.length\n",
    "* 1 <= n <= 100\n",
    "* 1 <= houses[i] <= 10^4\n",
    "* 1 <= k <= n\n",
    "* Array houses contain unique integers."
   ]
  },
  {
   "cell_type": "code",
   "execution_count": 1,
   "id": "7f29a8ea",
   "metadata": {},
   "outputs": [],
   "source": [
    "from typing import List"
   ]
  },
  {
   "cell_type": "code",
   "execution_count": 2,
   "id": "0e0b9fe4",
   "metadata": {},
   "outputs": [],
   "source": [
    "# place 8\n",
    "class Solution:\n",
    "    def minDistance(self, x: List[int], k: int) -> int:\n",
    "        inf = 10**9\n",
    "        n = len(x)\n",
    "        x = sorted(x)\n",
    "        b = [[inf] * n for i in range(n)]\n",
    "        for i in range(n):\n",
    "            for j in range(i, n):\n",
    "                b[i][j] = 0\n",
    "                for t in range(i, j + 1):\n",
    "                    b[i][j] += abs(x[t] - x[(i + j) // 2])\n",
    "        d = [[inf] * (n + 1) for i in range(k + 1)]\n",
    "        d[0][0] = 0\n",
    "        for p in range(1, k + 1):\n",
    "            d[p][0] = 0\n",
    "            for i in range(1, n + 1):\n",
    "                d[p][i] = min(d[p][i], d[p-1][i])\n",
    "                for j in range(i):\n",
    "                    d[p][i] = min(d[p][i], d[p-1][j] + b[j][i-1])\n",
    "        return d[k][n]"
   ]
  }
 ],
 "metadata": {
  "kernelspec": {
   "display_name": "Python 3 (ipykernel)",
   "language": "python",
   "name": "python3"
  },
  "language_info": {
   "codemirror_mode": {
    "name": "ipython",
    "version": 3
   },
   "file_extension": ".py",
   "mimetype": "text/x-python",
   "name": "python",
   "nbconvert_exporter": "python",
   "pygments_lexer": "ipython3",
   "version": "3.8.10"
  }
 },
 "nbformat": 4,
 "nbformat_minor": 5
}
