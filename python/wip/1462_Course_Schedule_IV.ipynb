{
 "cells": [
  {
   "cell_type": "markdown",
   "id": "8b624ccb",
   "metadata": {},
   "source": [
    "# 1462. Course Schedule IV\n",
    "There are a total of n courses you have to take, labeled from 0 to n-1.\n",
    "\n",
    "Some courses may have direct prerequisites, for example, to take course 0 you have first to take course 1, which is expressed as a pair: [1,0]\n",
    "\n",
    "Given the total number of courses n, a list of direct prerequisite pairs and a list of queries pairs.\n",
    "\n",
    "You should answer for each queries[i] whether the course queries[i][0] is a prerequisite of the course queries[i][1] or not.\n",
    "\n",
    "Return a list of boolean, the answers to the given queries.\n",
    "\n",
    "Please note that if course a is a prerequisite of course b and course b is a prerequisite of course c, then, course a is a prerequisite of course c.\n",
    "\n",
    " \n",
    "\n",
    "Example 1:\n",
    "```\n",
    "Input: n = 2, prerequisites = [[1,0]], queries = [[0,1],[1,0]]\n",
    "Output: [false,true]\n",
    "Explanation: course 0 is not a prerequisite of course 1 but the opposite is true.\n",
    "```\n",
    "Example 2:\n",
    "```\n",
    "Input: n = 2, prerequisites = [], queries = [[1,0],[0,1]]\n",
    "Output: [false,false]\n",
    "Explanation: There are no prerequisites and each course is independent.\n",
    "```\n",
    "Example 3:\n",
    "```\n",
    "Input: n = 3, prerequisites = [[1,2],[1,0],[2,0]], queries = [[1,0],[1,2]]\n",
    "Output: [true,true]\n",
    "```\n",
    "Example 4:\n",
    "```\n",
    "Input: n = 3, prerequisites = [[1,0],[2,0]], queries = [[0,1],[2,0]]\n",
    "Output: [false,true]\n",
    "```\n",
    "Example 5:\n",
    "```\n",
    "Input: n = 5, prerequisites = [[0,1],[1,2],[2,3],[3,4]], queries = [[0,4],[4,0],[1,3],[3,0]]\n",
    "Output: [true,false,true,false]\n",
    "```\n",
    "Constraints:\n",
    "* 2 <= n <= 100\n",
    "* 0 <= prerequisite.length <= (n * (n - 1) / 2)\n",
    "* 0 <= prerequisite[i][0], prerequisite[i][1] < n\n",
    "* prerequisite[i][0] != prerequisite[i][1]\n",
    "* The prerequisites graph has no cycles.\n",
    "* The prerequisites graph has no repeated edges.\n",
    "* 1 <= queries.length <= 10^4\n",
    "* queries[i][0] != queries[i][1]"
   ]
  },
  {
   "cell_type": "code",
   "execution_count": 1,
   "id": "dca1c300",
   "metadata": {},
   "outputs": [],
   "source": [
    "from typing import List"
   ]
  },
  {
   "cell_type": "code",
   "execution_count": 2,
   "id": "3e8ef81c",
   "metadata": {},
   "outputs": [],
   "source": [
    "# [true,true,true,false,false,false]\n",
    "n = 4\n",
    "prerequisites = [[2,3],[2,1],[0,3],[0,1]]\n",
    "queries = [[0,1],[0,3],[2,3],[3,0],[2,0],[0,2]]"
   ]
  },
  {
   "cell_type": "code",
   "execution_count": 3,
   "id": "daf67680",
   "metadata": {},
   "outputs": [
    {
     "name": "stdout",
     "output_type": "stream",
     "text": [
      "[2, 0, 1, 3]\n",
      "CPU times: user 152 µs, sys: 20 µs, total: 172 µs\n",
      "Wall time: 180 µs\n"
     ]
    },
    {
     "data": {
      "text/plain": [
       "[True, True, True, False, True, False]"
      ]
     },
     "execution_count": 3,
     "metadata": {},
     "output_type": "execute_result"
    }
   ],
   "source": [
    "# my answer, wrong answer\n",
    "def checkIfPrerequisite(n: int, prerequisites: List[List[int]], queries: List[List[int]]) -> List[bool]:\n",
    "    if len(prerequisites) < 1:\n",
    "        return [False] * len(queries)\n",
    "\n",
    "    graph = [[] for _ in range(n)]\n",
    "    for pre in prerequisites:\n",
    "        graph[pre[0]].append(pre[1])\n",
    "\n",
    "    def dfs_sort(v, visited, stack, graph):\n",
    "        visited[v] = True\n",
    "\n",
    "        for i in graph[v]:\n",
    "            if visited[i] == False:\n",
    "                dfs_sort(i, visited, stack, graph)\n",
    "        stack.insert(0, v)\n",
    "\n",
    "    visited = [False] * n\n",
    "    stack = []\n",
    "\n",
    "    for i in range(n):\n",
    "        if visited[i] == False:\n",
    "            dfs_sort(i, visited, stack, graph)\n",
    "\n",
    "    output = []\n",
    "    for q in queries:\n",
    "        if stack.index(q[0]) < stack.index(q[1]):\n",
    "            output.append(True)\n",
    "        else:\n",
    "            output.append(False)\n",
    "\n",
    "    print(stack)\n",
    "    return output\n",
    "\n",
    "%time checkIfPrerequisite(n, prerequisites, queries)"
   ]
  },
  {
   "cell_type": "code",
   "execution_count": 4,
   "id": "65a5817b",
   "metadata": {},
   "outputs": [
    {
     "name": "stdout",
     "output_type": "stream",
     "text": [
      "CPU times: user 11 µs, sys: 2 µs, total: 13 µs\n",
      "Wall time: 14.5 µs\n"
     ]
    },
    {
     "data": {
      "text/plain": [
       "[True, True, True, False, False, False]"
      ]
     },
     "execution_count": 4,
     "metadata": {},
     "output_type": "execute_result"
    }
   ],
   "source": [
    "# 2nd place\n",
    "def checkIfPrerequisite2(n, prerequisites, queries):\n",
    "    \"\"\"\n",
    "    :type n: int\n",
    "    :type prerequisites: List[List[int]]\n",
    "    :type queries: List[List[int]]\n",
    "    :rtype: List[bool]\n",
    "    \"\"\"\n",
    "    graph = [[] for _ in range(n)]\n",
    "    for u, v in prerequisites:\n",
    "        # need u to do v\n",
    "        graph[u].append(v)\n",
    "\n",
    "    ans = []\n",
    "    for qs, qt in queries:\n",
    "        stack = [qs]\n",
    "        seen = {qs}\n",
    "        while stack:\n",
    "            node = stack.pop()\n",
    "            if node == qt:\n",
    "                ans.append(True)\n",
    "                break\n",
    "            for nei in graph[node]:\n",
    "                if nei not in seen:\n",
    "                    stack.append(nei)\n",
    "                    seen.add(nei)\n",
    "        else:\n",
    "            ans.append(False)\n",
    "    return ans\n",
    "%time checkIfPrerequisite2(n, prerequisites, queries)"
   ]
  },
  {
   "cell_type": "code",
   "execution_count": null,
   "id": "3c60ff88",
   "metadata": {},
   "outputs": [],
   "source": []
  }
 ],
 "metadata": {
  "kernelspec": {
   "display_name": "Python 3 (ipykernel)",
   "language": "python",
   "name": "python3"
  },
  "language_info": {
   "codemirror_mode": {
    "name": "ipython",
    "version": 3
   },
   "file_extension": ".py",
   "mimetype": "text/x-python",
   "name": "python",
   "nbconvert_exporter": "python",
   "pygments_lexer": "ipython3",
   "version": "3.8.10"
  }
 },
 "nbformat": 4,
 "nbformat_minor": 5
}
