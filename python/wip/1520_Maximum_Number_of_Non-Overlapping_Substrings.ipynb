{
 "cells": [
  {
   "cell_type": "markdown",
   "id": "54896b09",
   "metadata": {},
   "source": [
    "# 1520. Maximum Number of Non-Overlapping Substrings\n",
    "\n",
    "Given a string s of lowercase letters, you need to find the maximum number of non-empty substrings of s that meet the following conditions:\n",
    "\n",
    "The substrings do not overlap, that is for any two substrings s[i..j] and s[k..l], either j < k or i > l is true.\n",
    "A substring that contains a certain character c must also contain all occurrences of c.\n",
    "Find the maximum number of substrings that meet the above conditions. If there are multiple solutions with the same number of substrings, return the one with minimum total length. It can be shown that there exists a unique solution of minimum total length.\n",
    "\n",
    "Notice that you can return the substrings in any order.\n",
    "\n",
    "Example 1:\n",
    "```\n",
    "Input: s = \"adefaddaccc\"\n",
    "Output: [\"e\",\"f\",\"ccc\"]\n",
    "Explanation: The following are all the possible substrings that meet the conditions:\n",
    "[\n",
    "  \"adefaddaccc\"\n",
    "  \"adefadda\",\n",
    "  \"ef\",\n",
    "  \"e\",\n",
    "  \"f\",\n",
    "  \"ccc\",\n",
    "]\n",
    "If we choose the first string, we cannot choose anything else and we'd get only 1. If we choose \"adefadda\", we are left with \"ccc\" which is the only one that doesn't overlap, thus obtaining 2 substrings. Notice also, that it's not optimal to choose \"ef\" since it can be split into two. Therefore, the optimal way is to choose [\"e\",\"f\",\"ccc\"] which gives us 3 substrings. No other solution of the same number of substrings exist.\n",
    "```\n",
    "Example 2:\n",
    "```\n",
    "Input: s = \"abbaccd\"\n",
    "Output: [\"d\",\"bb\",\"cc\"]\n",
    "Explanation: Notice that while the set of substrings [\"d\",\"abba\",\"cc\"] also has length 3, it's considered incorrect since it has larger total length.\n",
    "```\n",
    "\n",
    "Constraints:\n",
    "\n",
    "* 1 <= s.length <= 10^5\n",
    "* s contains only lowercase English letters."
   ]
  },
  {
   "cell_type": "code",
   "execution_count": 1,
   "id": "e037f1c1",
   "metadata": {},
   "outputs": [],
   "source": [
    "from typing import List"
   ]
  },
  {
   "cell_type": "code",
   "execution_count": 2,
   "id": "cc315c5c",
   "metadata": {},
   "outputs": [],
   "source": [
    "s = \"adefaddaccc\""
   ]
  },
  {
   "cell_type": "code",
   "execution_count": 3,
   "id": "d380a66c",
   "metadata": {},
   "outputs": [
    {
     "name": "stdout",
     "output_type": "stream",
     "text": [
      "CPU times: user 34 µs, sys: 4 µs, total: 38 µs\n",
      "Wall time: 40.3 µs\n"
     ]
    },
    {
     "data": {
      "text/plain": [
       "['f', 'e', 'ccc']"
      ]
     },
     "execution_count": 3,
     "metadata": {},
     "output_type": "execute_result"
    }
   ],
   "source": [
    "# 8th\n",
    "import heapq\n",
    "\n",
    "class Solution:\n",
    "    def maxNumOfSubstrings(self, s: str) -> List[str]:\n",
    "        first = {}\n",
    "        last = {}\n",
    "        for i in range(len(s)):\n",
    "            c = s[i]\n",
    "            last[c] = i\n",
    "        for i in range(len(s)-1,-1,-1):\n",
    "            c = s[i]\n",
    "            first[c] = i\n",
    "        intervals = set()\n",
    "        lookup = {}\n",
    "        for c in first:\n",
    "            st = first[c]\n",
    "            ed = last[c]\n",
    "            visible = set()\n",
    "            for i in range(st,ed+1):\n",
    "                visible.add(s[i])\n",
    "            lookup[c] = visible\n",
    "        for c in first:\n",
    "            seen = set()\n",
    "            def dfs(cur,seen):\n",
    "                seen.add(cur)\n",
    "                for n in lookup[cur]:\n",
    "                    if n not in seen:\n",
    "                        dfs(n,seen)\n",
    "            dfs(c,seen)\n",
    "            lower = min(first[c] for c in seen)\n",
    "            upper = max(last[c] for c in seen)\n",
    "            intervals.add((lower, upper))\n",
    "        pq = []\n",
    "        intervals = list(intervals)\n",
    "        intervals.sort(key = lambda x : x[1] - x[0])\n",
    "        ans = []\n",
    "        taken = set()\n",
    "        for a,b in intervals:\n",
    "            if any(x in taken for x in range(a,b+1)):\n",
    "                continue\n",
    "            taken.add(a)\n",
    "            taken.add(b)\n",
    "            ans.append(s[a:b+1])\n",
    "        return ans\n",
    "    \n",
    "solution = Solution()\n",
    "%time solution.maxNumOfSubstrings(s)"
   ]
  },
  {
   "cell_type": "code",
   "execution_count": null,
   "id": "54932b6b",
   "metadata": {},
   "outputs": [],
   "source": []
  }
 ],
 "metadata": {
  "kernelspec": {
   "display_name": "Python 3 (ipykernel)",
   "language": "python",
   "name": "python3"
  },
  "language_info": {
   "codemirror_mode": {
    "name": "ipython",
    "version": 3
   },
   "file_extension": ".py",
   "mimetype": "text/x-python",
   "name": "python",
   "nbconvert_exporter": "python",
   "pygments_lexer": "ipython3",
   "version": "3.8.10"
  }
 },
 "nbformat": 4,
 "nbformat_minor": 5
}
