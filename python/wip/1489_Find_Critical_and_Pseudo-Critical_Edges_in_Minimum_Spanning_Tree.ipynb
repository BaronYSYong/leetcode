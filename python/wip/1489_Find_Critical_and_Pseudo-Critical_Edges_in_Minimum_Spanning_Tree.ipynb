{
 "cells": [
  {
   "cell_type": "markdown",
   "id": "acc844c3",
   "metadata": {},
   "source": [
    "# 1489. Find Critical and Pseudo-Critical Edges in Minimum Spanning Tree\n",
    "\n",
    "Given a weighted undirected connected graph with n vertices numbered from 0 to n-1, and an array edges where edges[i] = [fromi, toi, weighti] represents a bidirectional and weighted edge between nodes fromi and toi. A minimum spanning tree (MST) is a subset of the edges of the graph that connects all vertices without cycles and with the minimum possible total edge weight.\n",
    "\n",
    "Find all the critical and pseudo-critical edges in the minimum spanning tree (MST) of the given graph. An MST edge whose deletion from the graph would cause the MST weight to increase is called a critical edge. A pseudo-critical edge, on the other hand, is that which can appear in some MSTs but not all.\n",
    "\n",
    "Note that you can return the indices of the edges in any order.\n",
    "\n",
    " \n",
    "\n",
    "Example 1:\n",
    "```\n",
    "Input: n = 5, edges = [[0,1,1],[1,2,1],[2,3,2],[0,3,2],[0,4,3],[3,4,3],[1,4,6]]\n",
    "Output: [[0,1],[2,3,4,5]]\n",
    "Explanation: The figure above describes the graph.\n",
    "The following figure shows all the possible MSTs:\n",
    "\n",
    "Notice that the two edges 0 and 1 appear in all MSTs, therefore they are critical edges, so we return them in the first list of the output.\n",
    "The edges 2, 3, 4, and 5 are only part of some MSTs, therefore they are considered pseudo-critical edges. We add them to the second list of the output.\n",
    "```\n",
    "Example 2:\n",
    "```\n",
    "Input: n = 4, edges = [[0,1,1],[1,2,1],[2,3,1],[0,3,1]]\n",
    "Output: [[],[0,1,2,3]]\n",
    "Explanation: We can observe that since all 4 edges have equal weight, choosing any 3 edges from the given 4 will yield an MST. Therefore all 4 edges are pseudo-critical.\n",
    "```\n",
    "\n",
    "Constraints:\n",
    "* 2 <= n <= 100\n",
    "* 1 <= edges.length <= min(200, n * (n - 1) / 2)\n",
    "* edges[i].length == 3\n",
    "* 0 <= fromi < toi < n\n",
    "* 1 <= weighti <= 1000\n",
    "* All pairs (fromi, toi) are distinct."
   ]
  },
  {
   "cell_type": "code",
   "execution_count": 1,
   "id": "756f9eef",
   "metadata": {},
   "outputs": [],
   "source": [
    "from typing import List"
   ]
  },
  {
   "cell_type": "code",
   "execution_count": 2,
   "id": "82edf77f",
   "metadata": {},
   "outputs": [],
   "source": [
    "n = 5\n",
    "e = [[0,1,1],[1,2,1],[2,3,2],[0,3,2],[0,4,3],[3,4,3],[1,4,6]]"
   ]
  },
  {
   "cell_type": "code",
   "execution_count": 3,
   "id": "5dd0f688",
   "metadata": {},
   "outputs": [
    {
     "name": "stdout",
     "output_type": "stream",
     "text": [
      "7\n",
      "CPU times: user 233 µs, sys: 20 µs, total: 253 µs\n",
      "Wall time: 218 µs\n"
     ]
    },
    {
     "data": {
      "text/plain": [
       "[[0, 1], [2, 3, 4, 5]]"
      ]
     },
     "execution_count": 3,
     "metadata": {},
     "output_type": "execute_result"
    }
   ],
   "source": [
    "# 11th\n",
    "class Solution:\n",
    "    def findCriticalAndPseudoCriticalEdges(self, n: int, e: List[List[int]]) -> List[List[int]]:\n",
    "        for i in range(len(e)):\n",
    "            e[i].append(i)\n",
    "        e.sort(key=lambda v:v[2])\n",
    "        \n",
    "        def mst(a,ig):\n",
    "            def root(n):\n",
    "                if a[n]==n:\n",
    "                    return n\n",
    "                a[n]=root(a[n])\n",
    "                return a[n]\n",
    "            w=0\n",
    "            for vv in e:\n",
    "                if vv[3]==ig:\n",
    "                    continue\n",
    "                u,v=root(vv[0]),root(vv[1])\n",
    "                if u==v:\n",
    "                    continue\n",
    "                w+=vv[2]\n",
    "                a[u]=v\n",
    "            for i in range(n):\n",
    "                if root(i) != root(0):\n",
    "                    return 1<<30\n",
    "            return w\n",
    "        \n",
    "        self.ms=mst([k for k in range(n)],-1)\n",
    "        print(self.ms)\n",
    "        def cric():\n",
    "            ans=[]\n",
    "            for i in range(len(e)):\n",
    "                a=[j for j in range(n)]\n",
    "                v=mst(a,i)\n",
    "                if self.ms<v:\n",
    "                    # print(a,i,v)\n",
    "                    ans.append(i)\n",
    "            return ans\n",
    "        \n",
    "        def pcric():\n",
    "            ans=[]\n",
    "            for vv in e:\n",
    "                a=[j for j in range(n)]\n",
    "                a[vv[0]]=vv[1]\n",
    "                if self.ms==mst(a,vv[3])+vv[2]:\n",
    "                    ans.append(vv[3])\n",
    "            return ans\n",
    "        cr=cric()\n",
    "        pcr=pcric()\n",
    "        d={x for x in cr}\n",
    "        ppcr=[]\n",
    "        for x in pcr:\n",
    "            if x in d:\n",
    "                continue\n",
    "            ppcr.append(x)\n",
    "        return [cr,ppcr]\n",
    "\n",
    "solution = Solution()\n",
    "%time solution.findCriticalAndPseudoCriticalEdges(n, e)"
   ]
  },
  {
   "cell_type": "code",
   "execution_count": null,
   "id": "97959ed9",
   "metadata": {},
   "outputs": [],
   "source": []
  }
 ],
 "metadata": {
  "kernelspec": {
   "display_name": "Python 3 (ipykernel)",
   "language": "python",
   "name": "python3"
  },
  "language_info": {
   "codemirror_mode": {
    "name": "ipython",
    "version": 3
   },
   "file_extension": ".py",
   "mimetype": "text/x-python",
   "name": "python",
   "nbconvert_exporter": "python",
   "pygments_lexer": "ipython3",
   "version": "3.8.10"
  }
 },
 "nbformat": 4,
 "nbformat_minor": 5
}
