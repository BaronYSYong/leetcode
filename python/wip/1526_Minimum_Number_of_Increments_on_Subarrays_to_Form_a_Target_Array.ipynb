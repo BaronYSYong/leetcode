{
 "cells": [
  {
   "cell_type": "markdown",
   "id": "05c02c93",
   "metadata": {},
   "source": [
    "# 1526. Minimum Number of Increments on Subarrays to Form a Target Array\n",
    "\n",
    "Given an array of positive integers target and an array initial of same size with all zeros.\n",
    "\n",
    "Return the minimum number of operations to form a target array from initial if you are allowed to do the following operation:\n",
    "\n",
    "Choose any subarray from initial and increment each value by one.\n",
    "The answer is guaranteed to fit within the range of a 32-bit signed integer.\n",
    " \n",
    "\n",
    "Example 1:\n",
    "```\n",
    "Input: target = [1,2,3,2,1]\n",
    "Output: 3\n",
    "Explanation: We need at least 3 operations to form the target array from the initial array.\n",
    "[0,0,0,0,0] increment 1 from index 0 to 4 (inclusive).\n",
    "[1,1,1,1,1] increment 1 from index 1 to 3 (inclusive).\n",
    "[1,2,2,2,1] increment 1 at index 2.\n",
    "[1,2,3,2,1] target array is formed.\n",
    "```\n",
    "Example 2:\n",
    "```\n",
    "Input: target = [3,1,1,2]\n",
    "Output: 4\n",
    "Explanation: (initial)[0,0,0,0] -> [1,1,1,1] -> [1,1,1,2] -> [2,1,1,2] -> [3,1,1,2] (target).\n",
    "```\n",
    "Example 3:\n",
    "```\n",
    "Input: target = [3,1,5,4,2]\n",
    "Output: 7\n",
    "Explanation: (initial)[0,0,0,0,0] -> [1,1,1,1,1] -> [2,1,1,1,1] -> [3,1,1,1,1] \n",
    "                                  -> [3,1,2,2,2] -> [3,1,3,3,2] -> [3,1,4,4,2] -> [3,1,5,4,2] (target).\n",
    "```\n",
    "Example 4:\n",
    "```\n",
    "Input: target = [1,1,1,1]\n",
    "Output: 1\n",
    " ```\n",
    "\n",
    "Constraints:\n",
    "\n",
    "* 1 <= target.length <= 10^5\n",
    "* 1 <= target[i] <= 10^5"
   ]
  },
  {
   "cell_type": "code",
   "execution_count": 1,
   "id": "d1ee556d",
   "metadata": {},
   "outputs": [],
   "source": [
    "from typing import List"
   ]
  },
  {
   "cell_type": "code",
   "execution_count": 2,
   "id": "b4542c36",
   "metadata": {},
   "outputs": [],
   "source": [
    "# 3\n",
    "target = [1,2,3,2,1]\n",
    "# 4\n",
    "# target = [3,1,1,2]\n",
    "# 7\n",
    "# target = [3,1,5,4,2]"
   ]
  },
  {
   "cell_type": "code",
   "execution_count": 3,
   "id": "39a3df32",
   "metadata": {},
   "outputs": [
    {
     "name": "stdout",
     "output_type": "stream",
     "text": [
      "CPU times: user 5 µs, sys: 1 µs, total: 6 µs\n",
      "Wall time: 6.91 µs\n"
     ]
    },
    {
     "data": {
      "text/plain": [
       "3"
      ]
     },
     "execution_count": 3,
     "metadata": {},
     "output_type": "execute_result"
    }
   ],
   "source": [
    "# 2nd place, translate from C++\n",
    "class Solution:\n",
    "    def minNumberOperations(self, target: List[int]) -> int:\n",
    "        l = len(target)\n",
    "        ans = target[0]\n",
    "        for i in range(1,l):\n",
    "            ans += max(target[i] - target[i-1], 0)\n",
    "        return ans\n",
    "solution = Solution()\n",
    "%time solution.minNumberOperations(target)"
   ]
  },
  {
   "cell_type": "code",
   "execution_count": null,
   "id": "2e924acb",
   "metadata": {},
   "outputs": [],
   "source": []
  }
 ],
 "metadata": {
  "kernelspec": {
   "display_name": "Python 3 (ipykernel)",
   "language": "python",
   "name": "python3"
  },
  "language_info": {
   "codemirror_mode": {
    "name": "ipython",
    "version": 3
   },
   "file_extension": ".py",
   "mimetype": "text/x-python",
   "name": "python",
   "nbconvert_exporter": "python",
   "pygments_lexer": "ipython3",
   "version": "3.8.10"
  }
 },
 "nbformat": 4,
 "nbformat_minor": 5
}
