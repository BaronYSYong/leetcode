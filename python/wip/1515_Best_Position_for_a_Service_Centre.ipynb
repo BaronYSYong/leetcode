{
 "cells": [
  {
   "cell_type": "markdown",
   "id": "2ef913ad",
   "metadata": {},
   "source": [
    "# 1515. Best Position for a Service Centre\n",
    "\n",
    "A delivery company wants to build a new service centre in a new city. The company knows the positions of all the customers in this city on a 2D-Map and wants to build the new centre in a position such that the sum of the euclidean distances to all customers is minimum.\n",
    "\n",
    "Given an array positions where positions[i] = [xi, yi] is the position of the ith customer on the map, return the minimum sum of the euclidean distances to all customers.\n",
    "\n",
    "In other words, you need to choose the position of the service centre [xcentre, ycentre] such that the following formula is minimized:\n",
    "\n",
    "\n",
    "Answers within 10^-5 of the actual value will be accepted.\n",
    "\n",
    " \n",
    "\n",
    "Example 1:\n",
    "```\n",
    "Input: positions = [[0,1],[1,0],[1,2],[2,1]]\n",
    "Output: 4.00000\n",
    "Explanation: As shown, you can see that choosing [xcentre, ycentre] = [1, 1] will make the distance to each customer = 1, the sum of all distances is 4 which is the minimum possible we can achieve.\n",
    "```\n",
    "Example 2:\n",
    "```\n",
    "Input: positions = [[1,1],[3,3]]\n",
    "Output: 2.82843\n",
    "Explanation: The minimum possible sum of distances = sqrt(2) + sqrt(2) = 2.82843\n",
    "```\n",
    "Example 3:\n",
    "```\n",
    "Input: positions = [[1,1]]\n",
    "Output: 0.00000\n",
    "```\n",
    "Example 4:\n",
    "```\n",
    "Input: positions = [[1,1],[0,0],[2,0]]\n",
    "Output: 2.73205\n",
    "Explanation: At the first glance, you may think that locating the centre at [1, 0] will achieve the minimum sum, but locating it at [1, 0] will make the sum of distances = 3.\n",
    "Try to locate the centre at [1.0, 0.5773502711] you will see that the sum of distances is 2.73205.\n",
    "Be careful with the precision!\n",
    "```\n",
    "Example 5:\n",
    "```\n",
    "Input: positions = [[0,1],[3,2],[4,5],[7,6],[8,9],[11,1],[2,12]]\n",
    "Output: 32.94036\n",
    "Explanation: You can use [4.3460852395, 4.9813795505] as the position of the centre.\n",
    "```\n",
    "\n",
    "Constraints:\n",
    "\n",
    "* 1 <= positions.length <= 50\n",
    "* positions[i].length == 2\n",
    "* 0 <= positions[i][0], positions[i][1] <= 100"
   ]
  },
  {
   "cell_type": "markdown",
   "id": "8c71e138",
   "metadata": {},
   "source": [
    "## Reference\n",
    "* Geometry Median\n",
    "  * https://www.geeksforgeeks.org/geometric-median/\n",
    "  * https://en.wikipedia.org/wiki/Geometric_median"
   ]
  },
  {
   "cell_type": "code",
   "execution_count": 1,
   "id": "368de83e",
   "metadata": {},
   "outputs": [],
   "source": [
    "from typing import List"
   ]
  },
  {
   "cell_type": "code",
   "execution_count": 2,
   "id": "8a64fdd2",
   "metadata": {},
   "outputs": [],
   "source": [
    "# positions = [[0,1],[1,0],[1,2],[2,1]]\n",
    "# positions = [[1,1],[3,3]]\n",
    "# positions = [[1,1]]\n",
    "# positions = [[1,1],[0,0],[2,0]]\n",
    "positions = [[0,1],[3,2],[4,5],[7,6],[8,9],[11,1],[2,12]]"
   ]
  },
  {
   "cell_type": "code",
   "execution_count": 3,
   "id": "3a259364",
   "metadata": {},
   "outputs": [
    {
     "name": "stdout",
     "output_type": "stream",
     "text": [
      "35 36\n",
      "5.0 5.142857142857143\n"
     ]
    },
    {
     "data": {
      "text/plain": [
       "33.06712961675006"
      ]
     },
     "execution_count": 3,
     "metadata": {},
     "output_type": "execute_result"
    }
   ],
   "source": [
    "n = len(positions)\n",
    "cx= 0\n",
    "cy = 0\n",
    "\n",
    "for p in positions:\n",
    "    cx += p[0]\n",
    "    cy += p[1]\n",
    "\n",
    "print(cx, cy)\n",
    "cx = cx/n\n",
    "cy = cy/n\n",
    "\n",
    "# cx, cy = 4.3460852395, 4.9813795505\n",
    "print(cx, cy)\n",
    "\n",
    "distance = 0\n",
    "for p in positions:\n",
    "    distance += ((p[0]-cx)**2 + (p[1]-cy)**2)**0.5\n",
    "distance"
   ]
  },
  {
   "cell_type": "code",
   "execution_count": 4,
   "id": "711613c5",
   "metadata": {},
   "outputs": [
    {
     "name": "stdout",
     "output_type": "stream",
     "text": [
      "CPU times: user 2.04 ms, sys: 9.84 ms, total: 11.9 ms\n",
      "Wall time: 2.87 ms\n"
     ]
    },
    {
     "data": {
      "text/plain": [
       "32.94036202691759"
      ]
     },
     "execution_count": 4,
     "metadata": {},
     "output_type": "execute_result"
    }
   ],
   "source": [
    "# 12th answer\n",
    "import numpy as np\n",
    "from scipy.optimize import minimize\n",
    "class Solution:\n",
    "    def getMinDistSum(self, positions: List[List[int]]) -> float:\n",
    "        x0 = sum([x for x, y in positions]) / len(positions)\n",
    "        y0 = sum([y for x, y in positions]) / len(positions)\n",
    "        \n",
    "        def getCost(pt):\n",
    "            avgX, avgY = pt\n",
    "            cost = 0\n",
    "            for x, y in positions:\n",
    "                cost += ((x - avgX) ** 2 + (y - avgY) ** 2) ** 0.5\n",
    "            return cost\n",
    "        res = minimize(getCost, [x0, y0])\n",
    "        return res.fun\n",
    "    \n",
    "s = Solution()\n",
    "%time s.getMinDistSum(positions)"
   ]
  },
  {
   "cell_type": "code",
   "execution_count": null,
   "id": "42fbe1c4",
   "metadata": {},
   "outputs": [],
   "source": []
  }
 ],
 "metadata": {
  "kernelspec": {
   "display_name": "Python 3 (ipykernel)",
   "language": "python",
   "name": "python3"
  },
  "language_info": {
   "codemirror_mode": {
    "name": "ipython",
    "version": 3
   },
   "file_extension": ".py",
   "mimetype": "text/x-python",
   "name": "python",
   "nbconvert_exporter": "python",
   "pygments_lexer": "ipython3",
   "version": "3.8.10"
  }
 },
 "nbformat": 4,
 "nbformat_minor": 5
}
