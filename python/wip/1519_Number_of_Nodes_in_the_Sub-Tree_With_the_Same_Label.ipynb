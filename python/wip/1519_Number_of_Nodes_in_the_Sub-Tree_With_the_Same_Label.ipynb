{
 "cells": [
  {
   "cell_type": "markdown",
   "id": "291dc174",
   "metadata": {},
   "source": [
    "# 1519. Number of Nodes in the Sub-Tree With the Same Label\n",
    "\n",
    "Given a tree (i.e. a connected, undirected graph that has no cycles) consisting of n nodes numbered from 0 to n - 1 and exactly n - 1 edges. The root of the tree is the node 0, and each node of the tree has a label which is a lower-case character given in the string labels (i.e. The node with the number i has the label labels[i]).\n",
    "\n",
    "The edges array is given on the form edges[i] = [ai, bi], which means there is an edge between nodes ai and bi in the tree.\n",
    "\n",
    "Return an array of size n where ans[i] is the number of nodes in the subtree of the ith node which have the same label as node i.\n",
    "\n",
    "A subtree of a tree T is the tree consisting of a node in T and all of its descendant nodes.\n",
    "\n",
    "Example 1:\n",
    "```\n",
    "Input: n = 7, edges = [[0,1],[0,2],[1,4],[1,5],[2,3],[2,6]], labels = \"abaedcd\"\n",
    "Output: [2,1,1,1,1,1,1]\n",
    "Explanation: Node 0 has label 'a' and its sub-tree has node 2 with label 'a' as well, thus the answer is 2. Notice that any node is part of its sub-tree.\n",
    "Node 1 has a label 'b'. The sub-tree of node 1 contains nodes 1,4 and 5, as nodes 4 and 5 have different labels than node 1, the answer is just 1 (the node itself).\n",
    "```\n",
    "Example 2:\n",
    "```\n",
    "Input: n = 4, edges = [[0,1],[1,2],[0,3]], labels = \"bbbb\"\n",
    "Output: [4,2,1,1]\n",
    "Explanation: The sub-tree of node 2 contains only node 2, so the answer is 1.\n",
    "The sub-tree of node 3 contains only node 3, so the answer is 1.\n",
    "The sub-tree of node 1 contains nodes 1 and 2, both have label 'b', thus the answer is 2.\n",
    "The sub-tree of node 0 contains nodes 0, 1, 2 and 3, all with label 'b', thus the answer is 4.\n",
    "```\n",
    "Example 3:\n",
    "```\n",
    "Input: n = 5, edges = [[0,1],[0,2],[1,3],[0,4]], labels = \"aabab\"\n",
    "Output: [3,2,1,1,1]\n",
    "```\n",
    "Example 4:\n",
    "```\n",
    "Input: n = 6, edges = [[0,1],[0,2],[1,3],[3,4],[4,5]], labels = \"cbabaa\"\n",
    "Output: [1,2,1,1,2,1]\n",
    "```\n",
    "Example 5:\n",
    "```\n",
    "Input: n = 7, edges = [[0,1],[1,2],[2,3],[3,4],[4,5],[5,6]], labels = \"aaabaaa\"\n",
    "Output: [6,5,4,1,3,2,1]\n",
    "```\n",
    "\n",
    "Constraints:\n",
    "\n",
    "* 1 <= n <= 10^5\n",
    "* edges.length == n - 1\n",
    "* edges[i].length == 2\n",
    "* 0 <= ai, bi < n\n",
    "* ai != bi\n",
    "* labels.length == n\n",
    "* labels is consisting of only of lower-case English letters."
   ]
  },
  {
   "cell_type": "code",
   "execution_count": 1,
   "id": "c238c318",
   "metadata": {},
   "outputs": [],
   "source": [
    "from typing import List"
   ]
  },
  {
   "cell_type": "code",
   "execution_count": 2,
   "id": "2d9d47e7",
   "metadata": {},
   "outputs": [],
   "source": [
    "# n = 7; edges = [[0,1],[0,2],[1,4],[1,5],[2,3],[2,6]]; labels = \"abaedcd\"\n",
    "# n = 4; edges = [[0,1],[1,2],[0,3]]; labels = \"bbbb\"\n",
    "# n = 5; edges = [[0,1],[0,2],[1,3],[0,4]]; labels = \"aabab\"\n",
    "# n = 6; edges = [[0,1],[0,2],[1,3],[3,4],[4,5]]; labels = \"cbabaa\"\n",
    "# n = 7; edges = [[0,1],[1,2],[2,3],[3,4],[4,5],[5,6]]; labels = \"aaabaaa\"\n",
    "# [1,1,2,1]\n",
    "# n = 4; edges = [[0,2],[0,3],[1,2]]; labels = \"aeed\"\n",
    "# [2,2,1,1,1,3,2,1,1,1,1,1,1,1,1,1,1,1,1,2,1,1,1,1,1]\n",
    "n = 25\n",
    "edges = [[4,0],[5,4],[12,5],[3,12],[18,3],[10,18],[8,5],[16,8],[14,16],[13,16],[9,13],[22,9],[2,5],[6,2],[1,6],[11,1],[15,11],[20,11],[7,20],[19,1],[17,19],[23,19],[24,2],[21,24]]\n",
    "labels = \"hcheiavadwjctaortvpsflssg\""
   ]
  },
  {
   "cell_type": "code",
   "execution_count": 3,
   "id": "73d37745",
   "metadata": {},
   "outputs": [
    {
     "name": "stdout",
     "output_type": "stream",
     "text": [
      "CPU times: user 132 µs, sys: 11 µs, total: 143 µs\n",
      "Wall time: 149 µs\n"
     ]
    },
    {
     "data": {
      "text/plain": [
       "[1, 2, 1, 1, 1, 3, 2, 1, 1, 1, 1, 1, 2, 1, 1, 1, 1, 1, 1, 2, 1, 1, 1, 1, 1]"
      ]
     },
     "execution_count": 3,
     "metadata": {},
     "output_type": "execute_result"
    }
   ],
   "source": [
    "# my answer, wrong answer\n",
    "class Solution:\n",
    "    def countSubTrees(self, n: int, edges: List[List[int]], labels: str) -> List[int]:\n",
    "        self.nodes = [[] for _ in range(n)]\n",
    "        visit = [0] * n\n",
    "        self.labels = labels\n",
    "        for e in edges:\n",
    "            if visit[e[1]] > 0:\n",
    "                self.nodes[e[1]].append(e[0])\n",
    "                visit[e[0]] += 1\n",
    "            else:\n",
    "                self.nodes[e[0]].append(e[1])\n",
    "                visit[e[1]] += 1\n",
    "        self.same_label = [1] * n\n",
    "        for i in range(len(labels)):\n",
    "            self.dfs(i, i)\n",
    "        \n",
    "        return self.same_label\n",
    "\n",
    "    def dfs(self, r, i):\n",
    "        for n in self.nodes[i]:\n",
    "            if self.labels[r] == self.labels[n]:\n",
    "                self.same_label[r] += 1\n",
    "            self.dfs(r, n)\n",
    "\n",
    "solution = Solution()\n",
    "%time solution.countSubTrees(n, edges, labels)"
   ]
  },
  {
   "cell_type": "code",
   "execution_count": 4,
   "id": "c4dbb5dc",
   "metadata": {},
   "outputs": [
    {
     "name": "stdout",
     "output_type": "stream",
     "text": [
      "CPU times: user 167 µs, sys: 13 µs, total: 180 µs\n",
      "Wall time: 183 µs\n"
     ]
    },
    {
     "data": {
      "text/plain": [
       "[2, 2, 1, 1, 1, 3, 2, 1, 1, 1, 1, 1, 1, 1, 1, 1, 1, 1, 1, 2, 1, 1, 1, 1, 1]"
      ]
     },
     "execution_count": 4,
     "metadata": {},
     "output_type": "execute_result"
    }
   ],
   "source": [
    "# 8th\n",
    "class Solution:\n",
    "    def countSubTrees(self, n: int, edges: List[List[int]], labels: str) -> List[int]:\n",
    "        adj = {i:[] for i in range(n)}\n",
    "        for u,v in edges:\n",
    "            adj[u].append(v)\n",
    "            adj[v].append(u)\n",
    "        cur = 0\n",
    "        seen = set()\n",
    "        ctrs = {i:[0 for _ in range(26)] for i in range(n)}\n",
    "        value = lambda c : ord(c) - 97\n",
    "        def dfs(cur, seen):\n",
    "            seen.add(cur)\n",
    "            label = labels[cur]\n",
    "            ctrs[cur][value(label)] += 1\n",
    "            for child in adj[cur]:\n",
    "                if child in seen:\n",
    "                    continue\n",
    "                dfs(child, seen)\n",
    "                for i in range(26):\n",
    "                    ctrs[cur][i] += ctrs[child][i]\n",
    "        dfs(0,seen)\n",
    "        return [ctrs[i][value(label)] for i,label in enumerate(labels)]\n",
    "    \n",
    "solution = Solution()\n",
    "%time solution.countSubTrees(n, edges, labels)  "
   ]
  },
  {
   "cell_type": "code",
   "execution_count": null,
   "id": "012dcc67",
   "metadata": {},
   "outputs": [],
   "source": []
  }
 ],
 "metadata": {
  "kernelspec": {
   "display_name": "Python 3 (ipykernel)",
   "language": "python",
   "name": "python3"
  },
  "language_info": {
   "codemirror_mode": {
    "name": "ipython",
    "version": 3
   },
   "file_extension": ".py",
   "mimetype": "text/x-python",
   "name": "python",
   "nbconvert_exporter": "python",
   "pygments_lexer": "ipython3",
   "version": "3.8.10"
  }
 },
 "nbformat": 4,
 "nbformat_minor": 5
}
