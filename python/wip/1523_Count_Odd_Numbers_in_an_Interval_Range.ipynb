{
 "cells": [
  {
   "cell_type": "code",
   "execution_count": 1,
   "id": "57fb55e8",
   "metadata": {},
   "outputs": [],
   "source": [
    "# 3\n",
    "# low = 3; high = 7\n",
    "# 1\n",
    "# low = 8; high = 10\n",
    "# 89492370\n",
    "# low = 800445804; high = 979430543\n",
    "# 1\n",
    "# low = 21; high = 22\n",
    "# low = 3; high = 8"
   ]
  },
  {
   "cell_type": "code",
   "execution_count": 2,
   "id": "469153ef",
   "metadata": {},
   "outputs": [],
   "source": [
    "class Solution:\n",
    "    def countOdds(self, low: int, high: int) -> int:\n",
    "        if low%2 == 0:\n",
    "            low += 1\n",
    "\n",
    "        return ((high-low)//2) + 1"
   ]
  },
  {
   "cell_type": "code",
   "execution_count": null,
   "id": "fea2ca14",
   "metadata": {},
   "outputs": [],
   "source": []
  }
 ],
 "metadata": {
  "kernelspec": {
   "display_name": "Python 3 (ipykernel)",
   "language": "python",
   "name": "python3"
  },
  "language_info": {
   "codemirror_mode": {
    "name": "ipython",
    "version": 3
   },
   "file_extension": ".py",
   "mimetype": "text/x-python",
   "name": "python",
   "nbconvert_exporter": "python",
   "pygments_lexer": "ipython3",
   "version": "3.8.10"
  }
 },
 "nbformat": 4,
 "nbformat_minor": 5
}
