{
 "cells": [
  {
   "cell_type": "markdown",
   "id": "3af6b8d5",
   "metadata": {},
   "source": [
    "# 402. Remove K Digits\n",
    "Given a non-negative integer num represented as a string, remove k digits from the number so that the new number is the smallest possible.\n",
    "\n",
    "Note:\n",
    "The length of num is less than 10002 and will be ≥ k.\n",
    "The given num does not contain any leading zero.\n",
    "Example 1:\n",
    "```\n",
    "Input: num = \"1432219\", k = 3\n",
    "Output: \"1219\"\n",
    "Explanation: Remove the three digits 4, 3, and 2 to form the new number 1219 which is the smallest.\n",
    "```\n",
    "Example 2:\n",
    "```\n",
    "Input: num = \"10200\", k = 1\n",
    "Output: \"200\"\n",
    "Explanation: Remove the leading 1 and the number is 200. Note that the output must not contain leading zeroes.\n",
    "```\n",
    "Example 3:\n",
    "```\n",
    "Input: num = \"10\", k = 2\n",
    "Output: \"0\"\n",
    "Explanation: Remove all the digits from the number and it is left with nothing which is 0.\n",
    "```"
   ]
  },
  {
   "cell_type": "code",
   "execution_count": 1,
   "id": "ba90d439",
   "metadata": {},
   "outputs": [],
   "source": [
    "num = \"111111\"\n",
    "k = 3"
   ]
  },
  {
   "cell_type": "code",
   "execution_count": 2,
   "id": "b4f613f9",
   "metadata": {},
   "outputs": [
    {
     "name": "stdout",
     "output_type": "stream",
     "text": [
      "CPU times: user 6 µs, sys: 1 µs, total: 7 µs\n",
      "Wall time: 9.06 µs\n"
     ]
    },
    {
     "data": {
      "text/plain": [
       "'111'"
      ]
     },
     "execution_count": 2,
     "metadata": {},
     "output_type": "execute_result"
    }
   ],
   "source": [
    "def removeKdigits(num: str, k: int) -> str:\n",
    "    if len(num) == k or len(num) == 1:\n",
    "        return '0'\n",
    "\n",
    "    i = 1\n",
    "    while True:\n",
    "        if len(num) == i:\n",
    "            return num[k:]\n",
    "        if int(num[i]) == int(num[i-1]):\n",
    "            i += 1\n",
    "            continue\n",
    "        if int(num[i]) > int(num[i-1]):\n",
    "            num = num[0:i]+num[i+1:]\n",
    "        else:\n",
    "            num = num[i:]\n",
    "        k -= 1\n",
    "        if k == 0:\n",
    "            break\n",
    "    return str(int(num))\n",
    "\n",
    "%time removeKdigits(num, k)"
   ]
  },
  {
   "cell_type": "code",
   "execution_count": null,
   "id": "196b5ae0",
   "metadata": {},
   "outputs": [],
   "source": []
  }
 ],
 "metadata": {
  "kernelspec": {
   "display_name": "Python 3 (ipykernel)",
   "language": "python",
   "name": "python3"
  },
  "language_info": {
   "codemirror_mode": {
    "name": "ipython",
    "version": 3
   },
   "file_extension": ".py",
   "mimetype": "text/x-python",
   "name": "python",
   "nbconvert_exporter": "python",
   "pygments_lexer": "ipython3",
   "version": "3.8.10"
  }
 },
 "nbformat": 4,
 "nbformat_minor": 5
}
