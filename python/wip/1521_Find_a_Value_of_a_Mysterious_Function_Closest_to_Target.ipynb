{
 "cells": [
  {
   "cell_type": "markdown",
   "id": "a32b7c06",
   "metadata": {},
   "source": [
    "# 1521. Find a Value of a Mysterious Function Closest to Target\n",
    "\n",
    "Winston was given the above mysterious function func. He has an integer array arr and an integer target and he wants to find the values l and r that make the value |func(arr, l, r) - target| minimum possible.\n",
    "\n",
    "Return the minimum possible value of |func(arr, l, r) - target|.\n",
    "\n",
    "Notice that func should be called with the values l and r where 0 <= l, r < arr.length.\n",
    "\n",
    "Example 1:\n",
    "```\n",
    "Input: arr = [9,12,3,7,15], target = 5\n",
    "Output: 2\n",
    "Explanation: Calling func with all the pairs of [l,r] = [[0,0],[1,1],[2,2],[3,3],[4,4],[0,1],[1,2],[2,3],[3,4],[0,2],[1,3],[2,4],[0,3],[1,4],[0,4]], Winston got the following results [9,12,3,7,15,8,0,3,7,0,0,3,0,0,0]. The value closest to 5 is 7 and 3, thus the minimum difference is 2.\n",
    "```\n",
    "Example 2:\n",
    "```\n",
    "Input: arr = [1000000,1000000,1000000], target = 1\n",
    "Output: 999999\n",
    "Explanation: Winston called the func with all possible values of [l,r] and he always got 1000000, thus the min difference is 999999.\n",
    "```\n",
    "Example 3:\n",
    "```\n",
    "Input: arr = [1,2,4,8,16], target = 0\n",
    "Output: 0\n",
    "```\n",
    "\n",
    "Constraints:\n",
    "\n",
    "* 1 <= arr.length <= 10^5\n",
    "* 1 <= arr[i] <= 10^6\n",
    "* 0 <= target <= 10^7"
   ]
  },
  {
   "cell_type": "code",
   "execution_count": 1,
   "id": "afb311fd",
   "metadata": {},
   "outputs": [],
   "source": [
    "from typing import List"
   ]
  },
  {
   "cell_type": "code",
   "execution_count": 2,
   "id": "24a1ba96",
   "metadata": {},
   "outputs": [],
   "source": [
    "# arr = [9,12,3,7,15]; target = 5\n",
    "# arr = [1000000,1000000,1000000]; target = 1\n",
    "arr = [1,2,4,8,16]; target = 0"
   ]
  },
  {
   "cell_type": "code",
   "execution_count": 3,
   "id": "7f9d3a08",
   "metadata": {},
   "outputs": [],
   "source": [
    "def func(arr, l, r):\n",
    "    if (r < l):\n",
    "        return -1000000000\n",
    "    ans = arr[l]\n",
    "    for i in range(l+1, r):\n",
    "        ans  = ans and arr[i]\n",
    "    return ans"
   ]
  },
  {
   "cell_type": "code",
   "execution_count": 4,
   "id": "02bae521",
   "metadata": {},
   "outputs": [
    {
     "name": "stdout",
     "output_type": "stream",
     "text": [
      "[1, 1, 2, 4, 8, 2, 2, 4, 8, 4, 4, 8, 8, 8, 16]\n"
     ]
    },
    {
     "data": {
      "text/plain": [
       "1"
      ]
     },
     "execution_count": 4,
     "metadata": {},
     "output_type": "execute_result"
    }
   ],
   "source": [
    "s = len(arr)\n",
    "\n",
    "a = []\n",
    "for i in range(s):\n",
    "    for j in range(i, s):\n",
    "        a.append(func(arr, i, j))\n",
    "\n",
    "print(a)\n",
    "min_a = 10000000000\n",
    "\n",
    "for i in a:\n",
    "    min_a = min(min_a, abs(i-target))\n",
    "min_a"
   ]
  },
  {
   "cell_type": "code",
   "execution_count": 5,
   "id": "0aba64c9",
   "metadata": {},
   "outputs": [
    {
     "name": "stdout",
     "output_type": "stream",
     "text": [
      "CPU times: user 15 µs, sys: 2 µs, total: 17 µs\n",
      "Wall time: 19.3 µs\n"
     ]
    },
    {
     "data": {
      "text/plain": [
       "0"
      ]
     },
     "execution_count": 5,
     "metadata": {},
     "output_type": "execute_result"
    }
   ],
   "source": [
    "# 8th\n",
    "class Solution:\n",
    "    def closestToTarget(self, arr: List[int], target: int) -> int:\n",
    "        if target in arr:\n",
    "            return 0\n",
    "        old_arr = arr\n",
    "        arr = [old_arr[0]]\n",
    "        for i in range(1,len(old_arr)):\n",
    "            if old_arr[i] != arr[-1]:\n",
    "                arr.append(old_arr[i])\n",
    "        best = abs(target - arr[0]) \n",
    "        for i in range(len(arr)):\n",
    "            cur = arr[i]\n",
    "            best = min(best, abs(target - cur))\n",
    "            for j in range(i+1,len(arr)):\n",
    "                cur &= arr[j]\n",
    "                best = min(best, abs(target - cur))\n",
    "                if cur < target:\n",
    "                    break\n",
    "        return best\n",
    "    \n",
    "s = Solution()\n",
    "%time s.closestToTarget(arr, target)"
   ]
  },
  {
   "cell_type": "code",
   "execution_count": null,
   "id": "9a85cf07",
   "metadata": {},
   "outputs": [],
   "source": []
  }
 ],
 "metadata": {
  "kernelspec": {
   "display_name": "Python 3 (ipykernel)",
   "language": "python",
   "name": "python3"
  },
  "language_info": {
   "codemirror_mode": {
    "name": "ipython",
    "version": 3
   },
   "file_extension": ".py",
   "mimetype": "text/x-python",
   "name": "python",
   "nbconvert_exporter": "python",
   "pygments_lexer": "ipython3",
   "version": "3.8.10"
  }
 },
 "nbformat": 4,
 "nbformat_minor": 5
}
