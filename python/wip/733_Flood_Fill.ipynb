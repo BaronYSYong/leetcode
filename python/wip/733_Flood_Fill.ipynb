{
 "cells": [
  {
   "cell_type": "markdown",
   "id": "8828f508",
   "metadata": {},
   "source": [
    "# 733. Flood Fill\n",
    "An image is represented by a 2-D array of integers, each integer representing the pixel value of the image (from 0 to 65535).\n",
    "\n",
    "Given a coordinate (sr, sc) representing the starting pixel (row and column) of the flood fill, and a pixel value newColor, \"flood fill\" the image.\n",
    "\n",
    "To perform a \"flood fill\", consider the starting pixel, plus any pixels connected 4-directionally to the starting pixel of the same color as the starting pixel, plus any pixels connected 4-directionally to those pixels (also with the same color as the starting pixel), and so on. Replace the color of all of the aforementioned pixels with the newColor.\n",
    "\n",
    "At the end, return the modified image.\n",
    "\n",
    "Example 1:\n",
    "```\n",
    "Input: \n",
    "image = [[1,1,1],[1,1,0],[1,0,1]]\n",
    "sr = 1, sc = 1, newColor = 2\n",
    "Output: [[2,2,2],[2,2,0],[2,0,1]]\n",
    "Explanation: \n",
    "From the center of the image (with position (sr, sc) = (1, 1)), all pixels connected \n",
    "by a path of the same color as the starting pixel are colored with the new color.\n",
    "Note the bottom corner is not colored 2, because it is not 4-directionally connected\n",
    "to the starting pixel.\n",
    "```\n",
    "Note:\n",
    "\n",
    "* The length of image and image[0] will be in the range [1, 50].\n",
    "* The given starting pixel will satisfy 0 <= sr < image.length and 0 <= sc < image[0].length.\n",
    "* The value of each color in image[i][j] and newColor will be an integer in [0, 65535]."
   ]
  },
  {
   "cell_type": "code",
   "execution_count": 1,
   "id": "a862dfdd",
   "metadata": {},
   "outputs": [],
   "source": [
    "image = [[1,1,1],[1,1,0],[1,0,1]]\n",
    "sr = 1\n",
    "sc = 1\n",
    "newColor = 2"
   ]
  },
  {
   "cell_type": "code",
   "execution_count": 2,
   "id": "b221f047",
   "metadata": {},
   "outputs": [],
   "source": [
    "# def floodFill(image: List[List[int]], sr: int, sc: int, newColor: int) -> List[List[int]]:\n",
    "#     print(sr, sc, image)\n",
    "#     if 0 <= sr < len(image) and 0 <= sc < len(image[0]) and image[sr][sc] == 1:\n",
    "#         image[sr][sc] = newColor\n",
    "#         image = floodFill(image, sr-1, sc, newColor)\n",
    "#         image = floodFill(image, sr, sc-1, newColor)\n",
    "#         image = floodFill(image, sr+1, sc, newColor)\n",
    "#         image = floodFill(image, sr, sc+1, newColor)\n",
    "#     else:\n",
    "#         return image\n",
    "\n",
    "# %time floodFill(image, sr, sc, newColor)"
   ]
  },
  {
   "cell_type": "code",
   "execution_count": null,
   "id": "8cb11f50",
   "metadata": {},
   "outputs": [],
   "source": []
  }
 ],
 "metadata": {
  "kernelspec": {
   "display_name": "Python 3 (ipykernel)",
   "language": "python",
   "name": "python3"
  },
  "language_info": {
   "codemirror_mode": {
    "name": "ipython",
    "version": 3
   },
   "file_extension": ".py",
   "mimetype": "text/x-python",
   "name": "python",
   "nbconvert_exporter": "python",
   "pygments_lexer": "ipython3",
   "version": "3.8.10"
  }
 },
 "nbformat": 4,
 "nbformat_minor": 5
}
