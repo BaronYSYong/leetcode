{
 "cells": [
  {
   "cell_type": "markdown",
   "id": "f66cd2df",
   "metadata": {},
   "source": [
    "# 1514. Path with Maximum Probability\n",
    "\n",
    "You are given an undirected weighted graph of n nodes (0-indexed), represented by an edge list where edges[i] = [a, b] is an undirected edge connecting the nodes a and b with a probability of success of traversing that edge succProb[i].\n",
    "\n",
    "Given two nodes start and end, find the path with the maximum probability of success to go from start to end and return its success probability.\n",
    "\n",
    "If there is no path from start to end, return 0. Your answer will be accepted if it differs from the correct answer by at most 1e-5.\n",
    "\n",
    " \n",
    "\n",
    "Example 1:\n",
    "```\n",
    "Input: n = 3, edges = [[0,1],[1,2],[0,2]], succProb = [0.5,0.5,0.2], start = 0, end = 2\n",
    "Output: 0.25000\n",
    "Explanation: There are two paths from start to end, one having a probability of success = 0.2 and the other has 0.5 * 0.5 = 0.25.\n",
    "```\n",
    "Example 2:\n",
    "```\n",
    "Input: n = 3, edges = [[0,1],[1,2],[0,2]], succProb = [0.5,0.5,0.3], start = 0, end = 2\n",
    "Output: 0.30000\n",
    "```\n",
    "Example 3:\n",
    "```\n",
    "Input: n = 3, edges = [[0,1]], succProb = [0.5], start = 0, end = 2\n",
    "Output: 0.00000\n",
    "Explanation: There is no path between 0 and 2.\n",
    "```\n",
    "\n",
    "Constraints:\n",
    "\n",
    "* 2 <= n <= 10^4\n",
    "* 0 <= start, end < n\n",
    "* start != end\n",
    "* 0 <= a, b < n\n",
    "* a != b\n",
    "* 0 <= succProb.length == edges.length <= 2*10^4\n",
    "* 0 <= succProb[i] <= 1\n",
    "* There is at most one edge between every two nodes.\n"
   ]
  },
  {
   "cell_type": "markdown",
   "id": "b548d3b0",
   "metadata": {},
   "source": [
    "## Reference\n",
    "* [Dijkstra's algorithm](https://en.wikipedia.org/wiki/Dijkstra%27s_algorithm)"
   ]
  },
  {
   "cell_type": "code",
   "execution_count": 1,
   "id": "d8331121",
   "metadata": {},
   "outputs": [],
   "source": [
    "from typing import List"
   ]
  },
  {
   "cell_type": "code",
   "execution_count": 2,
   "id": "e09fd048",
   "metadata": {},
   "outputs": [],
   "source": [
    "n = 3; edges = [[0,1],[1,2],[0,2]]; succProb = [0.5,0.5,0.2]; start = 0; end = 2"
   ]
  },
  {
   "cell_type": "code",
   "execution_count": 3,
   "id": "f066b907",
   "metadata": {},
   "outputs": [],
   "source": [
    "# path = {}\n",
    "\n",
    "# for i in range(len(edges)):\n",
    "#     if edges[i][0] not in path:\n",
    "#         path[edges[i][0]] = [(path[edges[i][1]], succProb[i])]\n",
    "#     else:\n",
    "#         path[edges[i][0]].append((path[edges[i][1]], succProb[i]))\n",
    "# path"
   ]
  },
  {
   "cell_type": "code",
   "execution_count": 4,
   "id": "d6312bb6",
   "metadata": {},
   "outputs": [],
   "source": [
    "# 12th answer\n",
    "import math\n",
    "\n",
    "def dijkstra(source, getNbr, isDest=None):\n",
    "    dest = None\n",
    "    dist = {}\n",
    "    queue = []\n",
    "    heappush(queue, (0, source))\n",
    "    while queue:\n",
    "        # Grab current shortest that isn't finalized yet\n",
    "        minDist, minNode = heappop(queue)\n",
    "        if minNode in dist:\n",
    "            # Finalized with something shorter before, continue\n",
    "            assert dist[minNode] <= minDist\n",
    "            continue\n",
    "        # Finalize the current shortest\n",
    "        dist[minNode] = minDist\n",
    "        # Check if it's already at the destination\n",
    "        if isDest and isDest(minNode):\n",
    "            dest = minNode\n",
    "            break\n",
    "        # Add all neighbors that still needs to be processed\n",
    "        for nbr, weight in getNbr(minNode):\n",
    "            if nbr not in dist:\n",
    "                heappush(queue, (minDist + weight, nbr))\n",
    "            else:\n",
    "                assert minDist + weight >= dist[nbr]\n",
    "    return dist, dest\n",
    "\n",
    "class Solution:\n",
    "    def maxProbability(self, n: int, edges: List[List[int]], succProb: List[float], start: int, end: int) -> float:\n",
    "        \n",
    "        g = defaultdict(lambda: defaultdict(float))\n",
    "        for (u, v), w in zip(edges, succProb):\n",
    "            g[u][v] = -math.log(w)\n",
    "            g[v][u] = -math.log(w)\n",
    "        def getNbr(u):\n",
    "            ret = []\n",
    "            for v, w in g[u].items():\n",
    "                ret.append((v, w))\n",
    "            #print('nbr of u', u, ret)\n",
    "            return ret\n",
    "        def isDest(u):\n",
    "            return u == end\n",
    "        dist, dest = dijkstra(start, getNbr, isDest)\n",
    "        if dest not in dist:\n",
    "            return 0.0\n",
    "        return math.e ** -dist[dest]\n",
    "        "
   ]
  },
  {
   "cell_type": "code",
   "execution_count": null,
   "id": "4ecbcc2f",
   "metadata": {},
   "outputs": [],
   "source": []
  }
 ],
 "metadata": {
  "kernelspec": {
   "display_name": "Python 3 (ipykernel)",
   "language": "python",
   "name": "python3"
  },
  "language_info": {
   "codemirror_mode": {
    "name": "ipython",
    "version": 3
   },
   "file_extension": ".py",
   "mimetype": "text/x-python",
   "name": "python",
   "nbconvert_exporter": "python",
   "pygments_lexer": "ipython3",
   "version": "3.8.10"
  }
 },
 "nbformat": 4,
 "nbformat_minor": 5
}
