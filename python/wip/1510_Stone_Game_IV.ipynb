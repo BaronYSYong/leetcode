{
 "cells": [
  {
   "cell_type": "markdown",
   "id": "689df9a8",
   "metadata": {},
   "source": [
    "# 1510. Stone Game IV\n",
    "\n",
    "Alice and Bob take turns playing a game, with Alice starting first.\n",
    "\n",
    "Initially, there are n stones in a pile.  On each player's turn, that player makes a move consisting of removing any non-zero square number of stones in the pile.\n",
    "\n",
    "Also, if a player cannot make a move, he/she loses the game.\n",
    "\n",
    "Given a positive integer n. Return True if and only if Alice wins the game otherwise return False, assuming both players play optimally.\n",
    "\n",
    " \n",
    "\n",
    "Example 1:\n",
    "```\n",
    "Input: n = 1\n",
    "Output: true\n",
    "Explanation: Alice can remove 1 stone winning the game because Bob doesn't have any moves.\n",
    "```\n",
    "Example 2:\n",
    "```\n",
    "Input: n = 2\n",
    "Output: false\n",
    "Explanation: Alice can only remove 1 stone, after that Bob removes the last one winning the game (2 -> 1 -> 0).\n",
    "```\n",
    "Example 3:\n",
    "```\n",
    "Input: n = 4\n",
    "Output: true\n",
    "Explanation: n is already a perfect square, Alice can win with one move, removing 4 stones (4 -> 0).\n",
    "```\n",
    "Example 4:\n",
    "```\n",
    "Input: n = 7\n",
    "Output: false\n",
    "Explanation: Alice can't win the game if Bob plays optimally.\n",
    "If Alice starts removing 4 stones, Bob will remove 1 stone then Alice should remove only 1 stone and finally Bob removes the last one (7 -> 3 -> 2 -> 1 -> 0). \n",
    "If Alice starts removing 1 stone, Bob will remove 4 stones then Alice only can remove 1 stone and finally Bob removes the last one (7 -> 6 -> 2 -> 1 -> 0).\n",
    "```\n",
    "Example 5:\n",
    "```\n",
    "Input: n = 17\n",
    "Output: false\n",
    "Explanation: Alice can't win the game if Bob plays optimally.\n",
    "```\n",
    " \n",
    "\n",
    "Constraints:\n",
    "\n",
    "* 1 <= n <= 10^5"
   ]
  },
  {
   "cell_type": "code",
   "execution_count": 1,
   "id": "6d74234a",
   "metadata": {},
   "outputs": [],
   "source": [
    "# True\n",
    "n = 1\n",
    "# False\n",
    "# n = 2\n",
    "# True\n",
    "# n = 4\n",
    "# False\n",
    "# n = 7\n",
    "# False\n",
    "# n = 17\n",
    "# False\n",
    "# n = 15\n",
    "# True\n",
    "n = 8"
   ]
  },
  {
   "cell_type": "code",
   "execution_count": 2,
   "id": "d40059c4",
   "metadata": {},
   "outputs": [
    {
     "name": "stdout",
     "output_type": "stream",
     "text": [
      "[4, 4]\n",
      "CPU times: user 76 µs, sys: 3 µs, total: 79 µs\n",
      "Wall time: 83 µs\n"
     ]
    },
    {
     "data": {
      "text/plain": [
       "False"
      ]
     },
     "execution_count": 2,
     "metadata": {},
     "output_type": "execute_result"
    }
   ],
   "source": [
    "# my answer, wrong answer\n",
    "class Solution:\n",
    "    def winnerSquareGame(self, n: int) -> bool:\n",
    "        moves = []\n",
    "        while n > 0:\n",
    "            if int(n**0.5)**2 <= n:\n",
    "                a = int(n**(0.5))**2\n",
    "            else:\n",
    "                a = 1\n",
    "            moves.append(a)\n",
    "            n -= a\n",
    "        print(moves)\n",
    "        if len(moves) % 2 == 0:\n",
    "            return False\n",
    "        else:\n",
    "            return True\n",
    "        \n",
    "\n",
    "solution = Solution()\n",
    "%time solution.winnerSquareGame(n)"
   ]
  },
  {
   "cell_type": "code",
   "execution_count": 3,
   "id": "d593ed5b",
   "metadata": {},
   "outputs": [
    {
     "name": "stdout",
     "output_type": "stream",
     "text": [
      "CPU times: user 7 µs, sys: 0 ns, total: 7 µs\n",
      "Wall time: 9.54 µs\n"
     ]
    },
    {
     "data": {
      "text/plain": [
       "True"
      ]
     },
     "execution_count": 3,
     "metadata": {},
     "output_type": "execute_result"
    }
   ],
   "source": [
    "# 1st answer\n",
    "class Solution(object):\n",
    "    def winnerSquareGame(self, n):\n",
    "        dp = [False, True, False]\n",
    "        for x in range(3, n+1):\n",
    "            dp.append(False)\n",
    "            for y in range(1, n*n):\n",
    "                a = x - y * y\n",
    "                if a < 0: break\n",
    "                if not dp[a]:\n",
    "                    dp[x] = True\n",
    "                    break\n",
    "        return dp[n]\n",
    "\n",
    "solution = Solution()\n",
    "%time solution.winnerSquareGame(n)"
   ]
  },
  {
   "cell_type": "code",
   "execution_count": null,
   "id": "318803b8",
   "metadata": {},
   "outputs": [],
   "source": []
  }
 ],
 "metadata": {
  "kernelspec": {
   "display_name": "Python 3 (ipykernel)",
   "language": "python",
   "name": "python3"
  },
  "language_info": {
   "codemirror_mode": {
    "name": "ipython",
    "version": 3
   },
   "file_extension": ".py",
   "mimetype": "text/x-python",
   "name": "python",
   "nbconvert_exporter": "python",
   "pygments_lexer": "ipython3",
   "version": "3.8.10"
  }
 },
 "nbformat": 4,
 "nbformat_minor": 5
}
