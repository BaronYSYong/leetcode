{
 "cells": [
  {
   "cell_type": "markdown",
   "id": "138c9771",
   "metadata": {},
   "source": [
    "# 1531. String Compression II\n",
    "\n",
    "Run-length encoding is a string compression method that works by replacing consecutive identical characters (repeated 2 or more times) with the concatenation of the character and the number marking the count of the characters (length of the run). For example, to compress the string \"aabccc\" we replace \"aa\" by \"a2\" and replace \"ccc\" by \"c3\". Thus the compressed string becomes \"a2bc3\".\n",
    "\n",
    "Notice that in this problem, we are not adding '1' after single characters.\n",
    "\n",
    "Given a string s and an integer k. You need to delete at most k characters from s such that the run-length encoded version of s has minimum length.\n",
    "\n",
    "Find the minimum length of the run-length encoded version of s after deleting at most k characters.\n",
    "\n",
    "Example 1:\n",
    "```\n",
    "Input: s = \"aaabcccd\", k = 2\n",
    "Output: 4\n",
    "Explanation: Compressing s without deleting anything will give us \"a3bc3d\" of length 6. Deleting any of the characters 'a' or 'c' would at most decrease the length of the compressed string to 5, for instance delete 2 'a' then we will have s = \"abcccd\" which compressed is abc3d. Therefore, the optimal way is to delete 'b' and 'd', then the compressed version of s will be \"a3c3\" of length 4.\n",
    "```\n",
    "Example 2:\n",
    "```\n",
    "Input: s = \"aabbaa\", k = 2\n",
    "Output: 2\n",
    "Explanation: If we delete both 'b' characters, the resulting compressed string would be \"a4\" of length 2.\n",
    "```\n",
    "Example 3:\n",
    "```\n",
    "Input: s = \"aaaaaaaaaaa\", k = 0\n",
    "Output: 3\n",
    "Explanation: Since k is zero, we cannot delete anything. The compressed string is \"a11\" of length 3.\n",
    "```\n",
    "\n",
    "Constraints:\n",
    "\n",
    "* 1 <= s.length <= 100\n",
    "* 0 <= k <= s.length\n",
    "* s contains only lowercase English letters."
   ]
  },
  {
   "cell_type": "code",
   "execution_count": 1,
   "id": "8aec4ede",
   "metadata": {},
   "outputs": [],
   "source": [
    "s = \"aaabcccd\"; k = 2\n",
    "# s = \"aabbaa\"; k = 2"
   ]
  },
  {
   "cell_type": "code",
   "execution_count": 2,
   "id": "e30ab690",
   "metadata": {},
   "outputs": [
    {
     "name": "stdout",
     "output_type": "stream",
     "text": [
      "CPU times: user 46 µs, sys: 4 µs, total: 50 µs\n",
      "Wall time: 53.2 µs\n"
     ]
    },
    {
     "data": {
      "text/plain": [
       "4"
      ]
     },
     "execution_count": 2,
     "metadata": {},
     "output_type": "execute_result"
    }
   ],
   "source": [
    "# 1st place\n",
    "from functools import lru_cache\n",
    "from itertools import groupby\n",
    "class Solution:\n",
    "    def getLengthOfOptimalCompression(self, S, K):\n",
    "        def rle(x):\n",
    "            if x <= 1: return x\n",
    "            return len(str(x)) + 1\n",
    "\n",
    "        N = len(S)\n",
    "        if N == K:\n",
    "            return 0\n",
    "        \"\"\"\n",
    "        left = [1] * N\n",
    "        for i in range(N - 1):\n",
    "            if S[i] == S[i + 1]:\n",
    "                left[i + 1] = left[i] + 1\n",
    "\n",
    "        right = [1] * N\n",
    "        for i in reversed(range(N - 1)):\n",
    "            if S[i] == S[i + 1]:\n",
    "                right[i] = right[i + 1] + 1\n",
    "\n",
    "        R = [len(list(g)) for _, g in groupby(S)]\n",
    "\n",
    "        prefix = [0] * N\n",
    "        prev = 0\n",
    "        i = 0\n",
    "        for x in R:\n",
    "            for j in range(1, 1 + x):\n",
    "                prefix[i] = prev + rle(j)\n",
    "                i += 1\n",
    "            prev += rle(x)\n",
    "\n",
    "        suffix = [0] * N\n",
    "        prev = 0\n",
    "        i = N - 1\n",
    "        for x in reversed(R):\n",
    "            for j in range(1, 1 + x):\n",
    "                suffix[i] = prev + rle(j)\n",
    "                i -= 1\n",
    "            prev += rle(x)\n",
    "        \"\"\"\n",
    "        INF = int(1e9)\n",
    "        @lru_cache(None)\n",
    "        def dp(i, curlength, lastcur, eaten):\n",
    "            \n",
    "            if eaten > K:\n",
    "                return INF\n",
    "            if i == N:\n",
    "                return 0\n",
    "            # Eat this character:\n",
    "            ans = dp(i + 1, curlength, lastcur, eaten + 1)\n",
    "            \n",
    "            # Or add:\n",
    "            if S[i] == lastcur:\n",
    "                delta = rle(curlength + 1) - rle(curlength)\n",
    "                cand = dp(i + 1, curlength + 1, lastcur, eaten) + delta\n",
    "                if cand < ans: ans = cand\n",
    "            else:\n",
    "                cand = dp(i + 1, 1, S[i], eaten) + 1\n",
    "                if cand < ans: ans = cand\n",
    "            return ans\n",
    "        \n",
    "        return dp(0, 0, '', 0)\n",
    "solution = Solution()\n",
    "%time solution.getLengthOfOptimalCompression(s, k)"
   ]
  },
  {
   "cell_type": "code",
   "execution_count": null,
   "id": "d0e5a1c5",
   "metadata": {},
   "outputs": [],
   "source": []
  }
 ],
 "metadata": {
  "kernelspec": {
   "display_name": "Python 3 (ipykernel)",
   "language": "python",
   "name": "python3"
  },
  "language_info": {
   "codemirror_mode": {
    "name": "ipython",
    "version": 3
   },
   "file_extension": ".py",
   "mimetype": "text/x-python",
   "name": "python",
   "nbconvert_exporter": "python",
   "pygments_lexer": "ipython3",
   "version": "3.8.10"
  }
 },
 "nbformat": 4,
 "nbformat_minor": 5
}
