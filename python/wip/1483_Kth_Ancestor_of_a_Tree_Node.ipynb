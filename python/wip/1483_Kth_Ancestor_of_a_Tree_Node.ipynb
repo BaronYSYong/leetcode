{
 "cells": [
  {
   "cell_type": "markdown",
   "id": "eee2c0bc",
   "metadata": {},
   "source": [
    "# 1483. Kth Ancestor of a Tree Node\n",
    "You are given a tree with n nodes numbered from 0 to n-1 in the form of a parent array where parent[i] is the parent of node i. The root of the tree is node 0.\n",
    "\n",
    "Implement the function getKthAncestor(int node, int k) to return the k-th ancestor of the given node. If there is no such ancestor, return -1.\n",
    "\n",
    "The k-th ancestor of a tree node is the k-th node in the path from that node to the root.\n",
    "\n",
    " \n",
    "\n",
    "Example:\n",
    "```\n",
    "Input:\n",
    "[\"TreeAncestor\",\"getKthAncestor\",\"getKthAncestor\",\"getKthAncestor\"]\n",
    "[[7,[-1,0,0,1,1,2,2]],[3,1],[5,2],[6,3]]\n",
    "\n",
    "Output:\n",
    "[null,1,0,-1]\n",
    "\n",
    "Explanation:\n",
    "TreeAncestor treeAncestor = new TreeAncestor(7, [-1, 0, 0, 1, 1, 2, 2]);\n",
    "\n",
    "treeAncestor.getKthAncestor(3, 1);  // returns 1 which is the parent of 3\n",
    "treeAncestor.getKthAncestor(5, 2);  // returns 0 which is the grandparent of 5\n",
    "treeAncestor.getKthAncestor(6, 3);  // returns -1 because there is no such ancestor\n",
    "```\n",
    "\n",
    "Constraints:\n",
    "\n",
    "* 1 <= k <= n <= 5*10^4\n",
    "* parent[0] == -1 indicating that 0 is the root node.\n",
    "* 0 <= parent[i] < n for all 0 < i < n\n",
    "* 0 <= node < n\n",
    "* There will be at most 5*10^4 queries.\n"
   ]
  },
  {
   "cell_type": "code",
   "execution_count": 1,
   "id": "bc20c7ac",
   "metadata": {},
   "outputs": [],
   "source": [
    "# Input:\n",
    "# [\"TreeAncestor\",\"getKthAncestor\",\"getKthAncestor\",\"getKthAncestor\"]\n",
    "# [[7,[-1,0,0,1,1,2,2]],[3,1],[5,2],[6,3]]\n",
    "\n",
    "# Output:\n",
    "# [null,1,0,-1]"
   ]
  },
  {
   "cell_type": "code",
   "execution_count": 2,
   "id": "eff33600",
   "metadata": {},
   "outputs": [],
   "source": [
    "# 3rd place\n",
    "class TreeAncestor(object):\n",
    "\n",
    "    def __init__(self, n, parent):\n",
    "        self.pars = [parent]\n",
    "        self.n = n\n",
    "        for k in xrange(17):\n",
    "            row = []\n",
    "            for i in xrange(n):\n",
    "                p = self.pars[-1][i]\n",
    "                if p != -1:\n",
    "                    p = self.pars[-1][p]\n",
    "                row.append(p)\n",
    "            self.pars.append(row)\n",
    "        \n",
    "\n",
    "    def getKthAncestor(self, node, k):\n",
    "        \"\"\"\n",
    "        :type node: int\n",
    "        :type k: int\n",
    "        :rtype: int\n",
    "        \"\"\"\n",
    "        i = 0\n",
    "        while k:\n",
    "            if node == -1: break\n",
    "            if (k&1):\n",
    "                node = self.pars[i][node]\n",
    "            i += 1\n",
    "            k >>= 1\n",
    "        return node\n",
    "        \n",
    "\n",
    "\n",
    "# Your TreeAncestor object will be instantiated and called as such:\n",
    "# obj = TreeAncestor(n, parent)\n",
    "# param_1 = obj.getKthAncestor(node,k)"
   ]
  }
 ],
 "metadata": {
  "kernelspec": {
   "display_name": "Python 3 (ipykernel)",
   "language": "python",
   "name": "python3"
  },
  "language_info": {
   "codemirror_mode": {
    "name": "ipython",
    "version": 3
   },
   "file_extension": ".py",
   "mimetype": "text/x-python",
   "name": "python",
   "nbconvert_exporter": "python",
   "pygments_lexer": "ipython3",
   "version": "3.8.10"
  }
 },
 "nbformat": 4,
 "nbformat_minor": 5
}
