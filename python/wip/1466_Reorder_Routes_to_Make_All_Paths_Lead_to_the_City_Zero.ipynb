{
 "cells": [
  {
   "cell_type": "markdown",
   "id": "1921fe15",
   "metadata": {},
   "source": [
    "# 1466. Reorder Routes to Make All Paths Lead to the City Zero\n",
    "\n",
    "There are n cities numbered from 0 to n-1 and n-1 roads such that there is only one way to travel between two different cities (this network form a tree). Last year, The ministry of transport decided to orient the roads in one direction because they are too narrow.\n",
    "\n",
    "Roads are represented by connections where connections[i] = [a, b] represents a road from city a to b.\n",
    "\n",
    "This year, there will be a big event in the capital (city 0), and many people want to travel to this city.\n",
    "\n",
    "Your task consists of reorienting some roads such that each city can visit the city 0. Return the minimum number of edges changed.\n",
    "\n",
    "It's guaranteed that each city can reach the city 0 after reorder.\n",
    "\n",
    " \n",
    "\n",
    "Example 1:\n",
    "```\n",
    "Input: n = 6, connections = [[0,1],[1,3],[2,3],[4,0],[4,5]]\n",
    "Output: 3\n",
    "Explanation: Change the direction of edges show in red such that each node can reach the node 0 (capital).\n",
    "```\n",
    "Example 2:\n",
    "```\n",
    "Input: n = 5, connections = [[1,0],[1,2],[3,2],[3,4]]\n",
    "Output: 2\n",
    "Explanation: Change the direction of edges show in red such that each node can reach the node 0 (capital).\n",
    "```\n",
    "Example 3:\n",
    "```\n",
    "Input: n = 3, connections = [[1,0],[2,0]]\n",
    "Output: 0\n",
    "```\n",
    "\n",
    "Constraints:\n",
    "\n",
    "* 2 <= n <= 5 * 10^4\n",
    "* connections.length == n-1\n",
    "* connections[i].length == 2\n",
    "* 0 <= connections[i][0], connections[i][1] <= n-1\n",
    "* connections[i][0] != connections[i][1]\n"
   ]
  },
  {
   "cell_type": "code",
   "execution_count": 1,
   "id": "41c2093f",
   "metadata": {},
   "outputs": [],
   "source": [
    "# 5th place\n",
    "class Solution(object):\n",
    "    def minReorder(self, n, connections):\n",
    "        \"\"\"\n",
    "        :type n: int\n",
    "        :type connections: List[List[int]]\n",
    "        :rtype: int\n",
    "        \"\"\"\n",
    "        graph = collections.defaultdict(set)\n",
    "        for x, y in connections:\n",
    "            graph[x].add(y)\n",
    "            graph[y].add(x)\n",
    "        frontier = deque()\n",
    "        frontier.append(0)\n",
    "        dist = collections.defaultdict(int)\n",
    "        dist[0] = 0\n",
    "        while frontier:\n",
    "            curr = frontier.popleft()\n",
    "            for nbr in graph[curr]:\n",
    "                if nbr not in dist:\n",
    "                    dist[nbr]=dist[curr]+1\n",
    "                    frontier.append(nbr)\n",
    "        ans = 0\n",
    "        for x, y in connections:\n",
    "            if dist[x] < dist[y]:\n",
    "                ans += 1\n",
    "        return ans"
   ]
  }
 ],
 "metadata": {
  "kernelspec": {
   "display_name": "Python 3 (ipykernel)",
   "language": "python",
   "name": "python3"
  },
  "language_info": {
   "codemirror_mode": {
    "name": "ipython",
    "version": 3
   },
   "file_extension": ".py",
   "mimetype": "text/x-python",
   "name": "python",
   "nbconvert_exporter": "python",
   "pygments_lexer": "ipython3",
   "version": "3.8.10"
  }
 },
 "nbformat": 4,
 "nbformat_minor": 5
}
