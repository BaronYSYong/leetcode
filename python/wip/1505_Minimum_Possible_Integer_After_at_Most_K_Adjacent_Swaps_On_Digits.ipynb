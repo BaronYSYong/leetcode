{
 "cells": [
  {
   "cell_type": "markdown",
   "id": "dd07ac07",
   "metadata": {},
   "source": [
    "# 1505. Minimum Possible Integer After at Most K Adjacent Swaps On Digits\n",
    "\n",
    "Given a string num representing the digits of a very large integer and an integer k.\n",
    "\n",
    "You are allowed to swap any two adjacent digits of the integer at most k times.\n",
    "\n",
    "Return the minimum integer you can obtain also as a string.\n",
    "\n",
    "Example 1:\n",
    "```\n",
    "Input: num = \"4321\", k = 4\n",
    "Output: \"1342\"\n",
    "Explanation: The steps to obtain the minimum integer from 4321 with 4 adjacent swaps are shown.\n",
    "```\n",
    "Example 2:\n",
    "```\n",
    "Input: num = \"100\", k = 1\n",
    "Output: \"010\"\n",
    "Explanation: It's ok for the output to have leading zeros, but the input is guaranteed not to have any leading zeros.\n",
    "```\n",
    "Example 3:\n",
    "```\n",
    "Input: num = \"36789\", k = 1000\n",
    "Output: \"36789\"\n",
    "Explanation: We can keep the number without any swaps.\n",
    "```\n",
    "Example 4:\n",
    "```\n",
    "Input: num = \"22\", k = 22\n",
    "Output: \"22\"\n",
    "```\n",
    "Example 5:\n",
    "```\n",
    "Input: num = \"9438957234785635408\", k = 23\n",
    "Output: \"0345989723478563548\"\n",
    "```\n",
    "\n",
    "Constraints:\n",
    "\n",
    "* 1 <= num.length <= 30000\n",
    "* num contains digits only and doesn't have leading zeros.\n",
    "* 1 <= k <= 10^9"
   ]
  },
  {
   "cell_type": "markdown",
   "id": "bc720c65",
   "metadata": {},
   "source": [
    "### 5th C++\n",
    "```\n",
    "class Solution {\n",
    "public:\n",
    "    vector<int> f[10];\n",
    "    int p[10];\n",
    "    int sum[30010];\n",
    "    int n;\n",
    "    \n",
    "    int calc(int p){\n",
    "        int c = 0;\n",
    "        while (p){ \n",
    "            c += sum[p];\n",
    "            p -= (p&(p^(p-1)));\n",
    "        }\n",
    "        return c;\n",
    "    }\n",
    "    \n",
    "    void ins(int p, int d){\n",
    "        while (p <= n){\n",
    "            sum[p] += d;\n",
    "            p += (p&(p^(p-1)));\n",
    "        }\n",
    "    }\n",
    "    \n",
    "    string minInteger(string s, int K) {\n",
    "        int i, j, t;\n",
    "        n=s.size();\n",
    "```"
   ]
  },
  {
   "cell_type": "code",
   "execution_count": null,
   "id": "a4ea65ce",
   "metadata": {},
   "outputs": [],
   "source": []
  }
 ],
 "metadata": {
  "kernelspec": {
   "display_name": "Python 3 (ipykernel)",
   "language": "python",
   "name": "python3"
  },
  "language_info": {
   "codemirror_mode": {
    "name": "ipython",
    "version": 3
   },
   "file_extension": ".py",
   "mimetype": "text/x-python",
   "name": "python",
   "nbconvert_exporter": "python",
   "pygments_lexer": "ipython3",
   "version": "3.8.10"
  }
 },
 "nbformat": 4,
 "nbformat_minor": 5
}
